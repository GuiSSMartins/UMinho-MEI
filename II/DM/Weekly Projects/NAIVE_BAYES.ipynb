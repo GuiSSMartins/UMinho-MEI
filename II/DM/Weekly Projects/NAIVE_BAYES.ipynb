{
 "cells":[
  {
   "cell_type":"markdown",
   "source":[
    "# NAIVE BAYES\n",
    "1. Crie um algoritmo “Naive Bayes” Multinomial em Python\n",
    "2. Aplique-o sobre o dataset SMS Spam Collection\n",
    "3. Compare o resultado com o gerado pelo sklearn\n",
    "4. Considerando o que aprendeu até agora, aplique as técnicas cabíveis no\n",
    "dataset escolhido.\n",
    "5. Submeta no blackboard o link do notebook Google-Colab com a\n",
    "solução do seu grupo"
   ],
   "attachments":{
    
   },
   "metadata":{
    "datalore":{
     "type":"MD",
     "hide_input_from_viewers":false,
     "hide_output_from_viewers":false,
     "node_id":"EVPPGEVufpjefDFXhzqbe1"
    }
   }
  },
  {
   "cell_type":"markdown",
   "source":[
    "## Imports"
   ],
   "attachments":{
    
   },
   "metadata":{
    "datalore":{
     "type":"MD",
     "hide_input_from_viewers":false,
     "hide_output_from_viewers":false,
     "node_id":"YrebpoVaC9S9dVvx1KgrJt"
    }
   }
  },
  {
   "cell_type":"code",
   "source":[
    "import numpy as np\n",
    "import pandas as pd\n",
    "from sklearn.naive_bayes import MultinomialNB\n",
    "from sklearn.model_selection import train_test_split\n",
    "from sklearn.metrics import accuracy_score\n",
    "from sklearn.feature_extraction.text import CountVectorizer\n",
    "from sklearn.preprocessing import LabelBinarizer"
   ],
   "execution_count":97,
   "outputs":[
    
   ],
   "metadata":{
    "datalore":{
     "type":"CODE",
     "hide_input_from_viewers":false,
     "hide_output_from_viewers":false,
     "node_id":"hmIiuEtU6ua6VINrW8G5Rp"
    }
   }
  },
  {
   "cell_type":"markdown",
   "source":[
    "## Download Dataset"
   ],
   "attachments":{
    
   },
   "metadata":{
    "datalore":{
     "type":"MD",
     "hide_input_from_viewers":false,
     "hide_output_from_viewers":false,
     "node_id":"NVkgjV0M9DdycuFDgXBwEX"
    }
   }
  },
  {
   "cell_type":"code",
   "source":[
    "# Set random seed\n",
    "np.random.seed(0)\n",
    "\n",
    "# Load data\n",
    "spam = pd.read_csv('spam.csv',encoding='iso8859_14')\n",
    "spam = spam.drop(['Unnamed: 2','Unnamed: 3','Unnamed: 4'],axis=1)\n",
    "spam.columns=['target','text']\n",
    "\n",
    "spam"
   ],
   "execution_count":98,
   "outputs":[
    {
     "data":{
      "text\/html":[
       "<div>\n",
       "<style scoped>\n",
       "    .dataframe tbody tr th:only-of-type {\n",
       "        vertical-align: middle;\n",
       "    }\n",
       "\n",
       "    .dataframe tbody tr th {\n",
       "        vertical-align: top;\n",
       "    }\n",
       "\n",
       "    .dataframe thead th {\n",
       "        text-align: right;\n",
       "    }\n",
       "<\/style>\n",
       "<table border=\"1\" class=\"dataframe\">\n",
       "  <thead>\n",
       "    <tr style=\"text-align: right;\">\n",
       "      <th><\/th>\n",
       "      <th>target<\/th>\n",
       "      <th>text<\/th>\n",
       "    <\/tr>\n",
       "  <\/thead>\n",
       "  <tbody>\n",
       "    <tr>\n",
       "      <th>0<\/th>\n",
       "      <td>ham<\/td>\n",
       "      <td>Go until jurong point, crazy.. Available only ...<\/td>\n",
       "    <\/tr>\n",
       "    <tr>\n",
       "      <th>1<\/th>\n",
       "      <td>ham<\/td>\n",
       "      <td>Ok lar... Joking wif u oni...<\/td>\n",
       "    <\/tr>\n",
       "    <tr>\n",
       "      <th>2<\/th>\n",
       "      <td>spam<\/td>\n",
       "      <td>Free entry in 2 a wkly comp to win FA Cup fina...<\/td>\n",
       "    <\/tr>\n",
       "    <tr>\n",
       "      <th>3<\/th>\n",
       "      <td>ham<\/td>\n",
       "      <td>U dun say so early hor... U c already then say...<\/td>\n",
       "    <\/tr>\n",
       "    <tr>\n",
       "      <th>4<\/th>\n",
       "      <td>ham<\/td>\n",
       "      <td>Nah I don't think he goes to usf, he lives aro...<\/td>\n",
       "    <\/tr>\n",
       "    <tr>\n",
       "      <th>...<\/th>\n",
       "      <td>...<\/td>\n",
       "      <td>...<\/td>\n",
       "    <\/tr>\n",
       "    <tr>\n",
       "      <th>5567<\/th>\n",
       "      <td>spam<\/td>\n",
       "      <td>This is the 2nd time we have tried 2 contact u...<\/td>\n",
       "    <\/tr>\n",
       "    <tr>\n",
       "      <th>5568<\/th>\n",
       "      <td>ham<\/td>\n",
       "      <td>Will Ì_ b going to esplanade fr home?<\/td>\n",
       "    <\/tr>\n",
       "    <tr>\n",
       "      <th>5569<\/th>\n",
       "      <td>ham<\/td>\n",
       "      <td>Pity, * was in mood for that. So...any other s...<\/td>\n",
       "    <\/tr>\n",
       "    <tr>\n",
       "      <th>5570<\/th>\n",
       "      <td>ham<\/td>\n",
       "      <td>The guy did some bitching but I acted like i'd...<\/td>\n",
       "    <\/tr>\n",
       "    <tr>\n",
       "      <th>5571<\/th>\n",
       "      <td>ham<\/td>\n",
       "      <td>Rofl. Its true to its name<\/td>\n",
       "    <\/tr>\n",
       "  <\/tbody>\n",
       "<\/table>\n",
       "<p>5572 rows × 2 columns<\/p>\n",
       "<\/div>"
      ]
     },
     "metadata":{
      
     },
     "output_type":"display_data"
    }
   ],
   "metadata":{
    "datalore":{
     "type":"CODE",
     "hide_input_from_viewers":false,
     "hide_output_from_viewers":false,
     "node_id":"iSctJgQQS5q6jniW0CP5TX"
    }
   }
  },
  {
   "cell_type":"code",
   "source":[
    "# Vetorização\n",
    "cv = CountVectorizer()\n",
    "x = cv.fit_transform(spam['text']).toarray()\n",
    "lb = LabelBinarizer()\n",
    "y = lb.fit_transform(spam['target']).ravel()\n",
    "print(x.shape,y.shape)\n"
   ],
   "execution_count":99,
   "outputs":[
    {
     "name":"stdout",
     "text":[
      "(5572, 8681) (5572,)\n"
     ],
     "output_type":"stream"
    }
   ],
   "metadata":{
    "datalore":{
     "type":"CODE",
     "hide_input_from_viewers":false,
     "hide_output_from_viewers":false,
     "node_id":"DPY0lGAg3mBTNkNwLRx81h"
    }
   }
  },
  {
   "cell_type":"code",
   "source":[
    "x_train, x_test, y_train, y_test = train_test_split(x,y)"
   ],
   "execution_count":100,
   "outputs":[
    
   ],
   "metadata":{
    "datalore":{
     "type":"CODE",
     "hide_input_from_viewers":false,
     "hide_output_from_viewers":false,
     "node_id":"Qp5QKsRoeU0nE19ILWDOFk"
    }
   }
  },
  {
   "cell_type":"markdown",
   "source":[
    "## Problema 1\n",
    "### Implementação Naive Bayes Multinomial"
   ],
   "attachments":{
    
   },
   "metadata":{
    "datalore":{
     "type":"MD",
     "hide_input_from_viewers":false,
     "hide_output_from_viewers":false,
     "node_id":"zqFfyPZuBxbQk3Qg87vV2b"
    }
   }
  },
  {
   "cell_type":"code",
   "source":[
    "class MultiNB:\n",
    "    def __init__(self,alpha=1):\n",
    "        self.alpha = alpha\n",
    "    \n",
    "    def _prior(self): # CHECKED\n",
    "\n",
    "        P = np.zeros(self.n_classes_)\n",
    "        _, self.dist = np.unique(self.y,return_counts=True)\n",
    "        for i in range(self.classes_.shape[0]):\n",
    "            P[i] = self.dist[i] \/ self.n_samples\n",
    "        return P\n",
    "            \n",
    "    def fit(self, X, y): # CHECKED, matches with sklearn\n",
    "\n",
    "        self.y = y\n",
    "        self.n_samples, self.n_features = X.shape\n",
    "        self.classes_ = np.unique(y)\n",
    "        self.n_classes_ = self.classes_.shape[0]\n",
    "        self.class_priors_ = self._prior()\n",
    "        \n",
    "        # distinct values in each features\n",
    "        self.uniques = []\n",
    "        for i in range(self.n_features):\n",
    "            tmp = np.unique(X[:,i])\n",
    "            self.uniques.append( tmp )\n",
    "            \n",
    "        self.N_yi = np.zeros((self.n_classes_, self.n_features)) # feature count\n",
    "        self.N_y = np.zeros((self.n_classes_)) # total count \n",
    "        for i in self.classes_: # x axis\n",
    "            indices = np.argwhere(self.y==i).flatten()\n",
    "            columnwise_sum = []\n",
    "            for j in range(self.n_features): # y axis\n",
    "                columnwise_sum.append(np.sum(X[indices,j]))\n",
    "                \n",
    "            self.N_yi[i] = columnwise_sum # 2d\n",
    "            self.N_y[i] = np.sum(columnwise_sum) # 1d\n",
    "            \n",
    "    def _theta(self, x_i, i, h):\n",
    "        \n",
    "        Nyi = self.N_yi[h,i]\n",
    "        Ny  = self.N_y[h]\n",
    "        \n",
    "        numerator = Nyi + self.alpha\n",
    "        denominator = Ny + (self.alpha * self.n_features)\n",
    "        \n",
    "        return  (numerator \/ denominator)**x_i\n",
    "    \n",
    "    def _likelyhood(self, x, h):\n",
    "        tmp = []\n",
    "        for i in range(x.shape[0]):\n",
    "            tmp.append(self._theta(x[i], i,h))\n",
    "        \n",
    "        return np.prod(tmp)\n",
    "    \n",
    "    def predict(self, X):\n",
    "        samples, features = X.shape\n",
    "        self.predict_proba = np.zeros((samples,self.n_classes_))\n",
    "        \n",
    "        for i in range(X.shape[0]):\n",
    "            joint_likelyhood = np.zeros((self.n_classes_))\n",
    "            \n",
    "            for h in range(self.n_classes_):\n",
    "                joint_likelyhood[h]  = self.class_priors_[h] * self._likelyhood(X[i],h) # P(y) P(X|y) \n",
    "                \n",
    "            denominator = np.sum(joint_likelyhood)\n",
    "            \n",
    "            for h in range(self.n_classes_):\n",
    "                numerator = joint_likelyhood[h]\n",
    "                self.predict_proba[i,h] = (numerator \/ denominator)\n",
    "            \n",
    "        indices = np.argmax(self.predict_proba,axis=1)\n",
    "        return self.classes_[indices]"
   ],
   "execution_count":101,
   "outputs":[
    
   ],
   "metadata":{
    "datalore":{
     "type":"CODE",
     "hide_input_from_viewers":false,
     "hide_output_from_viewers":false,
     "node_id":"NI0an5mRQzXuNPGnsc65Dr"
    }
   }
  },
  {
   "cell_type":"code",
   "source":[
    "def pipeline(X,y,X_test, y_test, alpha):\n",
    "\n",
    "    # SKLEARN\n",
    "    print(\"-\"*20,'Sklearn',\"-\"*20)\n",
    "    clf = MultinomialNB(alpha=alpha)\n",
    "    clf.fit(X,y)\n",
    "    sk_y = clf.predict(X_test)\n",
    "    print(\"Feature Count \\n\",clf.feature_count_)\n",
    "    print(\"Class Log Prior \",clf.class_log_prior_)\n",
    "    print('Accuracy ',accuracy_score(y_test, sk_y),sk_y)\n",
    "    print(clf.predict_proba(X_test))\n",
    "\n",
    "    # CUSTOM\n",
    "    print(\"-\"*20,'Custom',\"-\"*20)\n",
    "    nb = MultiNB(alpha=alpha)\n",
    "    nb.fit(X,y)\n",
    "    yhat = nb.predict(X_test)\n",
    "    me_score = accuracy_score(y_test, yhat)\n",
    "    print(\"Feature Count\\n\",nb.N_yi)\n",
    "    print(\"Class Log Prior \",np.log(nb.class_priors_))\n",
    "    print('Accuracy ',me_score,yhat)\n",
    "    print(nb.predict_proba) # my predict proba is only for last test set"
   ],
   "execution_count":102,
   "outputs":[
    
   ],
   "metadata":{
    "datalore":{
     "type":"CODE",
     "hide_input_from_viewers":false,
     "hide_output_from_viewers":false,
     "node_id":"CZQzMgSD9RoqZ1eG0HkKT0"
    }
   }
  },
  {
   "cell_type":"markdown",
   "source":[
    "## Problema 2\n",
    "### Aplicação sobre o dataset"
   ],
   "attachments":{
    
   },
   "metadata":{
    "datalore":{
     "type":"MD",
     "hide_input_from_viewers":false,
     "hide_output_from_viewers":false,
     "node_id":"HyR2AyyRkULcsJK3u2CFMQ"
    }
   }
  },
  {
   "cell_type":"code",
   "source":[
    "pipeline(x,y,x,y, alpha=10)"
   ],
   "execution_count":103,
   "outputs":[
    {
     "name":"stdout",
     "text":[
      "-------------------- Sklearn --------------------\n",
      "Feature Count \n",
      " [[ 0.  0.  1. ...  1.  0.  1.]\n",
      " [10. 29.  0. ...  0.  1.  0.]]\n",
      "Class Log Prior  [-0.14394332 -2.00944415]\n",
      "Accuracy  0.9673366834170855 [0 0 1 ... 0 0 0]\n",
      "[[9.99999578e-01 4.22333641e-07]\n",
      " [9.98808467e-01 1.19153267e-03]\n",
      " [2.17166195e-08 9.99999978e-01]\n",
      " ...\n",
      " [9.99996595e-01 3.40498406e-06]\n",
      " [1.00000000e+00 5.70994808e-12]\n",
      " [9.99539376e-01 4.60623978e-04]]\n",
      "-------------------- Custom --------------------\n",
      "Feature Count\n",
      " [[ 0.  0.  1. ...  1.  0.  1.]\n",
      " [10. 29.  0. ...  0.  1.  0.]]\n",
      "Class Log Prior  [-0.14394332 -2.00944415]\n",
      "Accuracy  0.9673366834170855 [0 0 1 ... 0 0 0]\n",
      "[[9.99999578e-01 4.22333641e-07]\n",
      " [9.98808467e-01 1.19153267e-03]\n",
      " [2.17166195e-08 9.99999978e-01]\n",
      " ...\n",
      " [9.99996595e-01 3.40498406e-06]\n",
      " [1.00000000e+00 5.70994808e-12]\n",
      " [9.99539376e-01 4.60623978e-04]]\n"
     ],
     "output_type":"stream"
    },
    {
     "name":"stderr",
     "text":[
      "<ipython-input-101-b08acfd644d1>:69: RuntimeWarning: invalid value encountered in double_scalars\n",
      "  self.predict_proba[i,h] = (numerator \/ denominator)\n"
     ],
     "output_type":"stream"
    }
   ],
   "metadata":{
    "datalore":{
     "type":"CODE",
     "hide_input_from_viewers":false,
     "hide_output_from_viewers":false,
     "node_id":"zWHJ0Xdh0auf76BZ4LDNU2"
    }
   }
  },
  {
   "cell_type":"markdown",
   "source":[
    "## Problema 3\n",
    "### Comparação de resultados\n",
    "Tal como podemos ver no problema 2 o nível de percisão atingido na implementação do Naive Bayes do sklearn é semelhante ao nível de percisão atingido com a implementação manual de Naive Bayes. \n",
    "- Sklearn: 0.967\n",
    "- Manual : 0.967"
   ],
   "attachments":{
    
   },
   "metadata":{
    "datalore":{
     "type":"MD",
     "hide_input_from_viewers":false,
     "hide_output_from_viewers":false,
     "node_id":"4Ypu7I4XHdw8HdGLP7vrpZ"
    }
   }
  },
  {
   "cell_type":"markdown",
   "source":[
    "## Problema 4\n",
    "### Processamento do dataset escolhido"
   ],
   "attachments":{
    
   },
   "metadata":{
    "datalore":{
     "type":"MD",
     "hide_input_from_viewers":false,
     "hide_output_from_viewers":false,
     "node_id":"JhIRDFfYzTN0R48XXlN2Q5"
    }
   }
  },
  {
   "cell_type":"code",
   "source":[
    
   ],
   "execution_count":null,
   "outputs":[
    
   ],
   "metadata":{
    "datalore":{
     "type":"CODE",
     "hide_input_from_viewers":false,
     "hide_output_from_viewers":false,
     "node_id":"M6QXn3QBOZIZetsVeGYYsm"
    }
   }
  }
 ],
 "metadata":{
  "kernelspec":{
   "display_name":"Python",
   "language":"python",
   "name":"python"
  },
  "datalore":{
   "version":1,
   "computation_mode":"JUPYTER",
   "package_manager":"pip",
   "base_environment":"default",
   "packages":[
    {
     "name":"nltk",
     "source":"PIP"
    }
   ]
  }
 },
 "nbformat":4,
 "nbformat_minor":4
}