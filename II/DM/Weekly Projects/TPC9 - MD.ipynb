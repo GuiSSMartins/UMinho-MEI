{
 "cells":[
  {
   "cell_type":"markdown",
   "source":[
    "# Text Mining"
   ],
   "attachments":{
    
   },
   "metadata":{
    "datalore":{
     "type":"MD",
     "hide_input_from_viewers":false,
     "hide_output_from_viewers":false,
     "sheet_delimiter":true
    }
   }
  },
  {
   "cell_type":"markdown",
   "source":[
    "# EXERCÍCIO AULA - Text Mining\n",
    "Reproduza os Casos de Uso apresentados em https:\/\/scikit-network.readthedocs.io\/en\/latest\/use_cases\/text-mining.html"
   ],
   "attachments":{
    
   },
   "metadata":{
    "datalore":{
     "type":"MD",
     "hide_input_from_viewers":false,
     "hide_output_from_viewers":false,
     "node_id":"BmVjZdS4rL4zOdMKtJWF7W"
    }
   }
  },
  {
   "cell_type":"code",
   "source":[
    "import numpy as np\n",
    "import re\n",
    "from sknetwork.data import convert_edge_list\n",
    "from sknetwork.embedding import Spectral\n",
    "from sknetwork.linalg import normalize"
   ],
   "execution_count":110,
   "outputs":[
    
   ],
   "metadata":{
    "datalore":{
     "type":"CODE",
     "hide_input_from_viewers":false,
     "hide_output_from_viewers":false,
     "node_id":"xqCSeDQjHcv3R8JvLeqeAG"
    }
   }
  },
  {
   "cell_type":"markdown",
   "source":[
    "## LOAD DATA"
   ],
   "attachments":{
    
   },
   "metadata":{
    "datalore":{
     "type":"MD",
     "hide_input_from_viewers":false,
     "hide_output_from_viewers":false,
     "node_id":"7utezNXDXULMHB3MGMBzSj"
    }
   }
  },
  {
   "cell_type":"code",
   "source":[
    "filename = 'miserables-en.txt'\n",
    "with open(filename, 'r') as f:\n",
    "    text = f.read()"
   ],
   "execution_count":111,
   "outputs":[
    
   ],
   "metadata":{
    "datalore":{
     "type":"CODE",
     "hide_input_from_viewers":false,
     "hide_output_from_viewers":false,
     "node_id":"9kCMmRvk5iDTEBM033ZFVR"
    }
   }
  },
  {
   "cell_type":"code",
   "source":[
    "len(text)"
   ],
   "execution_count":112,
   "outputs":[
    {
     "data":{
      "text\/plain":[
       "3254333"
      ]
     },
     "metadata":{
      
     },
     "output_type":"display_data"
    }
   ],
   "metadata":{
    "datalore":{
     "type":"CODE",
     "hide_input_from_viewers":false,
     "hide_output_from_viewers":false,
     "node_id":"0zj9yu5lJqVg5N9wkzbwwA"
    }
   }
  },
  {
   "cell_type":"code",
   "source":[
    "print(text[:494])"
   ],
   "execution_count":113,
   "outputs":[
    {
     "name":"stdout",
     "text":[
      "﻿The Project Gutenberg EBook of Les Misérables, by Victor Hugo\n",
      "\n",
      "This eBook is for the use of anyone anywhere at no cost and with almost\n",
      "no restrictions whatsoever. You may copy it, give it away or re-use\n",
      "it under the terms of the Project Gutenberg License included with this\n",
      "eBook or online at www.gutenberg.org\n",
      "\n",
      "\n",
      "Title: Les Misérables\n",
      "       Complete in Five Volumes\n",
      "\n",
      "Author: Victor Hugo\n",
      "\n",
      "Translator: Isabel F. Hapgood\n",
      "\n",
      "Release Date: June 22, 2008 [EBook #135]\n",
      "Last Updated: January 18, 2016\n",
      "\n",
      "\n"
     ],
     "output_type":"stream"
    }
   ],
   "metadata":{
    "datalore":{
     "type":"CODE",
     "hide_input_from_viewers":false,
     "hide_output_from_viewers":false,
     "node_id":"jsfJzRyE3HPAdihKteBpAV"
    }
   }
  },
  {
   "cell_type":"markdown",
   "source":[
    "## PRE-PROCESSING"
   ],
   "attachments":{
    
   },
   "metadata":{
    "datalore":{
     "type":"MD",
     "hide_input_from_viewers":false,
     "hide_output_from_viewers":false,
     "node_id":"giFgHzzTGRm5AvRjnJhFmH"
    }
   }
  },
  {
   "cell_type":"code",
   "source":[
    "# extract main text\n",
    "main = text.split('LES MISÉRABLES')[-2].lower()"
   ],
   "execution_count":114,
   "outputs":[
    
   ],
   "metadata":{
    "datalore":{
     "type":"CODE",
     "hide_input_from_viewers":false,
     "hide_output_from_viewers":false,
     "node_id":"vZYys5F8F9PFEIS3FCuyTD"
    }
   }
  },
  {
   "cell_type":"code",
   "source":[
    "len(main)"
   ],
   "execution_count":115,
   "outputs":[
    {
     "data":{
      "text\/plain":[
       "3215017"
      ]
     },
     "metadata":{
      
     },
     "output_type":"display_data"
    }
   ],
   "metadata":{
    "datalore":{
     "type":"CODE",
     "hide_input_from_viewers":false,
     "hide_output_from_viewers":false,
     "node_id":"FuLs3cAMwO3S5vMEej6hh7"
    }
   }
  },
  {
   "cell_type":"code",
   "source":[
    "# remove ponctuation\n",
    "main = re.sub(r\"[,.;:()@#?!&$'_*]\", \" \", main)\n",
    "main = re.sub(r'[\"-]', ' ', main)"
   ],
   "execution_count":116,
   "outputs":[
    
   ],
   "metadata":{
    "datalore":{
     "type":"CODE",
     "hide_input_from_viewers":false,
     "hide_output_from_viewers":false,
     "node_id":"YtfyieotBzmwzJW3HAqUKE"
    }
   }
  },
  {
   "cell_type":"code",
   "source":[
    "# extract paragraphs\n",
    "sep = '|||'\n",
    "main = re.sub(r'\\n\\n+', sep, main)\n",
    "main = re.sub('\\n', ' ', main)\n",
    "paragraphs = main.split(sep)"
   ],
   "execution_count":117,
   "outputs":[
    
   ],
   "metadata":{
    "datalore":{
     "type":"CODE",
     "hide_input_from_viewers":false,
     "hide_output_from_viewers":false,
     "node_id":"Dp0CkFqTdVmBya6LXxv8pZ"
    }
   }
  },
  {
   "cell_type":"code",
   "source":[
    "len(paragraphs)"
   ],
   "execution_count":118,
   "outputs":[
    {
     "data":{
      "text\/plain":[
       "13499"
      ]
     },
     "metadata":{
      
     },
     "output_type":"display_data"
    }
   ],
   "metadata":{
    "datalore":{
     "type":"CODE",
     "hide_input_from_viewers":false,
     "hide_output_from_viewers":false,
     "node_id":"kwCfHOFuXuW0AveQZlyrva"
    }
   }
  },
  {
   "cell_type":"code",
   "source":[
    "paragraphs[1000]"
   ],
   "execution_count":119,
   "outputs":[
    {
     "data":{
      "text\/plain":[
       "'after leaving the asses there was a fresh delight  they crossed the seine in a boat  and proceeding from passy on foot they reached the barrier of l étoile  they had been up since five o clock that morning  as the reader will remember  but  bah  there is no such thing as fatigue on sunday   said favourite   on sunday fatigue does not work  '"
      ]
     },
     "metadata":{
      
     },
     "output_type":"display_data"
    }
   ],
   "metadata":{
    "datalore":{
     "type":"CODE",
     "hide_input_from_viewers":false,
     "hide_output_from_viewers":false,
     "node_id":"U1ZOfxRPzQemV86JgQ9fZ3"
    }
   }
  },
  {
   "cell_type":"markdown",
   "source":[
    "## BUILD GRAPH"
   ],
   "attachments":{
    
   },
   "metadata":{
    "datalore":{
     "type":"MD",
     "hide_input_from_viewers":false,
     "hide_output_from_viewers":false,
     "node_id":"e2Axxparfsom3mNxXkrsXu"
    }
   }
  },
  {
   "cell_type":"code",
   "source":[
    "paragraph_words = [paragraph.split(' ') for paragraph in paragraphs]"
   ],
   "execution_count":120,
   "outputs":[
    
   ],
   "metadata":{
    "datalore":{
     "type":"CODE",
     "hide_input_from_viewers":false,
     "hide_output_from_viewers":false,
     "node_id":"ZaVCIINSASuonOlsJQYdX9"
    }
   }
  },
  {
   "cell_type":"code",
   "source":[
    "graph = convert_edge_list(paragraph_words, bipartite=True)"
   ],
   "execution_count":121,
   "outputs":[
    
   ],
   "metadata":{
    "datalore":{
     "type":"CODE",
     "hide_input_from_viewers":false,
     "hide_output_from_viewers":false,
     "node_id":"8dWOfTVlqWhKjWZWts7XYQ"
    }
   }
  },
  {
   "cell_type":"code",
   "source":[
    "biadjacency = graph.biadjacency"
   ],
   "execution_count":122,
   "outputs":[
    
   ],
   "metadata":{
    "datalore":{
     "type":"CODE",
     "hide_input_from_viewers":false,
     "hide_output_from_viewers":false,
     "node_id":"Eu3lIMm4QiG9zbvkTamjt3"
    }
   }
  },
  {
   "cell_type":"code",
   "source":[
    "words = graph.names_col"
   ],
   "execution_count":123,
   "outputs":[
    
   ],
   "metadata":{
    "datalore":{
     "type":"CODE",
     "hide_input_from_viewers":false,
     "hide_output_from_viewers":false,
     "node_id":"ve5JuiPGUKL4otEA5eqTZF"
    }
   }
  },
  {
   "cell_type":"code",
   "source":[
    "biadjacency"
   ],
   "execution_count":124,
   "outputs":[
    {
     "data":{
      "text\/plain":[
       "<13499x23093 sparse matrix of type '<class 'numpy.int64'>'\n",
       "\twith 416331 stored elements in Compressed Sparse Row format>"
      ]
     },
     "metadata":{
      
     },
     "output_type":"display_data"
    }
   ],
   "metadata":{
    "datalore":{
     "type":"CODE",
     "hide_input_from_viewers":false,
     "hide_output_from_viewers":false,
     "node_id":"lwXrNeyd8sWkwMPLJMmBcR"
    }
   }
  },
  {
   "cell_type":"code",
   "source":[
    "len(words)"
   ],
   "execution_count":125,
   "outputs":[
    {
     "data":{
      "text\/plain":[
       "23093"
      ]
     },
     "metadata":{
      
     },
     "output_type":"display_data"
    }
   ],
   "metadata":{
    "datalore":{
     "type":"CODE",
     "hide_input_from_viewers":false,
     "hide_output_from_viewers":false,
     "node_id":"Zx2qNQ9JPDnmVVqg0lVRBz"
    }
   }
  },
  {
   "cell_type":"markdown",
   "source":[
    "## STATISTICS"
   ],
   "attachments":{
    
   },
   "metadata":{
    "datalore":{
     "type":"MD",
     "hide_input_from_viewers":false,
     "hide_output_from_viewers":false,
     "node_id":"L6DMWegNUOaQJq1wQqzq7D"
    }
   }
  },
  {
   "cell_type":"code",
   "source":[
    "n_row, n_col = biadjacency.shape"
   ],
   "execution_count":126,
   "outputs":[
    
   ],
   "metadata":{
    "datalore":{
     "type":"CODE",
     "hide_input_from_viewers":false,
     "hide_output_from_viewers":false,
     "node_id":"2dr4RMBQmJua38nXeBZDCc"
    }
   }
  },
  {
   "cell_type":"code",
   "source":[
    "paragraph_lengths = biadjacency.dot(np.ones(n_col))"
   ],
   "execution_count":127,
   "outputs":[
    
   ],
   "metadata":{
    "datalore":{
     "type":"CODE",
     "hide_input_from_viewers":false,
     "hide_output_from_viewers":false,
     "node_id":"I9IPiApbYhO4NhqMofjYjc"
    }
   }
  },
  {
   "cell_type":"code",
   "source":[
    "np.quantile(paragraph_lengths, [0.1, 0.5, 0.9, 0.99])"
   ],
   "execution_count":128,
   "outputs":[
    {
     "data":{
      "text\/html":[
       
      ]
     },
     "metadata":{
      
     },
     "output_type":"display_data"
    }
   ],
   "metadata":{
    "datalore":{
     "type":"CODE",
     "hide_input_from_viewers":false,
     "hide_output_from_viewers":false,
     "node_id":"Q0gKX4PnOXUJTEYRDwZL8N"
    }
   }
  },
  {
   "cell_type":"code",
   "source":[
    "word_counts = biadjacency.T.dot(np.ones(n_row))"
   ],
   "execution_count":129,
   "outputs":[
    
   ],
   "metadata":{
    "datalore":{
     "type":"CODE",
     "hide_input_from_viewers":false,
     "hide_output_from_viewers":false,
     "node_id":"oeKTYBizmGqYmerKwNYCKO"
    }
   }
  },
  {
   "cell_type":"code",
   "source":[
    "np.quantile(word_counts, [0.1, 0.5, 0.9, 0.99])"
   ],
   "execution_count":130,
   "outputs":[
    {
     "data":{
      "text\/html":[
       
      ]
     },
     "metadata":{
      
     },
     "output_type":"display_data"
    }
   ],
   "metadata":{
    "datalore":{
     "type":"CODE",
     "hide_input_from_viewers":false,
     "hide_output_from_viewers":false,
     "node_id":"m5WxRvTAps19FN8nNFZzlY"
    }
   }
  },
  {
   "cell_type":"markdown",
   "source":[
    "## EMBEDDING"
   ],
   "attachments":{
    
   },
   "metadata":{
    "datalore":{
     "type":"MD",
     "hide_input_from_viewers":false,
     "hide_output_from_viewers":false,
     "node_id":"Q7hJBbSDbwvOiazTgnoIi1"
    }
   }
  },
  {
   "cell_type":"code",
   "source":[
    "dimension = 50\n",
    "spectral = Spectral(dimension, regularization=100)"
   ],
   "execution_count":131,
   "outputs":[
    
   ],
   "metadata":{
    "datalore":{
     "type":"CODE",
     "hide_input_from_viewers":false,
     "hide_output_from_viewers":false,
     "node_id":"8s50CpeBJhTutZHEJX4euf"
    }
   }
  },
  {
   "cell_type":"code",
   "source":[
    "spectral.fit(biadjacency)"
   ],
   "execution_count":132,
   "outputs":[
    {
     "data":{
      "text\/plain":[
       "Spectral(n_components=50, decomposition='rw', regularization=100, normalized=True)"
      ]
     },
     "metadata":{
      
     },
     "output_type":"display_data"
    }
   ],
   "metadata":{
    "datalore":{
     "type":"CODE",
     "hide_input_from_viewers":false,
     "hide_output_from_viewers":false,
     "node_id":"46j5HWVes73KBAJZXW0kXi"
    }
   }
  },
  {
   "cell_type":"code",
   "source":[
    "embedding_paragraph = spectral.embedding_row_\n",
    "embedding_word = spectral.embedding_col_"
   ],
   "execution_count":133,
   "outputs":[
    
   ],
   "metadata":{
    "datalore":{
     "type":"CODE",
     "hide_input_from_viewers":false,
     "hide_output_from_viewers":false,
     "node_id":"lKl4TfaDfCaoAR3ZaVEb5A"
    }
   }
  },
  {
   "cell_type":"code",
   "source":[
    "# some word\n",
    "i = int(np.argwhere(words == 'love'))"
   ],
   "execution_count":134,
   "outputs":[
    
   ],
   "metadata":{
    "datalore":{
     "type":"CODE",
     "hide_input_from_viewers":false,
     "hide_output_from_viewers":false,
     "node_id":"WO4s4yJuBW7vrYqf1kV7s6"
    }
   }
  },
  {
   "cell_type":"code",
   "source":[
    "# most similar words\n",
    "cosines_word = embedding_word.dot(embedding_word[i])\n",
    "words[np.argsort(-cosines_word)[:20]]"
   ],
   "execution_count":135,
   "outputs":[
    {
     "data":{
      "text\/html":[
       
      ]
     },
     "metadata":{
      
     },
     "output_type":"display_data"
    }
   ],
   "metadata":{
    "datalore":{
     "type":"CODE",
     "hide_input_from_viewers":false,
     "hide_output_from_viewers":false,
     "node_id":"mCLIHogP0u1Ul9RLajjYuY"
    }
   }
  },
  {
   "cell_type":"code",
   "source":[
    "np.quantile(cosines_word, [0.01, 0.1, 0.5, 0.9, 0.99])"
   ],
   "execution_count":136,
   "outputs":[
    {
     "data":{
      "text\/html":[
       
      ]
     },
     "metadata":{
      
     },
     "output_type":"display_data"
    }
   ],
   "metadata":{
    "datalore":{
     "type":"CODE",
     "hide_input_from_viewers":false,
     "hide_output_from_viewers":false,
     "node_id":"lF0QCmsQiv38w3oXXW9INw"
    }
   }
  },
  {
   "cell_type":"code",
   "source":[
    "# some paragraph\n",
    "i = 1000\n",
    "print(paragraphs[i])"
   ],
   "execution_count":137,
   "outputs":[
    {
     "name":"stdout",
     "text":[
      "after leaving the asses there was a fresh delight  they crossed the seine in a boat  and proceeding from passy on foot they reached the barrier of l étoile  they had been up since five o clock that morning  as the reader will remember  but  bah  there is no such thing as fatigue on sunday   said favourite   on sunday fatigue does not work  \n"
     ],
     "output_type":"stream"
    }
   ],
   "metadata":{
    "datalore":{
     "type":"CODE",
     "hide_input_from_viewers":false,
     "hide_output_from_viewers":false,
     "node_id":"c7kmtzu2ZWxpQEmRIa4Tvu"
    }
   }
  },
  {
   "cell_type":"code",
   "source":[
    "# most similar paragraphs\n",
    "cosines_paragraph = embedding_paragraph.dot(embedding_paragraph[i])\n",
    "for j in np.argsort(-cosines_paragraph)[:3]:\n",
    "    print(paragraphs[j])\n",
    "    print()"
   ],
   "execution_count":138,
   "outputs":[
    {
     "name":"stdout",
     "text":[
      "after leaving the asses there was a fresh delight  they crossed the seine in a boat  and proceeding from passy on foot they reached the barrier of l étoile  they had been up since five o clock that morning  as the reader will remember  but  bah  there is no such thing as fatigue on sunday   said favourite   on sunday fatigue does not work  \n",
      "\n",
      "he was a man of lofty stature  half peasant  half artisan  he wore a huge leather apron  which reached to his left shoulder  and which a hammer  a red handkerchief  a powder horn  and all sorts of objects which were upheld by the girdle  as in a pocket  caused to bulge out  he carried his head thrown backwards  his shirt  widely opened and turned back  displayed his bull neck  white and bare  he had thick eyelashes  enormous black whiskers  prominent eyes  the lower part of his face like a snout  and besides all this  that air of being on his own ground  which is indescribable \n",
      "\n",
      "this was the state which the shepherd idyl  begun at five o clock in the morning  had reached at half past four in the afternoon  the sun was setting  their appetites were satisfied \n",
      "\n"
     ],
     "output_type":"stream"
    }
   ],
   "metadata":{
    "datalore":{
     "type":"CODE",
     "hide_input_from_viewers":false,
     "hide_output_from_viewers":false,
     "node_id":"zx5ad4kGT4STqNzf6yZq9E"
    }
   }
  },
  {
   "cell_type":"code",
   "source":[
    "np.quantile(cosines_paragraph, [0.01, 0.1, 0.5, 0.9, 0.99])"
   ],
   "execution_count":139,
   "outputs":[
    {
     "data":{
      "text\/html":[
       
      ]
     },
     "metadata":{
      
     },
     "output_type":"display_data"
    }
   ],
   "metadata":{
    "datalore":{
     "type":"CODE",
     "hide_input_from_viewers":false,
     "hide_output_from_viewers":false,
     "node_id":"JBPcdnfYEZNx4rwuNjlLIZ"
    }
   }
  },
  {
   "cell_type":"markdown",
   "source":[
    "# Web graphs"
   ],
   "attachments":{
    
   },
   "metadata":{
    "datalore":{
     "type":"MD",
     "hide_input_from_viewers":false,
     "hide_output_from_viewers":false,
     "sheet_delimiter":true
    }
   }
  },
  {
   "cell_type":"markdown",
   "source":[
    "# EXERCÍCIO AULA - WEB GRAPHS\n",
    "Reproduza os Casos de Uso apresentados em https:\/\/scikit-network.readthedocs.io\/en\/latest\/use_cases\/web-graphs.html"
   ],
   "attachments":{
    
   },
   "metadata":{
    "datalore":{
     "type":"MD",
     "hide_input_from_viewers":false,
     "hide_output_from_viewers":false,
     "node_id":"bzTP6w8cObziFYzMnfBUnU"
    }
   }
  },
  {
   "cell_type":"code",
   "source":[
    "from IPython.display import SVG\n",
    "import numpy as np\n",
    "from sknetwork.data import load_netset\n",
    "from sknetwork.ranking import PageRank, top_k\n",
    "from sknetwork.embedding import Spectral\n",
    "from sknetwork.clustering import Louvain\n",
    "from sknetwork.classification import DirichletClassifier\n",
    "from sknetwork.utils import WardDense, get_neighbors\n",
    "from sknetwork.visualization import svg_dendrogram"
   ],
   "execution_count":140,
   "outputs":[
    
   ],
   "metadata":{
    "datalore":{
     "type":"CODE",
     "hide_input_from_viewers":false,
     "hide_output_from_viewers":false,
     "node_id":"7Q6G0OJLasulj4s9viwdF0"
    }
   }
  },
  {
   "cell_type":"markdown",
   "source":[
    "## Data"
   ],
   "attachments":{
    
   },
   "metadata":{
    "datalore":{
     "type":"MD",
     "hide_input_from_viewers":false,
     "hide_output_from_viewers":false,
     "node_id":"TIPmHWRlkdfggBxy10Bter"
    }
   }
  },
  {
   "cell_type":"code",
   "source":[
    "wikivitals = load_netset('wikivitals')"
   ],
   "execution_count":141,
   "outputs":[
    {
     "name":"stdout",
     "text":[
      "Parsing files...\n",
      "Done.\n"
     ],
     "output_type":"stream"
    }
   ],
   "metadata":{
    "datalore":{
     "type":"CODE",
     "hide_input_from_viewers":false,
     "hide_output_from_viewers":false,
     "node_id":"3wY7p4Mykr0dN2lsHpwJSR"
    }
   }
  },
  {
   "cell_type":"code",
   "source":[
    "# graph of links\n",
    "adjacency = wikivitals.adjacency\n",
    "names = wikivitals.names\n",
    "labels = wikivitals.labels\n",
    "names_labels = wikivitals.names_labels"
   ],
   "execution_count":142,
   "outputs":[
    
   ],
   "metadata":{
    "datalore":{
     "type":"CODE",
     "hide_input_from_viewers":false,
     "hide_output_from_viewers":false,
     "node_id":"WAj0Fvhtwwh5VJxeUMN71v"
    }
   }
  },
  {
   "cell_type":"code",
   "source":[
    "adjacency"
   ],
   "execution_count":143,
   "outputs":[
    {
     "data":{
      "text\/plain":[
       "<10011x10011 sparse matrix of type '<class 'numpy.bool_'>'\n",
       "\twith 824999 stored elements in Compressed Sparse Row format>"
      ]
     },
     "metadata":{
      
     },
     "output_type":"display_data"
    }
   ],
   "metadata":{
    "datalore":{
     "type":"CODE",
     "hide_input_from_viewers":false,
     "hide_output_from_viewers":false,
     "node_id":"4ZoDkErgR8h55fQy7QocLQ"
    }
   }
  },
  {
   "cell_type":"code",
   "source":[
    "# categories\n",
    "print(names_labels)"
   ],
   "execution_count":144,
   "outputs":[
    {
     "name":"stdout",
     "text":[
      "['Arts' 'Biological and health sciences' 'Everyday life' 'Geography'\n",
      " 'History' 'Mathematics' 'People' 'Philosophy and religion'\n",
      " 'Physical sciences' 'Society and social sciences' 'Technology']\n"
     ],
     "output_type":"stream"
    }
   ],
   "metadata":{
    "datalore":{
     "type":"CODE",
     "hide_input_from_viewers":false,
     "hide_output_from_viewers":false,
     "node_id":"UqhFQDHD4V0ykJZ9qndrFu"
    }
   }
  },
  {
   "cell_type":"code",
   "source":[
    "# get label\n",
    "label_id = {name: i for i, name in enumerate(names_labels)}"
   ],
   "execution_count":145,
   "outputs":[
    
   ],
   "metadata":{
    "datalore":{
     "type":"CODE",
     "hide_input_from_viewers":false,
     "hide_output_from_viewers":false,
     "node_id":"GCOtq4LX3dhOYyvDuAw6Bi"
    }
   }
  },
  {
   "cell_type":"markdown",
   "source":[
    "## Sample"
   ],
   "attachments":{
    
   },
   "metadata":{
    "datalore":{
     "type":"MD",
     "hide_input_from_viewers":false,
     "hide_output_from_viewers":false,
     "node_id":"wzlcMi9qjFxJhFcAS68vg0"
    }
   }
  },
  {
   "cell_type":"code",
   "source":[
    "i = 10000\n",
    "print(names[i])"
   ],
   "execution_count":146,
   "outputs":[
    {
     "name":"stdout",
     "text":[
      "Édouard Manet\n"
     ],
     "output_type":"stream"
    }
   ],
   "metadata":{
    "datalore":{
     "type":"CODE",
     "hide_input_from_viewers":false,
     "hide_output_from_viewers":false,
     "node_id":"hZImDPoXLDNCaimyQIttcK"
    }
   }
  },
  {
   "cell_type":"code",
   "source":[
    "# label\n",
    "label = labels[i]\n",
    "print(names_labels[label])"
   ],
   "execution_count":147,
   "outputs":[
    {
     "name":"stdout",
     "text":[
      "People\n"
     ],
     "output_type":"stream"
    }
   ],
   "metadata":{
    "datalore":{
     "type":"CODE",
     "hide_input_from_viewers":false,
     "hide_output_from_viewers":false,
     "node_id":"iwNNLSZOHapVcD9DDYKMJy"
    }
   }
  },
  {
   "cell_type":"code",
   "source":[
    "# some hyperlinks\n",
    "neighbors = get_neighbors(adjacency, i)\n",
    "print(names[neighbors[:10]])"
   ],
   "execution_count":148,
   "outputs":[
    {
     "name":"stdout",
     "text":[
      "['Adolphe Thiers' 'American Civil War' 'Bordeaux' 'Camille Pissarro'\n",
      " 'Carmen' 'Charles Baudelaire' 'Claude Monet' 'Diego Velázquez'\n",
      " 'Edgar Allan Poe' 'Edgar Degas']\n"
     ],
     "output_type":"stream"
    }
   ],
   "metadata":{
    "datalore":{
     "type":"CODE",
     "hide_input_from_viewers":false,
     "hide_output_from_viewers":false,
     "node_id":"MYVBNq26xSB5DJRdYXP5VH"
    }
   }
  },
  {
   "cell_type":"code",
   "source":[
    "len(neighbors)"
   ],
   "execution_count":149,
   "outputs":[
    {
     "data":{
      "text\/plain":[
       "38"
      ]
     },
     "metadata":{
      
     },
     "output_type":"display_data"
    }
   ],
   "metadata":{
    "datalore":{
     "type":"CODE",
     "hide_input_from_viewers":false,
     "hide_output_from_viewers":false,
     "node_id":"s09WCBz6Q6ePjhRYbSv56Q"
    }
   }
  },
  {
   "cell_type":"markdown",
   "source":[
    "## Page"
   ],
   "attachments":{
    
   },
   "metadata":{
    "datalore":{
     "type":"MD",
     "hide_input_from_viewers":false,
     "hide_output_from_viewers":false,
     "node_id":"5D39OKXYsjT1i74A7lqQIM"
    }
   }
  },
  {
   "cell_type":"code",
   "source":[
    "pagerank = PageRank()"
   ],
   "execution_count":150,
   "outputs":[
    
   ],
   "metadata":{
    "datalore":{
     "type":"CODE",
     "hide_input_from_viewers":false,
     "hide_output_from_viewers":false,
     "node_id":"ThsbnW8clB8mPep6fkVE8t"
    }
   }
  },
  {
   "cell_type":"code",
   "source":[
    "# number of articles per category\n",
    "n_selection = 50"
   ],
   "execution_count":151,
   "outputs":[
    
   ],
   "metadata":{
    "datalore":{
     "type":"CODE",
     "hide_input_from_viewers":false,
     "hide_output_from_viewers":false,
     "node_id":"GZXHA2lEHPW8fbxPpl9ydC"
    }
   }
  },
  {
   "cell_type":"code",
   "source":[
    "# selection of articles\n",
    "selection = []\n",
    "for label in np.arange(len(names_labels)):\n",
    "    ppr = pagerank.fit_transform(adjacency, seeds=(labels==label))\n",
    "    scores = ppr * (labels==label)\n",
    "    selection.append(top_k(scores, n_selection))\n",
    "selection = np.array(selection)"
   ],
   "execution_count":152,
   "outputs":[
    
   ],
   "metadata":{
    "datalore":{
     "type":"CODE",
     "hide_input_from_viewers":false,
     "hide_output_from_viewers":false,
     "node_id":"HS4jKzTtkhWDtP3n3S9Vla"
    }
   }
  },
  {
   "cell_type":"code",
   "source":[
    "selection.shape"
   ],
   "execution_count":153,
   "outputs":[
    {
     "data":{
      "text\/plain":[
       "(11, 50)"
      ]
     },
     "metadata":{
      
     },
     "output_type":"display_data"
    }
   ],
   "metadata":{
    "datalore":{
     "type":"CODE",
     "hide_input_from_viewers":false,
     "hide_output_from_viewers":false,
     "node_id":"pmiP1cqC6QOwJEI7zaIYGk"
    }
   }
  },
  {
   "cell_type":"code",
   "source":[
    "# show selection\n",
    "for label, name_label in enumerate(names_labels):\n",
    "    print('---')\n",
    "    print(label, name_label)\n",
    "    print(names[selection[label, :5]])"
   ],
   "execution_count":154,
   "outputs":[
    {
     "name":"stdout",
     "text":[
      "---\n",
      "0 Arts\n",
      "['Encyclopædia Britannica' 'Romanticism' 'Jazz' 'Modernism' 'Baroque']\n",
      "---\n",
      "1 Biological and health sciences\n",
      "['Taxonomy (biology)' 'Animal' 'Chordate' 'Plant' 'Species']\n",
      "---\n",
      "2 Everyday life\n",
      "['Olympic Games' 'Association football' 'Basketball' 'Baseball' 'Softball']\n",
      "---\n",
      "3 Geography\n",
      "['Geographic coordinate system' 'United States' 'China' 'France' 'India']\n",
      "---\n",
      "4 History\n",
      "['World War II' 'World War I' 'Roman Empire' 'Ottoman Empire'\n",
      " 'Middle Ages']\n",
      "---\n",
      "5 Mathematics\n",
      "['Real number' 'Function (mathematics)' 'Complex number'\n",
      " 'Set (mathematics)' 'Integer']\n",
      "---\n",
      "6 People\n",
      "['Aristotle' 'Plato' 'Augustine of Hippo' 'Winston Churchill'\n",
      " 'Thomas Aquinas']\n",
      "---\n",
      "7 Philosophy and religion\n",
      "['Christianity' 'Islam' 'Buddhism' 'Hinduism' 'Catholic Church']\n",
      "---\n",
      "8 Physical sciences\n",
      "['Oxygen' 'Hydrogen' 'Earth' 'Kelvin' 'Density']\n",
      "---\n",
      "9 Society and social sciences\n",
      "['The New York Times' 'Latin' 'English language' 'French language'\n",
      " 'United Nations']\n",
      "---\n",
      "10 Technology\n",
      "['NASA' 'Internet' 'Operating system' 'Computer network' 'Computer']\n"
     ],
     "output_type":"stream"
    }
   ],
   "metadata":{
    "datalore":{
     "type":"CODE",
     "hide_input_from_viewers":false,
     "hide_output_from_viewers":false,
     "node_id":"jMQxsWHezyRlzS4iA0DK39"
    }
   }
  },
  {
   "cell_type":"markdown",
   "source":[
    "## Embedding"
   ],
   "attachments":{
    
   },
   "metadata":{
    "datalore":{
     "type":"MD",
     "hide_input_from_viewers":false,
     "hide_output_from_viewers":false,
     "node_id":"1hQIcZFvVvWPUgK5nbdjGn"
    }
   }
  },
  {
   "cell_type":"code",
   "source":[
    "# dimension of the embedding\n",
    "n_components = 20"
   ],
   "execution_count":155,
   "outputs":[
    
   ],
   "metadata":{
    "datalore":{
     "type":"CODE",
     "hide_input_from_viewers":false,
     "hide_output_from_viewers":false,
     "node_id":"CkAjzuvVwryhGv8LFgBH5f"
    }
   }
  },
  {
   "cell_type":"code",
   "source":[
    "# embedding\n",
    "spectral = Spectral(n_components)\n",
    "embedding = spectral.fit_transform(adjacency)"
   ],
   "execution_count":156,
   "outputs":[
    
   ],
   "metadata":{
    "datalore":{
     "type":"CODE",
     "hide_input_from_viewers":false,
     "hide_output_from_viewers":false,
     "node_id":"K0nk0xBzBLH4wth8LhM5JJ"
    }
   }
  },
  {
   "cell_type":"code",
   "source":[
    "embedding.shape"
   ],
   "execution_count":157,
   "outputs":[
    {
     "data":{
      "text\/plain":[
       "(10011, 20)"
      ]
     },
     "metadata":{
      
     },
     "output_type":"display_data"
    }
   ],
   "metadata":{
    "datalore":{
     "type":"CODE",
     "hide_input_from_viewers":false,
     "hide_output_from_viewers":false,
     "node_id":"eFgTN9zadOJ414nRi1yOqa"
    }
   }
  },
  {
   "cell_type":"code",
   "source":[
    "ward = WardDense()"
   ],
   "execution_count":158,
   "outputs":[
    
   ],
   "metadata":{
    "datalore":{
     "type":"CODE",
     "hide_input_from_viewers":false,
     "hide_output_from_viewers":false,
     "node_id":"qC96kNM5H1a3fvNC22qyET"
    }
   }
  },
  {
   "cell_type":"code",
   "source":[
    "# hierarchy of articles\n",
    "label = label_id['Physical sciences']\n",
    "index = selection[label]\n",
    "dendrogram_articles = ward.fit_transform(embedding[index])"
   ],
   "execution_count":159,
   "outputs":[
    
   ],
   "metadata":{
    "datalore":{
     "type":"CODE",
     "hide_input_from_viewers":false,
     "hide_output_from_viewers":false,
     "node_id":"qVrLQMRNoWNowJnd2qAGQ8"
    }
   }
  },
  {
   "cell_type":"code",
   "source":[
    "# visualization\n",
    "image = svg_dendrogram(dendrogram_articles, names=names[index], rotate=True, width=200, scale=2, n_clusters=4)\n",
    "SVG(image)"
   ],
   "execution_count":160,
   "outputs":[
    {
     "data":{
      "image\/svg+xml":[
       "<svg xmlns=\"http:\/\/www.w3.org\/2000\/svg\" width=\"599.0\" height=\"620\"><text x=\"415\" y=\"158.0\" font-size=\"12\">Oxygen<\/text><text x=\"415\" y=\"194.0\" font-size=\"12\">Hydrogen<\/text><text x=\"415\" y=\"266.0\" font-size=\"12\">Earth<\/text><text x=\"415\" y=\"422.0\" font-size=\"12\">Kelvin<\/text><text x=\"415\" y=\"146.0\" font-size=\"12\">Density<\/text><text x=\"415\" y=\"494.0\" font-size=\"12\">Electron<\/text><text x=\"415\" y=\"242.0\" font-size=\"12\">Sun<\/text><text x=\"415\" y=\"278.0\" font-size=\"12\">Water<\/text><text x=\"415\" y=\"26.0\" font-size=\"12\">Nitrogen<\/text><text x=\"415\" y=\"14.0\" font-size=\"12\">Carbon<\/text><text x=\"415\" y=\"530.0\" font-size=\"12\">Quantum mechanics<\/text><text x=\"415\" y=\"518.0\" font-size=\"12\">Physics<\/text><text x=\"415\" y=\"170.0\" font-size=\"12\">Carbon dioxide<\/text><text x=\"415\" y=\"38.0\" font-size=\"12\">Iron<\/text><text x=\"415\" y=\"554.0\" font-size=\"12\">Energy<\/text><text x=\"415\" y=\"566.0\" font-size=\"12\">Temperature<\/text><text x=\"415\" y=\"182.0\" font-size=\"12\">Chemical element<\/text><text x=\"415\" y=\"446.0\" font-size=\"12\">Atom<\/text><text x=\"415\" y=\"326.0\" font-size=\"12\">International System of Units<\/text><text x=\"415\" y=\"206.0\" font-size=\"12\">Helium<\/text><text x=\"415\" y=\"590.0\" font-size=\"12\">Mass<\/text><text x=\"415\" y=\"458.0\" font-size=\"12\">Molecule<\/text><text x=\"415\" y=\"578.0\" font-size=\"12\">Pressure<\/text><text x=\"415\" y=\"230.0\" font-size=\"12\">Solar System<\/text><text x=\"415\" y=\"470.0\" font-size=\"12\">Ion<\/text><text x=\"415\" y=\"338.0\" font-size=\"12\">Joule<\/text><text x=\"415\" y=\"50.0\" font-size=\"12\">Copper<\/text><text x=\"415\" y=\"302.0\" font-size=\"12\">Magnetic field<\/text><text x=\"415\" y=\"218.0\" font-size=\"12\">Astronomy<\/text><text x=\"415\" y=\"398.0\" font-size=\"12\">Pascal (unit)<\/text><text x=\"415\" y=\"122.0\" font-size=\"12\">Sodium<\/text><text x=\"415\" y=\"434.0\" font-size=\"12\">Metre<\/text><text x=\"415\" y=\"410.0\" font-size=\"12\">Kilogram<\/text><text x=\"415\" y=\"254.0\" font-size=\"12\">Star<\/text><text x=\"415\" y=\"482.0\" font-size=\"12\">Solid<\/text><text x=\"415\" y=\"602.0\" font-size=\"12\">Gravity<\/text><text x=\"415\" y=\"542.0\" font-size=\"12\">Photon<\/text><text x=\"415\" y=\"350.0\" font-size=\"12\">Second<\/text><text x=\"415\" y=\"74.0\" font-size=\"12\">Magnesium<\/text><text x=\"415\" y=\"314.0\" font-size=\"12\">Electronvolt<\/text><text x=\"415\" y=\"506.0\" font-size=\"12\">Proton<\/text><text x=\"415\" y=\"134.0\" font-size=\"12\">Sulfur<\/text><text x=\"415\" y=\"290.0\" font-size=\"12\">Astronomical unit<\/text><text x=\"415\" y=\"362.0\" font-size=\"12\">Newton (unit)<\/text><text x=\"415\" y=\"110.0\" font-size=\"12\">Chlorine<\/text><text x=\"415\" y=\"374.0\" font-size=\"12\">Hertz<\/text><text x=\"415\" y=\"86.0\" font-size=\"12\">Zinc<\/text><text x=\"415\" y=\"386.0\" font-size=\"12\">Watt<\/text><text x=\"415\" y=\"62.0\" font-size=\"12\">Gold<\/text><text x=\"415\" y=\"98.0\" font-size=\"12\">Mercury (element)<\/text><path stroke-width=\"2\" stroke=\"green\" d=\"M 410 394.0 406.8302474765896 394.0\"\/><path stroke-width=\"2\" stroke=\"green\" d=\"M 410 406.0 406.8302474765896 406.0\"\/><path stroke-width=\"2\" stroke=\"green\" d=\"M 406.8302474765896 394.0 406.8302474765896 406.0\"\/><path stroke-width=\"2\" stroke=\"blue\" d=\"M 410 118.0 405.80948494702994 118.0\"\/><path stroke-width=\"2\" stroke=\"blue\" d=\"M 410 130.0 405.80948494702994 130.0\"\/><path stroke-width=\"2\" stroke=\"blue\" d=\"M 405.80948494702994 118.0 405.80948494702994 130.0\"\/><path stroke-width=\"2\" stroke=\"blue\" d=\"M 410 106.0 405.0732869451922 106.0\"\/><path stroke-width=\"2\" stroke=\"blue\" d=\"M 405.80948494702994 124.0 405.0732869451922 124.0\"\/><path stroke-width=\"2\" stroke=\"blue\" d=\"M 405.0732869451922 106.0 405.0732869451922 124.0\"\/><path stroke-width=\"2\" stroke=\"green\" d=\"M 410 382.0 404.8492835273307 382.0\"\/><path stroke-width=\"2\" stroke=\"green\" d=\"M 406.8302474765896 400.0 404.8492835273307 400.0\"\/><path stroke-width=\"2\" stroke=\"green\" d=\"M 404.8492835273307 382.0 404.8492835273307 400.0\"\/><path stroke-width=\"2\" stroke=\"blue\" d=\"M 410 70.0 404.38617399284107 70.0\"\/><path stroke-width=\"2\" stroke=\"blue\" d=\"M 410 82.0 404.38617399284107 82.0\"\/><path stroke-width=\"2\" stroke=\"blue\" d=\"M 404.38617399284107 70.0 404.38617399284107 82.0\"\/><path stroke-width=\"2\" stroke=\"green\" d=\"M 410 322.0 403.9960160709348 322.0\"\/><path stroke-width=\"2\" stroke=\"green\" d=\"M 410 334.0 403.9960160709348 334.0\"\/><path stroke-width=\"2\" stroke=\"green\" d=\"M 403.9960160709348 322.0 403.9960160709348 334.0\"\/><path stroke-width=\"2\" stroke=\"green\" d=\"M 410 346.0 403.62601342739185 346.0\"\/><path stroke-width=\"2\" stroke=\"green\" d=\"M 410 358.0 403.62601342739185 358.0\"\/><path stroke-width=\"2\" stroke=\"green\" d=\"M 403.62601342739185 346.0 403.62601342739185 358.0\"\/><path stroke-width=\"2\" stroke=\"blue\" d=\"M 410 94.0 402.93808106979685 94.0\"\/><path stroke-width=\"2\" stroke=\"blue\" d=\"M 405.0732869451922 115.0 402.93808106979685 115.0\"\/><path stroke-width=\"2\" stroke=\"blue\" d=\"M 402.93808106979685 94.0 402.93808106979685 115.0\"\/><path stroke-width=\"2\" stroke=\"green\" d=\"M 410 370.0 402.5353427468422 370.0\"\/><path stroke-width=\"2\" stroke=\"green\" d=\"M 404.8492835273307 391.0 402.5353427468422 391.0\"\/><path stroke-width=\"2\" stroke=\"green\" d=\"M 402.5353427468422 370.0 402.5353427468422 391.0\"\/><path stroke-width=\"2\" stroke=\"green\" d=\"M 410 418.0 402.25183959961674 418.0\"\/><path stroke-width=\"2\" stroke=\"green\" d=\"M 410 430.0 402.25183959961674 430.0\"\/><path stroke-width=\"2\" stroke=\"green\" d=\"M 402.25183959961674 418.0 402.25183959961674 430.0\"\/><path stroke-width=\"2\" stroke=\"blue\" d=\"M 410 46.0 401.94344358444647 46.0\"\/><path stroke-width=\"2\" stroke=\"blue\" d=\"M 410 58.0 401.94344358444647 58.0\"\/><path stroke-width=\"2\" stroke=\"blue\" d=\"M 401.94344358444647 46.0 401.94344358444647 58.0\"\/><path stroke-width=\"2\" stroke=\"blue\" d=\"M 410 22.0 401.8496389409192 22.0\"\/><path stroke-width=\"2\" stroke=\"blue\" d=\"M 410 34.0 401.8496389409192 34.0\"\/><path stroke-width=\"2\" stroke=\"blue\" d=\"M 401.8496389409192 22.0 401.8496389409192 34.0\"\/><path stroke-width=\"2\" stroke=\"blue\" d=\"M 410 190.0 401.4526794751275 190.0\"\/><path stroke-width=\"2\" stroke=\"blue\" d=\"M 410 202.0 401.4526794751275 202.0\"\/><path stroke-width=\"2\" stroke=\"blue\" d=\"M 401.4526794751275 190.0 401.4526794751275 202.0\"\/><path stroke-width=\"2\" stroke=\"orange\" d=\"M 410 238.0 401.41246991415494 238.0\"\/><path stroke-width=\"2\" stroke=\"orange\" d=\"M 410 250.0 401.41246991415494 250.0\"\/><path stroke-width=\"2\" stroke=\"orange\" d=\"M 401.41246991415494 238.0 401.41246991415494 250.0\"\/><path stroke-width=\"2\" stroke=\"blue\" d=\"M 404.38617399284107 76.0 401.23293056040137 76.0\"\/><path stroke-width=\"2\" stroke=\"blue\" d=\"M 402.93808106979685 104.5 401.23293056040137 104.5\"\/><path stroke-width=\"2\" stroke=\"blue\" d=\"M 401.23293056040137 76.0 401.23293056040137 104.5\"\/><path stroke-width=\"2\" stroke=\"blue\" d=\"M 410 154.0 400.59129526621825 154.0\"\/><path stroke-width=\"2\" stroke=\"blue\" d=\"M 410 166.0 400.59129526621825 166.0\"\/><path stroke-width=\"2\" stroke=\"blue\" d=\"M 400.59129526621825 154.0 400.59129526621825 166.0\"\/><path stroke-width=\"2\" stroke=\"blue\" d=\"M 410 10.0 400.27982000077446 10.0\"\/><path stroke-width=\"2\" stroke=\"blue\" d=\"M 401.8496389409192 28.0 400.27982000077446 28.0\"\/><path stroke-width=\"2\" stroke=\"blue\" d=\"M 400.27982000077446 10.0 400.27982000077446 28.0\"\/><path stroke-width=\"2\" stroke=\"orange\" d=\"M 410 226.0 399.8332171251889 226.0\"\/><path stroke-width=\"2\" stroke=\"orange\" d=\"M 401.41246991415494 244.0 399.8332171251889 244.0\"\/><path stroke-width=\"2\" stroke=\"orange\" d=\"M 399.8332171251889 226.0 399.8332171251889 244.0\"\/><path stroke-width=\"2\" stroke=\"red\" d=\"M 410 526.0 399.6636523665328 526.0\"\/><path stroke-width=\"2\" stroke=\"red\" d=\"M 410 538.0 399.6636523665328 538.0\"\/><path stroke-width=\"2\" stroke=\"red\" d=\"M 399.6636523665328 526.0 399.6636523665328 538.0\"\/><path stroke-width=\"2\" stroke=\"green\" d=\"M 403.9960160709348 328.0 399.02137524657206 328.0\"\/><path stroke-width=\"2\" stroke=\"green\" d=\"M 403.62601342739185 352.0 399.02137524657206 352.0\"\/><path stroke-width=\"2\" stroke=\"green\" d=\"M 399.02137524657206 328.0 399.02137524657206 352.0\"\/><path stroke-width=\"2\" stroke=\"orange\" d=\"M 410 214.0 398.1083395056838 214.0\"\/><path stroke-width=\"2\" stroke=\"orange\" d=\"M 399.8332171251889 235.0 398.1083395056838 235.0\"\/><path stroke-width=\"2\" stroke=\"orange\" d=\"M 398.1083395056838 214.0 398.1083395056838 235.0\"\/><path stroke-width=\"2\" stroke=\"green\" d=\"M 402.5353427468422 380.5 396.223354134168 380.5\"\/><path stroke-width=\"2\" stroke=\"green\" d=\"M 402.25183959961674 424.0 396.223354134168 424.0\"\/><path stroke-width=\"2\" stroke=\"green\" d=\"M 396.223354134168 380.5 396.223354134168 424.0\"\/><path stroke-width=\"2\" stroke=\"green\" d=\"M 410 298.0 395.8694974131686 298.0\"\/><path stroke-width=\"2\" stroke=\"green\" d=\"M 410 310.0 395.8694974131686 310.0\"\/><path stroke-width=\"2\" stroke=\"green\" d=\"M 395.8694974131686 298.0 395.8694974131686 310.0\"\/><path stroke-width=\"2\" stroke=\"red\" d=\"M 410 442.0 395.16236248854165 442.0\"\/><path stroke-width=\"2\" stroke=\"red\" d=\"M 410 454.0 395.16236248854165 454.0\"\/><path stroke-width=\"2\" stroke=\"red\" d=\"M 395.16236248854165 442.0 395.16236248854165 454.0\"\/><path stroke-width=\"2\" stroke=\"red\" d=\"M 410 562.0 394.14911744058105 562.0\"\/><path stroke-width=\"2\" stroke=\"red\" d=\"M 410 574.0 394.14911744058105 574.0\"\/><path stroke-width=\"2\" stroke=\"red\" d=\"M 394.14911744058105 562.0 394.14911744058105 574.0\"\/><path stroke-width=\"2\" stroke=\"blue\" d=\"M 401.94344358444647 52.0 394.0941461776858 52.0\"\/><path stroke-width=\"2\" stroke=\"blue\" d=\"M 401.23293056040137 90.25 394.0941461776858 90.25\"\/><path stroke-width=\"2\" stroke=\"blue\" d=\"M 394.0941461776858 52.0 394.0941461776858 90.25\"\/><path stroke-width=\"2\" stroke=\"red\" d=\"M 410 490.0 393.4548769196904 490.0\"\/><path stroke-width=\"2\" stroke=\"red\" d=\"M 410 502.0 393.4548769196904 502.0\"\/><path stroke-width=\"2\" stroke=\"red\" d=\"M 393.4548769196904 490.0 393.4548769196904 502.0\"\/><path stroke-width=\"2\" stroke=\"green\" d=\"M 399.02137524657206 340.0 392.56185993690025 340.0\"\/><path stroke-width=\"2\" stroke=\"green\" d=\"M 396.223354134168 402.25 392.56185993690025 402.25\"\/><path stroke-width=\"2\" stroke=\"green\" d=\"M 392.56185993690025 340.0 392.56185993690025 402.25\"\/><path stroke-width=\"2\" stroke=\"blue\" d=\"M 400.27982000077446 19.0 392.21883364240347 19.0\"\/><path stroke-width=\"2\" stroke=\"blue\" d=\"M 394.0941461776858 71.125 392.21883364240347 71.125\"\/><path stroke-width=\"2\" stroke=\"blue\" d=\"M 392.21883364240347 19.0 392.21883364240347 71.125\"\/><path stroke-width=\"2\" stroke=\"blue\" d=\"M 410 178.0 391.4676324345303 178.0\"\/><path stroke-width=\"2\" stroke=\"blue\" d=\"M 401.4526794751275 196.0 391.4676324345303 196.0\"\/><path stroke-width=\"2\" stroke=\"blue\" d=\"M 391.4676324345303 178.0 391.4676324345303 196.0\"\/><path stroke-width=\"2\" stroke=\"red\" d=\"M 410 514.0 389.8525253639124 514.0\"\/><path stroke-width=\"2\" stroke=\"red\" d=\"M 399.6636523665328 532.0 389.8525253639124 532.0\"\/><path stroke-width=\"2\" stroke=\"red\" d=\"M 389.8525253639124 514.0 389.8525253639124 532.0\"\/><path stroke-width=\"2\" stroke=\"green\" d=\"M 395.8694974131686 304.0 385.9687000082636 304.0\"\/><path stroke-width=\"2\" stroke=\"green\" d=\"M 392.56185993690025 371.125 385.9687000082636 371.125\"\/><path stroke-width=\"2\" stroke=\"green\" d=\"M 385.9687000082636 304.0 385.9687000082636 371.125\"\/><path stroke-width=\"2\" stroke=\"red\" d=\"M 410 550.0 385.32470023566935 550.0\"\/><path stroke-width=\"2\" stroke=\"red\" d=\"M 394.14911744058105 568.0 385.32470023566935 568.0\"\/><path stroke-width=\"2\" stroke=\"red\" d=\"M 385.32470023566935 550.0 385.32470023566935 568.0\"\/><path stroke-width=\"2\" stroke=\"blue\" d=\"M 400.59129526621825 160.0 384.75626069320185 160.0\"\/><path stroke-width=\"2\" stroke=\"blue\" d=\"M 391.4676324345303 187.0 384.75626069320185 187.0\"\/><path stroke-width=\"2\" stroke=\"blue\" d=\"M 384.75626069320185 160.0 384.75626069320185 187.0\"\/><path stroke-width=\"2\" stroke=\"red\" d=\"M 393.4548769196904 496.0 384.35752178963224 496.0\"\/><path stroke-width=\"2\" stroke=\"red\" d=\"M 389.8525253639124 523.0 384.35752178963224 523.0\"\/><path stroke-width=\"2\" stroke=\"red\" d=\"M 384.35752178963224 496.0 384.35752178963224 523.0\"\/><path stroke-width=\"2\" stroke=\"red\" d=\"M 410 586.0 382.0443898583064 586.0\"\/><path stroke-width=\"2\" stroke=\"red\" d=\"M 410 598.0 382.0443898583064 598.0\"\/><path stroke-width=\"2\" stroke=\"red\" d=\"M 382.0443898583064 586.0 382.0443898583064 598.0\"\/><path stroke-width=\"2\" stroke=\"blue\" d=\"M 410 142.0 379.10546022715585 142.0\"\/><path stroke-width=\"2\" stroke=\"blue\" d=\"M 384.75626069320185 173.5 379.10546022715585 173.5\"\/><path stroke-width=\"2\" stroke=\"blue\" d=\"M 379.10546022715585 142.0 379.10546022715585 173.5\"\/><path stroke-width=\"2\" stroke=\"red\" d=\"M 410 466.0 374.66267040504886 466.0\"\/><path stroke-width=\"2\" stroke=\"red\" d=\"M 410 478.0 374.66267040504886 478.0\"\/><path stroke-width=\"2\" stroke=\"red\" d=\"M 374.66267040504886 466.0 374.66267040504886 478.0\"\/><path stroke-width=\"2\" stroke=\"green\" d=\"M 410 286.0 374.56431983376615 286.0\"\/><path stroke-width=\"2\" stroke=\"green\" d=\"M 385.9687000082636 337.5625 374.56431983376615 337.5625\"\/><path stroke-width=\"2\" stroke=\"green\" d=\"M 374.56431983376615 286.0 374.56431983376615 337.5625\"\/><path stroke-width=\"2\" stroke=\"orange\" d=\"M 410 262.0 372.9881652861739 262.0\"\/><path stroke-width=\"2\" stroke=\"orange\" d=\"M 410 274.0 372.9881652861739 274.0\"\/><path stroke-width=\"2\" stroke=\"orange\" d=\"M 372.9881652861739 262.0 372.9881652861739 274.0\"\/><path stroke-width=\"2\" stroke=\"blue\" d=\"M 392.21883364240347 45.0625 368.76351009316187 45.0625\"\/><path stroke-width=\"2\" stroke=\"blue\" d=\"M 379.10546022715585 157.75 368.76351009316187 157.75\"\/><path stroke-width=\"2\" stroke=\"blue\" d=\"M 368.76351009316187 45.0625 368.76351009316187 157.75\"\/><path stroke-width=\"2\" stroke=\"red\" d=\"M 395.16236248854165 448.0 366.1886563650607 448.0\"\/><path stroke-width=\"2\" stroke=\"red\" d=\"M 374.66267040504886 472.0 366.1886563650607 472.0\"\/><path stroke-width=\"2\" stroke=\"red\" d=\"M 366.1886563650607 448.0 366.1886563650607 472.0\"\/><path stroke-width=\"2\" stroke=\"red\" d=\"M 385.32470023566935 559.0 363.76807268537095 559.0\"\/><path stroke-width=\"2\" stroke=\"red\" d=\"M 382.0443898583064 592.0 363.76807268537095 592.0\"\/><path stroke-width=\"2\" stroke=\"red\" d=\"M 363.76807268537095 559.0 363.76807268537095 592.0\"\/><path stroke-width=\"2\" stroke=\"red\" d=\"M 384.35752178963224 509.5 355.1830961213084 509.5\"\/><path stroke-width=\"2\" stroke=\"red\" d=\"M 363.76807268537095 575.5 355.1830961213084 575.5\"\/><path stroke-width=\"2\" stroke=\"red\" d=\"M 355.1830961213084 509.5 355.1830961213084 575.5\"\/><path stroke-width=\"2\" stroke=\"orange\" d=\"M 398.1083395056838 224.5 316.8401745738996 224.5\"\/><path stroke-width=\"2\" stroke=\"orange\" d=\"M 372.9881652861739 268.0 316.8401745738996 268.0\"\/><path stroke-width=\"2\" stroke=\"orange\" d=\"M 316.8401745738996 224.5 316.8401745738996 268.0\"\/><path stroke-width=\"2\" stroke=\"red\" d=\"M 366.1886563650607 460.0 294.27026057822155 460.0\"\/><path stroke-width=\"2\" stroke=\"red\" d=\"M 355.1830961213084 542.5 294.27026057822155 542.5\"\/><path stroke-width=\"2\" stroke=\"red\" d=\"M 294.27026057822155 460.0 294.27026057822155 542.5\"\/><path stroke-width=\"2\" stroke=\"black\" d=\"M 374.56431983376615 311.78125 256.7414482488524 311.78125\"\/><path stroke-width=\"2\" stroke=\"black\" d=\"M 294.27026057822155 501.25 256.7414482488524 501.25\"\/><path stroke-width=\"2\" stroke=\"black\" d=\"M 256.7414482488524 311.78125 256.7414482488524 501.25\"\/><path stroke-width=\"2\" stroke=\"black\" d=\"M 316.8401745738996 246.25 157.23969788065745 246.25\"\/><path stroke-width=\"2\" stroke=\"black\" d=\"M 256.7414482488524 406.515625 157.23969788065745 406.515625\"\/><path stroke-width=\"2\" stroke=\"black\" d=\"M 157.23969788065745 246.25 157.23969788065745 406.515625\"\/><path stroke-width=\"2\" stroke=\"black\" d=\"M 368.76351009316187 101.40625 10.0 101.40625\"\/><path stroke-width=\"2\" stroke=\"black\" d=\"M 157.23969788065745 326.3828125 10.0 326.3828125\"\/><path stroke-width=\"2\" stroke=\"black\" d=\"M 10.0 101.40625 10.0 326.3828125\"\/><\/svg>"
      ]
     },
     "metadata":{
      
     },
     "output_type":"display_data"
    }
   ],
   "metadata":{
    "datalore":{
     "type":"CODE",
     "hide_input_from_viewers":false,
     "hide_output_from_viewers":false,
     "node_id":"yZaQLKn1sylDp2QSg575DH"
    }
   }
  },
  {
   "cell_type":"markdown",
   "source":[
    "## Clustering"
   ],
   "attachments":{
    
   },
   "metadata":{
    "datalore":{
     "type":"MD",
     "hide_input_from_viewers":false,
     "hide_output_from_viewers":false,
     "node_id":"nJq3N2XUe2MHfT4VyYJryx"
    }
   }
  },
  {
   "cell_type":"code",
   "source":[
    "algo = Louvain()"
   ],
   "execution_count":161,
   "outputs":[
    
   ],
   "metadata":{
    "datalore":{
     "type":"CODE",
     "hide_input_from_viewers":false,
     "hide_output_from_viewers":false,
     "node_id":"0XCTaSzKQSn6xP1bQASu5H"
    }
   }
  },
  {
   "cell_type":"code",
   "source":[
    "labels_pred = algo.fit_transform(adjacency)"
   ],
   "execution_count":162,
   "outputs":[
    
   ],
   "metadata":{
    "datalore":{
     "type":"CODE",
     "hide_input_from_viewers":false,
     "hide_output_from_viewers":false,
     "node_id":"esvQImXV15GiFSYoZmElCq"
    }
   }
  },
  {
   "cell_type":"code",
   "source":[
    "np.unique(labels_pred, return_counts=True)"
   ],
   "execution_count":163,
   "outputs":[
    {
     "data":{
      "text\/plain":[
       "(array([ 0,  1,  2,  3,  4,  5,  6,  7,  8,  9, 10]),\n",
       " array([1800, 1368, 1315, 1225, 1165, 1067,  804,  672,  468,   97,   30]))"
      ]
     },
     "metadata":{
      
     },
     "output_type":"display_data"
    }
   ],
   "metadata":{
    "datalore":{
     "type":"CODE",
     "hide_input_from_viewers":false,
     "hide_output_from_viewers":false,
     "node_id":"kI82UmKAXwL54NwZNPPAtK"
    }
   }
  },
  {
   "cell_type":"code",
   "source":[
    "n_selection = 5"
   ],
   "execution_count":164,
   "outputs":[
    
   ],
   "metadata":{
    "datalore":{
     "type":"CODE",
     "hide_input_from_viewers":false,
     "hide_output_from_viewers":false,
     "node_id":"bIvfpezf91CDFHFYS5gXAt"
    }
   }
  },
  {
   "cell_type":"code",
   "source":[
    "selection = []\n",
    "for label in np.arange(len(set(labels_pred))):\n",
    "    ppr = pagerank.fit_transform(adjacency, seeds=(labels_pred==label))\n",
    "    scores = ppr * (labels_pred==label)\n",
    "    selection.append(top_k(scores, n_selection))\n",
    "selection = np.array(selection)"
   ],
   "execution_count":165,
   "outputs":[
    
   ],
   "metadata":{
    "datalore":{
     "type":"CODE",
     "hide_input_from_viewers":false,
     "hide_output_from_viewers":false,
     "node_id":"RMplVMcIL6OhHg77aQI2kE"
    }
   }
  },
  {
   "cell_type":"markdown",
   "source":[
    "## Classification"
   ],
   "attachments":{
    
   },
   "metadata":{
    "datalore":{
     "type":"MD",
     "hide_input_from_viewers":false,
     "hide_output_from_viewers":false,
     "node_id":"1LV9FaYl4j9Oh7mrjeEuor"
    }
   }
  },
  {
   "cell_type":"code",
   "source":[
    "algo = DirichletClassifier()"
   ],
   "execution_count":166,
   "outputs":[
    
   ],
   "metadata":{
    "datalore":{
     "type":"CODE",
     "hide_input_from_viewers":false,
     "hide_output_from_viewers":false,
     "node_id":"TLijLsYaiT5c2jrzfhcu0Q"
    }
   }
  },
  {
   "cell_type":"code",
   "source":[
    "people = label_id['People']"
   ],
   "execution_count":167,
   "outputs":[
    
   ],
   "metadata":{
    "datalore":{
     "type":"CODE",
     "hide_input_from_viewers":false,
     "hide_output_from_viewers":false,
     "node_id":"ZhO9tzaiS1iWf9khvnsZbB"
    }
   }
  },
  {
   "cell_type":"code",
   "source":[
    "labels_people = algo.fit_transform(adjacency, seeds = {i: label for i, label in enumerate(labels) if label != people})"
   ],
   "execution_count":168,
   "outputs":[
    
   ],
   "metadata":{
    "datalore":{
     "type":"CODE",
     "hide_input_from_viewers":false,
     "hide_output_from_viewers":false,
     "node_id":"IDgef5Mtir4UAgM07alh3v"
    }
   }
  },
  {
   "cell_type":"code",
   "source":[
    "n_selection = 5"
   ],
   "execution_count":169,
   "outputs":[
    
   ],
   "metadata":{
    "datalore":{
     "type":"CODE",
     "hide_input_from_viewers":false,
     "hide_output_from_viewers":false,
     "node_id":"WTX1TQX11xnnu6wkQU8hdL"
    }
   }
  },
  {
   "cell_type":"code",
   "source":[
    "selection = []\n",
    "for label in np.arange(len(names_labels)):\n",
    "    if label != people:\n",
    "        ppr = pagerank.fit_transform(adjacency, seeds=(labels==people)*(labels_people==label))\n",
    "        scores = ppr * (labels==people)*(labels_people==label)\n",
    "        selection.append(top_k(scores, n_selection))\n",
    "selection = np.array(selection)"
   ],
   "execution_count":170,
   "outputs":[
    
   ],
   "metadata":{
    "datalore":{
     "type":"CODE",
     "hide_input_from_viewers":false,
     "hide_output_from_viewers":false,
     "node_id":"5lYEvRCfukyaRY7Fhb1WCv"
    }
   }
  },
  {
   "cell_type":"code",
   "source":[
    "# show selection\n",
    "i = 0\n",
    "for label, name_label in enumerate(names_labels):\n",
    "    if label != people:\n",
    "        print('---')\n",
    "        print(label, name_label)\n",
    "        print(names[selection[i]])\n",
    "        i += 1"
   ],
   "execution_count":171,
   "outputs":[
    {
     "name":"stdout",
     "text":[
      "---\n",
      "0 Arts\n",
      "['Richard Wagner' 'Igor Stravinsky' 'Bob Dylan' 'Fred Astaire'\n",
      " 'Ludwig van Beethoven']\n",
      "---\n",
      "1 Biological and health sciences\n",
      "['Charles Darwin' 'Francis Crick' 'Robert Koch' 'Alexander Fleming'\n",
      " 'Carl Linnaeus']\n",
      "---\n",
      "2 Everyday life\n",
      "['Wayne Gretzky' 'Jim Thorpe' 'Jackie Robinson' 'LeBron James'\n",
      " 'Willie Mays']\n",
      "---\n",
      "3 Geography\n",
      "['Elizabeth II' 'Carl Lewis' 'Dwight D. Eisenhower' 'Vladimir Putin'\n",
      " 'Muhammad Ali']\n",
      "---\n",
      "4 History\n",
      "['Alexander the Great' 'Napoleon' 'Charlemagne' 'Philip II of Spain'\n",
      " 'Charles V, Holy Roman Emperor']\n",
      "---\n",
      "5 Mathematics\n",
      "['Euclid' 'Augustin-Louis Cauchy' 'Archimedes' 'John von Neumann'\n",
      " 'Pierre de Fermat']\n",
      "---\n",
      "7 Philosophy and religion\n",
      "['Augustine of Hippo' 'Aristotle' 'Thomas Aquinas' 'Plato' 'Immanuel Kant']\n",
      "---\n",
      "8 Physical sciences\n",
      "['Albert Einstein' 'Isaac Newton' 'J. J. Thomson' 'Marie Curie'\n",
      " 'Niels Bohr']\n",
      "---\n",
      "9 Society and social sciences\n",
      "['Barack Obama' 'Noam Chomsky' 'Karl Marx' 'Ralph Waldo Emerson'\n",
      " 'Jean-Paul Sartre']\n",
      "---\n",
      "10 Technology\n",
      "['Tim Berners-Lee' 'Donald Knuth' 'Edsger W. Dijkstra' 'Douglas Engelbart'\n",
      " 'Dennis Ritchie']\n"
     ],
     "output_type":"stream"
    }
   ],
   "metadata":{
    "datalore":{
     "type":"CODE",
     "hide_input_from_viewers":false,
     "hide_output_from_viewers":false,
     "node_id":"q1XWgttKlSXCpYUMfxDST4"
    }
   }
  },
  {
   "cell_type":"markdown",
   "source":[
    "# Votes"
   ],
   "attachments":{
    
   },
   "metadata":{
    "datalore":{
     "type":"MD",
     "hide_input_from_viewers":false,
     "hide_output_from_viewers":false,
     "sheet_delimiter":true
    }
   }
  },
  {
   "cell_type":"markdown",
   "source":[
    "# EXERCÍCIO AULA - Votes\n",
    "Reproduza os Casos de Uso apresentados em https:\/\/scikit-network.readthedocs.io\/en\/latest\/use_cases\/votes.html"
   ],
   "attachments":{
    
   },
   "metadata":{
    "datalore":{
     "type":"MD",
     "hide_input_from_viewers":false,
     "hide_output_from_viewers":false,
     "node_id":"abFbkkvNHUqHV31vLzwm2H"
    }
   }
  },
  {
   "cell_type":"code",
   "source":[
    "from IPython.display import SVG\n",
    "import numpy as np\n",
    "from sknetwork.data import load_netset\n",
    "from sknetwork.clustering import Louvain\n",
    "from sknetwork.ranking import Diffusion\n",
    "from sknetwork.ranking import top_k, PageRank\n",
    "from sknetwork.embedding import Spectral\n",
    "from sknetwork.visualization import svg_graph, svg_dendrogram"
   ],
   "execution_count":172,
   "outputs":[
    
   ],
   "metadata":{
    "datalore":{
     "type":"CODE",
     "hide_input_from_viewers":false,
     "hide_output_from_viewers":false,
     "node_id":"KzP9KsD95yPTGRfBCErbM0"
    }
   }
  },
  {
   "cell_type":"markdown",
   "source":[
    "## DATA"
   ],
   "attachments":{
    
   },
   "metadata":{
    "datalore":{
     "type":"MD",
     "hide_input_from_viewers":false,
     "hide_output_from_viewers":false,
     "node_id":"72yppxgZeYAvTwkIrfGuQA"
    }
   }
  },
  {
   "cell_type":"code",
   "source":[
    "graph = load_netset('national_assembly')"
   ],
   "execution_count":173,
   "outputs":[
    {
     "name":"stdout",
     "text":[
      "Downloading national_assembly from NetSet...\n",
      "Unpacking archive...\n",
      "Parsing files...\n",
      "Done.\n"
     ],
     "output_type":"stream"
    }
   ],
   "metadata":{
    "datalore":{
     "type":"CODE",
     "hide_input_from_viewers":false,
     "hide_output_from_viewers":false,
     "node_id":"BOYPoVHxYe8XVBOKRrYbk6"
    }
   }
  },
  {
   "cell_type":"code",
   "source":[
    "biadjacency = graph.biadjacency\n",
    "position = graph.position\n",
    "names = graph.names_row\n",
    "bills = graph.names_col\n",
    "labels = graph.labels\n",
    "label_colors = graph.label_colors\n",
    "names_labels = graph.names_labels"
   ],
   "execution_count":174,
   "outputs":[
    
   ],
   "metadata":{
    "datalore":{
     "type":"CODE",
     "hide_input_from_viewers":false,
     "hide_output_from_viewers":false,
     "node_id":"A3bUcNY9xJ0J0M15qROKIb"
    }
   }
  },
  {
   "cell_type":"code",
   "source":[
    "n_deputy, n_bill = biadjacency.shape"
   ],
   "execution_count":175,
   "outputs":[
    
   ],
   "metadata":{
    "datalore":{
     "type":"CODE",
     "hide_input_from_viewers":false,
     "hide_output_from_viewers":false,
     "node_id":"K2aSMJ6VOWqzZVCe9FWUUK"
    }
   }
  },
  {
   "cell_type":"code",
   "source":[
    "print(names_labels)"
   ],
   "execution_count":176,
   "outputs":[
    {
     "name":"stdout",
     "text":[
      "['Non inscrit' 'Les Républicains'\n",
      " 'Les Constructifs : républicains, UDI, indépendants'\n",
      " 'Libertés et Territoires' 'UDI et Indépendants'\n",
      " 'UDI, Agir et Indépendants' 'Mouvement Démocrate et apparentés'\n",
      " 'La République en Marche' 'Socialistes et apparentés' 'Nouvelle Gauche'\n",
      " 'Gauche démocrate et républicaine' 'La France insoumise']\n"
     ],
     "output_type":"stream"
    }
   ],
   "metadata":{
    "datalore":{
     "type":"CODE",
     "hide_input_from_viewers":false,
     "hide_output_from_viewers":false,
     "node_id":"MFWhS1UKWcBjVI96qQ7wtM"
    }
   }
  },
  {
   "cell_type":"code",
   "source":[
    "# parameters for visualization\n",
    "node_size = 4\n",
    "width = 480\n",
    "height = 300"
   ],
   "execution_count":177,
   "outputs":[
    
   ],
   "metadata":{
    "datalore":{
     "type":"CODE",
     "hide_input_from_viewers":false,
     "hide_output_from_viewers":false,
     "node_id":"AIRsEZ8HuI0FfzAssHCHr1"
    }
   }
  },
  {
   "cell_type":"code",
   "source":[
    "image = svg_graph(position=position, labels=labels, node_size=node_size, width=width, height=height,\n",
    "                  label_colors=label_colors)\n",
    "SVG(image)"
   ],
   "execution_count":178,
   "outputs":[
    {
     "data":{
      "image\/svg+xml":[
       "<svg xmlns=\"http:\/\/www.w3.org\/2000\/svg\" width=\"520\" height=\"340\">\n",
       "<circle cx=\"239\" cy=\"37\" r=\"4.0\" style=\"fill:gold;stroke:black;stroke-width:1.0\"\/>\n",
       "<circle cx=\"146\" cy=\"191\" r=\"4.0\" style=\"fill:hotpink;stroke:black;stroke-width:1.0\"\/>\n",
       "<circle cx=\"399\" cy=\"192\" r=\"4.0\" style=\"fill:skyblue;stroke:black;stroke-width:1.0\"\/>\n",
       "<circle cx=\"49\" cy=\"203\" r=\"4.0\" style=\"fill:gold;stroke:black;stroke-width:1.0\"\/>\n",
       "<circle cx=\"69\" cy=\"316\" r=\"4.0\" style=\"fill:firebrick;stroke:black;stroke-width:1.0\"\/>\n",
       "<circle cx=\"181\" cy=\"108\" r=\"4.0\" style=\"fill:gold;stroke:black;stroke-width:1.0\"\/>\n",
       "<circle cx=\"342\" cy=\"54\" r=\"4.0\" style=\"fill:gold;stroke:black;stroke-width:1.0\"\/>\n",
       "<circle cx=\"126\" cy=\"301\" r=\"4.0\" style=\"fill:red;stroke:black;stroke-width:1.0\"\/>\n",
       "<circle cx=\"87\" cy=\"130\" r=\"4.0\" style=\"fill:gold;stroke:black;stroke-width:1.0\"\/>\n",
       "<circle cx=\"68\" cy=\"250\" r=\"4.0\" style=\"fill:gold;stroke:black;stroke-width:1.0\"\/>\n",
       "<circle cx=\"246\" cy=\"55\" r=\"4.0\" style=\"fill:gold;stroke:black;stroke-width:1.0\"\/>\n",
       "<circle cx=\"395\" cy=\"77\" r=\"4.0\" style=\"fill:gold;stroke:black;stroke-width:1.0\"\/>\n",
       "<circle cx=\"363\" cy=\"145\" r=\"4.0\" style=\"fill:orange;stroke:black;stroke-width:1.0\"\/>\n",
       "<circle cx=\"493\" cy=\"297\" r=\"4.0\" style=\"fill:white;stroke:black;stroke-width:1.0\"\/>\n",
       "<circle cx=\"482\" cy=\"254\" r=\"4.0\" style=\"fill:blue;stroke:black;stroke-width:1.0\"\/>\n",
       "<circle cx=\"415\" cy=\"206\" r=\"4.0\" style=\"fill:blue;stroke:black;stroke-width:1.0\"\/>\n",
       "<circle cx=\"201\" cy=\"63\" r=\"4.0\" style=\"fill:gold;stroke:black;stroke-width:1.0\"\/>\n",
       "<circle cx=\"160\" cy=\"102\" r=\"4.0\" style=\"fill:gold;stroke:black;stroke-width:1.0\"\/>\n",
       "<circle cx=\"52\" cy=\"194\" r=\"4.0\" style=\"fill:gold;stroke:black;stroke-width:1.0\"\/>\n",
       "<circle cx=\"379\" cy=\"119\" r=\"4.0\" style=\"fill:gold;stroke:black;stroke-width:1.0\"\/>\n",
       "<circle cx=\"313\" cy=\"79\" r=\"4.0\" style=\"fill:gold;stroke:black;stroke-width:1.0\"\/>\n",
       "<circle cx=\"189\" cy=\"209\" r=\"4.0\" style=\"fill:gold;stroke:black;stroke-width:1.0\"\/>\n",
       "<circle cx=\"479\" cy=\"288\" r=\"4.0\" style=\"fill:white;stroke:black;stroke-width:1.0\"\/>\n",
       "<circle cx=\"161\" cy=\"284\" r=\"4.0\" style=\"fill:hotpink;stroke:black;stroke-width:1.0\"\/>\n",
       "<circle cx=\"95\" cy=\"227\" r=\"4.0\" style=\"fill:gold;stroke:black;stroke-width:1.0\"\/>\n",
       "<circle cx=\"153\" cy=\"88\" r=\"4.0\" style=\"fill:gold;stroke:black;stroke-width:1.0\"\/>\n",
       "<circle cx=\"210\" cy=\"61\" r=\"4.0\" style=\"fill:gold;stroke:black;stroke-width:1.0\"\/>\n",
       "<circle cx=\"420\" cy=\"102\" r=\"4.0\" style=\"fill:white;stroke:black;stroke-width:1.0\"\/>\n",
       "<circle cx=\"416\" cy=\"250\" r=\"4.0\" style=\"fill:blue;stroke:black;stroke-width:1.0\"\/>\n",
       "<circle cx=\"461\" cy=\"258\" r=\"4.0\" style=\"fill:blue;stroke:black;stroke-width:1.0\"\/>\n",
       "<circle cx=\"255\" cy=\"161\" r=\"4.0\" style=\"fill:gold;stroke:black;stroke-width:1.0\"\/>\n",
       "<circle cx=\"415\" cy=\"147\" r=\"4.0\" style=\"fill:skyblue;stroke:black;stroke-width:1.0\"\/>\n",
       "<circle cx=\"452\" cy=\"260\" r=\"4.0\" style=\"fill:blue;stroke:black;stroke-width:1.0\"\/>\n",
       "<circle cx=\"149\" cy=\"70\" r=\"4.0\" style=\"fill:gold;stroke:black;stroke-width:1.0\"\/>\n",
       "<circle cx=\"56\" cy=\"151\" r=\"4.0\" style=\"fill:gold;stroke:black;stroke-width:1.0\"\/>\n",
       "<circle cx=\"399\" cy=\"204\" r=\"4.0\" style=\"fill:skyblue;stroke:black;stroke-width:1.0\"\/>\n",
       "<circle cx=\"160\" cy=\"296\" r=\"4.0\" style=\"fill:hotpink;stroke:black;stroke-width:1.0\"\/>\n",
       "<circle cx=\"401\" cy=\"294\" r=\"4.0\" style=\"fill:blue;stroke:black;stroke-width:1.0\"\/>\n",
       "<circle cx=\"171\" cy=\"162\" r=\"4.0\" style=\"fill:gold;stroke:black;stroke-width:1.0\"\/>\n",
       "<circle cx=\"192\" cy=\"165\" r=\"4.0\" style=\"fill:gold;stroke:black;stroke-width:1.0\"\/>\n",
       "<circle cx=\"477\" cy=\"229\" r=\"4.0\" style=\"fill:blue;stroke:black;stroke-width:1.0\"\/>\n",
       "<circle cx=\"175\" cy=\"120\" r=\"4.0\" style=\"fill:gold;stroke:black;stroke-width:1.0\"\/>\n",
       "<circle cx=\"272\" cy=\"104\" r=\"4.0\" style=\"fill:gold;stroke:black;stroke-width:1.0\"\/>\n",
       "<circle cx=\"365\" cy=\"309\" r=\"4.0\" style=\"fill:blue;stroke:black;stroke-width:1.0\"\/>\n",
       "<circle cx=\"437\" cy=\"203\" r=\"4.0\" style=\"fill:blue;stroke:black;stroke-width:1.0\"\/>\n",
       "<circle cx=\"429\" cy=\"246\" r=\"4.0\" style=\"fill:blue;stroke:black;stroke-width:1.0\"\/>\n",
       "<circle cx=\"160\" cy=\"52\" r=\"4.0\" style=\"fill:gold;stroke:black;stroke-width:1.0\"\/>\n",
       "<circle cx=\"145\" cy=\"220\" r=\"4.0\" style=\"fill:hotpink;stroke:black;stroke-width:1.0\"\/>\n",
       "<circle cx=\"84\" cy=\"293\" r=\"4.0\" style=\"fill:firebrick;stroke:black;stroke-width:1.0\"\/>\n",
       "<circle cx=\"450\" cy=\"196\" r=\"4.0\" style=\"fill:blue;stroke:black;stroke-width:1.0\"\/>\n",
       "<circle cx=\"99\" cy=\"168\" r=\"4.0\" style=\"fill:gold;stroke:black;stroke-width:1.0\"\/>\n",
       "<circle cx=\"217\" cy=\"100\" r=\"4.0\" style=\"fill:gold;stroke:black;stroke-width:1.0\"\/>\n",
       "<circle cx=\"117\" cy=\"83\" r=\"4.0\" style=\"fill:gold;stroke:black;stroke-width:1.0\"\/>\n",
       "<circle cx=\"97\" cy=\"315\" r=\"4.0\" style=\"fill:firebrick;stroke:black;stroke-width:1.0\"\/>\n",
       "<circle cx=\"146\" cy=\"113\" r=\"4.0\" style=\"fill:skyblue;stroke:black;stroke-width:1.0\"\/>\n",
       "<circle cx=\"378\" cy=\"199\" r=\"4.0\" style=\"fill:blue;stroke:black;stroke-width:1.0\"\/>\n",
       "<circle cx=\"463\" cy=\"151\" r=\"4.0\" style=\"fill:skyblue;stroke:black;stroke-width:1.0\"\/>\n",
       "<circle cx=\"299\" cy=\"58\" r=\"4.0\" style=\"fill:gold;stroke:black;stroke-width:1.0\"\/>\n",
       "<circle cx=\"228\" cy=\"57\" r=\"4.0\" style=\"fill:gold;stroke:black;stroke-width:1.0\"\/>\n",
       "<circle cx=\"372\" cy=\"113\" r=\"4.0\" style=\"fill:gold;stroke:black;stroke-width:1.0\"\/>\n",
       "<circle cx=\"127\" cy=\"280\" r=\"4.0\" style=\"fill:red;stroke:black;stroke-width:1.0\"\/>\n",
       "<circle cx=\"213\" cy=\"77\" r=\"4.0\" style=\"fill:gold;stroke:black;stroke-width:1.0\"\/>\n",
       "<circle cx=\"319\" cy=\"45\" r=\"4.0\" style=\"fill:gold;stroke:black;stroke-width:1.0\"\/>\n",
       "<circle cx=\"78\" cy=\"212\" r=\"4.0\" style=\"fill:gold;stroke:black;stroke-width:1.0\"\/>\n",
       "<circle cx=\"342\" cy=\"255\" r=\"4.0\" style=\"fill:blue;stroke:black;stroke-width:1.0\"\/>\n",
       "<circle cx=\"207\" cy=\"157\" r=\"4.0\" style=\"fill:gold;stroke:black;stroke-width:1.0\"\/>\n",
       "<circle cx=\"388\" cy=\"217\" r=\"4.0\" style=\"fill:blue;stroke:black;stroke-width:1.0\"\/>\n",
       "<circle cx=\"256\" cy=\"26\" r=\"4.0\" style=\"fill:gold;stroke:black;stroke-width:1.0\"\/>\n",
       "<circle cx=\"357\" cy=\"284\" r=\"4.0\" style=\"fill:blue;stroke:black;stroke-width:1.0\"\/>\n",
       "<circle cx=\"82\" cy=\"168\" r=\"4.0\" style=\"fill:gold;stroke:black;stroke-width:1.0\"\/>\n",
       "<circle cx=\"462\" cy=\"234\" r=\"4.0\" style=\"fill:blue;stroke:black;stroke-width:1.0\"\/>\n",
       "<circle cx=\"310\" cy=\"103\" r=\"4.0\" style=\"fill:gold;stroke:black;stroke-width:1.0\"\/>\n",
       "<circle cx=\"392\" cy=\"132\" r=\"4.0\" style=\"fill:gold;stroke:black;stroke-width:1.0\"\/>\n",
       "<circle cx=\"409\" cy=\"102\" r=\"4.0\" style=\"fill:white;stroke:black;stroke-width:1.0\"\/>\n",
       "<circle cx=\"429\" cy=\"185\" r=\"4.0\" style=\"fill:gold;stroke:black;stroke-width:1.0\"\/>\n",
       "<circle cx=\"292\" cy=\"98\" r=\"4.0\" style=\"fill:gold;stroke:black;stroke-width:1.0\"\/>\n",
       "<circle cx=\"103\" cy=\"147\" r=\"4.0\" style=\"fill:gold;stroke:black;stroke-width:1.0\"\/>\n",
       "<circle cx=\"351\" cy=\"212\" r=\"4.0\" style=\"fill:blue;stroke:black;stroke-width:1.0\"\/>\n",
       "<circle cx=\"263\" cy=\"62\" r=\"4.0\" style=\"fill:gold;stroke:black;stroke-width:1.0\"\/>\n",
       "<circle cx=\"187\" cy=\"150\" r=\"4.0\" style=\"fill:gold;stroke:black;stroke-width:1.0\"\/>\n",
       "<circle cx=\"49\" cy=\"181\" r=\"4.0\" style=\"fill:gold;stroke:black;stroke-width:1.0\"\/>\n",
       "<circle cx=\"435\" cy=\"315\" r=\"4.0\" style=\"fill:blue;stroke:black;stroke-width:1.0\"\/>\n",
       "<circle cx=\"356\" cy=\"139\" r=\"4.0\" style=\"fill:skyblue;stroke:black;stroke-width:1.0\"\/>\n",
       "<circle cx=\"39\" cy=\"298\" r=\"4.0\" style=\"fill:skyblue;stroke:black;stroke-width:1.0\"\/>\n",
       "<circle cx=\"84\" cy=\"283\" r=\"4.0\" style=\"fill:firebrick;stroke:black;stroke-width:1.0\"\/>\n",
       "<circle cx=\"172\" cy=\"232\" r=\"4.0\" style=\"fill:hotpink;stroke:black;stroke-width:1.0\"\/>\n",
       "<circle cx=\"289\" cy=\"113\" r=\"4.0\" style=\"fill:gold;stroke:black;stroke-width:1.0\"\/>\n",
       "<circle cx=\"380\" cy=\"66\" r=\"4.0\" style=\"fill:gold;stroke:black;stroke-width:1.0\"\/>\n",
       "<circle cx=\"326\" cy=\"48\" r=\"4.0\" style=\"fill:gold;stroke:black;stroke-width:1.0\"\/>\n",
       "<circle cx=\"446\" cy=\"186\" r=\"4.0\" style=\"fill:blue;stroke:black;stroke-width:1.0\"\/>\n",
       "<circle cx=\"287\" cy=\"38\" r=\"4.0\" style=\"fill:gold;stroke:black;stroke-width:1.0\"\/>\n",
       "<circle cx=\"205\" cy=\"79\" r=\"4.0\" style=\"fill:gold;stroke:black;stroke-width:1.0\"\/>\n",
       "<circle cx=\"126\" cy=\"132\" r=\"4.0\" style=\"fill:gold;stroke:black;stroke-width:1.0\"\/>\n",
       "<circle cx=\"441\" cy=\"177\" r=\"4.0\" style=\"fill:skyblue;stroke:black;stroke-width:1.0\"\/>\n",
       "<circle cx=\"453\" cy=\"206\" r=\"4.0\" style=\"fill:blue;stroke:black;stroke-width:1.0\"\/>\n",
       "<circle cx=\"109\" cy=\"210\" r=\"4.0\" style=\"fill:hotpink;stroke:black;stroke-width:1.0\"\/>\n",
       "<circle cx=\"142\" cy=\"55\" r=\"4.0\" style=\"fill:gold;stroke:black;stroke-width:1.0\"\/>\n",
       "<circle cx=\"167\" cy=\"242\" r=\"4.0\" style=\"fill:hotpink;stroke:black;stroke-width:1.0\"\/>\n",
       "<circle cx=\"170\" cy=\"133\" r=\"4.0\" style=\"fill:gold;stroke:black;stroke-width:1.0\"\/>\n",
       "<circle cx=\"37\" cy=\"254\" r=\"4.0\" style=\"fill:gold;stroke:black;stroke-width:1.0\"\/>\n",
       "<circle cx=\"163\" cy=\"61\" r=\"4.0\" style=\"fill:gold;stroke:black;stroke-width:1.0\"\/>\n",
       "<circle cx=\"197\" cy=\"82\" r=\"4.0\" style=\"fill:gold;stroke:black;stroke-width:1.0\"\/>\n",
       "<circle cx=\"415\" cy=\"109\" r=\"4.0\" style=\"fill:gold;stroke:black;stroke-width:1.0\"\/>\n",
       "<circle cx=\"394\" cy=\"183\" r=\"4.0\" style=\"fill:skyblue;stroke:black;stroke-width:1.0\"\/>\n",
       "<circle cx=\"421\" cy=\"284\" r=\"4.0\" style=\"fill:blue;stroke:black;stroke-width:1.0\"\/>\n",
       "<circle cx=\"110\" cy=\"127\" r=\"4.0\" style=\"fill:gold;stroke:black;stroke-width:1.0\"\/>\n",
       "<circle cx=\"127\" cy=\"66\" r=\"4.0\" style=\"fill:gold;stroke:black;stroke-width:1.0\"\/>\n",
       "<circle cx=\"210\" cy=\"138\" r=\"4.0\" style=\"fill:gold;stroke:black;stroke-width:1.0\"\/>\n",
       "<circle cx=\"118\" cy=\"177\" r=\"4.0\" style=\"fill:gold;stroke:black;stroke-width:1.0\"\/>\n",
       "<circle cx=\"22\" cy=\"254\" r=\"4.0\" style=\"fill:gold;stroke:black;stroke-width:1.0\"\/>\n",
       "<circle cx=\"52\" cy=\"172\" r=\"4.0\" style=\"fill:gold;stroke:black;stroke-width:1.0\"\/>\n",
       "<circle cx=\"296\" cy=\"75\" r=\"4.0\" style=\"fill:gold;stroke:black;stroke-width:1.0\"\/>\n",
       "<circle cx=\"288\" cy=\"73\" r=\"4.0\" style=\"fill:gold;stroke:black;stroke-width:1.0\"\/>\n",
       "<circle cx=\"33\" cy=\"206\" r=\"4.0\" style=\"fill:gold;stroke:black;stroke-width:1.0\"\/>\n",
       "<circle cx=\"288\" cy=\"28\" r=\"4.0\" style=\"fill:gold;stroke:black;stroke-width:1.0\"\/>\n",
       "<circle cx=\"462\" cy=\"164\" r=\"4.0\" style=\"fill:skyblue;stroke:black;stroke-width:1.0\"\/>\n",
       "<circle cx=\"115\" cy=\"96\" r=\"4.0\" style=\"fill:gold;stroke:black;stroke-width:1.0\"\/>\n",
       "<circle cx=\"425\" cy=\"150\" r=\"4.0\" style=\"fill:skyblue;stroke:black;stroke-width:1.0\"\/>\n",
       "<circle cx=\"138\" cy=\"66\" r=\"4.0\" style=\"fill:gold;stroke:black;stroke-width:1.0\"\/>\n",
       "<circle cx=\"476\" cy=\"199\" r=\"4.0\" style=\"fill:blue;stroke:black;stroke-width:1.0\"\/>\n",
       "<circle cx=\"204\" cy=\"196\" r=\"4.0\" style=\"fill:gold;stroke:black;stroke-width:1.0\"\/>\n",
       "<circle cx=\"177\" cy=\"54\" r=\"4.0\" style=\"fill:gold;stroke:black;stroke-width:1.0\"\/>\n",
       "<circle cx=\"118\" cy=\"285\" r=\"4.0\" style=\"fill:red;stroke:black;stroke-width:1.0\"\/>\n",
       "<circle cx=\"155\" cy=\"145\" r=\"4.0\" style=\"fill:gold;stroke:black;stroke-width:1.0\"\/>\n",
       "<circle cx=\"105\" cy=\"220\" r=\"4.0\" style=\"fill:hotpink;stroke:black;stroke-width:1.0\"\/>\n",
       "<circle cx=\"479\" cy=\"320\" r=\"4.0\" style=\"fill:white;stroke:black;stroke-width:1.0\"\/>\n",
       "<circle cx=\"136\" cy=\"241\" r=\"4.0\" style=\"fill:hotpink;stroke:black;stroke-width:1.0\"\/>\n",
       "<circle cx=\"308\" cy=\"138\" r=\"4.0\" style=\"fill:orange;stroke:black;stroke-width:1.0\"\/>\n",
       "<circle cx=\"431\" cy=\"130\" r=\"4.0\" style=\"fill:skyblue;stroke:black;stroke-width:1.0\"\/>\n",
       "<circle cx=\"120\" cy=\"164\" r=\"4.0\" style=\"fill:gold;stroke:black;stroke-width:1.0\"\/>\n",
       "<circle cx=\"97\" cy=\"294\" r=\"4.0\" style=\"fill:firebrick;stroke:black;stroke-width:1.0\"\/>\n",
       "<circle cx=\"480\" cy=\"241\" r=\"4.0\" style=\"fill:blue;stroke:black;stroke-width:1.0\"\/>\n",
       "<circle cx=\"448\" cy=\"239\" r=\"4.0\" style=\"fill:blue;stroke:black;stroke-width:1.0\"\/>\n",
       "<circle cx=\"150\" cy=\"211\" r=\"4.0\" style=\"fill:hotpink;stroke:black;stroke-width:1.0\"\/>\n",
       "<circle cx=\"263\" cy=\"26\" r=\"4.0\" style=\"fill:gold;stroke:black;stroke-width:1.0\"\/>\n",
       "<circle cx=\"39\" cy=\"241\" r=\"4.0\" style=\"fill:gold;stroke:black;stroke-width:1.0\"\/>\n",
       "<circle cx=\"271\" cy=\"71\" r=\"4.0\" style=\"fill:gold;stroke:black;stroke-width:1.0\"\/>\n",
       "<circle cx=\"40\" cy=\"320\" r=\"4.0\" style=\"fill:white;stroke:black;stroke-width:1.0\"\/>\n",
       "<circle cx=\"272\" cy=\"178\" r=\"4.0\" style=\"fill:orange;stroke:black;stroke-width:1.0\"\/>\n",
       "<circle cx=\"193\" cy=\"66\" r=\"4.0\" style=\"fill:gold;stroke:black;stroke-width:1.0\"\/>\n",
       "<circle cx=\"189\" cy=\"86\" r=\"4.0\" style=\"fill:gold;stroke:black;stroke-width:1.0\"\/>\n",
       "<circle cx=\"114\" cy=\"201\" r=\"4.0\" style=\"fill:hotpink;stroke:black;stroke-width:1.0\"\/>\n",
       "<circle cx=\"171\" cy=\"274\" r=\"4.0\" style=\"fill:hotpink;stroke:black;stroke-width:1.0\"\/>\n",
       "<circle cx=\"171\" cy=\"39\" r=\"4.0\" style=\"fill:gold;stroke:black;stroke-width:1.0\"\/>\n",
       "<circle cx=\"146\" cy=\"93\" r=\"4.0\" style=\"fill:gold;stroke:black;stroke-width:1.0\"\/>\n",
       "<circle cx=\"174\" cy=\"286\" r=\"4.0\" style=\"fill:hotpink;stroke:black;stroke-width:1.0\"\/>\n",
       "<circle cx=\"443\" cy=\"221\" r=\"4.0\" style=\"fill:blue;stroke:black;stroke-width:1.0\"\/>\n",
       "<circle cx=\"396\" cy=\"257\" r=\"4.0\" style=\"fill:blue;stroke:black;stroke-width:1.0\"\/>\n",
       "<circle cx=\"409\" cy=\"127\" r=\"4.0\" style=\"fill:gold;stroke:black;stroke-width:1.0\"\/>\n",
       "<circle cx=\"292\" cy=\"149\" r=\"4.0\" style=\"fill:orange;stroke:black;stroke-width:1.0\"\/>\n",
       "<circle cx=\"227\" cy=\"183\" r=\"4.0\" style=\"fill:gold;stroke:black;stroke-width:1.0\"\/>\n",
       "<circle cx=\"370\" cy=\"152\" r=\"4.0\" style=\"fill:orange;stroke:black;stroke-width:1.0\"\/>\n",
       "<circle cx=\"357\" cy=\"83\" r=\"4.0\" style=\"fill:gold;stroke:black;stroke-width:1.0\"\/>\n",
       "<circle cx=\"459\" cy=\"177\" r=\"4.0\" style=\"fill:blue;stroke:black;stroke-width:1.0\"\/>\n",
       "<circle cx=\"453\" cy=\"147\" r=\"4.0\" style=\"fill:skyblue;stroke:black;stroke-width:1.0\"\/>\n",
       "<circle cx=\"402\" cy=\"119\" r=\"4.0\" style=\"fill:gold;stroke:black;stroke-width:1.0\"\/>\n",
       "<circle cx=\"246\" cy=\"95\" r=\"4.0\" style=\"fill:gold;stroke:black;stroke-width:1.0\"\/>\n",
       "<circle cx=\"238\" cy=\"20\" r=\"4.0\" style=\"fill:gold;stroke:black;stroke-width:1.0\"\/>\n",
       "<circle cx=\"463\" cy=\"279\" r=\"4.0\" style=\"fill:blue;stroke:black;stroke-width:1.0\"\/>\n",
       "<circle cx=\"247\" cy=\"20\" r=\"4.0\" style=\"fill:gold;stroke:black;stroke-width:1.0\"\/>\n",
       "<circle cx=\"500\" cy=\"286\" r=\"4.0\" style=\"fill:white;stroke:black;stroke-width:1.0\"\/>\n",
       "<circle cx=\"192\" cy=\"48\" r=\"4.0\" style=\"fill:gold;stroke:black;stroke-width:1.0\"\/>\n",
       "<circle cx=\"300\" cy=\"134\" r=\"4.0\" style=\"fill:orange;stroke:black;stroke-width:1.0\"\/>\n",
       "<circle cx=\"309\" cy=\"231\" r=\"4.0\" style=\"fill:orange;stroke:black;stroke-width:1.0\"\/>\n",
       "<circle cx=\"391\" cy=\"66\" r=\"4.0\" style=\"fill:gold;stroke:black;stroke-width:1.0\"\/>\n",
       "<circle cx=\"305\" cy=\"237\" r=\"4.0\" style=\"fill:orange;stroke:black;stroke-width:1.0\"\/>\n",
       "<circle cx=\"164\" cy=\"168\" r=\"4.0\" style=\"fill:gold;stroke:black;stroke-width:1.0\"\/>\n",
       "<circle cx=\"464\" cy=\"289\" r=\"4.0\" style=\"fill:blue;stroke:black;stroke-width:1.0\"\/>\n",
       "<circle cx=\"357\" cy=\"195\" r=\"4.0\" style=\"fill:orange;stroke:black;stroke-width:1.0\"\/>\n",
       "<circle cx=\"393\" cy=\"227\" r=\"4.0\" style=\"fill:blue;stroke:black;stroke-width:1.0\"\/>\n",
       "<circle cx=\"433\" cy=\"194\" r=\"4.0\" style=\"fill:blue;stroke:black;stroke-width:1.0\"\/>\n",
       "<circle cx=\"77\" cy=\"145\" r=\"4.0\" style=\"fill:gold;stroke:black;stroke-width:1.0\"\/>\n",
       "<circle cx=\"46\" cy=\"211\" r=\"4.0\" style=\"fill:gold;stroke:black;stroke-width:1.0\"\/>\n",
       "<circle cx=\"400\" cy=\"285\" r=\"4.0\" style=\"fill:blue;stroke:black;stroke-width:1.0\"\/>\n",
       "<circle cx=\"155\" cy=\"234\" r=\"4.0\" style=\"fill:hotpink;stroke:black;stroke-width:1.0\"\/>\n",
       "<circle cx=\"123\" cy=\"112\" r=\"4.0\" style=\"fill:gold;stroke:black;stroke-width:1.0\"\/>\n",
       "<circle cx=\"403\" cy=\"96\" r=\"4.0\" style=\"fill:gold;stroke:black;stroke-width:1.0\"\/>\n",
       "<circle cx=\"392\" cy=\"280\" r=\"4.0\" style=\"fill:blue;stroke:black;stroke-width:1.0\"\/>\n",
       "<circle cx=\"281\" cy=\"137\" r=\"4.0\" style=\"fill:orange;stroke:black;stroke-width:1.0\"\/>\n",
       "<circle cx=\"140\" cy=\"231\" r=\"4.0\" style=\"fill:hotpink;stroke:black;stroke-width:1.0\"\/>\n",
       "<circle cx=\"151\" cy=\"138\" r=\"4.0\" style=\"fill:gold;stroke:black;stroke-width:1.0\"\/>\n",
       "<circle cx=\"493\" cy=\"234\" r=\"4.0\" style=\"fill:blue;stroke:black;stroke-width:1.0\"\/>\n",
       "<circle cx=\"119\" cy=\"275\" r=\"4.0\" style=\"fill:hotpink;stroke:black;stroke-width:1.0\"\/>\n",
       "<circle cx=\"273\" cy=\"145\" r=\"4.0\" style=\"fill:orange;stroke:black;stroke-width:1.0\"\/>\n",
       "<circle cx=\"346\" cy=\"84\" r=\"4.0\" style=\"fill:gold;stroke:black;stroke-width:1.0\"\/>\n",
       "<circle cx=\"272\" cy=\"55\" r=\"4.0\" style=\"fill:gold;stroke:black;stroke-width:1.0\"\/>\n",
       "<circle cx=\"404\" cy=\"201\" r=\"4.0\" style=\"fill:skyblue;stroke:black;stroke-width:1.0\"\/>\n",
       "<circle cx=\"280\" cy=\"72\" r=\"4.0\" style=\"fill:gold;stroke:black;stroke-width:1.0\"\/>\n",
       "<circle cx=\"395\" cy=\"112\" r=\"4.0\" style=\"fill:gold;stroke:black;stroke-width:1.0\"\/>\n",
       "<circle cx=\"373\" cy=\"191\" r=\"4.0\" style=\"fill:blue;stroke:black;stroke-width:1.0\"\/>\n",
       "<circle cx=\"203\" cy=\"122\" r=\"4.0\" style=\"fill:gold;stroke:black;stroke-width:1.0\"\/>\n",
       "<circle cx=\"104\" cy=\"160\" r=\"4.0\" style=\"fill:gold;stroke:black;stroke-width:1.0\"\/>\n",
       "<circle cx=\"210\" cy=\"112\" r=\"4.0\" style=\"fill:gold;stroke:black;stroke-width:1.0\"\/>\n",
       "<circle cx=\"168\" cy=\"186\" r=\"4.0\" style=\"fill:gold;stroke:black;stroke-width:1.0\"\/>\n",
       "<circle cx=\"239\" cy=\"72\" r=\"4.0\" style=\"fill:gold;stroke:black;stroke-width:1.0\"\/>\n",
       "<circle cx=\"274\" cy=\"162\" r=\"4.0\" style=\"fill:orange;stroke:black;stroke-width:1.0\"\/>\n",
       "<circle cx=\"398\" cy=\"164\" r=\"4.0\" style=\"fill:skyblue;stroke:black;stroke-width:1.0\"\/>\n",
       "<circle cx=\"422\" cy=\"294\" r=\"4.0\" style=\"fill:blue;stroke:black;stroke-width:1.0\"\/>\n",
       "<circle cx=\"108\" cy=\"196\" r=\"4.0\" style=\"fill:gold;stroke:black;stroke-width:1.0\"\/>\n",
       "<circle cx=\"418\" cy=\"90\" r=\"4.0\" style=\"fill:white;stroke:black;stroke-width:1.0\"\/>\n",
       "<circle cx=\"90\" cy=\"246\" r=\"4.0\" style=\"fill:gold;stroke:black;stroke-width:1.0\"\/>\n",
       "<circle cx=\"122\" cy=\"237\" r=\"4.0\" style=\"fill:hotpink;stroke:black;stroke-width:1.0\"\/>\n",
       "<circle cx=\"421\" cy=\"115\" r=\"4.0\" style=\"fill:gold;stroke:black;stroke-width:1.0\"\/>\n",
       "<circle cx=\"30\" cy=\"246\" r=\"4.0\" style=\"fill:gold;stroke:black;stroke-width:1.0\"\/>\n",
       "<circle cx=\"479\" cy=\"187\" r=\"4.0\" style=\"fill:blue;stroke:black;stroke-width:1.0\"\/>\n",
       "<circle cx=\"373\" cy=\"93\" r=\"4.0\" style=\"fill:gold;stroke:black;stroke-width:1.0\"\/>\n",
       "<circle cx=\"237\" cy=\"180\" r=\"4.0\" style=\"fill:gold;stroke:black;stroke-width:1.0\"\/>\n",
       "<circle cx=\"245\" cy=\"145\" r=\"4.0\" style=\"fill:gold;stroke:black;stroke-width:1.0\"\/>\n",
       "<circle cx=\"326\" cy=\"165\" r=\"4.0\" style=\"fill:orange;stroke:black;stroke-width:1.0\"\/>\n",
       "<circle cx=\"360\" cy=\"132\" r=\"4.0\" style=\"fill:gold;stroke:black;stroke-width:1.0\"\/>\n",
       "<circle cx=\"126\" cy=\"301\" r=\"4.0\" style=\"fill:red;stroke:black;stroke-width:1.0\"\/>\n",
       "<circle cx=\"485\" cy=\"206\" r=\"4.0\" style=\"fill:blue;stroke:black;stroke-width:1.0\"\/>\n",
       "<circle cx=\"85\" cy=\"194\" r=\"4.0\" style=\"fill:gold;stroke:black;stroke-width:1.0\"\/>\n",
       "<circle cx=\"230\" cy=\"73\" r=\"4.0\" style=\"fill:gold;stroke:black;stroke-width:1.0\"\/>\n",
       "<circle cx=\"315\" cy=\"122\" r=\"4.0\" style=\"fill:gold;stroke:black;stroke-width:1.0\"\/>\n",
       "<circle cx=\"343\" cy=\"93\" r=\"4.0\" style=\"fill:gold;stroke:black;stroke-width:1.0\"\/>\n",
       "<circle cx=\"368\" cy=\"211\" r=\"4.0\" style=\"fill:blue;stroke:black;stroke-width:1.0\"\/>\n",
       "<circle cx=\"136\" cy=\"262\" r=\"4.0\" style=\"fill:red;stroke:black;stroke-width:1.0\"\/>\n",
       "<circle cx=\"223\" cy=\"168\" r=\"4.0\" style=\"fill:gold;stroke:black;stroke-width:1.0\"\/>\n",
       "<circle cx=\"246\" cy=\"178\" r=\"4.0\" style=\"fill:gold;stroke:black;stroke-width:1.0\"\/>\n",
       "<circle cx=\"358\" cy=\"223\" r=\"4.0\" style=\"fill:blue;stroke:black;stroke-width:1.0\"\/>\n",
       "<circle cx=\"408\" cy=\"89\" r=\"4.0\" style=\"fill:gold;stroke:black;stroke-width:1.0\"\/>\n",
       "<circle cx=\"122\" cy=\"90\" r=\"4.0\" style=\"fill:gold;stroke:black;stroke-width:1.0\"\/>\n",
       "<circle cx=\"197\" cy=\"182\" r=\"4.0\" style=\"fill:gold;stroke:black;stroke-width:1.0\"\/>\n",
       "<circle cx=\"371\" cy=\"278\" r=\"4.0\" style=\"fill:blue;stroke:black;stroke-width:1.0\"\/>\n",
       "<circle cx=\"489\" cy=\"246\" r=\"4.0\" style=\"fill:blue;stroke:black;stroke-width:1.0\"\/>\n",
       "<circle cx=\"355\" cy=\"61\" r=\"4.0\" style=\"fill:gold;stroke:black;stroke-width:1.0\"\/>\n",
       "<circle cx=\"263\" cy=\"70\" r=\"4.0\" style=\"fill:gold;stroke:black;stroke-width:1.0\"\/>\n",
       "<circle cx=\"222\" cy=\"75\" r=\"4.0\" style=\"fill:gold;stroke:black;stroke-width:1.0\"\/>\n",
       "<circle cx=\"124\" cy=\"183\" r=\"4.0\" style=\"fill:gold;stroke:black;stroke-width:1.0\"\/>\n",
       "<circle cx=\"330\" cy=\"189\" r=\"4.0\" style=\"fill:orange;stroke:black;stroke-width:1.0\"\/>\n",
       "<circle cx=\"464\" cy=\"309\" r=\"4.0\" style=\"fill:blue;stroke:black;stroke-width:1.0\"\/>\n",
       "<circle cx=\"450\" cy=\"304\" r=\"4.0\" style=\"fill:blue;stroke:black;stroke-width:1.0\"\/>\n",
       "<circle cx=\"124\" cy=\"77\" r=\"4.0\" style=\"fill:gold;stroke:black;stroke-width:1.0\"\/>\n",
       "<circle cx=\"301\" cy=\"100\" r=\"4.0\" style=\"fill:gold;stroke:black;stroke-width:1.0\"\/>\n",
       "<circle cx=\"40\" cy=\"277\" r=\"4.0\" style=\"fill:gold;stroke:black;stroke-width:1.0\"\/>\n",
       "<circle cx=\"109\" cy=\"153\" r=\"4.0\" style=\"fill:gold;stroke:black;stroke-width:1.0\"\/>\n",
       "<circle cx=\"25\" cy=\"307\" r=\"4.0\" style=\"fill:skyblue;stroke:black;stroke-width:1.0\"\/>\n",
       "<circle cx=\"455\" cy=\"169\" r=\"4.0\" style=\"fill:skyblue;stroke:black;stroke-width:1.0\"\/>\n",
       "<circle cx=\"176\" cy=\"179\" r=\"4.0\" style=\"fill:gold;stroke:black;stroke-width:1.0\"\/>\n",
       "<circle cx=\"246\" cy=\"104\" r=\"4.0\" style=\"fill:gold;stroke:black;stroke-width:1.0\"\/>\n",
       "<circle cx=\"84\" cy=\"315\" r=\"4.0\" style=\"fill:firebrick;stroke:black;stroke-width:1.0\"\/>\n",
       "<circle cx=\"449\" cy=\"281\" r=\"4.0\" style=\"fill:blue;stroke:black;stroke-width:1.0\"\/>\n",
       "<circle cx=\"167\" cy=\"212\" r=\"4.0\" style=\"fill:hotpink;stroke:black;stroke-width:1.0\"\/>\n",
       "<circle cx=\"326\" cy=\"66\" r=\"4.0\" style=\"fill:gold;stroke:black;stroke-width:1.0\"\/>\n",
       "<circle cx=\"438\" cy=\"124\" r=\"4.0\" style=\"fill:skyblue;stroke:black;stroke-width:1.0\"\/>\n",
       "<circle cx=\"231\" cy=\"38\" r=\"4.0\" style=\"fill:gold;stroke:black;stroke-width:1.0\"\/>\n",
       "<circle cx=\"102\" cy=\"250\" r=\"4.0\" style=\"fill:gold;stroke:black;stroke-width:1.0\"\/>\n",
       "<circle cx=\"69\" cy=\"304\" r=\"4.0\" style=\"fill:firebrick;stroke:black;stroke-width:1.0\"\/>\n",
       "<circle cx=\"26\" cy=\"234\" r=\"4.0\" style=\"fill:gold;stroke:black;stroke-width:1.0\"\/>\n",
       "<circle cx=\"75\" cy=\"221\" r=\"4.0\" style=\"fill:gold;stroke:black;stroke-width:1.0\"\/>\n",
       "<circle cx=\"368\" cy=\"50\" r=\"4.0\" style=\"fill:gold;stroke:black;stroke-width:1.0\"\/>\n",
       "<circle cx=\"143\" cy=\"146\" r=\"4.0\" style=\"fill:gold;stroke:black;stroke-width:1.0\"\/>\n",
       "<circle cx=\"188\" cy=\"189\" r=\"4.0\" style=\"fill:gold;stroke:black;stroke-width:1.0\"\/>\n",
       "<circle cx=\"303\" cy=\"41\" r=\"4.0\" style=\"fill:gold;stroke:black;stroke-width:1.0\"\/>\n",
       "<circle cx=\"290\" cy=\"106\" r=\"4.0\" style=\"fill:gold;stroke:black;stroke-width:1.0\"\/>\n",
       "<circle cx=\"87\" cy=\"104\" r=\"4.0\" style=\"fill:gold;stroke:black;stroke-width:1.0\"\/>\n",
       "<circle cx=\"65\" cy=\"206\" r=\"4.0\" style=\"fill:gold;stroke:black;stroke-width:1.0\"\/>\n",
       "<circle cx=\"362\" cy=\"65\" r=\"4.0\" style=\"fill:gold;stroke:black;stroke-width:1.0\"\/>\n",
       "<circle cx=\"386\" cy=\"125\" r=\"4.0\" style=\"fill:gold;stroke:black;stroke-width:1.0\"\/>\n",
       "<circle cx=\"365\" cy=\"107\" r=\"4.0\" style=\"fill:gold;stroke:black;stroke-width:1.0\"\/>\n",
       "<circle cx=\"411\" cy=\"196\" r=\"4.0\" style=\"fill:skyblue;stroke:black;stroke-width:1.0\"\/>\n",
       "<circle cx=\"236\" cy=\"96\" r=\"4.0\" style=\"fill:gold;stroke:black;stroke-width:1.0\"\/>\n",
       "<circle cx=\"237\" cy=\"55\" r=\"4.0\" style=\"fill:gold;stroke:black;stroke-width:1.0\"\/>\n",
       "<circle cx=\"347\" cy=\"162\" r=\"4.0\" style=\"fill:orange;stroke:black;stroke-width:1.0\"\/>\n",
       "<circle cx=\"399\" cy=\"275\" r=\"4.0\" style=\"fill:blue;stroke:black;stroke-width:1.0\"\/>\n",
       "<circle cx=\"306\" cy=\"190\" r=\"4.0\" style=\"fill:orange;stroke:black;stroke-width:1.0\"\/>\n",
       "<circle cx=\"359\" cy=\"296\" r=\"4.0\" style=\"fill:blue;stroke:black;stroke-width:1.0\"\/>\n",
       "<circle cx=\"147\" cy=\"288\" r=\"4.0\" style=\"fill:red;stroke:black;stroke-width:1.0\"\/>\n",
       "<circle cx=\"321\" cy=\"82\" r=\"4.0\" style=\"fill:gold;stroke:black;stroke-width:1.0\"\/>\n",
       "<circle cx=\"478\" cy=\"277\" r=\"4.0\" style=\"fill:white;stroke:black;stroke-width:1.0\"\/>\n",
       "<circle cx=\"263\" cy=\"128\" r=\"4.0\" style=\"fill:orange;stroke:black;stroke-width:1.0\"\/>\n",
       "<circle cx=\"413\" cy=\"220\" r=\"4.0\" style=\"fill:blue;stroke:black;stroke-width:1.0\"\/>\n",
       "<circle cx=\"351\" cy=\"242\" r=\"4.0\" style=\"fill:blue;stroke:black;stroke-width:1.0\"\/>\n",
       "<circle cx=\"188\" cy=\"32\" r=\"4.0\" style=\"fill:gold;stroke:black;stroke-width:1.0\"\/>\n",
       "<circle cx=\"339\" cy=\"197\" r=\"4.0\" style=\"fill:orange;stroke:black;stroke-width:1.0\"\/>\n",
       "<circle cx=\"215\" cy=\"41\" r=\"4.0\" style=\"fill:gold;stroke:black;stroke-width:1.0\"\/>\n",
       "<circle cx=\"272\" cy=\"95\" r=\"4.0\" style=\"fill:gold;stroke:black;stroke-width:1.0\"\/>\n",
       "<circle cx=\"208\" cy=\"103\" r=\"4.0\" style=\"fill:gold;stroke:black;stroke-width:1.0\"\/>\n",
       "<circle cx=\"55\" cy=\"299\" r=\"4.0\" style=\"fill:firebrick;stroke:black;stroke-width:1.0\"\/>\n",
       "<circle cx=\"81\" cy=\"258\" r=\"4.0\" style=\"fill:gold;stroke:black;stroke-width:1.0\"\/>\n",
       "<circle cx=\"376\" cy=\"55\" r=\"4.0\" style=\"fill:gold;stroke:black;stroke-width:1.0\"\/>\n",
       "<circle cx=\"323\" cy=\"145\" r=\"4.0\" style=\"fill:orange;stroke:black;stroke-width:1.0\"\/>\n",
       "<circle cx=\"146\" cy=\"164\" r=\"4.0\" style=\"fill:gold;stroke:black;stroke-width:1.0\"\/>\n",
       "<circle cx=\"496\" cy=\"254\" r=\"4.0\" style=\"fill:blue;stroke:black;stroke-width:1.0\"\/>\n",
       "<circle cx=\"65\" cy=\"147\" r=\"4.0\" style=\"fill:gold;stroke:black;stroke-width:1.0\"\/>\n",
       "<circle cx=\"396\" cy=\"237\" r=\"4.0\" style=\"fill:blue;stroke:black;stroke-width:1.0\"\/>\n",
       "<circle cx=\"109\" cy=\"102\" r=\"4.0\" style=\"fill:gold;stroke:black;stroke-width:1.0\"\/>\n",
       "<circle cx=\"375\" cy=\"146\" r=\"4.0\" style=\"fill:gold;stroke:black;stroke-width:1.0\"\/>\n",
       "<circle cx=\"263\" cy=\"36\" r=\"4.0\" style=\"fill:gold;stroke:black;stroke-width:1.0\"\/>\n",
       "<circle cx=\"314\" cy=\"196\" r=\"4.0\" style=\"fill:orange;stroke:black;stroke-width:1.0\"\/>\n",
       "<circle cx=\"72\" cy=\"152\" r=\"4.0\" style=\"fill:gold;stroke:black;stroke-width:1.0\"\/>\n",
       "<circle cx=\"401\" cy=\"83\" r=\"4.0\" style=\"fill:gold;stroke:black;stroke-width:1.0\"\/>\n",
       "<circle cx=\"120\" cy=\"138\" r=\"4.0\" style=\"fill:gold;stroke:black;stroke-width:1.0\"\/>\n",
       "<circle cx=\"435\" cy=\"304\" r=\"4.0\" style=\"fill:blue;stroke:black;stroke-width:1.0\"\/>\n",
       "<circle cx=\"404\" cy=\"265\" r=\"4.0\" style=\"fill:blue;stroke:black;stroke-width:1.0\"\/>\n",
       "<circle cx=\"219\" cy=\"109\" r=\"4.0\" style=\"fill:gold;stroke:black;stroke-width:1.0\"\/>\n",
       "<circle cx=\"390\" cy=\"85\" r=\"4.0\" style=\"fill:gold;stroke:black;stroke-width:1.0\"\/>\n",
       "<circle cx=\"300\" cy=\"205\" r=\"4.0\" style=\"fill:orange;stroke:black;stroke-width:1.0\"\/>\n",
       "<circle cx=\"25\" cy=\"297\" r=\"4.0\" style=\"fill:skyblue;stroke:black;stroke-width:1.0\"\/>\n",
       "<circle cx=\"177\" cy=\"255\" r=\"4.0\" style=\"fill:gold;stroke:black;stroke-width:1.0\"\/>\n",
       "<circle cx=\"69\" cy=\"196\" r=\"4.0\" style=\"fill:gold;stroke:black;stroke-width:1.0\"\/>\n",
       "<circle cx=\"55\" cy=\"309\" r=\"4.0\" style=\"fill:firebrick;stroke:black;stroke-width:1.0\"\/>\n",
       "<circle cx=\"291\" cy=\"183\" r=\"4.0\" style=\"fill:orange;stroke:black;stroke-width:1.0\"\/>\n",
       "<circle cx=\"453\" cy=\"135\" r=\"4.0\" style=\"fill:skyblue;stroke:black;stroke-width:1.0\"\/>\n",
       "<circle cx=\"449\" cy=\"316\" r=\"4.0\" style=\"fill:blue;stroke:black;stroke-width:1.0\"\/>\n",
       "<circle cx=\"297\" cy=\"23\" r=\"4.0\" style=\"fill:gold;stroke:black;stroke-width:1.0\"\/>\n",
       "<circle cx=\"65\" cy=\"135\" r=\"4.0\" style=\"fill:gold;stroke:black;stroke-width:1.0\"\/>\n",
       "<circle cx=\"61\" cy=\"216\" r=\"4.0\" style=\"fill:gold;stroke:black;stroke-width:1.0\"\/>\n",
       "<circle cx=\"41\" cy=\"229\" r=\"4.0\" style=\"fill:gold;stroke:black;stroke-width:1.0\"\/>\n",
       "<circle cx=\"70\" cy=\"281\" r=\"4.0\" style=\"fill:firebrick;stroke:black;stroke-width:1.0\"\/>\n",
       "<circle cx=\"378\" cy=\"231\" r=\"4.0\" style=\"fill:blue;stroke:black;stroke-width:1.0\"\/>\n",
       "<circle cx=\"128\" cy=\"85\" r=\"4.0\" style=\"fill:gold;stroke:black;stroke-width:1.0\"\/>\n",
       "<circle cx=\"302\" cy=\"152\" r=\"4.0\" style=\"fill:orange;stroke:black;stroke-width:1.0\"\/>\n",
       "<circle cx=\"343\" cy=\"179\" r=\"4.0\" style=\"fill:orange;stroke:black;stroke-width:1.0\"\/>\n",
       "<circle cx=\"115\" cy=\"265\" r=\"4.0\" style=\"fill:red;stroke:black;stroke-width:1.0\"\/>\n",
       "<circle cx=\"304\" cy=\"32\" r=\"4.0\" style=\"fill:gold;stroke:black;stroke-width:1.0\"\/>\n",
       "<circle cx=\"130\" cy=\"105\" r=\"4.0\" style=\"fill:gold;stroke:black;stroke-width:1.0\"\/>\n",
       "<circle cx=\"406\" cy=\"187\" r=\"4.0\" style=\"fill:skyblue;stroke:black;stroke-width:1.0\"\/>\n",
       "<circle cx=\"135\" cy=\"80\" r=\"4.0\" style=\"fill:gold;stroke:black;stroke-width:1.0\"\/>\n",
       "<circle cx=\"386\" cy=\"252\" r=\"4.0\" style=\"fill:blue;stroke:black;stroke-width:1.0\"\/>\n",
       "<circle cx=\"369\" cy=\"70\" r=\"4.0\" style=\"fill:gold;stroke:black;stroke-width:1.0\"\/>\n",
       "<circle cx=\"244\" cy=\"162\" r=\"4.0\" style=\"fill:gold;stroke:black;stroke-width:1.0\"\/>\n",
       "<circle cx=\"216\" cy=\"152\" r=\"4.0\" style=\"fill:gold;stroke:black;stroke-width:1.0\"\/>\n",
       "<circle cx=\"334\" cy=\"70\" r=\"4.0\" style=\"fill:gold;stroke:black;stroke-width:1.0\"\/>\n",
       "<circle cx=\"199\" cy=\"107\" r=\"4.0\" style=\"fill:gold;stroke:black;stroke-width:1.0\"\/>\n",
       "<circle cx=\"100\" cy=\"90\" r=\"4.0\" style=\"fill:gold;stroke:black;stroke-width:1.0\"\/>\n",
       "<circle cx=\"393\" cy=\"291\" r=\"4.0\" style=\"fill:blue;stroke:black;stroke-width:1.0\"\/>\n",
       "<circle cx=\"337\" cy=\"42\" r=\"4.0\" style=\"fill:gold;stroke:black;stroke-width:1.0\"\/>\n",
       "<circle cx=\"358\" cy=\"52\" r=\"4.0\" style=\"fill:gold;stroke:black;stroke-width:1.0\"\/>\n",
       "<circle cx=\"311\" cy=\"157\" r=\"4.0\" style=\"fill:orange;stroke:black;stroke-width:1.0\"\/>\n",
       "<circle cx=\"174\" cy=\"297\" r=\"4.0\" style=\"fill:hotpink;stroke:black;stroke-width:1.0\"\/>\n",
       "<circle cx=\"271\" cy=\"36\" r=\"4.0\" style=\"fill:gold;stroke:black;stroke-width:1.0\"\/>\n",
       "<circle cx=\"272\" cy=\"128\" r=\"4.0\" style=\"fill:orange;stroke:black;stroke-width:1.0\"\/>\n",
       "<circle cx=\"354\" cy=\"168\" r=\"4.0\" style=\"fill:orange;stroke:black;stroke-width:1.0\"\/>\n",
       "<circle cx=\"228\" cy=\"131\" r=\"4.0\" style=\"fill:gold;stroke:black;stroke-width:1.0\"\/>\n",
       "<circle cx=\"422\" cy=\"315\" r=\"4.0\" style=\"fill:blue;stroke:black;stroke-width:1.0\"\/>\n",
       "<circle cx=\"184\" cy=\"172\" r=\"4.0\" style=\"fill:gold;stroke:black;stroke-width:1.0\"\/>\n",
       "<circle cx=\"321\" cy=\"36\" r=\"4.0\" style=\"fill:gold;stroke:black;stroke-width:1.0\"\/>\n",
       "<circle cx=\"422\" cy=\"304\" r=\"4.0\" style=\"fill:blue;stroke:black;stroke-width:1.0\"\/>\n",
       "<circle cx=\"94\" cy=\"177\" r=\"4.0\" style=\"fill:gold;stroke:black;stroke-width:1.0\"\/>\n",
       "<circle cx=\"227\" cy=\"98\" r=\"4.0\" style=\"fill:skyblue;stroke:black;stroke-width:1.0\"\/>\n",
       "<circle cx=\"154\" cy=\"309\" r=\"4.0\" style=\"fill:red;stroke:black;stroke-width:1.0\"\/>\n",
       "<circle cx=\"311\" cy=\"43\" r=\"4.0\" style=\"fill:gold;stroke:black;stroke-width:1.0\"\/>\n",
       "<circle cx=\"113\" cy=\"187\" r=\"4.0\" style=\"fill:gold;stroke:black;stroke-width:1.0\"\/>\n",
       "<circle cx=\"329\" cy=\"262\" r=\"4.0\" style=\"fill:blue;stroke:black;stroke-width:1.0\"\/>\n",
       "<circle cx=\"146\" cy=\"299\" r=\"4.0\" style=\"fill:red;stroke:black;stroke-width:1.0\"\/>\n",
       "<circle cx=\"470\" cy=\"181\" r=\"4.0\" style=\"fill:blue;stroke:black;stroke-width:1.0\"\/>\n",
       "<circle cx=\"77\" cy=\"177\" r=\"4.0\" style=\"fill:gold;stroke:black;stroke-width:1.0\"\/>\n",
       "<circle cx=\"336\" cy=\"162\" r=\"4.0\" style=\"fill:orange;stroke:black;stroke-width:1.0\"\/>\n",
       "<circle cx=\"372\" cy=\"299\" r=\"4.0\" style=\"fill:blue;stroke:black;stroke-width:1.0\"\/>\n",
       "<circle cx=\"331\" cy=\"150\" r=\"4.0\" style=\"fill:orange;stroke:black;stroke-width:1.0\"\/>\n",
       "<circle cx=\"409\" cy=\"153\" r=\"4.0\" style=\"fill:skyblue;stroke:black;stroke-width:1.0\"\/>\n",
       "<circle cx=\"369\" cy=\"267\" r=\"4.0\" style=\"fill:blue;stroke:black;stroke-width:1.0\"\/>\n",
       "<circle cx=\"383\" cy=\"241\" r=\"4.0\" style=\"fill:blue;stroke:black;stroke-width:1.0\"\/>\n",
       "<circle cx=\"313\" cy=\"34\" r=\"4.0\" style=\"fill:gold;stroke:black;stroke-width:1.0\"\/>\n",
       "<circle cx=\"466\" cy=\"172\" r=\"4.0\" style=\"fill:blue;stroke:black;stroke-width:1.0\"\/>\n",
       "<circle cx=\"448\" cy=\"127\" r=\"4.0\" style=\"fill:skyblue;stroke:black;stroke-width:1.0\"\/>\n",
       "<circle cx=\"236\" cy=\"146\" r=\"4.0\" style=\"fill:gold;stroke:black;stroke-width:1.0\"\/>\n",
       "<circle cx=\"166\" cy=\"145\" r=\"4.0\" style=\"fill:gold;stroke:black;stroke-width:1.0\"\/>\n",
       "<circle cx=\"97\" cy=\"115\" r=\"4.0\" style=\"fill:gold;stroke:black;stroke-width:1.0\"\/>\n",
       "<circle cx=\"248\" cy=\"36\" r=\"4.0\" style=\"fill:gold;stroke:black;stroke-width:1.0\"\/>\n",
       "<circle cx=\"365\" cy=\"88\" r=\"4.0\" style=\"fill:gold;stroke:black;stroke-width:1.0\"\/>\n",
       "<circle cx=\"256\" cy=\"62\" r=\"4.0\" style=\"fill:gold;stroke:black;stroke-width:1.0\"\/>\n",
       "<circle cx=\"219\" cy=\"58\" r=\"4.0\" style=\"fill:gold;stroke:black;stroke-width:1.0\"\/>\n",
       "<circle cx=\"379\" cy=\"212\" r=\"4.0\" style=\"fill:blue;stroke:black;stroke-width:1.0\"\/>\n",
       "<circle cx=\"161\" cy=\"195\" r=\"4.0\" style=\"fill:gold;stroke:black;stroke-width:1.0\"\/>\n",
       "<circle cx=\"87\" cy=\"159\" r=\"4.0\" style=\"fill:gold;stroke:black;stroke-width:1.0\"\/>\n",
       "<circle cx=\"180\" cy=\"197\" r=\"4.0\" style=\"fill:gold;stroke:black;stroke-width:1.0\"\/>\n",
       "<circle cx=\"358\" cy=\"102\" r=\"4.0\" style=\"fill:gold;stroke:black;stroke-width:1.0\"\/>\n",
       "<circle cx=\"380\" cy=\"99\" r=\"4.0\" style=\"fill:gold;stroke:black;stroke-width:1.0\"\/>\n",
       "<circle cx=\"229\" cy=\"113\" r=\"4.0\" style=\"fill:gold;stroke:black;stroke-width:1.0\"\/>\n",
       "<circle cx=\"161\" cy=\"83\" r=\"4.0\" style=\"fill:gold;stroke:black;stroke-width:1.0\"\/>\n",
       "<circle cx=\"56\" cy=\"234\" r=\"4.0\" style=\"fill:gold;stroke:black;stroke-width:1.0\"\/>\n",
       "<circle cx=\"238\" cy=\"137\" r=\"4.0\" style=\"fill:gold;stroke:black;stroke-width:1.0\"\/>\n",
       "<circle cx=\"329\" cy=\"209\" r=\"4.0\" style=\"fill:orange;stroke:black;stroke-width:1.0\"\/>\n",
       "<circle cx=\"424\" cy=\"177\" r=\"4.0\" style=\"fill:skyblue;stroke:black;stroke-width:1.0\"\/>\n",
       "<circle cx=\"56\" cy=\"185\" r=\"4.0\" style=\"fill:gold;stroke:black;stroke-width:1.0\"\/>\n",
       "<circle cx=\"221\" cy=\"23\" r=\"4.0\" style=\"fill:gold;stroke:black;stroke-width:1.0\"\/>\n",
       "<circle cx=\"283\" cy=\"146\" r=\"4.0\" style=\"fill:orange;stroke:black;stroke-width:1.0\"\/>\n",
       "<circle cx=\"83\" cy=\"304\" r=\"4.0\" style=\"fill:firebrick;stroke:black;stroke-width:1.0\"\/>\n",
       "<circle cx=\"309\" cy=\"211\" r=\"4.0\" style=\"fill:orange;stroke:black;stroke-width:1.0\"\/>\n",
       "<circle cx=\"325\" cy=\"253\" r=\"4.0\" style=\"fill:blue;stroke:black;stroke-width:1.0\"\/>\n",
       "<circle cx=\"263\" cy=\"161\" r=\"4.0\" style=\"fill:orange;stroke:black;stroke-width:1.0\"\/>\n",
       "<circle cx=\"219\" cy=\"134\" r=\"4.0\" style=\"fill:gold;stroke:black;stroke-width:1.0\"\/>\n",
       "<circle cx=\"150\" cy=\"267\" r=\"4.0\" style=\"fill:red;stroke:black;stroke-width:1.0\"\/>\n",
       "<circle cx=\"150\" cy=\"245\" r=\"4.0\" style=\"fill:hotpink;stroke:black;stroke-width:1.0\"\/>\n",
       "<circle cx=\"73\" cy=\"186\" r=\"4.0\" style=\"fill:gold;stroke:black;stroke-width:1.0\"\/>\n",
       "<circle cx=\"178\" cy=\"223\" r=\"4.0\" style=\"fill:hotpink;stroke:black;stroke-width:1.0\"\/>\n",
       "<circle cx=\"361\" cy=\"176\" r=\"4.0\" style=\"fill:orange;stroke:black;stroke-width:1.0\"\/>\n",
       "<circle cx=\"346\" cy=\"232\" r=\"4.0\" style=\"fill:blue;stroke:black;stroke-width:1.0\"\/>\n",
       "<circle cx=\"256\" cy=\"87\" r=\"4.0\" style=\"fill:gold;stroke:black;stroke-width:1.0\"\/>\n",
       "<circle cx=\"438\" cy=\"258\" r=\"4.0\" style=\"fill:blue;stroke:black;stroke-width:1.0\"\/>\n",
       "<circle cx=\"479\" cy=\"309\" r=\"4.0\" style=\"fill:white;stroke:black;stroke-width:1.0\"\/>\n",
       "<circle cx=\"321\" cy=\"182\" r=\"4.0\" style=\"fill:orange;stroke:black;stroke-width:1.0\"\/>\n",
       "<circle cx=\"345\" cy=\"297\" r=\"4.0\" style=\"fill:blue;stroke:black;stroke-width:1.0\"\/>\n",
       "<circle cx=\"363\" cy=\"234\" r=\"4.0\" style=\"fill:blue;stroke:black;stroke-width:1.0\"\/>\n",
       "<circle cx=\"130\" cy=\"217\" r=\"4.0\" style=\"fill:hotpink;stroke:black;stroke-width:1.0\"\/>\n",
       "<circle cx=\"118\" cy=\"294\" r=\"4.0\" style=\"fill:red;stroke:black;stroke-width:1.0\"\/>\n",
       "<circle cx=\"132\" cy=\"252\" r=\"4.0\" style=\"fill:hotpink;stroke:black;stroke-width:1.0\"\/>\n",
       "<circle cx=\"70\" cy=\"239\" r=\"4.0\" style=\"fill:gold;stroke:black;stroke-width:1.0\"\/>\n",
       "<circle cx=\"175\" cy=\"93\" r=\"4.0\" style=\"fill:gold;stroke:black;stroke-width:1.0\"\/>\n",
       "<circle cx=\"98\" cy=\"284\" r=\"4.0\" style=\"fill:firebrick;stroke:black;stroke-width:1.0\"\/>\n",
       "<circle cx=\"167\" cy=\"125\" r=\"4.0\" style=\"fill:gold;stroke:black;stroke-width:1.0\"\/>\n",
       "<circle cx=\"317\" cy=\"63\" r=\"4.0\" style=\"fill:gold;stroke:black;stroke-width:1.0\"\/>\n",
       "<circle cx=\"281\" cy=\"55\" r=\"4.0\" style=\"fill:gold;stroke:black;stroke-width:1.0\"\/>\n",
       "<circle cx=\"206\" cy=\"34\" r=\"4.0\" style=\"fill:gold;stroke:black;stroke-width:1.0\"\/>\n",
       "<circle cx=\"291\" cy=\"131\" r=\"4.0\" style=\"fill:orange;stroke:black;stroke-width:1.0\"\/>\n",
       "<circle cx=\"198\" cy=\"36\" r=\"4.0\" style=\"fill:gold;stroke:black;stroke-width:1.0\"\/>\n",
       "<circle cx=\"163\" cy=\"252\" r=\"4.0\" style=\"fill:hotpink;stroke:black;stroke-width:1.0\"\/>\n",
       "<circle cx=\"373\" cy=\"164\" r=\"4.0\" style=\"fill:skyblue;stroke:black;stroke-width:1.0\"\/>\n",
       "<circle cx=\"457\" cy=\"216\" r=\"4.0\" style=\"fill:blue;stroke:black;stroke-width:1.0\"\/>\n",
       "<circle cx=\"393\" cy=\"301\" r=\"4.0\" style=\"fill:blue;stroke:black;stroke-width:1.0\"\/>\n",
       "<circle cx=\"383\" cy=\"80\" r=\"4.0\" style=\"fill:gold;stroke:black;stroke-width:1.0\"\/>\n",
       "<circle cx=\"295\" cy=\"168\" r=\"4.0\" style=\"fill:orange;stroke:black;stroke-width:1.0\"\/>\n",
       "<circle cx=\"331\" cy=\"32\" r=\"4.0\" style=\"fill:gold;stroke:black;stroke-width:1.0\"\/>\n",
       "<circle cx=\"60\" cy=\"247\" r=\"4.0\" style=\"fill:gold;stroke:black;stroke-width:1.0\"\/>\n",
       "<circle cx=\"479\" cy=\"298\" r=\"4.0\" style=\"fill:white;stroke:black;stroke-width:1.0\"\/>\n",
       "<circle cx=\"398\" cy=\"138\" r=\"4.0\" style=\"fill:skyblue;stroke:black;stroke-width:1.0\"\/>\n",
       "<circle cx=\"228\" cy=\"106\" r=\"4.0\" style=\"fill:gold;stroke:black;stroke-width:1.0\"\/>\n",
       "<circle cx=\"348\" cy=\"274\" r=\"4.0\" style=\"fill:blue;stroke:black;stroke-width:1.0\"\/>\n",
       "<circle cx=\"337\" cy=\"108\" r=\"4.0\" style=\"fill:gold;stroke:black;stroke-width:1.0\"\/>\n",
       "<circle cx=\"355\" cy=\"252\" r=\"4.0\" style=\"fill:blue;stroke:black;stroke-width:1.0\"\/>\n",
       "<circle cx=\"348\" cy=\"133\" r=\"4.0\" style=\"fill:skyblue;stroke:black;stroke-width:1.0\"\/>\n",
       "<circle cx=\"368\" cy=\"138\" r=\"4.0\" style=\"fill:gold;stroke:black;stroke-width:1.0\"\/>\n",
       "<circle cx=\"60\" cy=\"177\" r=\"4.0\" style=\"fill:gold;stroke:black;stroke-width:1.0\"\/>\n",
       "<circle cx=\"182\" cy=\"42\" r=\"4.0\" style=\"fill:gold;stroke:black;stroke-width:1.0\"\/>\n",
       "<circle cx=\"302\" cy=\"225\" r=\"4.0\" style=\"fill:orange;stroke:black;stroke-width:1.0\"\/>\n",
       "<circle cx=\"352\" cy=\"125\" r=\"4.0\" style=\"fill:gold;stroke:black;stroke-width:1.0\"\/>\n",
       "<circle cx=\"329\" cy=\"86\" r=\"4.0\" style=\"fill:gold;stroke:black;stroke-width:1.0\"\/>\n",
       "<circle cx=\"98\" cy=\"102\" r=\"4.0\" style=\"fill:gold;stroke:black;stroke-width:1.0\"\/>\n",
       "<circle cx=\"148\" cy=\"278\" r=\"4.0\" style=\"fill:red;stroke:black;stroke-width:1.0\"\/>\n",
       "<circle cx=\"463\" cy=\"319\" r=\"4.0\" style=\"fill:blue;stroke:black;stroke-width:1.0\"\/>\n",
       "<circle cx=\"110\" cy=\"89\" r=\"4.0\" style=\"fill:gold;stroke:black;stroke-width:1.0\"\/>\n",
       "<circle cx=\"335\" cy=\"172\" r=\"4.0\" style=\"fill:orange;stroke:black;stroke-width:1.0\"\/>\n",
       "<circle cx=\"126\" cy=\"227\" r=\"4.0\" style=\"fill:hotpink;stroke:black;stroke-width:1.0\"\/>\n",
       "<circle cx=\"347\" cy=\"39\" r=\"4.0\" style=\"fill:gold;stroke:black;stroke-width:1.0\"\/>\n",
       "<circle cx=\"255\" cy=\"178\" r=\"4.0\" style=\"fill:gold;stroke:black;stroke-width:1.0\"\/>\n",
       "<circle cx=\"255\" cy=\"128\" r=\"4.0\" style=\"fill:gold;stroke:black;stroke-width:1.0\"\/>\n",
       "<circle cx=\"285\" cy=\"164\" r=\"4.0\" style=\"fill:orange;stroke:black;stroke-width:1.0\"\/>\n",
       "<circle cx=\"368\" cy=\"245\" r=\"4.0\" style=\"fill:blue;stroke:black;stroke-width:1.0\"\/>\n",
       "<circle cx=\"352\" cy=\"145\" r=\"4.0\" style=\"fill:skyblue;stroke:black;stroke-width:1.0\"\/>\n",
       "<circle cx=\"469\" cy=\"203\" r=\"4.0\" style=\"fill:blue;stroke:black;stroke-width:1.0\"\/>\n",
       "<circle cx=\"407\" cy=\"303\" r=\"4.0\" style=\"fill:blue;stroke:black;stroke-width:1.0\"\/>\n",
       "<circle cx=\"97\" cy=\"304\" r=\"4.0\" style=\"fill:firebrick;stroke:black;stroke-width:1.0\"\/>\n",
       "<circle cx=\"111\" cy=\"303\" r=\"4.0\" style=\"fill:red;stroke:black;stroke-width:1.0\"\/>\n",
       "<circle cx=\"188\" cy=\"234\" r=\"4.0\" style=\"fill:hotpink;stroke:black;stroke-width:1.0\"\/>\n",
       "<circle cx=\"223\" cy=\"39\" r=\"4.0\" style=\"fill:gold;stroke:black;stroke-width:1.0\"\/>\n",
       "<circle cx=\"451\" cy=\"160\" r=\"4.0\" style=\"fill:skyblue;stroke:black;stroke-width:1.0\"\/>\n",
       "<circle cx=\"123\" cy=\"257\" r=\"4.0\" style=\"fill:red;stroke:black;stroke-width:1.0\"\/>\n",
       "<circle cx=\"318\" cy=\"219\" r=\"4.0\" style=\"fill:orange;stroke:black;stroke-width:1.0\"\/>\n",
       "<circle cx=\"133\" cy=\"125\" r=\"4.0\" style=\"fill:gold;stroke:black;stroke-width:1.0\"\/>\n",
       "<circle cx=\"423\" cy=\"227\" r=\"4.0\" style=\"fill:blue;stroke:black;stroke-width:1.0\"\/>\n",
       "<circle cx=\"40\" cy=\"288\" r=\"4.0\" style=\"fill:gold;stroke:black;stroke-width:1.0\"\/>\n",
       "<circle cx=\"168\" cy=\"97\" r=\"4.0\" style=\"fill:gold;stroke:black;stroke-width:1.0\"\/>\n",
       "<circle cx=\"393\" cy=\"301\" r=\"4.0\" style=\"fill:blue;stroke:black;stroke-width:1.0\"\/>\n",
       "<circle cx=\"388\" cy=\"105\" r=\"4.0\" style=\"fill:gold;stroke:black;stroke-width:1.0\"\/>\n",
       "<circle cx=\"69\" cy=\"292\" r=\"4.0\" style=\"fill:firebrick;stroke:black;stroke-width:1.0\"\/>\n",
       "<circle cx=\"214\" cy=\"32\" r=\"4.0\" style=\"fill:gold;stroke:black;stroke-width:1.0\"\/>\n",
       "<circle cx=\"382\" cy=\"153\" r=\"4.0\" style=\"fill:gold;stroke:black;stroke-width:1.0\"\/>\n",
       "<circle cx=\"341\" cy=\"223\" r=\"4.0\" style=\"fill:blue;stroke:black;stroke-width:1.0\"\/>\n",
       "<circle cx=\"81\" cy=\"124\" r=\"4.0\" style=\"fill:gold;stroke:black;stroke-width:1.0\"\/>\n",
       "<circle cx=\"446\" cy=\"152\" r=\"4.0\" style=\"fill:skyblue;stroke:black;stroke-width:1.0\"\/>\n",
       "<circle cx=\"415\" cy=\"160\" r=\"4.0\" style=\"fill:skyblue;stroke:black;stroke-width:1.0\"\/>\n",
       "<circle cx=\"440\" cy=\"212\" r=\"4.0\" style=\"fill:blue;stroke:black;stroke-width:1.0\"\/>\n",
       "<circle cx=\"290\" cy=\"57\" r=\"4.0\" style=\"fill:gold;stroke:black;stroke-width:1.0\"\/>\n",
       "<circle cx=\"138\" cy=\"99\" r=\"4.0\" style=\"fill:gold;stroke:black;stroke-width:1.0\"\/>\n",
       "<circle cx=\"184\" cy=\"70\" r=\"4.0\" style=\"fill:gold;stroke:black;stroke-width:1.0\"\/>\n",
       "<circle cx=\"82\" cy=\"137\" r=\"4.0\" style=\"fill:gold;stroke:black;stroke-width:1.0\"\/>\n",
       "<circle cx=\"330\" cy=\"234\" r=\"4.0\" style=\"fill:blue;stroke:black;stroke-width:1.0\"\/>\n",
       "<circle cx=\"208\" cy=\"43\" r=\"4.0\" style=\"fill:gold;stroke:black;stroke-width:1.0\"\/>\n",
       "<circle cx=\"308\" cy=\"61\" r=\"4.0\" style=\"fill:gold;stroke:black;stroke-width:1.0\"\/>\n",
       "<circle cx=\"281\" cy=\"105\" r=\"4.0\" style=\"fill:gold;stroke:black;stroke-width:1.0\"\/>\n",
       "<circle cx=\"39\" cy=\"187\" r=\"4.0\" style=\"fill:gold;stroke:black;stroke-width:1.0\"\/>\n",
       "<circle cx=\"103\" cy=\"206\" r=\"4.0\" style=\"fill:gold;stroke:black;stroke-width:1.0\"\/>\n",
       "<circle cx=\"20\" cy=\"287\" r=\"4.0\" style=\"fill:skyblue;stroke:black;stroke-width:1.0\"\/>\n",
       "<circle cx=\"82\" cy=\"203\" r=\"4.0\" style=\"fill:gold;stroke:black;stroke-width:1.0\"\/>\n",
       "<circle cx=\"178\" cy=\"127\" r=\"4.0\" style=\"fill:gold;stroke:black;stroke-width:1.0\"\/>\n",
       "<circle cx=\"280\" cy=\"20\" r=\"4.0\" style=\"fill:gold;stroke:black;stroke-width:1.0\"\/>\n",
       "<circle cx=\"263\" cy=\"178\" r=\"4.0\" style=\"fill:orange;stroke:black;stroke-width:1.0\"\/>\n",
       "<circle cx=\"431\" cy=\"159\" r=\"4.0\" style=\"fill:skyblue;stroke:black;stroke-width:1.0\"\/>\n",
       "<circle cx=\"337\" cy=\"244\" r=\"4.0\" style=\"fill:blue;stroke:black;stroke-width:1.0\"\/>\n",
       "<circle cx=\"207\" cy=\"175\" r=\"4.0\" style=\"fill:gold;stroke:black;stroke-width:1.0\"\/>\n",
       "<circle cx=\"40\" cy=\"309\" r=\"4.0\" style=\"fill:white;stroke:black;stroke-width:1.0\"\/>\n",
       "<circle cx=\"464\" cy=\"299\" r=\"4.0\" style=\"fill:blue;stroke:black;stroke-width:1.0\"\/>\n",
       "<circle cx=\"200\" cy=\"45\" r=\"4.0\" style=\"fill:gold;stroke:black;stroke-width:1.0\"\/>\n",
       "<circle cx=\"156\" cy=\"65\" r=\"4.0\" style=\"fill:gold;stroke:black;stroke-width:1.0\"\/>\n",
       "<circle cx=\"400\" cy=\"177\" r=\"4.0\" style=\"fill:skyblue;stroke:black;stroke-width:1.0\"\/>\n",
       "<circle cx=\"420\" cy=\"168\" r=\"4.0\" style=\"fill:skyblue;stroke:black;stroke-width:1.0\"\/>\n",
       "<circle cx=\"68\" cy=\"160\" r=\"4.0\" style=\"fill:gold;stroke:black;stroke-width:1.0\"\/>\n",
       "<circle cx=\"28\" cy=\"224\" r=\"4.0\" style=\"fill:gold;stroke:black;stroke-width:1.0\"\/>\n",
       "<circle cx=\"195\" cy=\"145\" r=\"4.0\" style=\"fill:gold;stroke:black;stroke-width:1.0\"\/>\n",
       "<circle cx=\"247\" cy=\"71\" r=\"4.0\" style=\"fill:gold;stroke:black;stroke-width:1.0\"\/>\n",
       "<circle cx=\"466\" cy=\"194\" r=\"4.0\" style=\"fill:blue;stroke:black;stroke-width:1.0\"\/>\n",
       "<circle cx=\"42\" cy=\"199\" r=\"4.0\" style=\"fill:gold;stroke:black;stroke-width:1.0\"\/>\n",
       "<circle cx=\"279\" cy=\"37\" r=\"4.0\" style=\"fill:gold;stroke:black;stroke-width:1.0\"\/>\n",
       "<circle cx=\"411\" cy=\"232\" r=\"4.0\" style=\"fill:blue;stroke:black;stroke-width:1.0\"\/>\n",
       "<circle cx=\"308\" cy=\"112\" r=\"4.0\" style=\"fill:gold;stroke:black;stroke-width:1.0\"\/>\n",
       "<circle cx=\"396\" cy=\"90\" r=\"4.0\" style=\"fill:gold;stroke:black;stroke-width:1.0\"\/>\n",
       "<circle cx=\"159\" cy=\"132\" r=\"4.0\" style=\"fill:gold;stroke:black;stroke-width:1.0\"\/>\n",
       "<circle cx=\"196\" cy=\"202\" r=\"4.0\" style=\"fill:gold;stroke:black;stroke-width:1.0\"\/>\n",
       "<circle cx=\"419\" cy=\"263\" r=\"4.0\" style=\"fill:blue;stroke:black;stroke-width:1.0\"\/>\n",
       "<circle cx=\"322\" cy=\"202\" r=\"4.0\" style=\"fill:orange;stroke:black;stroke-width:1.0\"\/>\n",
       "<circle cx=\"71\" cy=\"127\" r=\"4.0\" style=\"fill:gold;stroke:black;stroke-width:1.0\"\/>\n",
       "<circle cx=\"376\" cy=\"74\" r=\"4.0\" style=\"fill:gold;stroke:black;stroke-width:1.0\"\/>\n",
       "<circle cx=\"57\" cy=\"164\" r=\"4.0\" style=\"fill:gold;stroke:black;stroke-width:1.0\"\/>\n",
       "<circle cx=\"126\" cy=\"291\" r=\"4.0\" style=\"fill:red;stroke:black;stroke-width:1.0\"\/>\n",
       "<circle cx=\"89\" cy=\"185\" r=\"4.0\" style=\"fill:gold;stroke:black;stroke-width:1.0\"\/>\n",
       "<circle cx=\"163\" cy=\"139\" r=\"4.0\" style=\"fill:gold;stroke:black;stroke-width:1.0\"\/>\n",
       "<circle cx=\"140\" cy=\"199\" r=\"4.0\" style=\"fill:hotpink;stroke:black;stroke-width:1.0\"\/>\n",
       "<circle cx=\"136\" cy=\"153\" r=\"4.0\" style=\"fill:gold;stroke:black;stroke-width:1.0\"\/>\n",
       "<circle cx=\"459\" cy=\"247\" r=\"4.0\" style=\"fill:blue;stroke:black;stroke-width:1.0\"\/>\n",
       "<circle cx=\"340\" cy=\"127\" r=\"4.0\" style=\"fill:gold;stroke:black;stroke-width:1.0\"\/>\n",
       "<circle cx=\"93\" cy=\"150\" r=\"4.0\" style=\"fill:gold;stroke:black;stroke-width:1.0\"\/>\n",
       "<circle cx=\"213\" cy=\"190\" r=\"4.0\" style=\"fill:gold;stroke:black;stroke-width:1.0\"\/>\n",
       "<circle cx=\"161\" cy=\"223\" r=\"4.0\" style=\"fill:hotpink;stroke:black;stroke-width:1.0\"\/>\n",
       "<circle cx=\"449\" cy=\"292\" r=\"4.0\" style=\"fill:blue;stroke:black;stroke-width:1.0\"\/>\n",
       "<circle cx=\"295\" cy=\"39\" r=\"4.0\" style=\"fill:gold;stroke:black;stroke-width:1.0\"\/>\n",
       "<circle cx=\"99\" cy=\"216\" r=\"4.0\" style=\"fill:gold;stroke:black;stroke-width:1.0\"\/>\n",
       "<circle cx=\"150\" cy=\"50\" r=\"4.0\" style=\"fill:gold;stroke:black;stroke-width:1.0\"\/>\n",
       "<circle cx=\"66\" cy=\"260\" r=\"4.0\" style=\"fill:gold;stroke:black;stroke-width:1.0\"\/>\n",
       "<circle cx=\"148\" cy=\"152\" r=\"4.0\" style=\"fill:gold;stroke:black;stroke-width:1.0\"\/>\n",
       "<circle cx=\"372\" cy=\"288\" r=\"4.0\" style=\"fill:blue;stroke:black;stroke-width:1.0\"\/>\n",
       "<circle cx=\"231\" cy=\"28\" r=\"4.0\" style=\"fill:gold;stroke:black;stroke-width:1.0\"\/>\n",
       "<circle cx=\"323\" cy=\"265\" r=\"4.0\" style=\"fill:blue;stroke:black;stroke-width:1.0\"\/>\n",
       "<circle cx=\"58\" cy=\"258\" r=\"4.0\" style=\"fill:gold;stroke:black;stroke-width:1.0\"\/>\n",
       "<circle cx=\"234\" cy=\"164\" r=\"4.0\" style=\"fill:gold;stroke:black;stroke-width:1.0\"\/>\n",
       "<circle cx=\"139\" cy=\"119\" r=\"4.0\" style=\"fill:gold;stroke:black;stroke-width:1.0\"\/>\n",
       "<circle cx=\"436\" cy=\"168\" r=\"4.0\" style=\"fill:skyblue;stroke:black;stroke-width:1.0\"\/>\n",
       "<circle cx=\"246\" cy=\"128\" r=\"4.0\" style=\"fill:gold;stroke:black;stroke-width:1.0\"\/>\n",
       "<circle cx=\"435\" cy=\"293\" r=\"4.0\" style=\"fill:blue;stroke:black;stroke-width:1.0\"\/>\n",
       "<circle cx=\"451\" cy=\"250\" r=\"4.0\" style=\"fill:blue;stroke:black;stroke-width:1.0\"\/>\n",
       "<circle cx=\"157\" cy=\"176\" r=\"4.0\" style=\"fill:gold;stroke:black;stroke-width:1.0\"\/>\n",
       "<circle cx=\"383\" cy=\"262\" r=\"4.0\" style=\"fill:blue;stroke:black;stroke-width:1.0\"\/>\n",
       "<circle cx=\"116\" cy=\"119\" r=\"4.0\" style=\"fill:gold;stroke:black;stroke-width:1.0\"\/>\n",
       "<circle cx=\"494\" cy=\"307\" r=\"4.0\" style=\"fill:white;stroke:black;stroke-width:1.0\"\/>\n",
       "<circle cx=\"182\" cy=\"244\" r=\"4.0\" style=\"fill:red;stroke:black;stroke-width:1.0\"\/>\n",
       "<circle cx=\"490\" cy=\"224\" r=\"4.0\" style=\"fill:blue;stroke:black;stroke-width:1.0\"\/>\n",
       "<circle cx=\"256\" cy=\"70\" r=\"4.0\" style=\"fill:gold;stroke:black;stroke-width:1.0\"\/>\n",
       "<circle cx=\"103\" cy=\"109\" r=\"4.0\" style=\"fill:gold;stroke:black;stroke-width:1.0\"\/>\n",
       "<circle cx=\"437\" cy=\"137\" r=\"4.0\" style=\"fill:skyblue;stroke:black;stroke-width:1.0\"\/>\n",
       "<circle cx=\"343\" cy=\"120\" r=\"4.0\" style=\"fill:gold;stroke:black;stroke-width:1.0\"\/>\n",
       "<circle cx=\"263\" cy=\"87\" r=\"4.0\" style=\"fill:gold;stroke:black;stroke-width:1.0\"\/>\n",
       "<circle cx=\"140\" cy=\"212\" r=\"4.0\" style=\"fill:skyblue;stroke:black;stroke-width:1.0\"\/>\n",
       "<circle cx=\"237\" cy=\"105\" r=\"4.0\" style=\"fill:gold;stroke:black;stroke-width:1.0\"\/>\n",
       "<circle cx=\"334\" cy=\"51\" r=\"4.0\" style=\"fill:gold;stroke:black;stroke-width:1.0\"\/>\n",
       "<circle cx=\"434\" cy=\"283\" r=\"4.0\" style=\"fill:blue;stroke:black;stroke-width:1.0\"\/>\n",
       "<circle cx=\"344\" cy=\"286\" r=\"4.0\" style=\"fill:blue;stroke:black;stroke-width:1.0\"\/>\n",
       "<circle cx=\"282\" cy=\"180\" r=\"4.0\" style=\"fill:orange;stroke:black;stroke-width:1.0\"\/>\n",
       "<circle cx=\"100\" cy=\"263\" r=\"4.0\" style=\"fill:gold;stroke:black;stroke-width:1.0\"\/>\n",
       "<circle cx=\"226\" cy=\"149\" r=\"4.0\" style=\"fill:gold;stroke:black;stroke-width:1.0\"\/>\n",
       "<circle cx=\"184\" cy=\"51\" r=\"4.0\" style=\"fill:gold;stroke:black;stroke-width:1.0\"\/>\n",
       "<circle cx=\"153\" cy=\"107\" r=\"4.0\" style=\"fill:gold;stroke:black;stroke-width:1.0\"\/>\n",
       "<circle cx=\"55\" cy=\"279\" r=\"4.0\" style=\"fill:firebrick;stroke:black;stroke-width:1.0\"\/>\n",
       "<circle cx=\"462\" cy=\"185\" r=\"4.0\" style=\"fill:blue;stroke:black;stroke-width:1.0\"\/>\n",
       "<circle cx=\"472\" cy=\"211\" r=\"4.0\" style=\"fill:blue;stroke:black;stroke-width:1.0\"\/>\n",
       "<circle cx=\"351\" cy=\"97\" r=\"4.0\" style=\"fill:gold;stroke:black;stroke-width:1.0\"\/>\n",
       "<circle cx=\"282\" cy=\"96\" r=\"4.0\" style=\"fill:gold;stroke:black;stroke-width:1.0\"\/>\n",
       "<circle cx=\"119\" cy=\"192\" r=\"4.0\" style=\"fill:hotpink;stroke:black;stroke-width:1.0\"\/>\n",
       "<circle cx=\"119\" cy=\"204\" r=\"4.0\" style=\"fill:gold;stroke:black;stroke-width:1.0\"\/>\n",
       "<circle cx=\"420\" cy=\"216\" r=\"4.0\" style=\"fill:blue;stroke:black;stroke-width:1.0\"\/>\n",
       "<circle cx=\"350\" cy=\"186\" r=\"4.0\" style=\"fill:orange;stroke:black;stroke-width:1.0\"\/>\n",
       "<circle cx=\"311\" cy=\"175\" r=\"4.0\" style=\"fill:orange;stroke:black;stroke-width:1.0\"\/>\n",
       "<circle cx=\"172\" cy=\"84\" r=\"4.0\" style=\"fill:gold;stroke:black;stroke-width:1.0\"\/>\n",
       "<circle cx=\"271\" cy=\"20\" r=\"4.0\" style=\"fill:gold;stroke:black;stroke-width:1.0\"\/>\n",
       "<circle cx=\"431\" cy=\"104\" r=\"4.0\" style=\"fill:skyblue;stroke:black;stroke-width:1.0\"\/>\n",
       "<circle cx=\"409\" cy=\"210\" r=\"4.0\" style=\"fill:blue;stroke:black;stroke-width:1.0\"\/>\n",
       "<circle cx=\"63\" cy=\"169\" r=\"4.0\" style=\"fill:gold;stroke:black;stroke-width:1.0\"\/>\n",
       "<circle cx=\"182\" cy=\"162\" r=\"4.0\" style=\"fill:gold;stroke:black;stroke-width:1.0\"\/>\n",
       "<circle cx=\"256\" cy=\"36\" r=\"4.0\" style=\"fill:gold;stroke:black;stroke-width:1.0\"\/>\n",
       "<circle cx=\"374\" cy=\"220\" r=\"4.0\" style=\"fill:blue;stroke:black;stroke-width:1.0\"\/>\n",
       "<circle cx=\"442\" cy=\"145\" r=\"4.0\" style=\"fill:skyblue;stroke:black;stroke-width:1.0\"\/>\n",
       "<circle cx=\"305\" cy=\"77\" r=\"4.0\" style=\"fill:gold;stroke:black;stroke-width:1.0\"\/>\n",
       "<circle cx=\"299\" cy=\"109\" r=\"4.0\" style=\"fill:gold;stroke:black;stroke-width:1.0\"\/>\n",
       "<circle cx=\"142\" cy=\"74\" r=\"4.0\" style=\"fill:gold;stroke:black;stroke-width:1.0\"\/>\n",
       "<circle cx=\"55\" cy=\"289\" r=\"4.0\" style=\"fill:firebrick;stroke:black;stroke-width:1.0\"\/>\n",
       "<circle cx=\"55\" cy=\"319\" r=\"4.0\" style=\"fill:firebrick;stroke:black;stroke-width:1.0\"\/>\n",
       "<\/svg>"
      ]
     },
     "metadata":{
      
     },
     "output_type":"display_data"
    }
   ],
   "metadata":{
    "datalore":{
     "type":"CODE",
     "hide_input_from_viewers":false,
     "hide_output_from_viewers":false,
     "node_id":"FxJgVtKMAYymQgksuFtBGL"
    }
   }
  },
  {
   "cell_type":"code",
   "source":[
    "labels_majority = [6,7]"
   ],
   "execution_count":179,
   "outputs":[
    
   ],
   "metadata":{
    "datalore":{
     "type":"CODE",
     "hide_input_from_viewers":false,
     "hide_output_from_viewers":false,
     "node_id":"NO18TjLW9w9uRdigJrpNa2"
    }
   }
  },
  {
   "cell_type":"code",
   "source":[
    "print(names_labels[labels_majority])"
   ],
   "execution_count":180,
   "outputs":[
    {
     "name":"stdout",
     "text":[
      "['Mouvement Démocrate et apparentés' 'La République en Marche']\n"
     ],
     "output_type":"stream"
    }
   ],
   "metadata":{
    "datalore":{
     "type":"CODE",
     "hide_input_from_viewers":false,
     "hide_output_from_viewers":false,
     "node_id":"YAd8SaJnfOiEOdRjT0EhDF"
    }
   }
  },
  {
   "cell_type":"code",
   "source":[
    "# majority\n",
    "majority = np.isin(labels, labels_majority)\n",
    "np.sum(majority)"
   ],
   "execution_count":181,
   "outputs":[
    {
     "data":{
      "text\/plain":[
       "356"
      ]
     },
     "metadata":{
      
     },
     "output_type":"display_data"
    }
   ],
   "metadata":{
    "datalore":{
     "type":"CODE",
     "hide_input_from_viewers":false,
     "hide_output_from_viewers":false,
     "node_id":"CPrL8zQYZtFNl6xHeyHG4O"
    }
   }
  },
  {
   "cell_type":"code",
   "source":[
    "# opposition\n",
    "opposition = ~np.isin(labels, labels_majority)\n",
    "len(opposition)"
   ],
   "execution_count":182,
   "outputs":[
    {
     "data":{
      "text\/plain":[
       "577"
      ]
     },
     "metadata":{
      
     },
     "output_type":"display_data"
    }
   ],
   "metadata":{
    "datalore":{
     "type":"CODE",
     "hide_input_from_viewers":false,
     "hide_output_from_viewers":false,
     "node_id":"4AqcKMSTN7jWsY2dwpJBDu"
    }
   }
  },
  {
   "cell_type":"markdown",
   "source":[
    "## VOTES"
   ],
   "attachments":{
    
   },
   "metadata":{
    "datalore":{
     "type":"MD",
     "hide_input_from_viewers":false,
     "hide_output_from_viewers":false,
     "node_id":"73dyqIlrIPbjh1fVWCExOc"
    }
   }
  },
  {
   "cell_type":"code",
   "source":[
    "biadjacency_for = biadjacency > 0\n",
    "biadjacency_against = (-biadjacency > 0)"
   ],
   "execution_count":183,
   "outputs":[
    
   ],
   "metadata":{
    "datalore":{
     "type":"CODE",
     "hide_input_from_viewers":false,
     "hide_output_from_viewers":false,
     "node_id":"wFW4coXsInjK5whpiP5aQ4"
    }
   }
  },
  {
   "cell_type":"code",
   "source":[
    "biadjacency_for"
   ],
   "execution_count":184,
   "outputs":[
    {
     "data":{
      "text\/plain":[
       "<577x2807 sparse matrix of type '<class 'numpy.bool_'>'\n",
       "\twith 119901 stored elements in Compressed Sparse Row format>"
      ]
     },
     "metadata":{
      
     },
     "output_type":"display_data"
    }
   ],
   "metadata":{
    "datalore":{
     "type":"CODE",
     "hide_input_from_viewers":false,
     "hide_output_from_viewers":false,
     "node_id":"tJnkoSQGfq2nSnzeijZSqw"
    }
   }
  },
  {
   "cell_type":"code",
   "source":[
    "bills_for = biadjacency_for.T.dot(np.ones(n_deputy))\n",
    "bills_against = biadjacency_against.T.dot(np.ones(n_deputy))\n",
    "bills_total = bills_for + bills_against"
   ],
   "execution_count":185,
   "outputs":[
    
   ],
   "metadata":{
    "datalore":{
     "type":"CODE",
     "hide_input_from_viewers":false,
     "hide_output_from_viewers":false,
     "node_id":"PDHa8yiCJPOp123zP3w1pQ"
    }
   }
  },
  {
   "cell_type":"code",
   "source":[
    "print('Average participation = ', np.round(np.sum(bills_total) \/ n_bill \/ n_deputy, 2))"
   ],
   "execution_count":186,
   "outputs":[
    {
     "name":"stdout",
     "text":[
      "Average participation =  0.17\n"
     ],
     "output_type":"stream"
    }
   ],
   "metadata":{
    "datalore":{
     "type":"CODE",
     "hide_input_from_viewers":false,
     "hide_output_from_viewers":false,
     "node_id":"co45ZKExasbQyy4AIVFVbf"
    }
   }
  },
  {
   "cell_type":"markdown",
   "source":[
    "## CLUSTERING"
   ],
   "attachments":{
    
   },
   "metadata":{
    "datalore":{
     "type":"MD",
     "hide_input_from_viewers":false,
     "hide_output_from_viewers":false,
     "node_id":"cthHlKqALiD0Zykz9o4Tgs"
    }
   }
  },
  {
   "cell_type":"code",
   "source":[
    "louvain = Louvain()"
   ],
   "execution_count":187,
   "outputs":[
    
   ],
   "metadata":{
    "datalore":{
     "type":"CODE",
     "hide_input_from_viewers":false,
     "hide_output_from_viewers":false,
     "node_id":"54U0LBg0hP9oQfozxoq01z"
    }
   }
  },
  {
   "cell_type":"code",
   "source":[
    "labels_pred = louvain.fit_transform(biadjacency_for)"
   ],
   "execution_count":188,
   "outputs":[
    
   ],
   "metadata":{
    "datalore":{
     "type":"CODE",
     "hide_input_from_viewers":false,
     "hide_output_from_viewers":false,
     "node_id":"im1Mu9HxqwfhTSpnTZEiDh"
    }
   }
  },
  {
   "cell_type":"code",
   "source":[
    "np.unique(labels_pred, return_counts=True)"
   ],
   "execution_count":189,
   "outputs":[
    {
     "data":{
      "text\/plain":[
       "(array([0, 1, 2]), array([213, 363,   1]))"
      ]
     },
     "metadata":{
      
     },
     "output_type":"display_data"
    }
   ],
   "metadata":{
    "datalore":{
     "type":"CODE",
     "hide_input_from_viewers":false,
     "hide_output_from_viewers":false,
     "node_id":"5lZUtnQSm1Skxuuy2hQfmn"
    }
   }
  },
  {
   "cell_type":"code",
   "source":[
    "labels_pred_majority, counts_majority = np.unique(labels_pred[majority], return_counts=True)"
   ],
   "execution_count":190,
   "outputs":[
    
   ],
   "metadata":{
    "datalore":{
     "type":"CODE",
     "hide_input_from_viewers":false,
     "hide_output_from_viewers":false,
     "node_id":"upM8ZNBtAua77E6Zv5DiOX"
    }
   }
  },
  {
   "cell_type":"code",
   "source":[
    "label_pred_majority = labels_pred_majority[np.argmax(counts_majority)]"
   ],
   "execution_count":191,
   "outputs":[
    
   ],
   "metadata":{
    "datalore":{
     "type":"CODE",
     "hide_input_from_viewers":false,
     "hide_output_from_viewers":false,
     "node_id":"4mUN8iaReyd3NXdVGFJP7U"
    }
   }
  },
  {
   "cell_type":"code",
   "source":[
    "image = svg_graph(position=position, labels=labels_pred, node_size=node_size, width=width, height=height, label_colors=['red','blue', 'lightgrey'])\n",
    "SVG(image)"
   ],
   "execution_count":192,
   "outputs":[
    {
     "data":{
      "image\/svg+xml":[
       "<svg xmlns=\"http:\/\/www.w3.org\/2000\/svg\" width=\"520\" height=\"340\">\n",
       "<circle cx=\"239\" cy=\"37\" r=\"4.0\" style=\"fill:blue;stroke:black;stroke-width:1.0\"\/>\n",
       "<circle cx=\"146\" cy=\"191\" r=\"4.0\" style=\"fill:red;stroke:black;stroke-width:1.0\"\/>\n",
       "<circle cx=\"399\" cy=\"192\" r=\"4.0\" style=\"fill:red;stroke:black;stroke-width:1.0\"\/>\n",
       "<circle cx=\"49\" cy=\"203\" r=\"4.0\" style=\"fill:blue;stroke:black;stroke-width:1.0\"\/>\n",
       "<circle cx=\"69\" cy=\"316\" r=\"4.0\" style=\"fill:red;stroke:black;stroke-width:1.0\"\/>\n",
       "<circle cx=\"181\" cy=\"108\" r=\"4.0\" style=\"fill:blue;stroke:black;stroke-width:1.0\"\/>\n",
       "<circle cx=\"342\" cy=\"54\" r=\"4.0\" style=\"fill:blue;stroke:black;stroke-width:1.0\"\/>\n",
       "<circle cx=\"126\" cy=\"301\" r=\"4.0\" style=\"fill:red;stroke:black;stroke-width:1.0\"\/>\n",
       "<circle cx=\"87\" cy=\"130\" r=\"4.0\" style=\"fill:blue;stroke:black;stroke-width:1.0\"\/>\n",
       "<circle cx=\"68\" cy=\"250\" r=\"4.0\" style=\"fill:blue;stroke:black;stroke-width:1.0\"\/>\n",
       "<circle cx=\"246\" cy=\"55\" r=\"4.0\" style=\"fill:blue;stroke:black;stroke-width:1.0\"\/>\n",
       "<circle cx=\"395\" cy=\"77\" r=\"4.0\" style=\"fill:blue;stroke:black;stroke-width:1.0\"\/>\n",
       "<circle cx=\"363\" cy=\"145\" r=\"4.0\" style=\"fill:blue;stroke:black;stroke-width:1.0\"\/>\n",
       "<circle cx=\"493\" cy=\"297\" r=\"4.0\" style=\"fill:red;stroke:black;stroke-width:1.0\"\/>\n",
       "<circle cx=\"482\" cy=\"254\" r=\"4.0\" style=\"fill:red;stroke:black;stroke-width:1.0\"\/>\n",
       "<circle cx=\"415\" cy=\"206\" r=\"4.0\" style=\"fill:red;stroke:black;stroke-width:1.0\"\/>\n",
       "<circle cx=\"201\" cy=\"63\" r=\"4.0\" style=\"fill:blue;stroke:black;stroke-width:1.0\"\/>\n",
       "<circle cx=\"160\" cy=\"102\" r=\"4.0\" style=\"fill:blue;stroke:black;stroke-width:1.0\"\/>\n",
       "<circle cx=\"52\" cy=\"194\" r=\"4.0\" style=\"fill:blue;stroke:black;stroke-width:1.0\"\/>\n",
       "<circle cx=\"379\" cy=\"119\" r=\"4.0\" style=\"fill:blue;stroke:black;stroke-width:1.0\"\/>\n",
       "<circle cx=\"313\" cy=\"79\" r=\"4.0\" style=\"fill:blue;stroke:black;stroke-width:1.0\"\/>\n",
       "<circle cx=\"189\" cy=\"209\" r=\"4.0\" style=\"fill:blue;stroke:black;stroke-width:1.0\"\/>\n",
       "<circle cx=\"479\" cy=\"288\" r=\"4.0\" style=\"fill:red;stroke:black;stroke-width:1.0\"\/>\n",
       "<circle cx=\"161\" cy=\"284\" r=\"4.0\" style=\"fill:red;stroke:black;stroke-width:1.0\"\/>\n",
       "<circle cx=\"95\" cy=\"227\" r=\"4.0\" style=\"fill:blue;stroke:black;stroke-width:1.0\"\/>\n",
       "<circle cx=\"153\" cy=\"88\" r=\"4.0\" style=\"fill:blue;stroke:black;stroke-width:1.0\"\/>\n",
       "<circle cx=\"210\" cy=\"61\" r=\"4.0\" style=\"fill:blue;stroke:black;stroke-width:1.0\"\/>\n",
       "<circle cx=\"420\" cy=\"102\" r=\"4.0\" style=\"fill:red;stroke:black;stroke-width:1.0\"\/>\n",
       "<circle cx=\"416\" cy=\"250\" r=\"4.0\" style=\"fill:red;stroke:black;stroke-width:1.0\"\/>\n",
       "<circle cx=\"461\" cy=\"258\" r=\"4.0\" style=\"fill:red;stroke:black;stroke-width:1.0\"\/>\n",
       "<circle cx=\"255\" cy=\"161\" r=\"4.0\" style=\"fill:blue;stroke:black;stroke-width:1.0\"\/>\n",
       "<circle cx=\"415\" cy=\"147\" r=\"4.0\" style=\"fill:red;stroke:black;stroke-width:1.0\"\/>\n",
       "<circle cx=\"452\" cy=\"260\" r=\"4.0\" style=\"fill:red;stroke:black;stroke-width:1.0\"\/>\n",
       "<circle cx=\"149\" cy=\"70\" r=\"4.0\" style=\"fill:blue;stroke:black;stroke-width:1.0\"\/>\n",
       "<circle cx=\"56\" cy=\"151\" r=\"4.0\" style=\"fill:blue;stroke:black;stroke-width:1.0\"\/>\n",
       "<circle cx=\"399\" cy=\"204\" r=\"4.0\" style=\"fill:red;stroke:black;stroke-width:1.0\"\/>\n",
       "<circle cx=\"160\" cy=\"296\" r=\"4.0\" style=\"fill:red;stroke:black;stroke-width:1.0\"\/>\n",
       "<circle cx=\"401\" cy=\"294\" r=\"4.0\" style=\"fill:red;stroke:black;stroke-width:1.0\"\/>\n",
       "<circle cx=\"171\" cy=\"162\" r=\"4.0\" style=\"fill:blue;stroke:black;stroke-width:1.0\"\/>\n",
       "<circle cx=\"192\" cy=\"165\" r=\"4.0\" style=\"fill:blue;stroke:black;stroke-width:1.0\"\/>\n",
       "<circle cx=\"477\" cy=\"229\" r=\"4.0\" style=\"fill:red;stroke:black;stroke-width:1.0\"\/>\n",
       "<circle cx=\"175\" cy=\"120\" r=\"4.0\" style=\"fill:blue;stroke:black;stroke-width:1.0\"\/>\n",
       "<circle cx=\"272\" cy=\"104\" r=\"4.0\" style=\"fill:blue;stroke:black;stroke-width:1.0\"\/>\n",
       "<circle cx=\"365\" cy=\"309\" r=\"4.0\" style=\"fill:red;stroke:black;stroke-width:1.0\"\/>\n",
       "<circle cx=\"437\" cy=\"203\" r=\"4.0\" style=\"fill:red;stroke:black;stroke-width:1.0\"\/>\n",
       "<circle cx=\"429\" cy=\"246\" r=\"4.0\" style=\"fill:red;stroke:black;stroke-width:1.0\"\/>\n",
       "<circle cx=\"160\" cy=\"52\" r=\"4.0\" style=\"fill:blue;stroke:black;stroke-width:1.0\"\/>\n",
       "<circle cx=\"145\" cy=\"220\" r=\"4.0\" style=\"fill:red;stroke:black;stroke-width:1.0\"\/>\n",
       "<circle cx=\"84\" cy=\"293\" r=\"4.0\" style=\"fill:red;stroke:black;stroke-width:1.0\"\/>\n",
       "<circle cx=\"450\" cy=\"196\" r=\"4.0\" style=\"fill:red;stroke:black;stroke-width:1.0\"\/>\n",
       "<circle cx=\"99\" cy=\"168\" r=\"4.0\" style=\"fill:blue;stroke:black;stroke-width:1.0\"\/>\n",
       "<circle cx=\"217\" cy=\"100\" r=\"4.0\" style=\"fill:blue;stroke:black;stroke-width:1.0\"\/>\n",
       "<circle cx=\"117\" cy=\"83\" r=\"4.0\" style=\"fill:blue;stroke:black;stroke-width:1.0\"\/>\n",
       "<circle cx=\"97\" cy=\"315\" r=\"4.0\" style=\"fill:red;stroke:black;stroke-width:1.0\"\/>\n",
       "<circle cx=\"146\" cy=\"113\" r=\"4.0\" style=\"fill:red;stroke:black;stroke-width:1.0\"\/>\n",
       "<circle cx=\"378\" cy=\"199\" r=\"4.0\" style=\"fill:red;stroke:black;stroke-width:1.0\"\/>\n",
       "<circle cx=\"463\" cy=\"151\" r=\"4.0\" style=\"fill:red;stroke:black;stroke-width:1.0\"\/>\n",
       "<circle cx=\"299\" cy=\"58\" r=\"4.0\" style=\"fill:blue;stroke:black;stroke-width:1.0\"\/>\n",
       "<circle cx=\"228\" cy=\"57\" r=\"4.0\" style=\"fill:blue;stroke:black;stroke-width:1.0\"\/>\n",
       "<circle cx=\"372\" cy=\"113\" r=\"4.0\" style=\"fill:blue;stroke:black;stroke-width:1.0\"\/>\n",
       "<circle cx=\"127\" cy=\"280\" r=\"4.0\" style=\"fill:red;stroke:black;stroke-width:1.0\"\/>\n",
       "<circle cx=\"213\" cy=\"77\" r=\"4.0\" style=\"fill:blue;stroke:black;stroke-width:1.0\"\/>\n",
       "<circle cx=\"319\" cy=\"45\" r=\"4.0\" style=\"fill:blue;stroke:black;stroke-width:1.0\"\/>\n",
       "<circle cx=\"78\" cy=\"212\" r=\"4.0\" style=\"fill:blue;stroke:black;stroke-width:1.0\"\/>\n",
       "<circle cx=\"342\" cy=\"255\" r=\"4.0\" style=\"fill:red;stroke:black;stroke-width:1.0\"\/>\n",
       "<circle cx=\"207\" cy=\"157\" r=\"4.0\" style=\"fill:blue;stroke:black;stroke-width:1.0\"\/>\n",
       "<circle cx=\"388\" cy=\"217\" r=\"4.0\" style=\"fill:red;stroke:black;stroke-width:1.0\"\/>\n",
       "<circle cx=\"256\" cy=\"26\" r=\"4.0\" style=\"fill:blue;stroke:black;stroke-width:1.0\"\/>\n",
       "<circle cx=\"357\" cy=\"284\" r=\"4.0\" style=\"fill:blue;stroke:black;stroke-width:1.0\"\/>\n",
       "<circle cx=\"82\" cy=\"168\" r=\"4.0\" style=\"fill:blue;stroke:black;stroke-width:1.0\"\/>\n",
       "<circle cx=\"462\" cy=\"234\" r=\"4.0\" style=\"fill:red;stroke:black;stroke-width:1.0\"\/>\n",
       "<circle cx=\"310\" cy=\"103\" r=\"4.0\" style=\"fill:blue;stroke:black;stroke-width:1.0\"\/>\n",
       "<circle cx=\"392\" cy=\"132\" r=\"4.0\" style=\"fill:blue;stroke:black;stroke-width:1.0\"\/>\n",
       "<circle cx=\"409\" cy=\"102\" r=\"4.0\" style=\"fill:red;stroke:black;stroke-width:1.0\"\/>\n",
       "<circle cx=\"429\" cy=\"185\" r=\"4.0\" style=\"fill:red;stroke:black;stroke-width:1.0\"\/>\n",
       "<circle cx=\"292\" cy=\"98\" r=\"4.0\" style=\"fill:blue;stroke:black;stroke-width:1.0\"\/>\n",
       "<circle cx=\"103\" cy=\"147\" r=\"4.0\" style=\"fill:blue;stroke:black;stroke-width:1.0\"\/>\n",
       "<circle cx=\"351\" cy=\"212\" r=\"4.0\" style=\"fill:blue;stroke:black;stroke-width:1.0\"\/>\n",
       "<circle cx=\"263\" cy=\"62\" r=\"4.0\" style=\"fill:blue;stroke:black;stroke-width:1.0\"\/>\n",
       "<circle cx=\"187\" cy=\"150\" r=\"4.0\" style=\"fill:blue;stroke:black;stroke-width:1.0\"\/>\n",
       "<circle cx=\"49\" cy=\"181\" r=\"4.0\" style=\"fill:blue;stroke:black;stroke-width:1.0\"\/>\n",
       "<circle cx=\"435\" cy=\"315\" r=\"4.0\" style=\"fill:red;stroke:black;stroke-width:1.0\"\/>\n",
       "<circle cx=\"356\" cy=\"139\" r=\"4.0\" style=\"fill:red;stroke:black;stroke-width:1.0\"\/>\n",
       "<circle cx=\"39\" cy=\"298\" r=\"4.0\" style=\"fill:red;stroke:black;stroke-width:1.0\"\/>\n",
       "<circle cx=\"84\" cy=\"283\" r=\"4.0\" style=\"fill:red;stroke:black;stroke-width:1.0\"\/>\n",
       "<circle cx=\"172\" cy=\"232\" r=\"4.0\" style=\"fill:red;stroke:black;stroke-width:1.0\"\/>\n",
       "<circle cx=\"289\" cy=\"113\" r=\"4.0\" style=\"fill:blue;stroke:black;stroke-width:1.0\"\/>\n",
       "<circle cx=\"380\" cy=\"66\" r=\"4.0\" style=\"fill:blue;stroke:black;stroke-width:1.0\"\/>\n",
       "<circle cx=\"326\" cy=\"48\" r=\"4.0\" style=\"fill:blue;stroke:black;stroke-width:1.0\"\/>\n",
       "<circle cx=\"446\" cy=\"186\" r=\"4.0\" style=\"fill:red;stroke:black;stroke-width:1.0\"\/>\n",
       "<circle cx=\"287\" cy=\"38\" r=\"4.0\" style=\"fill:blue;stroke:black;stroke-width:1.0\"\/>\n",
       "<circle cx=\"205\" cy=\"79\" r=\"4.0\" style=\"fill:blue;stroke:black;stroke-width:1.0\"\/>\n",
       "<circle cx=\"126\" cy=\"132\" r=\"4.0\" style=\"fill:blue;stroke:black;stroke-width:1.0\"\/>\n",
       "<circle cx=\"441\" cy=\"177\" r=\"4.0\" style=\"fill:red;stroke:black;stroke-width:1.0\"\/>\n",
       "<circle cx=\"453\" cy=\"206\" r=\"4.0\" style=\"fill:red;stroke:black;stroke-width:1.0\"\/>\n",
       "<circle cx=\"109\" cy=\"210\" r=\"4.0\" style=\"fill:red;stroke:black;stroke-width:1.0\"\/>\n",
       "<circle cx=\"142\" cy=\"55\" r=\"4.0\" style=\"fill:blue;stroke:black;stroke-width:1.0\"\/>\n",
       "<circle cx=\"167\" cy=\"242\" r=\"4.0\" style=\"fill:red;stroke:black;stroke-width:1.0\"\/>\n",
       "<circle cx=\"170\" cy=\"133\" r=\"4.0\" style=\"fill:blue;stroke:black;stroke-width:1.0\"\/>\n",
       "<circle cx=\"37\" cy=\"254\" r=\"4.0\" style=\"fill:blue;stroke:black;stroke-width:1.0\"\/>\n",
       "<circle cx=\"163\" cy=\"61\" r=\"4.0\" style=\"fill:blue;stroke:black;stroke-width:1.0\"\/>\n",
       "<circle cx=\"197\" cy=\"82\" r=\"4.0\" style=\"fill:blue;stroke:black;stroke-width:1.0\"\/>\n",
       "<circle cx=\"415\" cy=\"109\" r=\"4.0\" style=\"fill:blue;stroke:black;stroke-width:1.0\"\/>\n",
       "<circle cx=\"394\" cy=\"183\" r=\"4.0\" style=\"fill:blue;stroke:black;stroke-width:1.0\"\/>\n",
       "<circle cx=\"421\" cy=\"284\" r=\"4.0\" style=\"fill:red;stroke:black;stroke-width:1.0\"\/>\n",
       "<circle cx=\"110\" cy=\"127\" r=\"4.0\" style=\"fill:blue;stroke:black;stroke-width:1.0\"\/>\n",
       "<circle cx=\"127\" cy=\"66\" r=\"4.0\" style=\"fill:blue;stroke:black;stroke-width:1.0\"\/>\n",
       "<circle cx=\"210\" cy=\"138\" r=\"4.0\" style=\"fill:blue;stroke:black;stroke-width:1.0\"\/>\n",
       "<circle cx=\"118\" cy=\"177\" r=\"4.0\" style=\"fill:blue;stroke:black;stroke-width:1.0\"\/>\n",
       "<circle cx=\"22\" cy=\"254\" r=\"4.0\" style=\"fill:blue;stroke:black;stroke-width:1.0\"\/>\n",
       "<circle cx=\"52\" cy=\"172\" r=\"4.0\" style=\"fill:blue;stroke:black;stroke-width:1.0\"\/>\n",
       "<circle cx=\"296\" cy=\"75\" r=\"4.0\" style=\"fill:blue;stroke:black;stroke-width:1.0\"\/>\n",
       "<circle cx=\"288\" cy=\"73\" r=\"4.0\" style=\"fill:blue;stroke:black;stroke-width:1.0\"\/>\n",
       "<circle cx=\"33\" cy=\"206\" r=\"4.0\" style=\"fill:blue;stroke:black;stroke-width:1.0\"\/>\n",
       "<circle cx=\"288\" cy=\"28\" r=\"4.0\" style=\"fill:blue;stroke:black;stroke-width:1.0\"\/>\n",
       "<circle cx=\"462\" cy=\"164\" r=\"4.0\" style=\"fill:red;stroke:black;stroke-width:1.0\"\/>\n",
       "<circle cx=\"115\" cy=\"96\" r=\"4.0\" style=\"fill:blue;stroke:black;stroke-width:1.0\"\/>\n",
       "<circle cx=\"425\" cy=\"150\" r=\"4.0\" style=\"fill:red;stroke:black;stroke-width:1.0\"\/>\n",
       "<circle cx=\"138\" cy=\"66\" r=\"4.0\" style=\"fill:blue;stroke:black;stroke-width:1.0\"\/>\n",
       "<circle cx=\"476\" cy=\"199\" r=\"4.0\" style=\"fill:red;stroke:black;stroke-width:1.0\"\/>\n",
       "<circle cx=\"204\" cy=\"196\" r=\"4.0\" style=\"fill:blue;stroke:black;stroke-width:1.0\"\/>\n",
       "<circle cx=\"177\" cy=\"54\" r=\"4.0\" style=\"fill:blue;stroke:black;stroke-width:1.0\"\/>\n",
       "<circle cx=\"118\" cy=\"285\" r=\"4.0\" style=\"fill:red;stroke:black;stroke-width:1.0\"\/>\n",
       "<circle cx=\"155\" cy=\"145\" r=\"4.0\" style=\"fill:blue;stroke:black;stroke-width:1.0\"\/>\n",
       "<circle cx=\"105\" cy=\"220\" r=\"4.0\" style=\"fill:red;stroke:black;stroke-width:1.0\"\/>\n",
       "<circle cx=\"479\" cy=\"320\" r=\"4.0\" style=\"fill:red;stroke:black;stroke-width:1.0\"\/>\n",
       "<circle cx=\"136\" cy=\"241\" r=\"4.0\" style=\"fill:red;stroke:black;stroke-width:1.0\"\/>\n",
       "<circle cx=\"308\" cy=\"138\" r=\"4.0\" style=\"fill:red;stroke:black;stroke-width:1.0\"\/>\n",
       "<circle cx=\"431\" cy=\"130\" r=\"4.0\" style=\"fill:red;stroke:black;stroke-width:1.0\"\/>\n",
       "<circle cx=\"120\" cy=\"164\" r=\"4.0\" style=\"fill:blue;stroke:black;stroke-width:1.0\"\/>\n",
       "<circle cx=\"97\" cy=\"294\" r=\"4.0\" style=\"fill:red;stroke:black;stroke-width:1.0\"\/>\n",
       "<circle cx=\"480\" cy=\"241\" r=\"4.0\" style=\"fill:red;stroke:black;stroke-width:1.0\"\/>\n",
       "<circle cx=\"448\" cy=\"239\" r=\"4.0\" style=\"fill:red;stroke:black;stroke-width:1.0\"\/>\n",
       "<circle cx=\"150\" cy=\"211\" r=\"4.0\" style=\"fill:red;stroke:black;stroke-width:1.0\"\/>\n",
       "<circle cx=\"263\" cy=\"26\" r=\"4.0\" style=\"fill:blue;stroke:black;stroke-width:1.0\"\/>\n",
       "<circle cx=\"39\" cy=\"241\" r=\"4.0\" style=\"fill:red;stroke:black;stroke-width:1.0\"\/>\n",
       "<circle cx=\"271\" cy=\"71\" r=\"4.0\" style=\"fill:blue;stroke:black;stroke-width:1.0\"\/>\n",
       "<circle cx=\"40\" cy=\"320\" r=\"4.0\" style=\"fill:red;stroke:black;stroke-width:1.0\"\/>\n",
       "<circle cx=\"272\" cy=\"178\" r=\"4.0\" style=\"fill:blue;stroke:black;stroke-width:1.0\"\/>\n",
       "<circle cx=\"193\" cy=\"66\" r=\"4.0\" style=\"fill:blue;stroke:black;stroke-width:1.0\"\/>\n",
       "<circle cx=\"189\" cy=\"86\" r=\"4.0\" style=\"fill:blue;stroke:black;stroke-width:1.0\"\/>\n",
       "<circle cx=\"114\" cy=\"201\" r=\"4.0\" style=\"fill:red;stroke:black;stroke-width:1.0\"\/>\n",
       "<circle cx=\"171\" cy=\"274\" r=\"4.0\" style=\"fill:red;stroke:black;stroke-width:1.0\"\/>\n",
       "<circle cx=\"171\" cy=\"39\" r=\"4.0\" style=\"fill:blue;stroke:black;stroke-width:1.0\"\/>\n",
       "<circle cx=\"146\" cy=\"93\" r=\"4.0\" style=\"fill:blue;stroke:black;stroke-width:1.0\"\/>\n",
       "<circle cx=\"174\" cy=\"286\" r=\"4.0\" style=\"fill:red;stroke:black;stroke-width:1.0\"\/>\n",
       "<circle cx=\"443\" cy=\"221\" r=\"4.0\" style=\"fill:red;stroke:black;stroke-width:1.0\"\/>\n",
       "<circle cx=\"396\" cy=\"257\" r=\"4.0\" style=\"fill:red;stroke:black;stroke-width:1.0\"\/>\n",
       "<circle cx=\"409\" cy=\"127\" r=\"4.0\" style=\"fill:blue;stroke:black;stroke-width:1.0\"\/>\n",
       "<circle cx=\"292\" cy=\"149\" r=\"4.0\" style=\"fill:blue;stroke:black;stroke-width:1.0\"\/>\n",
       "<circle cx=\"227\" cy=\"183\" r=\"4.0\" style=\"fill:blue;stroke:black;stroke-width:1.0\"\/>\n",
       "<circle cx=\"370\" cy=\"152\" r=\"4.0\" style=\"fill:blue;stroke:black;stroke-width:1.0\"\/>\n",
       "<circle cx=\"357\" cy=\"83\" r=\"4.0\" style=\"fill:blue;stroke:black;stroke-width:1.0\"\/>\n",
       "<circle cx=\"459\" cy=\"177\" r=\"4.0\" style=\"fill:blue;stroke:black;stroke-width:1.0\"\/>\n",
       "<circle cx=\"453\" cy=\"147\" r=\"4.0\" style=\"fill:red;stroke:black;stroke-width:1.0\"\/>\n",
       "<circle cx=\"402\" cy=\"119\" r=\"4.0\" style=\"fill:blue;stroke:black;stroke-width:1.0\"\/>\n",
       "<circle cx=\"246\" cy=\"95\" r=\"4.0\" style=\"fill:blue;stroke:black;stroke-width:1.0\"\/>\n",
       "<circle cx=\"238\" cy=\"20\" r=\"4.0\" style=\"fill:blue;stroke:black;stroke-width:1.0\"\/>\n",
       "<circle cx=\"463\" cy=\"279\" r=\"4.0\" style=\"fill:red;stroke:black;stroke-width:1.0\"\/>\n",
       "<circle cx=\"247\" cy=\"20\" r=\"4.0\" style=\"fill:blue;stroke:black;stroke-width:1.0\"\/>\n",
       "<circle cx=\"500\" cy=\"286\" r=\"4.0\" style=\"fill:red;stroke:black;stroke-width:1.0\"\/>\n",
       "<circle cx=\"192\" cy=\"48\" r=\"4.0\" style=\"fill:blue;stroke:black;stroke-width:1.0\"\/>\n",
       "<circle cx=\"300\" cy=\"134\" r=\"4.0\" style=\"fill:blue;stroke:black;stroke-width:1.0\"\/>\n",
       "<circle cx=\"309\" cy=\"231\" r=\"4.0\" style=\"fill:blue;stroke:black;stroke-width:1.0\"\/>\n",
       "<circle cx=\"391\" cy=\"66\" r=\"4.0\" style=\"fill:blue;stroke:black;stroke-width:1.0\"\/>\n",
       "<circle cx=\"305\" cy=\"237\" r=\"4.0\" style=\"fill:blue;stroke:black;stroke-width:1.0\"\/>\n",
       "<circle cx=\"164\" cy=\"168\" r=\"4.0\" style=\"fill:blue;stroke:black;stroke-width:1.0\"\/>\n",
       "<circle cx=\"464\" cy=\"289\" r=\"4.0\" style=\"fill:red;stroke:black;stroke-width:1.0\"\/>\n",
       "<circle cx=\"357\" cy=\"195\" r=\"4.0\" style=\"fill:blue;stroke:black;stroke-width:1.0\"\/>\n",
       "<circle cx=\"393\" cy=\"227\" r=\"4.0\" style=\"fill:red;stroke:black;stroke-width:1.0\"\/>\n",
       "<circle cx=\"433\" cy=\"194\" r=\"4.0\" style=\"fill:red;stroke:black;stroke-width:1.0\"\/>\n",
       "<circle cx=\"77\" cy=\"145\" r=\"4.0\" style=\"fill:blue;stroke:black;stroke-width:1.0\"\/>\n",
       "<circle cx=\"46\" cy=\"211\" r=\"4.0\" style=\"fill:blue;stroke:black;stroke-width:1.0\"\/>\n",
       "<circle cx=\"400\" cy=\"285\" r=\"4.0\" style=\"fill:red;stroke:black;stroke-width:1.0\"\/>\n",
       "<circle cx=\"155\" cy=\"234\" r=\"4.0\" style=\"fill:red;stroke:black;stroke-width:1.0\"\/>\n",
       "<circle cx=\"123\" cy=\"112\" r=\"4.0\" style=\"fill:blue;stroke:black;stroke-width:1.0\"\/>\n",
       "<circle cx=\"403\" cy=\"96\" r=\"4.0\" style=\"fill:blue;stroke:black;stroke-width:1.0\"\/>\n",
       "<circle cx=\"392\" cy=\"280\" r=\"4.0\" style=\"fill:red;stroke:black;stroke-width:1.0\"\/>\n",
       "<circle cx=\"281\" cy=\"137\" r=\"4.0\" style=\"fill:blue;stroke:black;stroke-width:1.0\"\/>\n",
       "<circle cx=\"140\" cy=\"231\" r=\"4.0\" style=\"fill:red;stroke:black;stroke-width:1.0\"\/>\n",
       "<circle cx=\"151\" cy=\"138\" r=\"4.0\" style=\"fill:blue;stroke:black;stroke-width:1.0\"\/>\n",
       "<circle cx=\"493\" cy=\"234\" r=\"4.0\" style=\"fill:red;stroke:black;stroke-width:1.0\"\/>\n",
       "<circle cx=\"119\" cy=\"275\" r=\"4.0\" style=\"fill:red;stroke:black;stroke-width:1.0\"\/>\n",
       "<circle cx=\"273\" cy=\"145\" r=\"4.0\" style=\"fill:blue;stroke:black;stroke-width:1.0\"\/>\n",
       "<circle cx=\"346\" cy=\"84\" r=\"4.0\" style=\"fill:blue;stroke:black;stroke-width:1.0\"\/>\n",
       "<circle cx=\"272\" cy=\"55\" r=\"4.0\" style=\"fill:blue;stroke:black;stroke-width:1.0\"\/>\n",
       "<circle cx=\"404\" cy=\"201\" r=\"4.0\" style=\"fill:blue;stroke:black;stroke-width:1.0\"\/>\n",
       "<circle cx=\"280\" cy=\"72\" r=\"4.0\" style=\"fill:blue;stroke:black;stroke-width:1.0\"\/>\n",
       "<circle cx=\"395\" cy=\"112\" r=\"4.0\" style=\"fill:blue;stroke:black;stroke-width:1.0\"\/>\n",
       "<circle cx=\"373\" cy=\"191\" r=\"4.0\" style=\"fill:red;stroke:black;stroke-width:1.0\"\/>\n",
       "<circle cx=\"203\" cy=\"122\" r=\"4.0\" style=\"fill:blue;stroke:black;stroke-width:1.0\"\/>\n",
       "<circle cx=\"104\" cy=\"160\" r=\"4.0\" style=\"fill:blue;stroke:black;stroke-width:1.0\"\/>\n",
       "<circle cx=\"210\" cy=\"112\" r=\"4.0\" style=\"fill:blue;stroke:black;stroke-width:1.0\"\/>\n",
       "<circle cx=\"168\" cy=\"186\" r=\"4.0\" style=\"fill:blue;stroke:black;stroke-width:1.0\"\/>\n",
       "<circle cx=\"239\" cy=\"72\" r=\"4.0\" style=\"fill:blue;stroke:black;stroke-width:1.0\"\/>\n",
       "<circle cx=\"274\" cy=\"162\" r=\"4.0\" style=\"fill:blue;stroke:black;stroke-width:1.0\"\/>\n",
       "<circle cx=\"398\" cy=\"164\" r=\"4.0\" style=\"fill:red;stroke:black;stroke-width:1.0\"\/>\n",
       "<circle cx=\"422\" cy=\"294\" r=\"4.0\" style=\"fill:red;stroke:black;stroke-width:1.0\"\/>\n",
       "<circle cx=\"108\" cy=\"196\" r=\"4.0\" style=\"fill:blue;stroke:black;stroke-width:1.0\"\/>\n",
       "<circle cx=\"418\" cy=\"90\" r=\"4.0\" style=\"fill:red;stroke:black;stroke-width:1.0\"\/>\n",
       "<circle cx=\"90\" cy=\"246\" r=\"4.0\" style=\"fill:blue;stroke:black;stroke-width:1.0\"\/>\n",
       "<circle cx=\"122\" cy=\"237\" r=\"4.0\" style=\"fill:red;stroke:black;stroke-width:1.0\"\/>\n",
       "<circle cx=\"421\" cy=\"115\" r=\"4.0\" style=\"fill:blue;stroke:black;stroke-width:1.0\"\/>\n",
       "<circle cx=\"30\" cy=\"246\" r=\"4.0\" style=\"fill:blue;stroke:black;stroke-width:1.0\"\/>\n",
       "<circle cx=\"479\" cy=\"187\" r=\"4.0\" style=\"fill:red;stroke:black;stroke-width:1.0\"\/>\n",
       "<circle cx=\"373\" cy=\"93\" r=\"4.0\" style=\"fill:blue;stroke:black;stroke-width:1.0\"\/>\n",
       "<circle cx=\"237\" cy=\"180\" r=\"4.0\" style=\"fill:blue;stroke:black;stroke-width:1.0\"\/>\n",
       "<circle cx=\"245\" cy=\"145\" r=\"4.0\" style=\"fill:blue;stroke:black;stroke-width:1.0\"\/>\n",
       "<circle cx=\"326\" cy=\"165\" r=\"4.0\" style=\"fill:blue;stroke:black;stroke-width:1.0\"\/>\n",
       "<circle cx=\"360\" cy=\"132\" r=\"4.0\" style=\"fill:blue;stroke:black;stroke-width:1.0\"\/>\n",
       "<circle cx=\"126\" cy=\"301\" r=\"4.0\" style=\"fill:red;stroke:black;stroke-width:1.0\"\/>\n",
       "<circle cx=\"485\" cy=\"206\" r=\"4.0\" style=\"fill:red;stroke:black;stroke-width:1.0\"\/>\n",
       "<circle cx=\"85\" cy=\"194\" r=\"4.0\" style=\"fill:blue;stroke:black;stroke-width:1.0\"\/>\n",
       "<circle cx=\"230\" cy=\"73\" r=\"4.0\" style=\"fill:blue;stroke:black;stroke-width:1.0\"\/>\n",
       "<circle cx=\"315\" cy=\"122\" r=\"4.0\" style=\"fill:blue;stroke:black;stroke-width:1.0\"\/>\n",
       "<circle cx=\"343\" cy=\"93\" r=\"4.0\" style=\"fill:blue;stroke:black;stroke-width:1.0\"\/>\n",
       "<circle cx=\"368\" cy=\"211\" r=\"4.0\" style=\"fill:red;stroke:black;stroke-width:1.0\"\/>\n",
       "<circle cx=\"136\" cy=\"262\" r=\"4.0\" style=\"fill:red;stroke:black;stroke-width:1.0\"\/>\n",
       "<circle cx=\"223\" cy=\"168\" r=\"4.0\" style=\"fill:blue;stroke:black;stroke-width:1.0\"\/>\n",
       "<circle cx=\"246\" cy=\"178\" r=\"4.0\" style=\"fill:blue;stroke:black;stroke-width:1.0\"\/>\n",
       "<circle cx=\"358\" cy=\"223\" r=\"4.0\" style=\"fill:red;stroke:black;stroke-width:1.0\"\/>\n",
       "<circle cx=\"408\" cy=\"89\" r=\"4.0\" style=\"fill:blue;stroke:black;stroke-width:1.0\"\/>\n",
       "<circle cx=\"122\" cy=\"90\" r=\"4.0\" style=\"fill:blue;stroke:black;stroke-width:1.0\"\/>\n",
       "<circle cx=\"197\" cy=\"182\" r=\"4.0\" style=\"fill:blue;stroke:black;stroke-width:1.0\"\/>\n",
       "<circle cx=\"371\" cy=\"278\" r=\"4.0\" style=\"fill:red;stroke:black;stroke-width:1.0\"\/>\n",
       "<circle cx=\"489\" cy=\"246\" r=\"4.0\" style=\"fill:red;stroke:black;stroke-width:1.0\"\/>\n",
       "<circle cx=\"355\" cy=\"61\" r=\"4.0\" style=\"fill:blue;stroke:black;stroke-width:1.0\"\/>\n",
       "<circle cx=\"263\" cy=\"70\" r=\"4.0\" style=\"fill:blue;stroke:black;stroke-width:1.0\"\/>\n",
       "<circle cx=\"222\" cy=\"75\" r=\"4.0\" style=\"fill:blue;stroke:black;stroke-width:1.0\"\/>\n",
       "<circle cx=\"124\" cy=\"183\" r=\"4.0\" style=\"fill:blue;stroke:black;stroke-width:1.0\"\/>\n",
       "<circle cx=\"330\" cy=\"189\" r=\"4.0\" style=\"fill:blue;stroke:black;stroke-width:1.0\"\/>\n",
       "<circle cx=\"464\" cy=\"309\" r=\"4.0\" style=\"fill:red;stroke:black;stroke-width:1.0\"\/>\n",
       "<circle cx=\"450\" cy=\"304\" r=\"4.0\" style=\"fill:red;stroke:black;stroke-width:1.0\"\/>\n",
       "<circle cx=\"124\" cy=\"77\" r=\"4.0\" style=\"fill:blue;stroke:black;stroke-width:1.0\"\/>\n",
       "<circle cx=\"301\" cy=\"100\" r=\"4.0\" style=\"fill:blue;stroke:black;stroke-width:1.0\"\/>\n",
       "<circle cx=\"40\" cy=\"277\" r=\"4.0\" style=\"fill:blue;stroke:black;stroke-width:1.0\"\/>\n",
       "<circle cx=\"109\" cy=\"153\" r=\"4.0\" style=\"fill:blue;stroke:black;stroke-width:1.0\"\/>\n",
       "<circle cx=\"25\" cy=\"307\" r=\"4.0\" style=\"fill:red;stroke:black;stroke-width:1.0\"\/>\n",
       "<circle cx=\"455\" cy=\"169\" r=\"4.0\" style=\"fill:red;stroke:black;stroke-width:1.0\"\/>\n",
       "<circle cx=\"176\" cy=\"179\" r=\"4.0\" style=\"fill:blue;stroke:black;stroke-width:1.0\"\/>\n",
       "<circle cx=\"246\" cy=\"104\" r=\"4.0\" style=\"fill:blue;stroke:black;stroke-width:1.0\"\/>\n",
       "<circle cx=\"84\" cy=\"315\" r=\"4.0\" style=\"fill:red;stroke:black;stroke-width:1.0\"\/>\n",
       "<circle cx=\"449\" cy=\"281\" r=\"4.0\" style=\"fill:red;stroke:black;stroke-width:1.0\"\/>\n",
       "<circle cx=\"167\" cy=\"212\" r=\"4.0\" style=\"fill:red;stroke:black;stroke-width:1.0\"\/>\n",
       "<circle cx=\"326\" cy=\"66\" r=\"4.0\" style=\"fill:blue;stroke:black;stroke-width:1.0\"\/>\n",
       "<circle cx=\"438\" cy=\"124\" r=\"4.0\" style=\"fill:red;stroke:black;stroke-width:1.0\"\/>\n",
       "<circle cx=\"231\" cy=\"38\" r=\"4.0\" style=\"fill:blue;stroke:black;stroke-width:1.0\"\/>\n",
       "<circle cx=\"102\" cy=\"250\" r=\"4.0\" style=\"fill:blue;stroke:black;stroke-width:1.0\"\/>\n",
       "<circle cx=\"69\" cy=\"304\" r=\"4.0\" style=\"fill:red;stroke:black;stroke-width:1.0\"\/>\n",
       "<circle cx=\"26\" cy=\"234\" r=\"4.0\" style=\"fill:blue;stroke:black;stroke-width:1.0\"\/>\n",
       "<circle cx=\"75\" cy=\"221\" r=\"4.0\" style=\"fill:blue;stroke:black;stroke-width:1.0\"\/>\n",
       "<circle cx=\"368\" cy=\"50\" r=\"4.0\" style=\"fill:blue;stroke:black;stroke-width:1.0\"\/>\n",
       "<circle cx=\"143\" cy=\"146\" r=\"4.0\" style=\"fill:blue;stroke:black;stroke-width:1.0\"\/>\n",
       "<circle cx=\"188\" cy=\"189\" r=\"4.0\" style=\"fill:blue;stroke:black;stroke-width:1.0\"\/>\n",
       "<circle cx=\"303\" cy=\"41\" r=\"4.0\" style=\"fill:blue;stroke:black;stroke-width:1.0\"\/>\n",
       "<circle cx=\"290\" cy=\"106\" r=\"4.0\" style=\"fill:blue;stroke:black;stroke-width:1.0\"\/>\n",
       "<circle cx=\"87\" cy=\"104\" r=\"4.0\" style=\"fill:blue;stroke:black;stroke-width:1.0\"\/>\n",
       "<circle cx=\"65\" cy=\"206\" r=\"4.0\" style=\"fill:blue;stroke:black;stroke-width:1.0\"\/>\n",
       "<circle cx=\"362\" cy=\"65\" r=\"4.0\" style=\"fill:blue;stroke:black;stroke-width:1.0\"\/>\n",
       "<circle cx=\"386\" cy=\"125\" r=\"4.0\" style=\"fill:blue;stroke:black;stroke-width:1.0\"\/>\n",
       "<circle cx=\"365\" cy=\"107\" r=\"4.0\" style=\"fill:blue;stroke:black;stroke-width:1.0\"\/>\n",
       "<circle cx=\"411\" cy=\"196\" r=\"4.0\" style=\"fill:red;stroke:black;stroke-width:1.0\"\/>\n",
       "<circle cx=\"236\" cy=\"96\" r=\"4.0\" style=\"fill:blue;stroke:black;stroke-width:1.0\"\/>\n",
       "<circle cx=\"237\" cy=\"55\" r=\"4.0\" style=\"fill:blue;stroke:black;stroke-width:1.0\"\/>\n",
       "<circle cx=\"347\" cy=\"162\" r=\"4.0\" style=\"fill:blue;stroke:black;stroke-width:1.0\"\/>\n",
       "<circle cx=\"399\" cy=\"275\" r=\"4.0\" style=\"fill:red;stroke:black;stroke-width:1.0\"\/>\n",
       "<circle cx=\"306\" cy=\"190\" r=\"4.0\" style=\"fill:blue;stroke:black;stroke-width:1.0\"\/>\n",
       "<circle cx=\"359\" cy=\"296\" r=\"4.0\" style=\"fill:red;stroke:black;stroke-width:1.0\"\/>\n",
       "<circle cx=\"147\" cy=\"288\" r=\"4.0\" style=\"fill:red;stroke:black;stroke-width:1.0\"\/>\n",
       "<circle cx=\"321\" cy=\"82\" r=\"4.0\" style=\"fill:blue;stroke:black;stroke-width:1.0\"\/>\n",
       "<circle cx=\"478\" cy=\"277\" r=\"4.0\" style=\"fill:red;stroke:black;stroke-width:1.0\"\/>\n",
       "<circle cx=\"263\" cy=\"128\" r=\"4.0\" style=\"fill:blue;stroke:black;stroke-width:1.0\"\/>\n",
       "<circle cx=\"413\" cy=\"220\" r=\"4.0\" style=\"fill:blue;stroke:black;stroke-width:1.0\"\/>\n",
       "<circle cx=\"351\" cy=\"242\" r=\"4.0\" style=\"fill:red;stroke:black;stroke-width:1.0\"\/>\n",
       "<circle cx=\"188\" cy=\"32\" r=\"4.0\" style=\"fill:blue;stroke:black;stroke-width:1.0\"\/>\n",
       "<circle cx=\"339\" cy=\"197\" r=\"4.0\" style=\"fill:blue;stroke:black;stroke-width:1.0\"\/>\n",
       "<circle cx=\"215\" cy=\"41\" r=\"4.0\" style=\"fill:blue;stroke:black;stroke-width:1.0\"\/>\n",
       "<circle cx=\"272\" cy=\"95\" r=\"4.0\" style=\"fill:blue;stroke:black;stroke-width:1.0\"\/>\n",
       "<circle cx=\"208\" cy=\"103\" r=\"4.0\" style=\"fill:blue;stroke:black;stroke-width:1.0\"\/>\n",
       "<circle cx=\"55\" cy=\"299\" r=\"4.0\" style=\"fill:red;stroke:black;stroke-width:1.0\"\/>\n",
       "<circle cx=\"81\" cy=\"258\" r=\"4.0\" style=\"fill:blue;stroke:black;stroke-width:1.0\"\/>\n",
       "<circle cx=\"376\" cy=\"55\" r=\"4.0\" style=\"fill:blue;stroke:black;stroke-width:1.0\"\/>\n",
       "<circle cx=\"323\" cy=\"145\" r=\"4.0\" style=\"fill:blue;stroke:black;stroke-width:1.0\"\/>\n",
       "<circle cx=\"146\" cy=\"164\" r=\"4.0\" style=\"fill:blue;stroke:black;stroke-width:1.0\"\/>\n",
       "<circle cx=\"496\" cy=\"254\" r=\"4.0\" style=\"fill:red;stroke:black;stroke-width:1.0\"\/>\n",
       "<circle cx=\"65\" cy=\"147\" r=\"4.0\" style=\"fill:blue;stroke:black;stroke-width:1.0\"\/>\n",
       "<circle cx=\"396\" cy=\"237\" r=\"4.0\" style=\"fill:red;stroke:black;stroke-width:1.0\"\/>\n",
       "<circle cx=\"109\" cy=\"102\" r=\"4.0\" style=\"fill:blue;stroke:black;stroke-width:1.0\"\/>\n",
       "<circle cx=\"375\" cy=\"146\" r=\"4.0\" style=\"fill:blue;stroke:black;stroke-width:1.0\"\/>\n",
       "<circle cx=\"263\" cy=\"36\" r=\"4.0\" style=\"fill:blue;stroke:black;stroke-width:1.0\"\/>\n",
       "<circle cx=\"314\" cy=\"196\" r=\"4.0\" style=\"fill:blue;stroke:black;stroke-width:1.0\"\/>\n",
       "<circle cx=\"72\" cy=\"152\" r=\"4.0\" style=\"fill:blue;stroke:black;stroke-width:1.0\"\/>\n",
       "<circle cx=\"401\" cy=\"83\" r=\"4.0\" style=\"fill:blue;stroke:black;stroke-width:1.0\"\/>\n",
       "<circle cx=\"120\" cy=\"138\" r=\"4.0\" style=\"fill:blue;stroke:black;stroke-width:1.0\"\/>\n",
       "<circle cx=\"435\" cy=\"304\" r=\"4.0\" style=\"fill:red;stroke:black;stroke-width:1.0\"\/>\n",
       "<circle cx=\"404\" cy=\"265\" r=\"4.0\" style=\"fill:red;stroke:black;stroke-width:1.0\"\/>\n",
       "<circle cx=\"219\" cy=\"109\" r=\"4.0\" style=\"fill:blue;stroke:black;stroke-width:1.0\"\/>\n",
       "<circle cx=\"390\" cy=\"85\" r=\"4.0\" style=\"fill:blue;stroke:black;stroke-width:1.0\"\/>\n",
       "<circle cx=\"300\" cy=\"205\" r=\"4.0\" style=\"fill:blue;stroke:black;stroke-width:1.0\"\/>\n",
       "<circle cx=\"25\" cy=\"297\" r=\"4.0\" style=\"fill:red;stroke:black;stroke-width:1.0\"\/>\n",
       "<circle cx=\"177\" cy=\"255\" r=\"4.0\" style=\"fill:blue;stroke:black;stroke-width:1.0\"\/>\n",
       "<circle cx=\"69\" cy=\"196\" r=\"4.0\" style=\"fill:blue;stroke:black;stroke-width:1.0\"\/>\n",
       "<circle cx=\"55\" cy=\"309\" r=\"4.0\" style=\"fill:red;stroke:black;stroke-width:1.0\"\/>\n",
       "<circle cx=\"291\" cy=\"183\" r=\"4.0\" style=\"fill:blue;stroke:black;stroke-width:1.0\"\/>\n",
       "<circle cx=\"453\" cy=\"135\" r=\"4.0\" style=\"fill:red;stroke:black;stroke-width:1.0\"\/>\n",
       "<circle cx=\"449\" cy=\"316\" r=\"4.0\" style=\"fill:red;stroke:black;stroke-width:1.0\"\/>\n",
       "<circle cx=\"297\" cy=\"23\" r=\"4.0\" style=\"fill:blue;stroke:black;stroke-width:1.0\"\/>\n",
       "<circle cx=\"65\" cy=\"135\" r=\"4.0\" style=\"fill:blue;stroke:black;stroke-width:1.0\"\/>\n",
       "<circle cx=\"61\" cy=\"216\" r=\"4.0\" style=\"fill:blue;stroke:black;stroke-width:1.0\"\/>\n",
       "<circle cx=\"41\" cy=\"229\" r=\"4.0\" style=\"fill:blue;stroke:black;stroke-width:1.0\"\/>\n",
       "<circle cx=\"70\" cy=\"281\" r=\"4.0\" style=\"fill:red;stroke:black;stroke-width:1.0\"\/>\n",
       "<circle cx=\"378\" cy=\"231\" r=\"4.0\" style=\"fill:red;stroke:black;stroke-width:1.0\"\/>\n",
       "<circle cx=\"128\" cy=\"85\" r=\"4.0\" style=\"fill:blue;stroke:black;stroke-width:1.0\"\/>\n",
       "<circle cx=\"302\" cy=\"152\" r=\"4.0\" style=\"fill:blue;stroke:black;stroke-width:1.0\"\/>\n",
       "<circle cx=\"343\" cy=\"179\" r=\"4.0\" style=\"fill:blue;stroke:black;stroke-width:1.0\"\/>\n",
       "<circle cx=\"115\" cy=\"265\" r=\"4.0\" style=\"fill:red;stroke:black;stroke-width:1.0\"\/>\n",
       "<circle cx=\"304\" cy=\"32\" r=\"4.0\" style=\"fill:blue;stroke:black;stroke-width:1.0\"\/>\n",
       "<circle cx=\"130\" cy=\"105\" r=\"4.0\" style=\"fill:blue;stroke:black;stroke-width:1.0\"\/>\n",
       "<circle cx=\"406\" cy=\"187\" r=\"4.0\" style=\"fill:red;stroke:black;stroke-width:1.0\"\/>\n",
       "<circle cx=\"135\" cy=\"80\" r=\"4.0\" style=\"fill:blue;stroke:black;stroke-width:1.0\"\/>\n",
       "<circle cx=\"386\" cy=\"252\" r=\"4.0\" style=\"fill:red;stroke:black;stroke-width:1.0\"\/>\n",
       "<circle cx=\"369\" cy=\"70\" r=\"4.0\" style=\"fill:blue;stroke:black;stroke-width:1.0\"\/>\n",
       "<circle cx=\"244\" cy=\"162\" r=\"4.0\" style=\"fill:blue;stroke:black;stroke-width:1.0\"\/>\n",
       "<circle cx=\"216\" cy=\"152\" r=\"4.0\" style=\"fill:blue;stroke:black;stroke-width:1.0\"\/>\n",
       "<circle cx=\"334\" cy=\"70\" r=\"4.0\" style=\"fill:blue;stroke:black;stroke-width:1.0\"\/>\n",
       "<circle cx=\"199\" cy=\"107\" r=\"4.0\" style=\"fill:blue;stroke:black;stroke-width:1.0\"\/>\n",
       "<circle cx=\"100\" cy=\"90\" r=\"4.0\" style=\"fill:blue;stroke:black;stroke-width:1.0\"\/>\n",
       "<circle cx=\"393\" cy=\"291\" r=\"4.0\" style=\"fill:red;stroke:black;stroke-width:1.0\"\/>\n",
       "<circle cx=\"337\" cy=\"42\" r=\"4.0\" style=\"fill:blue;stroke:black;stroke-width:1.0\"\/>\n",
       "<circle cx=\"358\" cy=\"52\" r=\"4.0\" style=\"fill:blue;stroke:black;stroke-width:1.0\"\/>\n",
       "<circle cx=\"311\" cy=\"157\" r=\"4.0\" style=\"fill:blue;stroke:black;stroke-width:1.0\"\/>\n",
       "<circle cx=\"174\" cy=\"297\" r=\"4.0\" style=\"fill:red;stroke:black;stroke-width:1.0\"\/>\n",
       "<circle cx=\"271\" cy=\"36\" r=\"4.0\" style=\"fill:blue;stroke:black;stroke-width:1.0\"\/>\n",
       "<circle cx=\"272\" cy=\"128\" r=\"4.0\" style=\"fill:blue;stroke:black;stroke-width:1.0\"\/>\n",
       "<circle cx=\"354\" cy=\"168\" r=\"4.0\" style=\"fill:blue;stroke:black;stroke-width:1.0\"\/>\n",
       "<circle cx=\"228\" cy=\"131\" r=\"4.0\" style=\"fill:blue;stroke:black;stroke-width:1.0\"\/>\n",
       "<circle cx=\"422\" cy=\"315\" r=\"4.0\" style=\"fill:red;stroke:black;stroke-width:1.0\"\/>\n",
       "<circle cx=\"184\" cy=\"172\" r=\"4.0\" style=\"fill:blue;stroke:black;stroke-width:1.0\"\/>\n",
       "<circle cx=\"321\" cy=\"36\" r=\"4.0\" style=\"fill:blue;stroke:black;stroke-width:1.0\"\/>\n",
       "<circle cx=\"422\" cy=\"304\" r=\"4.0\" style=\"fill:red;stroke:black;stroke-width:1.0\"\/>\n",
       "<circle cx=\"94\" cy=\"177\" r=\"4.0\" style=\"fill:blue;stroke:black;stroke-width:1.0\"\/>\n",
       "<circle cx=\"227\" cy=\"98\" r=\"4.0\" style=\"fill:red;stroke:black;stroke-width:1.0\"\/>\n",
       "<circle cx=\"154\" cy=\"309\" r=\"4.0\" style=\"fill:red;stroke:black;stroke-width:1.0\"\/>\n",
       "<circle cx=\"311\" cy=\"43\" r=\"4.0\" style=\"fill:blue;stroke:black;stroke-width:1.0\"\/>\n",
       "<circle cx=\"113\" cy=\"187\" r=\"4.0\" style=\"fill:blue;stroke:black;stroke-width:1.0\"\/>\n",
       "<circle cx=\"329\" cy=\"262\" r=\"4.0\" style=\"fill:blue;stroke:black;stroke-width:1.0\"\/>\n",
       "<circle cx=\"146\" cy=\"299\" r=\"4.0\" style=\"fill:red;stroke:black;stroke-width:1.0\"\/>\n",
       "<circle cx=\"470\" cy=\"181\" r=\"4.0\" style=\"fill:red;stroke:black;stroke-width:1.0\"\/>\n",
       "<circle cx=\"77\" cy=\"177\" r=\"4.0\" style=\"fill:blue;stroke:black;stroke-width:1.0\"\/>\n",
       "<circle cx=\"336\" cy=\"162\" r=\"4.0\" style=\"fill:blue;stroke:black;stroke-width:1.0\"\/>\n",
       "<circle cx=\"372\" cy=\"299\" r=\"4.0\" style=\"fill:red;stroke:black;stroke-width:1.0\"\/>\n",
       "<circle cx=\"331\" cy=\"150\" r=\"4.0\" style=\"fill:blue;stroke:black;stroke-width:1.0\"\/>\n",
       "<circle cx=\"409\" cy=\"153\" r=\"4.0\" style=\"fill:blue;stroke:black;stroke-width:1.0\"\/>\n",
       "<circle cx=\"369\" cy=\"267\" r=\"4.0\" style=\"fill:red;stroke:black;stroke-width:1.0\"\/>\n",
       "<circle cx=\"383\" cy=\"241\" r=\"4.0\" style=\"fill:red;stroke:black;stroke-width:1.0\"\/>\n",
       "<circle cx=\"313\" cy=\"34\" r=\"4.0\" style=\"fill:blue;stroke:black;stroke-width:1.0\"\/>\n",
       "<circle cx=\"466\" cy=\"172\" r=\"4.0\" style=\"fill:red;stroke:black;stroke-width:1.0\"\/>\n",
       "<circle cx=\"448\" cy=\"127\" r=\"4.0\" style=\"fill:red;stroke:black;stroke-width:1.0\"\/>\n",
       "<circle cx=\"236\" cy=\"146\" r=\"4.0\" style=\"fill:blue;stroke:black;stroke-width:1.0\"\/>\n",
       "<circle cx=\"166\" cy=\"145\" r=\"4.0\" style=\"fill:blue;stroke:black;stroke-width:1.0\"\/>\n",
       "<circle cx=\"97\" cy=\"115\" r=\"4.0\" style=\"fill:blue;stroke:black;stroke-width:1.0\"\/>\n",
       "<circle cx=\"248\" cy=\"36\" r=\"4.0\" style=\"fill:blue;stroke:black;stroke-width:1.0\"\/>\n",
       "<circle cx=\"365\" cy=\"88\" r=\"4.0\" style=\"fill:blue;stroke:black;stroke-width:1.0\"\/>\n",
       "<circle cx=\"256\" cy=\"62\" r=\"4.0\" style=\"fill:blue;stroke:black;stroke-width:1.0\"\/>\n",
       "<circle cx=\"219\" cy=\"58\" r=\"4.0\" style=\"fill:blue;stroke:black;stroke-width:1.0\"\/>\n",
       "<circle cx=\"379\" cy=\"212\" r=\"4.0\" style=\"fill:red;stroke:black;stroke-width:1.0\"\/>\n",
       "<circle cx=\"161\" cy=\"195\" r=\"4.0\" style=\"fill:blue;stroke:black;stroke-width:1.0\"\/>\n",
       "<circle cx=\"87\" cy=\"159\" r=\"4.0\" style=\"fill:blue;stroke:black;stroke-width:1.0\"\/>\n",
       "<circle cx=\"180\" cy=\"197\" r=\"4.0\" style=\"fill:blue;stroke:black;stroke-width:1.0\"\/>\n",
       "<circle cx=\"358\" cy=\"102\" r=\"4.0\" style=\"fill:blue;stroke:black;stroke-width:1.0\"\/>\n",
       "<circle cx=\"380\" cy=\"99\" r=\"4.0\" style=\"fill:blue;stroke:black;stroke-width:1.0\"\/>\n",
       "<circle cx=\"229\" cy=\"113\" r=\"4.0\" style=\"fill:blue;stroke:black;stroke-width:1.0\"\/>\n",
       "<circle cx=\"161\" cy=\"83\" r=\"4.0\" style=\"fill:blue;stroke:black;stroke-width:1.0\"\/>\n",
       "<circle cx=\"56\" cy=\"234\" r=\"4.0\" style=\"fill:blue;stroke:black;stroke-width:1.0\"\/>\n",
       "<circle cx=\"238\" cy=\"137\" r=\"4.0\" style=\"fill:blue;stroke:black;stroke-width:1.0\"\/>\n",
       "<circle cx=\"329\" cy=\"209\" r=\"4.0\" style=\"fill:blue;stroke:black;stroke-width:1.0\"\/>\n",
       "<circle cx=\"424\" cy=\"177\" r=\"4.0\" style=\"fill:red;stroke:black;stroke-width:1.0\"\/>\n",
       "<circle cx=\"56\" cy=\"185\" r=\"4.0\" style=\"fill:blue;stroke:black;stroke-width:1.0\"\/>\n",
       "<circle cx=\"221\" cy=\"23\" r=\"4.0\" style=\"fill:blue;stroke:black;stroke-width:1.0\"\/>\n",
       "<circle cx=\"283\" cy=\"146\" r=\"4.0\" style=\"fill:blue;stroke:black;stroke-width:1.0\"\/>\n",
       "<circle cx=\"83\" cy=\"304\" r=\"4.0\" style=\"fill:red;stroke:black;stroke-width:1.0\"\/>\n",
       "<circle cx=\"309\" cy=\"211\" r=\"4.0\" style=\"fill:blue;stroke:black;stroke-width:1.0\"\/>\n",
       "<circle cx=\"325\" cy=\"253\" r=\"4.0\" style=\"fill:red;stroke:black;stroke-width:1.0\"\/>\n",
       "<circle cx=\"263\" cy=\"161\" r=\"4.0\" style=\"fill:blue;stroke:black;stroke-width:1.0\"\/>\n",
       "<circle cx=\"219\" cy=\"134\" r=\"4.0\" style=\"fill:blue;stroke:black;stroke-width:1.0\"\/>\n",
       "<circle cx=\"150\" cy=\"267\" r=\"4.0\" style=\"fill:red;stroke:black;stroke-width:1.0\"\/>\n",
       "<circle cx=\"150\" cy=\"245\" r=\"4.0\" style=\"fill:red;stroke:black;stroke-width:1.0\"\/>\n",
       "<circle cx=\"73\" cy=\"186\" r=\"4.0\" style=\"fill:blue;stroke:black;stroke-width:1.0\"\/>\n",
       "<circle cx=\"178\" cy=\"223\" r=\"4.0\" style=\"fill:red;stroke:black;stroke-width:1.0\"\/>\n",
       "<circle cx=\"361\" cy=\"176\" r=\"4.0\" style=\"fill:blue;stroke:black;stroke-width:1.0\"\/>\n",
       "<circle cx=\"346\" cy=\"232\" r=\"4.0\" style=\"fill:red;stroke:black;stroke-width:1.0\"\/>\n",
       "<circle cx=\"256\" cy=\"87\" r=\"4.0\" style=\"fill:blue;stroke:black;stroke-width:1.0\"\/>\n",
       "<circle cx=\"438\" cy=\"258\" r=\"4.0\" style=\"fill:red;stroke:black;stroke-width:1.0\"\/>\n",
       "<circle cx=\"479\" cy=\"309\" r=\"4.0\" style=\"fill:red;stroke:black;stroke-width:1.0\"\/>\n",
       "<circle cx=\"321\" cy=\"182\" r=\"4.0\" style=\"fill:blue;stroke:black;stroke-width:1.0\"\/>\n",
       "<circle cx=\"345\" cy=\"297\" r=\"4.0\" style=\"fill:red;stroke:black;stroke-width:1.0\"\/>\n",
       "<circle cx=\"363\" cy=\"234\" r=\"4.0\" style=\"fill:blue;stroke:black;stroke-width:1.0\"\/>\n",
       "<circle cx=\"130\" cy=\"217\" r=\"4.0\" style=\"fill:red;stroke:black;stroke-width:1.0\"\/>\n",
       "<circle cx=\"118\" cy=\"294\" r=\"4.0\" style=\"fill:red;stroke:black;stroke-width:1.0\"\/>\n",
       "<circle cx=\"132\" cy=\"252\" r=\"4.0\" style=\"fill:red;stroke:black;stroke-width:1.0\"\/>\n",
       "<circle cx=\"70\" cy=\"239\" r=\"4.0\" style=\"fill:blue;stroke:black;stroke-width:1.0\"\/>\n",
       "<circle cx=\"175\" cy=\"93\" r=\"4.0\" style=\"fill:blue;stroke:black;stroke-width:1.0\"\/>\n",
       "<circle cx=\"98\" cy=\"284\" r=\"4.0\" style=\"fill:red;stroke:black;stroke-width:1.0\"\/>\n",
       "<circle cx=\"167\" cy=\"125\" r=\"4.0\" style=\"fill:blue;stroke:black;stroke-width:1.0\"\/>\n",
       "<circle cx=\"317\" cy=\"63\" r=\"4.0\" style=\"fill:blue;stroke:black;stroke-width:1.0\"\/>\n",
       "<circle cx=\"281\" cy=\"55\" r=\"4.0\" style=\"fill:blue;stroke:black;stroke-width:1.0\"\/>\n",
       "<circle cx=\"206\" cy=\"34\" r=\"4.0\" style=\"fill:blue;stroke:black;stroke-width:1.0\"\/>\n",
       "<circle cx=\"291\" cy=\"131\" r=\"4.0\" style=\"fill:red;stroke:black;stroke-width:1.0\"\/>\n",
       "<circle cx=\"198\" cy=\"36\" r=\"4.0\" style=\"fill:blue;stroke:black;stroke-width:1.0\"\/>\n",
       "<circle cx=\"163\" cy=\"252\" r=\"4.0\" style=\"fill:red;stroke:black;stroke-width:1.0\"\/>\n",
       "<circle cx=\"373\" cy=\"164\" r=\"4.0\" style=\"fill:red;stroke:black;stroke-width:1.0\"\/>\n",
       "<circle cx=\"457\" cy=\"216\" r=\"4.0\" style=\"fill:red;stroke:black;stroke-width:1.0\"\/>\n",
       "<circle cx=\"393\" cy=\"301\" r=\"4.0\" style=\"fill:red;stroke:black;stroke-width:1.0\"\/>\n",
       "<circle cx=\"383\" cy=\"80\" r=\"4.0\" style=\"fill:blue;stroke:black;stroke-width:1.0\"\/>\n",
       "<circle cx=\"295\" cy=\"168\" r=\"4.0\" style=\"fill:blue;stroke:black;stroke-width:1.0\"\/>\n",
       "<circle cx=\"331\" cy=\"32\" r=\"4.0\" style=\"fill:blue;stroke:black;stroke-width:1.0\"\/>\n",
       "<circle cx=\"60\" cy=\"247\" r=\"4.0\" style=\"fill:blue;stroke:black;stroke-width:1.0\"\/>\n",
       "<circle cx=\"479\" cy=\"298\" r=\"4.0\" style=\"fill:red;stroke:black;stroke-width:1.0\"\/>\n",
       "<circle cx=\"398\" cy=\"138\" r=\"4.0\" style=\"fill:red;stroke:black;stroke-width:1.0\"\/>\n",
       "<circle cx=\"228\" cy=\"106\" r=\"4.0\" style=\"fill:blue;stroke:black;stroke-width:1.0\"\/>\n",
       "<circle cx=\"348\" cy=\"274\" r=\"4.0\" style=\"fill:red;stroke:black;stroke-width:1.0\"\/>\n",
       "<circle cx=\"337\" cy=\"108\" r=\"4.0\" style=\"fill:blue;stroke:black;stroke-width:1.0\"\/>\n",
       "<circle cx=\"355\" cy=\"252\" r=\"4.0\" style=\"fill:red;stroke:black;stroke-width:1.0\"\/>\n",
       "<circle cx=\"348\" cy=\"133\" r=\"4.0\" style=\"fill:red;stroke:black;stroke-width:1.0\"\/>\n",
       "<circle cx=\"368\" cy=\"138\" r=\"4.0\" style=\"fill:blue;stroke:black;stroke-width:1.0\"\/>\n",
       "<circle cx=\"60\" cy=\"177\" r=\"4.0\" style=\"fill:blue;stroke:black;stroke-width:1.0\"\/>\n",
       "<circle cx=\"182\" cy=\"42\" r=\"4.0\" style=\"fill:blue;stroke:black;stroke-width:1.0\"\/>\n",
       "<circle cx=\"302\" cy=\"225\" r=\"4.0\" style=\"fill:blue;stroke:black;stroke-width:1.0\"\/>\n",
       "<circle cx=\"352\" cy=\"125\" r=\"4.0\" style=\"fill:blue;stroke:black;stroke-width:1.0\"\/>\n",
       "<circle cx=\"329\" cy=\"86\" r=\"4.0\" style=\"fill:blue;stroke:black;stroke-width:1.0\"\/>\n",
       "<circle cx=\"98\" cy=\"102\" r=\"4.0\" style=\"fill:blue;stroke:black;stroke-width:1.0\"\/>\n",
       "<circle cx=\"148\" cy=\"278\" r=\"4.0\" style=\"fill:red;stroke:black;stroke-width:1.0\"\/>\n",
       "<circle cx=\"463\" cy=\"319\" r=\"4.0\" style=\"fill:red;stroke:black;stroke-width:1.0\"\/>\n",
       "<circle cx=\"110\" cy=\"89\" r=\"4.0\" style=\"fill:blue;stroke:black;stroke-width:1.0\"\/>\n",
       "<circle cx=\"335\" cy=\"172\" r=\"4.0\" style=\"fill:blue;stroke:black;stroke-width:1.0\"\/>\n",
       "<circle cx=\"126\" cy=\"227\" r=\"4.0\" style=\"fill:red;stroke:black;stroke-width:1.0\"\/>\n",
       "<circle cx=\"347\" cy=\"39\" r=\"4.0\" style=\"fill:blue;stroke:black;stroke-width:1.0\"\/>\n",
       "<circle cx=\"255\" cy=\"178\" r=\"4.0\" style=\"fill:blue;stroke:black;stroke-width:1.0\"\/>\n",
       "<circle cx=\"255\" cy=\"128\" r=\"4.0\" style=\"fill:blue;stroke:black;stroke-width:1.0\"\/>\n",
       "<circle cx=\"285\" cy=\"164\" r=\"4.0\" style=\"fill:blue;stroke:black;stroke-width:1.0\"\/>\n",
       "<circle cx=\"368\" cy=\"245\" r=\"4.0\" style=\"fill:red;stroke:black;stroke-width:1.0\"\/>\n",
       "<circle cx=\"352\" cy=\"145\" r=\"4.0\" style=\"fill:red;stroke:black;stroke-width:1.0\"\/>\n",
       "<circle cx=\"469\" cy=\"203\" r=\"4.0\" style=\"fill:red;stroke:black;stroke-width:1.0\"\/>\n",
       "<circle cx=\"407\" cy=\"303\" r=\"4.0\" style=\"fill:red;stroke:black;stroke-width:1.0\"\/>\n",
       "<circle cx=\"97\" cy=\"304\" r=\"4.0\" style=\"fill:red;stroke:black;stroke-width:1.0\"\/>\n",
       "<circle cx=\"111\" cy=\"303\" r=\"4.0\" style=\"fill:red;stroke:black;stroke-width:1.0\"\/>\n",
       "<circle cx=\"188\" cy=\"234\" r=\"4.0\" style=\"fill:red;stroke:black;stroke-width:1.0\"\/>\n",
       "<circle cx=\"223\" cy=\"39\" r=\"4.0\" style=\"fill:blue;stroke:black;stroke-width:1.0\"\/>\n",
       "<circle cx=\"451\" cy=\"160\" r=\"4.0\" style=\"fill:red;stroke:black;stroke-width:1.0\"\/>\n",
       "<circle cx=\"123\" cy=\"257\" r=\"4.0\" style=\"fill:red;stroke:black;stroke-width:1.0\"\/>\n",
       "<circle cx=\"318\" cy=\"219\" r=\"4.0\" style=\"fill:blue;stroke:black;stroke-width:1.0\"\/>\n",
       "<circle cx=\"133\" cy=\"125\" r=\"4.0\" style=\"fill:blue;stroke:black;stroke-width:1.0\"\/>\n",
       "<circle cx=\"423\" cy=\"227\" r=\"4.0\" style=\"fill:red;stroke:black;stroke-width:1.0\"\/>\n",
       "<circle cx=\"40\" cy=\"288\" r=\"4.0\" style=\"fill:red;stroke:black;stroke-width:1.0\"\/>\n",
       "<circle cx=\"168\" cy=\"97\" r=\"4.0\" style=\"fill:blue;stroke:black;stroke-width:1.0\"\/>\n",
       "<circle cx=\"393\" cy=\"301\" r=\"4.0\" style=\"fill:red;stroke:black;stroke-width:1.0\"\/>\n",
       "<circle cx=\"388\" cy=\"105\" r=\"4.0\" style=\"fill:blue;stroke:black;stroke-width:1.0\"\/>\n",
       "<circle cx=\"69\" cy=\"292\" r=\"4.0\" style=\"fill:red;stroke:black;stroke-width:1.0\"\/>\n",
       "<circle cx=\"214\" cy=\"32\" r=\"4.0\" style=\"fill:blue;stroke:black;stroke-width:1.0\"\/>\n",
       "<circle cx=\"382\" cy=\"153\" r=\"4.0\" style=\"fill:blue;stroke:black;stroke-width:1.0\"\/>\n",
       "<circle cx=\"341\" cy=\"223\" r=\"4.0\" style=\"fill:red;stroke:black;stroke-width:1.0\"\/>\n",
       "<circle cx=\"81\" cy=\"124\" r=\"4.0\" style=\"fill:blue;stroke:black;stroke-width:1.0\"\/>\n",
       "<circle cx=\"446\" cy=\"152\" r=\"4.0\" style=\"fill:red;stroke:black;stroke-width:1.0\"\/>\n",
       "<circle cx=\"415\" cy=\"160\" r=\"4.0\" style=\"fill:red;stroke:black;stroke-width:1.0\"\/>\n",
       "<circle cx=\"440\" cy=\"212\" r=\"4.0\" style=\"fill:red;stroke:black;stroke-width:1.0\"\/>\n",
       "<circle cx=\"290\" cy=\"57\" r=\"4.0\" style=\"fill:blue;stroke:black;stroke-width:1.0\"\/>\n",
       "<circle cx=\"138\" cy=\"99\" r=\"4.0\" style=\"fill:blue;stroke:black;stroke-width:1.0\"\/>\n",
       "<circle cx=\"184\" cy=\"70\" r=\"4.0\" style=\"fill:blue;stroke:black;stroke-width:1.0\"\/>\n",
       "<circle cx=\"82\" cy=\"137\" r=\"4.0\" style=\"fill:blue;stroke:black;stroke-width:1.0\"\/>\n",
       "<circle cx=\"330\" cy=\"234\" r=\"4.0\" style=\"fill:red;stroke:black;stroke-width:1.0\"\/>\n",
       "<circle cx=\"208\" cy=\"43\" r=\"4.0\" style=\"fill:blue;stroke:black;stroke-width:1.0\"\/>\n",
       "<circle cx=\"308\" cy=\"61\" r=\"4.0\" style=\"fill:blue;stroke:black;stroke-width:1.0\"\/>\n",
       "<circle cx=\"281\" cy=\"105\" r=\"4.0\" style=\"fill:blue;stroke:black;stroke-width:1.0\"\/>\n",
       "<circle cx=\"39\" cy=\"187\" r=\"4.0\" style=\"fill:blue;stroke:black;stroke-width:1.0\"\/>\n",
       "<circle cx=\"103\" cy=\"206\" r=\"4.0\" style=\"fill:blue;stroke:black;stroke-width:1.0\"\/>\n",
       "<circle cx=\"20\" cy=\"287\" r=\"4.0\" style=\"fill:red;stroke:black;stroke-width:1.0\"\/>\n",
       "<circle cx=\"82\" cy=\"203\" r=\"4.0\" style=\"fill:blue;stroke:black;stroke-width:1.0\"\/>\n",
       "<circle cx=\"178\" cy=\"127\" r=\"4.0\" style=\"fill:blue;stroke:black;stroke-width:1.0\"\/>\n",
       "<circle cx=\"280\" cy=\"20\" r=\"4.0\" style=\"fill:blue;stroke:black;stroke-width:1.0\"\/>\n",
       "<circle cx=\"263\" cy=\"178\" r=\"4.0\" style=\"fill:blue;stroke:black;stroke-width:1.0\"\/>\n",
       "<circle cx=\"431\" cy=\"159\" r=\"4.0\" style=\"fill:lightgrey;stroke:black;stroke-width:1.0\"\/>\n",
       "<circle cx=\"337\" cy=\"244\" r=\"4.0\" style=\"fill:red;stroke:black;stroke-width:1.0\"\/>\n",
       "<circle cx=\"207\" cy=\"175\" r=\"4.0\" style=\"fill:blue;stroke:black;stroke-width:1.0\"\/>\n",
       "<circle cx=\"40\" cy=\"309\" r=\"4.0\" style=\"fill:red;stroke:black;stroke-width:1.0\"\/>\n",
       "<circle cx=\"464\" cy=\"299\" r=\"4.0\" style=\"fill:red;stroke:black;stroke-width:1.0\"\/>\n",
       "<circle cx=\"200\" cy=\"45\" r=\"4.0\" style=\"fill:blue;stroke:black;stroke-width:1.0\"\/>\n",
       "<circle cx=\"156\" cy=\"65\" r=\"4.0\" style=\"fill:blue;stroke:black;stroke-width:1.0\"\/>\n",
       "<circle cx=\"400\" cy=\"177\" r=\"4.0\" style=\"fill:red;stroke:black;stroke-width:1.0\"\/>\n",
       "<circle cx=\"420\" cy=\"168\" r=\"4.0\" style=\"fill:red;stroke:black;stroke-width:1.0\"\/>\n",
       "<circle cx=\"68\" cy=\"160\" r=\"4.0\" style=\"fill:blue;stroke:black;stroke-width:1.0\"\/>\n",
       "<circle cx=\"28\" cy=\"224\" r=\"4.0\" style=\"fill:blue;stroke:black;stroke-width:1.0\"\/>\n",
       "<circle cx=\"195\" cy=\"145\" r=\"4.0\" style=\"fill:blue;stroke:black;stroke-width:1.0\"\/>\n",
       "<circle cx=\"247\" cy=\"71\" r=\"4.0\" style=\"fill:blue;stroke:black;stroke-width:1.0\"\/>\n",
       "<circle cx=\"466\" cy=\"194\" r=\"4.0\" style=\"fill:red;stroke:black;stroke-width:1.0\"\/>\n",
       "<circle cx=\"42\" cy=\"199\" r=\"4.0\" style=\"fill:blue;stroke:black;stroke-width:1.0\"\/>\n",
       "<circle cx=\"279\" cy=\"37\" r=\"4.0\" style=\"fill:blue;stroke:black;stroke-width:1.0\"\/>\n",
       "<circle cx=\"411\" cy=\"232\" r=\"4.0\" style=\"fill:blue;stroke:black;stroke-width:1.0\"\/>\n",
       "<circle cx=\"308\" cy=\"112\" r=\"4.0\" style=\"fill:blue;stroke:black;stroke-width:1.0\"\/>\n",
       "<circle cx=\"396\" cy=\"90\" r=\"4.0\" style=\"fill:blue;stroke:black;stroke-width:1.0\"\/>\n",
       "<circle cx=\"159\" cy=\"132\" r=\"4.0\" style=\"fill:blue;stroke:black;stroke-width:1.0\"\/>\n",
       "<circle cx=\"196\" cy=\"202\" r=\"4.0\" style=\"fill:blue;stroke:black;stroke-width:1.0\"\/>\n",
       "<circle cx=\"419\" cy=\"263\" r=\"4.0\" style=\"fill:red;stroke:black;stroke-width:1.0\"\/>\n",
       "<circle cx=\"322\" cy=\"202\" r=\"4.0\" style=\"fill:blue;stroke:black;stroke-width:1.0\"\/>\n",
       "<circle cx=\"71\" cy=\"127\" r=\"4.0\" style=\"fill:blue;stroke:black;stroke-width:1.0\"\/>\n",
       "<circle cx=\"376\" cy=\"74\" r=\"4.0\" style=\"fill:blue;stroke:black;stroke-width:1.0\"\/>\n",
       "<circle cx=\"57\" cy=\"164\" r=\"4.0\" style=\"fill:blue;stroke:black;stroke-width:1.0\"\/>\n",
       "<circle cx=\"126\" cy=\"291\" r=\"4.0\" style=\"fill:red;stroke:black;stroke-width:1.0\"\/>\n",
       "<circle cx=\"89\" cy=\"185\" r=\"4.0\" style=\"fill:blue;stroke:black;stroke-width:1.0\"\/>\n",
       "<circle cx=\"163\" cy=\"139\" r=\"4.0\" style=\"fill:blue;stroke:black;stroke-width:1.0\"\/>\n",
       "<circle cx=\"140\" cy=\"199\" r=\"4.0\" style=\"fill:red;stroke:black;stroke-width:1.0\"\/>\n",
       "<circle cx=\"136\" cy=\"153\" r=\"4.0\" style=\"fill:blue;stroke:black;stroke-width:1.0\"\/>\n",
       "<circle cx=\"459\" cy=\"247\" r=\"4.0\" style=\"fill:red;stroke:black;stroke-width:1.0\"\/>\n",
       "<circle cx=\"340\" cy=\"127\" r=\"4.0\" style=\"fill:blue;stroke:black;stroke-width:1.0\"\/>\n",
       "<circle cx=\"93\" cy=\"150\" r=\"4.0\" style=\"fill:blue;stroke:black;stroke-width:1.0\"\/>\n",
       "<circle cx=\"213\" cy=\"190\" r=\"4.0\" style=\"fill:blue;stroke:black;stroke-width:1.0\"\/>\n",
       "<circle cx=\"161\" cy=\"223\" r=\"4.0\" style=\"fill:red;stroke:black;stroke-width:1.0\"\/>\n",
       "<circle cx=\"449\" cy=\"292\" r=\"4.0\" style=\"fill:red;stroke:black;stroke-width:1.0\"\/>\n",
       "<circle cx=\"295\" cy=\"39\" r=\"4.0\" style=\"fill:blue;stroke:black;stroke-width:1.0\"\/>\n",
       "<circle cx=\"99\" cy=\"216\" r=\"4.0\" style=\"fill:blue;stroke:black;stroke-width:1.0\"\/>\n",
       "<circle cx=\"150\" cy=\"50\" r=\"4.0\" style=\"fill:blue;stroke:black;stroke-width:1.0\"\/>\n",
       "<circle cx=\"66\" cy=\"260\" r=\"4.0\" style=\"fill:blue;stroke:black;stroke-width:1.0\"\/>\n",
       "<circle cx=\"148\" cy=\"152\" r=\"4.0\" style=\"fill:blue;stroke:black;stroke-width:1.0\"\/>\n",
       "<circle cx=\"372\" cy=\"288\" r=\"4.0\" style=\"fill:red;stroke:black;stroke-width:1.0\"\/>\n",
       "<circle cx=\"231\" cy=\"28\" r=\"4.0\" style=\"fill:blue;stroke:black;stroke-width:1.0\"\/>\n",
       "<circle cx=\"323\" cy=\"265\" r=\"4.0\" style=\"fill:red;stroke:black;stroke-width:1.0\"\/>\n",
       "<circle cx=\"58\" cy=\"258\" r=\"4.0\" style=\"fill:blue;stroke:black;stroke-width:1.0\"\/>\n",
       "<circle cx=\"234\" cy=\"164\" r=\"4.0\" style=\"fill:blue;stroke:black;stroke-width:1.0\"\/>\n",
       "<circle cx=\"139\" cy=\"119\" r=\"4.0\" style=\"fill:blue;stroke:black;stroke-width:1.0\"\/>\n",
       "<circle cx=\"436\" cy=\"168\" r=\"4.0\" style=\"fill:red;stroke:black;stroke-width:1.0\"\/>\n",
       "<circle cx=\"246\" cy=\"128\" r=\"4.0\" style=\"fill:blue;stroke:black;stroke-width:1.0\"\/>\n",
       "<circle cx=\"435\" cy=\"293\" r=\"4.0\" style=\"fill:red;stroke:black;stroke-width:1.0\"\/>\n",
       "<circle cx=\"451\" cy=\"250\" r=\"4.0\" style=\"fill:blue;stroke:black;stroke-width:1.0\"\/>\n",
       "<circle cx=\"157\" cy=\"176\" r=\"4.0\" style=\"fill:blue;stroke:black;stroke-width:1.0\"\/>\n",
       "<circle cx=\"383\" cy=\"262\" r=\"4.0\" style=\"fill:red;stroke:black;stroke-width:1.0\"\/>\n",
       "<circle cx=\"116\" cy=\"119\" r=\"4.0\" style=\"fill:blue;stroke:black;stroke-width:1.0\"\/>\n",
       "<circle cx=\"494\" cy=\"307\" r=\"4.0\" style=\"fill:red;stroke:black;stroke-width:1.0\"\/>\n",
       "<circle cx=\"182\" cy=\"244\" r=\"4.0\" style=\"fill:red;stroke:black;stroke-width:1.0\"\/>\n",
       "<circle cx=\"490\" cy=\"224\" r=\"4.0\" style=\"fill:red;stroke:black;stroke-width:1.0\"\/>\n",
       "<circle cx=\"256\" cy=\"70\" r=\"4.0\" style=\"fill:blue;stroke:black;stroke-width:1.0\"\/>\n",
       "<circle cx=\"103\" cy=\"109\" r=\"4.0\" style=\"fill:blue;stroke:black;stroke-width:1.0\"\/>\n",
       "<circle cx=\"437\" cy=\"137\" r=\"4.0\" style=\"fill:red;stroke:black;stroke-width:1.0\"\/>\n",
       "<circle cx=\"343\" cy=\"120\" r=\"4.0\" style=\"fill:blue;stroke:black;stroke-width:1.0\"\/>\n",
       "<circle cx=\"263\" cy=\"87\" r=\"4.0\" style=\"fill:blue;stroke:black;stroke-width:1.0\"\/>\n",
       "<circle cx=\"140\" cy=\"212\" r=\"4.0\" style=\"fill:red;stroke:black;stroke-width:1.0\"\/>\n",
       "<circle cx=\"237\" cy=\"105\" r=\"4.0\" style=\"fill:blue;stroke:black;stroke-width:1.0\"\/>\n",
       "<circle cx=\"334\" cy=\"51\" r=\"4.0\" style=\"fill:blue;stroke:black;stroke-width:1.0\"\/>\n",
       "<circle cx=\"434\" cy=\"283\" r=\"4.0\" style=\"fill:red;stroke:black;stroke-width:1.0\"\/>\n",
       "<circle cx=\"344\" cy=\"286\" r=\"4.0\" style=\"fill:red;stroke:black;stroke-width:1.0\"\/>\n",
       "<circle cx=\"282\" cy=\"180\" r=\"4.0\" style=\"fill:blue;stroke:black;stroke-width:1.0\"\/>\n",
       "<circle cx=\"100\" cy=\"263\" r=\"4.0\" style=\"fill:blue;stroke:black;stroke-width:1.0\"\/>\n",
       "<circle cx=\"226\" cy=\"149\" r=\"4.0\" style=\"fill:blue;stroke:black;stroke-width:1.0\"\/>\n",
       "<circle cx=\"184\" cy=\"51\" r=\"4.0\" style=\"fill:blue;stroke:black;stroke-width:1.0\"\/>\n",
       "<circle cx=\"153\" cy=\"107\" r=\"4.0\" style=\"fill:blue;stroke:black;stroke-width:1.0\"\/>\n",
       "<circle cx=\"55\" cy=\"279\" r=\"4.0\" style=\"fill:red;stroke:black;stroke-width:1.0\"\/>\n",
       "<circle cx=\"462\" cy=\"185\" r=\"4.0\" style=\"fill:red;stroke:black;stroke-width:1.0\"\/>\n",
       "<circle cx=\"472\" cy=\"211\" r=\"4.0\" style=\"fill:red;stroke:black;stroke-width:1.0\"\/>\n",
       "<circle cx=\"351\" cy=\"97\" r=\"4.0\" style=\"fill:blue;stroke:black;stroke-width:1.0\"\/>\n",
       "<circle cx=\"282\" cy=\"96\" r=\"4.0\" style=\"fill:blue;stroke:black;stroke-width:1.0\"\/>\n",
       "<circle cx=\"119\" cy=\"192\" r=\"4.0\" style=\"fill:red;stroke:black;stroke-width:1.0\"\/>\n",
       "<circle cx=\"119\" cy=\"204\" r=\"4.0\" style=\"fill:blue;stroke:black;stroke-width:1.0\"\/>\n",
       "<circle cx=\"420\" cy=\"216\" r=\"4.0\" style=\"fill:red;stroke:black;stroke-width:1.0\"\/>\n",
       "<circle cx=\"350\" cy=\"186\" r=\"4.0\" style=\"fill:blue;stroke:black;stroke-width:1.0\"\/>\n",
       "<circle cx=\"311\" cy=\"175\" r=\"4.0\" style=\"fill:blue;stroke:black;stroke-width:1.0\"\/>\n",
       "<circle cx=\"172\" cy=\"84\" r=\"4.0\" style=\"fill:blue;stroke:black;stroke-width:1.0\"\/>\n",
       "<circle cx=\"271\" cy=\"20\" r=\"4.0\" style=\"fill:blue;stroke:black;stroke-width:1.0\"\/>\n",
       "<circle cx=\"431\" cy=\"104\" r=\"4.0\" style=\"fill:blue;stroke:black;stroke-width:1.0\"\/>\n",
       "<circle cx=\"409\" cy=\"210\" r=\"4.0\" style=\"fill:red;stroke:black;stroke-width:1.0\"\/>\n",
       "<circle cx=\"63\" cy=\"169\" r=\"4.0\" style=\"fill:blue;stroke:black;stroke-width:1.0\"\/>\n",
       "<circle cx=\"182\" cy=\"162\" r=\"4.0\" style=\"fill:blue;stroke:black;stroke-width:1.0\"\/>\n",
       "<circle cx=\"256\" cy=\"36\" r=\"4.0\" style=\"fill:blue;stroke:black;stroke-width:1.0\"\/>\n",
       "<circle cx=\"374\" cy=\"220\" r=\"4.0\" style=\"fill:red;stroke:black;stroke-width:1.0\"\/>\n",
       "<circle cx=\"442\" cy=\"145\" r=\"4.0\" style=\"fill:red;stroke:black;stroke-width:1.0\"\/>\n",
       "<circle cx=\"305\" cy=\"77\" r=\"4.0\" style=\"fill:blue;stroke:black;stroke-width:1.0\"\/>\n",
       "<circle cx=\"299\" cy=\"109\" r=\"4.0\" style=\"fill:blue;stroke:black;stroke-width:1.0\"\/>\n",
       "<circle cx=\"142\" cy=\"74\" r=\"4.0\" style=\"fill:blue;stroke:black;stroke-width:1.0\"\/>\n",
       "<circle cx=\"55\" cy=\"289\" r=\"4.0\" style=\"fill:red;stroke:black;stroke-width:1.0\"\/>\n",
       "<circle cx=\"55\" cy=\"319\" r=\"4.0\" style=\"fill:red;stroke:black;stroke-width:1.0\"\/>\n",
       "<\/svg>"
      ]
     },
     "metadata":{
      
     },
     "output_type":"display_data"
    }
   ],
   "metadata":{
    "datalore":{
     "type":"CODE",
     "hide_input_from_viewers":false,
     "hide_output_from_viewers":false,
     "node_id":"ufMiFfeQzLJjNVLYka1ZPY"
    }
   }
  },
  {
   "cell_type":"code",
   "source":[
    "neutral = np.argwhere(labels_pred==2).ravel()"
   ],
   "execution_count":193,
   "outputs":[
    
   ],
   "metadata":{
    "datalore":{
     "type":"CODE",
     "hide_input_from_viewers":false,
     "hide_output_from_viewers":false,
     "node_id":"uydv116A3BtmaA5FNtVIRx"
    }
   }
  },
  {
   "cell_type":"code",
   "source":[
    "print(names[neutral])"
   ],
   "execution_count":194,
   "outputs":[
    {
     "name":"stdout",
     "text":[
      "['Laure de La Raudière']\n"
     ],
     "output_type":"stream"
    }
   ],
   "metadata":{
    "datalore":{
     "type":"CODE",
     "hide_input_from_viewers":false,
     "hide_output_from_viewers":false,
     "node_id":"CsghddLviDfXiMpFxUjr2K"
    }
   }
  },
  {
   "cell_type":"code",
   "source":[
    "# dissident\n",
    "print(names[majority * (labels_pred!=label_pred_majority)])"
   ],
   "execution_count":195,
   "outputs":[
    {
     "name":"stdout",
     "text":[
      "['Frédérique Dumas' 'Maud Petit' 'Sonia Krimi' 'Richard Ramos'\n",
      " 'Sébastien Nadot']\n"
     ],
     "output_type":"stream"
    }
   ],
   "metadata":{
    "datalore":{
     "type":"CODE",
     "hide_input_from_viewers":false,
     "hide_output_from_viewers":false,
     "node_id":"f4Gk0OSWmRG3LM1tWCtW34"
    }
   }
  },
  {
   "cell_type":"markdown",
   "source":[
    "## DIFUSSION"
   ],
   "attachments":{
    
   },
   "metadata":{
    "datalore":{
     "type":"MD",
     "hide_input_from_viewers":false,
     "hide_output_from_viewers":false,
     "node_id":"cAuCMGwxmamH7EhUFk2wNS"
    }
   }
  },
  {
   "cell_type":"code",
   "source":[
    "diffusion = Diffusion(n_iter=4)"
   ],
   "execution_count":196,
   "outputs":[
    
   ],
   "metadata":{
    "datalore":{
     "type":"CODE",
     "hide_input_from_viewers":false,
     "hide_output_from_viewers":false,
     "node_id":"NgmExk82hooo5YjYltAuMs"
    }
   }
  },
  {
   "cell_type":"code",
   "source":[
    "scores = diffusion.fit_transform(biadjacency_for, seeds_row=majority)"
   ],
   "execution_count":197,
   "outputs":[
    
   ],
   "metadata":{
    "datalore":{
     "type":"CODE",
     "hide_input_from_viewers":false,
     "hide_output_from_viewers":false,
     "node_id":"IyK4fioFEgWe32IV3bAbGc"
    }
   }
  },
  {
   "cell_type":"code",
   "source":[
    "np.quantile(scores, [0.1, 0.5, 0.9])"
   ],
   "execution_count":198,
   "outputs":[
    {
     "data":{
      "text\/html":[
       
      ]
     },
     "metadata":{
      
     },
     "output_type":"display_data"
    }
   ],
   "metadata":{
    "datalore":{
     "type":"CODE",
     "hide_input_from_viewers":false,
     "hide_output_from_viewers":false,
     "node_id":"SEPWyQ7t9vlIR43hOv1kq0"
    }
   }
  },
  {
   "cell_type":"code",
   "source":[
    "image = svg_graph(position=position, scores=scores, node_size=node_size,\n",
    "                  width=width, height=height)\n",
    "SVG(image)"
   ],
   "execution_count":199,
   "outputs":[
    {
     "data":{
      "image\/svg+xml":[
       "<svg xmlns=\"http:\/\/www.w3.org\/2000\/svg\" width=\"520\" height=\"340\">\n",
       "<circle cx=\"239\" cy=\"37\" r=\"4.0\" style=\"fill:rgb(190, 35, 45);stroke:black;stroke-width:1.0\"\/>\n",
       "<circle cx=\"146\" cy=\"191\" r=\"4.0\" style=\"fill:rgb(86, 115, 224);stroke:black;stroke-width:1.0\"\/>\n",
       "<circle cx=\"399\" cy=\"192\" r=\"4.0\" style=\"fill:rgb(208, 218, 233);stroke:black;stroke-width:1.0\"\/>\n",
       "<circle cx=\"49\" cy=\"203\" r=\"4.0\" style=\"fill:rgb(194, 45, 49);stroke:black;stroke-width:1.0\"\/>\n",
       "<circle cx=\"69\" cy=\"316\" r=\"4.0\" style=\"fill:rgb(88, 118, 226);stroke:black;stroke-width:1.0\"\/>\n",
       "<circle cx=\"181\" cy=\"108\" r=\"4.0\" style=\"fill:rgb(190, 35, 45);stroke:black;stroke-width:1.0\"\/>\n",
       "<circle cx=\"342\" cy=\"54\" r=\"4.0\" style=\"fill:rgb(201, 59, 55);stroke:black;stroke-width:1.0\"\/>\n",
       "<circle cx=\"126\" cy=\"301\" r=\"4.0\" style=\"fill:rgb(86, 115, 224);stroke:black;stroke-width:1.0\"\/>\n",
       "<circle cx=\"87\" cy=\"130\" r=\"4.0\" style=\"fill:rgb(197, 50, 51);stroke:black;stroke-width:1.0\"\/>\n",
       "<circle cx=\"68\" cy=\"250\" r=\"4.0\" style=\"fill:rgb(197, 50, 51);stroke:black;stroke-width:1.0\"\/>\n",
       "<circle cx=\"246\" cy=\"55\" r=\"4.0\" style=\"fill:rgb(190, 35, 45);stroke:black;stroke-width:1.0\"\/>\n",
       "<circle cx=\"395\" cy=\"77\" r=\"4.0\" style=\"fill:rgb(207, 70, 61);stroke:black;stroke-width:1.0\"\/>\n",
       "<circle cx=\"363\" cy=\"145\" r=\"4.0\" style=\"fill:rgb(242, 145, 115);stroke:black;stroke-width:1.0\"\/>\n",
       "<circle cx=\"493\" cy=\"297\" r=\"4.0\" style=\"fill:rgb(134, 169, 252);stroke:black;stroke-width:1.0\"\/>\n",
       "<circle cx=\"482\" cy=\"254\" r=\"4.0\" style=\"fill:rgb(138, 173, 253);stroke:black;stroke-width:1.0\"\/>\n",
       "<circle cx=\"415\" cy=\"206\" r=\"4.0\" style=\"fill:rgb(166, 195, 253);stroke:black;stroke-width:1.0\"\/>\n",
       "<circle cx=\"201\" cy=\"63\" r=\"4.0\" style=\"fill:rgb(194, 45, 49);stroke:black;stroke-width:1.0\"\/>\n",
       "<circle cx=\"160\" cy=\"102\" r=\"4.0\" style=\"fill:rgb(197, 50, 51);stroke:black;stroke-width:1.0\"\/>\n",
       "<circle cx=\"52\" cy=\"194\" r=\"4.0\" style=\"fill:rgb(194, 45, 49);stroke:black;stroke-width:1.0\"\/>\n",
       "<circle cx=\"379\" cy=\"119\" r=\"4.0\" style=\"fill:rgb(190, 35, 45);stroke:black;stroke-width:1.0\"\/>\n",
       "<circle cx=\"313\" cy=\"79\" r=\"4.0\" style=\"fill:rgb(197, 50, 51);stroke:black;stroke-width:1.0\"\/>\n",
       "<circle cx=\"189\" cy=\"209\" r=\"4.0\" style=\"fill:rgb(187, 26, 43);stroke:black;stroke-width:1.0\"\/>\n",
       "<circle cx=\"479\" cy=\"288\" r=\"4.0\" style=\"fill:rgb(134, 169, 252);stroke:black;stroke-width:1.0\"\/>\n",
       "<circle cx=\"161\" cy=\"284\" r=\"4.0\" style=\"fill:rgb(130, 165, 251);stroke:black;stroke-width:1.0\"\/>\n",
       "<circle cx=\"95\" cy=\"227\" r=\"4.0\" style=\"fill:rgb(201, 59, 55);stroke:black;stroke-width:1.0\"\/>\n",
       "<circle cx=\"153\" cy=\"88\" r=\"4.0\" style=\"fill:rgb(190, 35, 45);stroke:black;stroke-width:1.0\"\/>\n",
       "<circle cx=\"210\" cy=\"61\" r=\"4.0\" style=\"fill:rgb(197, 50, 51);stroke:black;stroke-width:1.0\"\/>\n",
       "<circle cx=\"420\" cy=\"102\" r=\"4.0\" style=\"fill:rgb(80, 107, 218);stroke:black;stroke-width:1.0\"\/>\n",
       "<circle cx=\"416\" cy=\"250\" r=\"4.0\" style=\"fill:rgb(217, 220, 224);stroke:black;stroke-width:1.0\"\/>\n",
       "<circle cx=\"461\" cy=\"258\" r=\"4.0\" style=\"fill:rgb(159, 190, 254);stroke:black;stroke-width:1.0\"\/>\n",
       "<circle cx=\"255\" cy=\"161\" r=\"4.0\" style=\"fill:rgb(197, 50, 51);stroke:black;stroke-width:1.0\"\/>\n",
       "<circle cx=\"415\" cy=\"147\" r=\"4.0\" style=\"fill:rgb(222, 219, 218);stroke:black;stroke-width:1.0\"\/>\n",
       "<circle cx=\"452\" cy=\"260\" r=\"4.0\" style=\"fill:rgb(148, 181, 254);stroke:black;stroke-width:1.0\"\/>\n",
       "<circle cx=\"149\" cy=\"70\" r=\"4.0\" style=\"fill:rgb(214, 82, 67);stroke:black;stroke-width:1.0\"\/>\n",
       "<circle cx=\"56\" cy=\"151\" r=\"4.0\" style=\"fill:rgb(194, 45, 49);stroke:black;stroke-width:1.0\"\/>\n",
       "<circle cx=\"399\" cy=\"204\" r=\"4.0\" style=\"fill:rgb(197, 213, 242);stroke:black;stroke-width:1.0\"\/>\n",
       "<circle cx=\"160\" cy=\"296\" r=\"4.0\" style=\"fill:rgb(159, 190, 254);stroke:black;stroke-width:1.0\"\/>\n",
       "<circle cx=\"401\" cy=\"294\" r=\"4.0\" style=\"fill:rgb(163, 193, 254);stroke:black;stroke-width:1.0\"\/>\n",
       "<circle cx=\"171\" cy=\"162\" r=\"4.0\" style=\"fill:rgb(205, 66, 58);stroke:black;stroke-width:1.0\"\/>\n",
       "<circle cx=\"192\" cy=\"165\" r=\"4.0\" style=\"fill:rgb(182, 13, 40);stroke:black;stroke-width:1.0\"\/>\n",
       "<circle cx=\"477\" cy=\"229\" r=\"4.0\" style=\"fill:rgb(103, 136, 237);stroke:black;stroke-width:1.0\"\/>\n",
       "<circle cx=\"175\" cy=\"120\" r=\"4.0\" style=\"fill:rgb(197, 50, 51);stroke:black;stroke-width:1.0\"\/>\n",
       "<circle cx=\"272\" cy=\"104\" r=\"4.0\" style=\"fill:rgb(187, 26, 43);stroke:black;stroke-width:1.0\"\/>\n",
       "<circle cx=\"365\" cy=\"309\" r=\"4.0\" style=\"fill:rgb(176, 203, 251);stroke:black;stroke-width:1.0\"\/>\n",
       "<circle cx=\"437\" cy=\"203\" r=\"4.0\" style=\"fill:rgb(148, 181, 254);stroke:black;stroke-width:1.0\"\/>\n",
       "<circle cx=\"429\" cy=\"246\" r=\"4.0\" style=\"fill:rgb(210, 218, 231);stroke:black;stroke-width:1.0\"\/>\n",
       "<circle cx=\"160\" cy=\"52\" r=\"4.0\" style=\"fill:rgb(194, 45, 49);stroke:black;stroke-width:1.0\"\/>\n",
       "<circle cx=\"145\" cy=\"220\" r=\"4.0\" style=\"fill:rgb(80, 107, 218);stroke:black;stroke-width:1.0\"\/>\n",
       "<circle cx=\"84\" cy=\"293\" r=\"4.0\" style=\"fill:rgb(76, 102, 214);stroke:black;stroke-width:1.0\"\/>\n",
       "<circle cx=\"450\" cy=\"196\" r=\"4.0\" style=\"fill:rgb(127, 162, 250);stroke:black;stroke-width:1.0\"\/>\n",
       "<circle cx=\"99\" cy=\"168\" r=\"4.0\" style=\"fill:rgb(197, 50, 51);stroke:black;stroke-width:1.0\"\/>\n",
       "<circle cx=\"217\" cy=\"100\" r=\"4.0\" style=\"fill:rgb(190, 35, 45);stroke:black;stroke-width:1.0\"\/>\n",
       "<circle cx=\"117\" cy=\"83\" r=\"4.0\" style=\"fill:rgb(201, 59, 55);stroke:black;stroke-width:1.0\"\/>\n",
       "<circle cx=\"97\" cy=\"315\" r=\"4.0\" style=\"fill:rgb(88, 118, 226);stroke:black;stroke-width:1.0\"\/>\n",
       "<circle cx=\"146\" cy=\"113\" r=\"4.0\" style=\"fill:rgb(187, 209, 247);stroke:black;stroke-width:1.0\"\/>\n",
       "<circle cx=\"378\" cy=\"199\" r=\"4.0\" style=\"fill:rgb(170, 198, 253);stroke:black;stroke-width:1.0\"\/>\n",
       "<circle cx=\"463\" cy=\"151\" r=\"4.0\" style=\"fill:rgb(189, 210, 246);stroke:black;stroke-width:1.0\"\/>\n",
       "<circle cx=\"299\" cy=\"58\" r=\"4.0\" style=\"fill:rgb(194, 45, 49);stroke:black;stroke-width:1.0\"\/>\n",
       "<circle cx=\"228\" cy=\"57\" r=\"4.0\" style=\"fill:rgb(197, 50, 51);stroke:black;stroke-width:1.0\"\/>\n",
       "<circle cx=\"372\" cy=\"113\" r=\"4.0\" style=\"fill:rgb(201, 59, 55);stroke:black;stroke-width:1.0\"\/>\n",
       "<circle cx=\"127\" cy=\"280\" r=\"4.0\" style=\"fill:rgb(96, 128, 232);stroke:black;stroke-width:1.0\"\/>\n",
       "<circle cx=\"213\" cy=\"77\" r=\"4.0\" style=\"fill:rgb(187, 26, 43);stroke:black;stroke-width:1.0\"\/>\n",
       "<circle cx=\"319\" cy=\"45\" r=\"4.0\" style=\"fill:rgb(182, 13, 40);stroke:black;stroke-width:1.0\"\/>\n",
       "<circle cx=\"78\" cy=\"212\" r=\"4.0\" style=\"fill:rgb(194, 45, 49);stroke:black;stroke-width:1.0\"\/>\n",
       "<circle cx=\"342\" cy=\"255\" r=\"4.0\" style=\"fill:rgb(166, 195, 253);stroke:black;stroke-width:1.0\"\/>\n",
       "<circle cx=\"207\" cy=\"157\" r=\"4.0\" style=\"fill:rgb(197, 50, 51);stroke:black;stroke-width:1.0\"\/>\n",
       "<circle cx=\"388\" cy=\"217\" r=\"4.0\" style=\"fill:rgb(109, 144, 241);stroke:black;stroke-width:1.0\"\/>\n",
       "<circle cx=\"256\" cy=\"26\" r=\"4.0\" style=\"fill:rgb(239, 137, 108);stroke:black;stroke-width:1.0\"\/>\n",
       "<circle cx=\"357\" cy=\"284\" r=\"4.0\" style=\"fill:rgb(246, 186, 159);stroke:black;stroke-width:1.0\"\/>\n",
       "<circle cx=\"82\" cy=\"168\" r=\"4.0\" style=\"fill:rgb(197, 50, 51);stroke:black;stroke-width:1.0\"\/>\n",
       "<circle cx=\"462\" cy=\"234\" r=\"4.0\" style=\"fill:rgb(141, 175, 253);stroke:black;stroke-width:1.0\"\/>\n",
       "<circle cx=\"310\" cy=\"103\" r=\"4.0\" style=\"fill:rgb(217, 88, 71);stroke:black;stroke-width:1.0\"\/>\n",
       "<circle cx=\"392\" cy=\"132\" r=\"4.0\" style=\"fill:rgb(225, 104, 82);stroke:black;stroke-width:1.0\"\/>\n",
       "<circle cx=\"409\" cy=\"102\" r=\"4.0\" style=\"fill:rgb(116, 151, 245);stroke:black;stroke-width:1.0\"\/>\n",
       "<circle cx=\"429\" cy=\"185\" r=\"4.0\" style=\"fill:rgb(227, 217, 211);stroke:black;stroke-width:1.0\"\/>\n",
       "<circle cx=\"292\" cy=\"98\" r=\"4.0\" style=\"fill:rgb(197, 50, 51);stroke:black;stroke-width:1.0\"\/>\n",
       "<circle cx=\"103\" cy=\"147\" r=\"4.0\" style=\"fill:rgb(194, 45, 49);stroke:black;stroke-width:1.0\"\/>\n",
       "<circle cx=\"351\" cy=\"212\" r=\"4.0\" style=\"fill:rgb(247, 177, 148);stroke:black;stroke-width:1.0\"\/>\n",
       "<circle cx=\"263\" cy=\"62\" r=\"4.0\" style=\"fill:rgb(194, 45, 49);stroke:black;stroke-width:1.0\"\/>\n",
       "<circle cx=\"187\" cy=\"150\" r=\"4.0\" style=\"fill:rgb(187, 26, 43);stroke:black;stroke-width:1.0\"\/>\n",
       "<circle cx=\"49\" cy=\"181\" r=\"4.0\" style=\"fill:rgb(187, 26, 43);stroke:black;stroke-width:1.0\"\/>\n",
       "<circle cx=\"435\" cy=\"315\" r=\"4.0\" style=\"fill:rgb(155, 187, 254);stroke:black;stroke-width:1.0\"\/>\n",
       "<circle cx=\"356\" cy=\"139\" r=\"4.0\" style=\"fill:rgb(120, 155, 247);stroke:black;stroke-width:1.0\"\/>\n",
       "<circle cx=\"39\" cy=\"298\" r=\"4.0\" style=\"fill:rgb(243, 198, 176);stroke:black;stroke-width:1.0\"\/>\n",
       "<circle cx=\"84\" cy=\"283\" r=\"4.0\" style=\"fill:rgb(82, 110, 220);stroke:black;stroke-width:1.0\"\/>\n",
       "<circle cx=\"172\" cy=\"232\" r=\"4.0\" style=\"fill:rgb(112, 147, 243);stroke:black;stroke-width:1.0\"\/>\n",
       "<circle cx=\"289\" cy=\"113\" r=\"4.0\" style=\"fill:rgb(194, 45, 49);stroke:black;stroke-width:1.0\"\/>\n",
       "<circle cx=\"380\" cy=\"66\" r=\"4.0\" style=\"fill:rgb(197, 50, 51);stroke:black;stroke-width:1.0\"\/>\n",
       "<circle cx=\"326\" cy=\"48\" r=\"4.0\" style=\"fill:rgb(190, 35, 45);stroke:black;stroke-width:1.0\"\/>\n",
       "<circle cx=\"446\" cy=\"186\" r=\"4.0\" style=\"fill:rgb(202, 216, 238);stroke:black;stroke-width:1.0\"\/>\n",
       "<circle cx=\"287\" cy=\"38\" r=\"4.0\" style=\"fill:rgb(194, 45, 49);stroke:black;stroke-width:1.0\"\/>\n",
       "<circle cx=\"205\" cy=\"79\" r=\"4.0\" style=\"fill:rgb(187, 26, 43);stroke:black;stroke-width:1.0\"\/>\n",
       "<circle cx=\"126\" cy=\"132\" r=\"4.0\" style=\"fill:rgb(187, 26, 43);stroke:black;stroke-width:1.0\"\/>\n",
       "<circle cx=\"441\" cy=\"177\" r=\"4.0\" style=\"fill:rgb(246, 189, 164);stroke:black;stroke-width:1.0\"\/>\n",
       "<circle cx=\"453\" cy=\"206\" r=\"4.0\" style=\"fill:rgb(127, 162, 250);stroke:black;stroke-width:1.0\"\/>\n",
       "<circle cx=\"109\" cy=\"210\" r=\"4.0\" style=\"fill:rgb(99, 131, 234);stroke:black;stroke-width:1.0\"\/>\n",
       "<circle cx=\"142\" cy=\"55\" r=\"4.0\" style=\"fill:rgb(211, 77, 64);stroke:black;stroke-width:1.0\"\/>\n",
       "<circle cx=\"167\" cy=\"242\" r=\"4.0\" style=\"fill:rgb(141, 175, 253);stroke:black;stroke-width:1.0\"\/>\n",
       "<circle cx=\"170\" cy=\"133\" r=\"4.0\" style=\"fill:rgb(197, 50, 51);stroke:black;stroke-width:1.0\"\/>\n",
       "<circle cx=\"37\" cy=\"254\" r=\"4.0\" style=\"fill:rgb(197, 50, 51);stroke:black;stroke-width:1.0\"\/>\n",
       "<circle cx=\"163\" cy=\"61\" r=\"4.0\" style=\"fill:rgb(194, 45, 49);stroke:black;stroke-width:1.0\"\/>\n",
       "<circle cx=\"197\" cy=\"82\" r=\"4.0\" style=\"fill:rgb(190, 35, 45);stroke:black;stroke-width:1.0\"\/>\n",
       "<circle cx=\"415\" cy=\"109\" r=\"4.0\" style=\"fill:rgb(205, 66, 58);stroke:black;stroke-width:1.0\"\/>\n",
       "<circle cx=\"394\" cy=\"183\" r=\"4.0\" style=\"fill:rgb(197, 50, 51);stroke:black;stroke-width:1.0\"\/>\n",
       "<circle cx=\"421\" cy=\"284\" r=\"4.0\" style=\"fill:rgb(138, 173, 253);stroke:black;stroke-width:1.0\"\/>\n",
       "<circle cx=\"110\" cy=\"127\" r=\"4.0\" style=\"fill:rgb(197, 50, 51);stroke:black;stroke-width:1.0\"\/>\n",
       "<circle cx=\"127\" cy=\"66\" r=\"4.0\" style=\"fill:rgb(187, 26, 43);stroke:black;stroke-width:1.0\"\/>\n",
       "<circle cx=\"210\" cy=\"138\" r=\"4.0\" style=\"fill:rgb(187, 26, 43);stroke:black;stroke-width:1.0\"\/>\n",
       "<circle cx=\"118\" cy=\"177\" r=\"4.0\" style=\"fill:rgb(201, 59, 55);stroke:black;stroke-width:1.0\"\/>\n",
       "<circle cx=\"22\" cy=\"254\" r=\"4.0\" style=\"fill:rgb(205, 66, 58);stroke:black;stroke-width:1.0\"\/>\n",
       "<circle cx=\"52\" cy=\"172\" r=\"4.0\" style=\"fill:rgb(187, 26, 43);stroke:black;stroke-width:1.0\"\/>\n",
       "<circle cx=\"296\" cy=\"75\" r=\"4.0\" style=\"fill:rgb(190, 35, 45);stroke:black;stroke-width:1.0\"\/>\n",
       "<circle cx=\"288\" cy=\"73\" r=\"4.0\" style=\"fill:rgb(207, 70, 61);stroke:black;stroke-width:1.0\"\/>\n",
       "<circle cx=\"33\" cy=\"206\" r=\"4.0\" style=\"fill:rgb(190, 35, 45);stroke:black;stroke-width:1.0\"\/>\n",
       "<circle cx=\"288\" cy=\"28\" r=\"4.0\" style=\"fill:rgb(214, 82, 67);stroke:black;stroke-width:1.0\"\/>\n",
       "<circle cx=\"462\" cy=\"164\" r=\"4.0\" style=\"fill:rgb(163, 193, 254);stroke:black;stroke-width:1.0\"\/>\n",
       "<circle cx=\"115\" cy=\"96\" r=\"4.0\" style=\"fill:rgb(197, 50, 51);stroke:black;stroke-width:1.0\"\/>\n",
       "<circle cx=\"425\" cy=\"150\" r=\"4.0\" style=\"fill:rgb(187, 209, 247);stroke:black;stroke-width:1.0\"\/>\n",
       "<circle cx=\"138\" cy=\"66\" r=\"4.0\" style=\"fill:rgb(182, 13, 40);stroke:black;stroke-width:1.0\"\/>\n",
       "<circle cx=\"476\" cy=\"199\" r=\"4.0\" style=\"fill:rgb(127, 162, 250);stroke:black;stroke-width:1.0\"\/>\n",
       "<circle cx=\"204\" cy=\"196\" r=\"4.0\" style=\"fill:rgb(197, 50, 51);stroke:black;stroke-width:1.0\"\/>\n",
       "<circle cx=\"177\" cy=\"54\" r=\"4.0\" style=\"fill:rgb(197, 50, 51);stroke:black;stroke-width:1.0\"\/>\n",
       "<circle cx=\"118\" cy=\"285\" r=\"4.0\" style=\"fill:rgb(116, 151, 245);stroke:black;stroke-width:1.0\"\/>\n",
       "<circle cx=\"155\" cy=\"145\" r=\"4.0\" style=\"fill:rgb(197, 50, 51);stroke:black;stroke-width:1.0\"\/>\n",
       "<circle cx=\"105\" cy=\"220\" r=\"4.0\" style=\"fill:rgb(127, 162, 250);stroke:black;stroke-width:1.0\"\/>\n",
       "<circle cx=\"479\" cy=\"320\" r=\"4.0\" style=\"fill:rgb(103, 136, 237);stroke:black;stroke-width:1.0\"\/>\n",
       "<circle cx=\"136\" cy=\"241\" r=\"4.0\" style=\"fill:rgb(92, 123, 229);stroke:black;stroke-width:1.0\"\/>\n",
       "<circle cx=\"308\" cy=\"138\" r=\"4.0\" style=\"fill:rgb(247, 179, 151);stroke:black;stroke-width:1.0\"\/>\n",
       "<circle cx=\"431\" cy=\"130\" r=\"4.0\" style=\"fill:rgb(227, 217, 211);stroke:black;stroke-width:1.0\"\/>\n",
       "<circle cx=\"120\" cy=\"164\" r=\"4.0\" style=\"fill:rgb(201, 59, 55);stroke:black;stroke-width:1.0\"\/>\n",
       "<circle cx=\"97\" cy=\"294\" r=\"4.0\" style=\"fill:rgb(80, 107, 218);stroke:black;stroke-width:1.0\"\/>\n",
       "<circle cx=\"480\" cy=\"241\" r=\"4.0\" style=\"fill:rgb(120, 155, 247);stroke:black;stroke-width:1.0\"\/>\n",
       "<circle cx=\"448\" cy=\"239\" r=\"4.0\" style=\"fill:rgb(145, 179, 254);stroke:black;stroke-width:1.0\"\/>\n",
       "<circle cx=\"150\" cy=\"211\" r=\"4.0\" style=\"fill:rgb(112, 147, 243);stroke:black;stroke-width:1.0\"\/>\n",
       "<circle cx=\"263\" cy=\"26\" r=\"4.0\" style=\"fill:rgb(187, 26, 43);stroke:black;stroke-width:1.0\"\/>\n",
       "<circle cx=\"39\" cy=\"241\" r=\"4.0\" style=\"fill:rgb(242, 145, 115);stroke:black;stroke-width:1.0\"\/>\n",
       "<circle cx=\"271\" cy=\"71\" r=\"4.0\" style=\"fill:rgb(211, 77, 64);stroke:black;stroke-width:1.0\"\/>\n",
       "<circle cx=\"40\" cy=\"320\" r=\"4.0\" style=\"fill:rgb(217, 220, 224);stroke:black;stroke-width:1.0\"\/>\n",
       "<circle cx=\"272\" cy=\"178\" r=\"4.0\" style=\"fill:rgb(234, 123, 96);stroke:black;stroke-width:1.0\"\/>\n",
       "<circle cx=\"193\" cy=\"66\" r=\"4.0\" style=\"fill:rgb(197, 50, 51);stroke:black;stroke-width:1.0\"\/>\n",
       "<circle cx=\"189\" cy=\"86\" r=\"4.0\" style=\"fill:rgb(182, 13, 40);stroke:black;stroke-width:1.0\"\/>\n",
       "<circle cx=\"114\" cy=\"201\" r=\"4.0\" style=\"fill:rgb(127, 162, 250);stroke:black;stroke-width:1.0\"\/>\n",
       "<circle cx=\"171\" cy=\"274\" r=\"4.0\" style=\"fill:rgb(112, 147, 243);stroke:black;stroke-width:1.0\"\/>\n",
       "<circle cx=\"171\" cy=\"39\" r=\"4.0\" style=\"fill:rgb(187, 26, 43);stroke:black;stroke-width:1.0\"\/>\n",
       "<circle cx=\"146\" cy=\"93\" r=\"4.0\" style=\"fill:rgb(182, 13, 40);stroke:black;stroke-width:1.0\"\/>\n",
       "<circle cx=\"174\" cy=\"286\" r=\"4.0\" style=\"fill:rgb(105, 139, 239);stroke:black;stroke-width:1.0\"\/>\n",
       "<circle cx=\"443\" cy=\"221\" r=\"4.0\" style=\"fill:rgb(141, 175, 253);stroke:black;stroke-width:1.0\"\/>\n",
       "<circle cx=\"396\" cy=\"257\" r=\"4.0\" style=\"fill:rgb(155, 187, 254);stroke:black;stroke-width:1.0\"\/>\n",
       "<circle cx=\"409\" cy=\"127\" r=\"4.0\" style=\"fill:rgb(207, 70, 61);stroke:black;stroke-width:1.0\"\/>\n",
       "<circle cx=\"292\" cy=\"149\" r=\"4.0\" style=\"fill:rgb(230, 114, 89);stroke:black;stroke-width:1.0\"\/>\n",
       "<circle cx=\"227\" cy=\"183\" r=\"4.0\" style=\"fill:rgb(187, 26, 43);stroke:black;stroke-width:1.0\"\/>\n",
       "<circle cx=\"370\" cy=\"152\" r=\"4.0\" style=\"fill:rgb(234, 123, 96);stroke:black;stroke-width:1.0\"\/>\n",
       "<circle cx=\"357\" cy=\"83\" r=\"4.0\" style=\"fill:rgb(194, 45, 49);stroke:black;stroke-width:1.0\"\/>\n",
       "<circle cx=\"459\" cy=\"177\" r=\"4.0\" style=\"fill:rgb(247, 179, 151);stroke:black;stroke-width:1.0\"\/>\n",
       "<circle cx=\"453\" cy=\"147\" r=\"4.0\" style=\"fill:rgb(187, 209, 247);stroke:black;stroke-width:1.0\"\/>\n",
       "<circle cx=\"402\" cy=\"119\" r=\"4.0\" style=\"fill:rgb(194, 45, 49);stroke:black;stroke-width:1.0\"\/>\n",
       "<circle cx=\"246\" cy=\"95\" r=\"4.0\" style=\"fill:rgb(205, 66, 58);stroke:black;stroke-width:1.0\"\/>\n",
       "<circle cx=\"238\" cy=\"20\" r=\"4.0\" style=\"fill:rgb(190, 35, 45);stroke:black;stroke-width:1.0\"\/>\n",
       "<circle cx=\"463\" cy=\"279\" r=\"4.0\" style=\"fill:rgb(141, 175, 253);stroke:black;stroke-width:1.0\"\/>\n",
       "<circle cx=\"247\" cy=\"20\" r=\"4.0\" style=\"fill:rgb(205, 66, 58);stroke:black;stroke-width:1.0\"\/>\n",
       "<circle cx=\"500\" cy=\"286\" r=\"4.0\" style=\"fill:rgb(123, 158, 248);stroke:black;stroke-width:1.0\"\/>\n",
       "<circle cx=\"192\" cy=\"48\" r=\"4.0\" style=\"fill:rgb(197, 50, 51);stroke:black;stroke-width:1.0\"\/>\n",
       "<circle cx=\"300\" cy=\"134\" r=\"4.0\" style=\"fill:rgb(243, 150, 120);stroke:black;stroke-width:1.0\"\/>\n",
       "<circle cx=\"309\" cy=\"231\" r=\"4.0\" style=\"fill:rgb(222, 98, 78);stroke:black;stroke-width:1.0\"\/>\n",
       "<circle cx=\"391\" cy=\"66\" r=\"4.0\" style=\"fill:rgb(187, 26, 43);stroke:black;stroke-width:1.0\"\/>\n",
       "<circle cx=\"305\" cy=\"237\" r=\"4.0\" style=\"fill:rgb(227, 108, 84);stroke:black;stroke-width:1.0\"\/>\n",
       "<circle cx=\"164\" cy=\"168\" r=\"4.0\" style=\"fill:rgb(217, 88, 71);stroke:black;stroke-width:1.0\"\/>\n",
       "<circle cx=\"464\" cy=\"289\" r=\"4.0\" style=\"fill:rgb(123, 158, 248);stroke:black;stroke-width:1.0\"\/>\n",
       "<circle cx=\"357\" cy=\"195\" r=\"4.0\" style=\"fill:rgb(243, 150, 120);stroke:black;stroke-width:1.0\"\/>\n",
       "<circle cx=\"393\" cy=\"227\" r=\"4.0\" style=\"fill:rgb(166, 195, 253);stroke:black;stroke-width:1.0\"\/>\n",
       "<circle cx=\"433\" cy=\"194\" r=\"4.0\" style=\"fill:rgb(127, 162, 250);stroke:black;stroke-width:1.0\"\/>\n",
       "<circle cx=\"77\" cy=\"145\" r=\"4.0\" style=\"fill:rgb(190, 35, 45);stroke:black;stroke-width:1.0\"\/>\n",
       "<circle cx=\"46\" cy=\"211\" r=\"4.0\" style=\"fill:rgb(194, 45, 49);stroke:black;stroke-width:1.0\"\/>\n",
       "<circle cx=\"400\" cy=\"285\" r=\"4.0\" style=\"fill:rgb(120, 155, 247);stroke:black;stroke-width:1.0\"\/>\n",
       "<circle cx=\"155\" cy=\"234\" r=\"4.0\" style=\"fill:rgb(112, 147, 243);stroke:black;stroke-width:1.0\"\/>\n",
       "<circle cx=\"123\" cy=\"112\" r=\"4.0\" style=\"fill:rgb(182, 13, 40);stroke:black;stroke-width:1.0\"\/>\n",
       "<circle cx=\"403\" cy=\"96\" r=\"4.0\" style=\"fill:rgb(246, 166, 135);stroke:black;stroke-width:1.0\"\/>\n",
       "<circle cx=\"392\" cy=\"280\" r=\"4.0\" style=\"fill:rgb(130, 165, 251);stroke:black;stroke-width:1.0\"\/>\n",
       "<circle cx=\"281\" cy=\"137\" r=\"4.0\" style=\"fill:rgb(211, 77, 64);stroke:black;stroke-width:1.0\"\/>\n",
       "<circle cx=\"140\" cy=\"231\" r=\"4.0\" style=\"fill:rgb(130, 165, 251);stroke:black;stroke-width:1.0\"\/>\n",
       "<circle cx=\"151\" cy=\"138\" r=\"4.0\" style=\"fill:rgb(201, 59, 55);stroke:black;stroke-width:1.0\"\/>\n",
       "<circle cx=\"493\" cy=\"234\" r=\"4.0\" style=\"fill:rgb(141, 175, 253);stroke:black;stroke-width:1.0\"\/>\n",
       "<circle cx=\"119\" cy=\"275\" r=\"4.0\" style=\"fill:rgb(127, 162, 250);stroke:black;stroke-width:1.0\"\/>\n",
       "<circle cx=\"273\" cy=\"145\" r=\"4.0\" style=\"fill:rgb(197, 50, 51);stroke:black;stroke-width:1.0\"\/>\n",
       "<circle cx=\"346\" cy=\"84\" r=\"4.0\" style=\"fill:rgb(190, 35, 45);stroke:black;stroke-width:1.0\"\/>\n",
       "<circle cx=\"272\" cy=\"55\" r=\"4.0\" style=\"fill:rgb(194, 45, 49);stroke:black;stroke-width:1.0\"\/>\n",
       "<circle cx=\"404\" cy=\"201\" r=\"4.0\" style=\"fill:rgb(246, 183, 156);stroke:black;stroke-width:1.0\"\/>\n",
       "<circle cx=\"280\" cy=\"72\" r=\"4.0\" style=\"fill:rgb(201, 59, 55);stroke:black;stroke-width:1.0\"\/>\n",
       "<circle cx=\"395\" cy=\"112\" r=\"4.0\" style=\"fill:rgb(187, 26, 43);stroke:black;stroke-width:1.0\"\/>\n",
       "<circle cx=\"373\" cy=\"191\" r=\"4.0\" style=\"fill:rgb(138, 173, 253);stroke:black;stroke-width:1.0\"\/>\n",
       "<circle cx=\"203\" cy=\"122\" r=\"4.0\" style=\"fill:rgb(194, 45, 49);stroke:black;stroke-width:1.0\"\/>\n",
       "<circle cx=\"104\" cy=\"160\" r=\"4.0\" style=\"fill:rgb(201, 59, 55);stroke:black;stroke-width:1.0\"\/>\n",
       "<circle cx=\"210\" cy=\"112\" r=\"4.0\" style=\"fill:rgb(190, 35, 45);stroke:black;stroke-width:1.0\"\/>\n",
       "<circle cx=\"168\" cy=\"186\" r=\"4.0\" style=\"fill:rgb(194, 45, 49);stroke:black;stroke-width:1.0\"\/>\n",
       "<circle cx=\"239\" cy=\"72\" r=\"4.0\" style=\"fill:rgb(207, 70, 61);stroke:black;stroke-width:1.0\"\/>\n",
       "<circle cx=\"274\" cy=\"162\" r=\"4.0\" style=\"fill:rgb(231, 117, 92);stroke:black;stroke-width:1.0\"\/>\n",
       "<circle cx=\"398\" cy=\"164\" r=\"4.0\" style=\"fill:rgb(176, 203, 251);stroke:black;stroke-width:1.0\"\/>\n",
       "<circle cx=\"422\" cy=\"294\" r=\"4.0\" style=\"fill:rgb(141, 175, 253);stroke:black;stroke-width:1.0\"\/>\n",
       "<circle cx=\"108\" cy=\"196\" r=\"4.0\" style=\"fill:rgb(197, 50, 51);stroke:black;stroke-width:1.0\"\/>\n",
       "<circle cx=\"418\" cy=\"90\" r=\"4.0\" style=\"fill:rgb(70, 93, 207);stroke:black;stroke-width:1.0\"\/>\n",
       "<circle cx=\"90\" cy=\"246\" r=\"4.0\" style=\"fill:rgb(205, 66, 58);stroke:black;stroke-width:1.0\"\/>\n",
       "<circle cx=\"122\" cy=\"237\" r=\"4.0\" style=\"fill:rgb(123, 158, 248);stroke:black;stroke-width:1.0\"\/>\n",
       "<circle cx=\"421\" cy=\"115\" r=\"4.0\" style=\"fill:rgb(201, 59, 55);stroke:black;stroke-width:1.0\"\/>\n",
       "<circle cx=\"30\" cy=\"246\" r=\"4.0\" style=\"fill:rgb(197, 50, 51);stroke:black;stroke-width:1.0\"\/>\n",
       "<circle cx=\"479\" cy=\"187\" r=\"4.0\" style=\"fill:rgb(180, 205, 250);stroke:black;stroke-width:1.0\"\/>\n",
       "<circle cx=\"373\" cy=\"93\" r=\"4.0\" style=\"fill:rgb(201, 59, 55);stroke:black;stroke-width:1.0\"\/>\n",
       "<circle cx=\"237\" cy=\"180\" r=\"4.0\" style=\"fill:rgb(207, 70, 61);stroke:black;stroke-width:1.0\"\/>\n",
       "<circle cx=\"245\" cy=\"145\" r=\"4.0\" style=\"fill:rgb(190, 35, 45);stroke:black;stroke-width:1.0\"\/>\n",
       "<circle cx=\"326\" cy=\"165\" r=\"4.0\" style=\"fill:rgb(225, 104, 82);stroke:black;stroke-width:1.0\"\/>\n",
       "<circle cx=\"360\" cy=\"132\" r=\"4.0\" style=\"fill:rgb(220, 94, 75);stroke:black;stroke-width:1.0\"\/>\n",
       "<circle cx=\"126\" cy=\"301\" r=\"4.0\" style=\"fill:rgb(76, 102, 214);stroke:black;stroke-width:1.0\"\/>\n",
       "<circle cx=\"485\" cy=\"206\" r=\"4.0\" style=\"fill:rgb(155, 187, 254);stroke:black;stroke-width:1.0\"\/>\n",
       "<circle cx=\"85\" cy=\"194\" r=\"4.0\" style=\"fill:rgb(214, 82, 67);stroke:black;stroke-width:1.0\"\/>\n",
       "<circle cx=\"230\" cy=\"73\" r=\"4.0\" style=\"fill:rgb(194, 45, 49);stroke:black;stroke-width:1.0\"\/>\n",
       "<circle cx=\"315\" cy=\"122\" r=\"4.0\" style=\"fill:rgb(205, 66, 58);stroke:black;stroke-width:1.0\"\/>\n",
       "<circle cx=\"343\" cy=\"93\" r=\"4.0\" style=\"fill:rgb(187, 26, 43);stroke:black;stroke-width:1.0\"\/>\n",
       "<circle cx=\"368\" cy=\"211\" r=\"4.0\" style=\"fill:rgb(180, 205, 250);stroke:black;stroke-width:1.0\"\/>\n",
       "<circle cx=\"136\" cy=\"262\" r=\"4.0\" style=\"fill:rgb(88, 118, 226);stroke:black;stroke-width:1.0\"\/>\n",
       "<circle cx=\"223\" cy=\"168\" r=\"4.0\" style=\"fill:rgb(197, 50, 51);stroke:black;stroke-width:1.0\"\/>\n",
       "<circle cx=\"246\" cy=\"178\" r=\"4.0\" style=\"fill:rgb(190, 35, 45);stroke:black;stroke-width:1.0\"\/>\n",
       "<circle cx=\"358\" cy=\"223\" r=\"4.0\" style=\"fill:rgb(176, 203, 251);stroke:black;stroke-width:1.0\"\/>\n",
       "<circle cx=\"408\" cy=\"89\" r=\"4.0\" style=\"fill:rgb(194, 45, 49);stroke:black;stroke-width:1.0\"\/>\n",
       "<circle cx=\"122\" cy=\"90\" r=\"4.0\" style=\"fill:rgb(194, 45, 49);stroke:black;stroke-width:1.0\"\/>\n",
       "<circle cx=\"197\" cy=\"182\" r=\"4.0\" style=\"fill:rgb(194, 45, 49);stroke:black;stroke-width:1.0\"\/>\n",
       "<circle cx=\"371\" cy=\"278\" r=\"4.0\" style=\"fill:rgb(134, 169, 252);stroke:black;stroke-width:1.0\"\/>\n",
       "<circle cx=\"489\" cy=\"246\" r=\"4.0\" style=\"fill:rgb(176, 203, 251);stroke:black;stroke-width:1.0\"\/>\n",
       "<circle cx=\"355\" cy=\"61\" r=\"4.0\" style=\"fill:rgb(194, 45, 49);stroke:black;stroke-width:1.0\"\/>\n",
       "<circle cx=\"263\" cy=\"70\" r=\"4.0\" style=\"fill:rgb(187, 26, 43);stroke:black;stroke-width:1.0\"\/>\n",
       "<circle cx=\"222\" cy=\"75\" r=\"4.0\" style=\"fill:rgb(207, 70, 61);stroke:black;stroke-width:1.0\"\/>\n",
       "<circle cx=\"124\" cy=\"183\" r=\"4.0\" style=\"fill:rgb(194, 45, 49);stroke:black;stroke-width:1.0\"\/>\n",
       "<circle cx=\"330\" cy=\"189\" r=\"4.0\" style=\"fill:rgb(231, 117, 92);stroke:black;stroke-width:1.0\"\/>\n",
       "<circle cx=\"464\" cy=\"309\" r=\"4.0\" style=\"fill:rgb(130, 165, 251);stroke:black;stroke-width:1.0\"\/>\n",
       "<circle cx=\"450\" cy=\"304\" r=\"4.0\" style=\"fill:rgb(145, 179, 254);stroke:black;stroke-width:1.0\"\/>\n",
       "<circle cx=\"124\" cy=\"77\" r=\"4.0\" style=\"fill:rgb(190, 35, 45);stroke:black;stroke-width:1.0\"\/>\n",
       "<circle cx=\"301\" cy=\"100\" r=\"4.0\" style=\"fill:rgb(217, 88, 71);stroke:black;stroke-width:1.0\"\/>\n",
       "<circle cx=\"40\" cy=\"277\" r=\"4.0\" style=\"fill:rgb(239, 137, 108);stroke:black;stroke-width:1.0\"\/>\n",
       "<circle cx=\"109\" cy=\"153\" r=\"4.0\" style=\"fill:rgb(190, 35, 45);stroke:black;stroke-width:1.0\"\/>\n",
       "<circle cx=\"25\" cy=\"307\" r=\"4.0\" style=\"fill:rgb(123, 158, 248);stroke:black;stroke-width:1.0\"\/>\n",
       "<circle cx=\"455\" cy=\"169\" r=\"4.0\" style=\"fill:rgb(197, 213, 242);stroke:black;stroke-width:1.0\"\/>\n",
       "<circle cx=\"176\" cy=\"179\" r=\"4.0\" style=\"fill:rgb(187, 26, 43);stroke:black;stroke-width:1.0\"\/>\n",
       "<circle cx=\"246\" cy=\"104\" r=\"4.0\" style=\"fill:rgb(211, 77, 64);stroke:black;stroke-width:1.0\"\/>\n",
       "<circle cx=\"84\" cy=\"315\" r=\"4.0\" style=\"fill:rgb(58, 76, 192);stroke:black;stroke-width:1.0\"\/>\n",
       "<circle cx=\"449\" cy=\"281\" r=\"4.0\" style=\"fill:rgb(127, 162, 250);stroke:black;stroke-width:1.0\"\/>\n",
       "<circle cx=\"167\" cy=\"212\" r=\"4.0\" style=\"fill:rgb(105, 139, 239);stroke:black;stroke-width:1.0\"\/>\n",
       "<circle cx=\"326\" cy=\"66\" r=\"4.0\" style=\"fill:rgb(227, 108, 84);stroke:black;stroke-width:1.0\"\/>\n",
       "<circle cx=\"438\" cy=\"124\" r=\"4.0\" style=\"fill:rgb(231, 214, 204);stroke:black;stroke-width:1.0\"\/>\n",
       "<circle cx=\"231\" cy=\"38\" r=\"4.0\" style=\"fill:rgb(194, 45, 49);stroke:black;stroke-width:1.0\"\/>\n",
       "<circle cx=\"102\" cy=\"250\" r=\"4.0\" style=\"fill:rgb(225, 104, 82);stroke:black;stroke-width:1.0\"\/>\n",
       "<circle cx=\"69\" cy=\"304\" r=\"4.0\" style=\"fill:rgb(80, 107, 218);stroke:black;stroke-width:1.0\"\/>\n",
       "<circle cx=\"26\" cy=\"234\" r=\"4.0\" style=\"fill:rgb(201, 59, 55);stroke:black;stroke-width:1.0\"\/>\n",
       "<circle cx=\"75\" cy=\"221\" r=\"4.0\" style=\"fill:rgb(194, 45, 49);stroke:black;stroke-width:1.0\"\/>\n",
       "<circle cx=\"368\" cy=\"50\" r=\"4.0\" style=\"fill:rgb(194, 45, 49);stroke:black;stroke-width:1.0\"\/>\n",
       "<circle cx=\"143\" cy=\"146\" r=\"4.0\" style=\"fill:rgb(211, 77, 64);stroke:black;stroke-width:1.0\"\/>\n",
       "<circle cx=\"188\" cy=\"189\" r=\"4.0\" style=\"fill:rgb(194, 45, 49);stroke:black;stroke-width:1.0\"\/>\n",
       "<circle cx=\"303\" cy=\"41\" r=\"4.0\" style=\"fill:rgb(190, 35, 45);stroke:black;stroke-width:1.0\"\/>\n",
       "<circle cx=\"290\" cy=\"106\" r=\"4.0\" style=\"fill:rgb(194, 45, 49);stroke:black;stroke-width:1.0\"\/>\n",
       "<circle cx=\"87\" cy=\"104\" r=\"4.0\" style=\"fill:rgb(214, 82, 67);stroke:black;stroke-width:1.0\"\/>\n",
       "<circle cx=\"65\" cy=\"206\" r=\"4.0\" style=\"fill:rgb(190, 35, 45);stroke:black;stroke-width:1.0\"\/>\n",
       "<circle cx=\"362\" cy=\"65\" r=\"4.0\" style=\"fill:rgb(187, 26, 43);stroke:black;stroke-width:1.0\"\/>\n",
       "<circle cx=\"386\" cy=\"125\" r=\"4.0\" style=\"fill:rgb(187, 26, 43);stroke:black;stroke-width:1.0\"\/>\n",
       "<circle cx=\"365\" cy=\"107\" r=\"4.0\" style=\"fill:rgb(194, 45, 49);stroke:black;stroke-width:1.0\"\/>\n",
       "<circle cx=\"411\" cy=\"196\" r=\"4.0\" style=\"fill:rgb(247, 179, 151);stroke:black;stroke-width:1.0\"\/>\n",
       "<circle cx=\"236\" cy=\"96\" r=\"4.0\" style=\"fill:rgb(190, 35, 45);stroke:black;stroke-width:1.0\"\/>\n",
       "<circle cx=\"237\" cy=\"55\" r=\"4.0\" style=\"fill:rgb(197, 50, 51);stroke:black;stroke-width:1.0\"\/>\n",
       "<circle cx=\"347\" cy=\"162\" r=\"4.0\" style=\"fill:rgb(214, 82, 67);stroke:black;stroke-width:1.0\"\/>\n",
       "<circle cx=\"399\" cy=\"275\" r=\"4.0\" style=\"fill:rgb(172, 200, 252);stroke:black;stroke-width:1.0\"\/>\n",
       "<circle cx=\"306\" cy=\"190\" r=\"4.0\" style=\"fill:rgb(207, 70, 61);stroke:black;stroke-width:1.0\"\/>\n",
       "<circle cx=\"359\" cy=\"296\" r=\"4.0\" style=\"fill:rgb(127, 162, 250);stroke:black;stroke-width:1.0\"\/>\n",
       "<circle cx=\"147\" cy=\"288\" r=\"4.0\" style=\"fill:rgb(60, 79, 195);stroke:black;stroke-width:1.0\"\/>\n",
       "<circle cx=\"321\" cy=\"82\" r=\"4.0\" style=\"fill:rgb(222, 98, 78);stroke:black;stroke-width:1.0\"\/>\n",
       "<circle cx=\"478\" cy=\"277\" r=\"4.0\" style=\"fill:rgb(130, 165, 251);stroke:black;stroke-width:1.0\"\/>\n",
       "<circle cx=\"263\" cy=\"128\" r=\"4.0\" style=\"fill:rgb(197, 50, 51);stroke:black;stroke-width:1.0\"\/>\n",
       "<circle cx=\"413\" cy=\"220\" r=\"4.0\" style=\"fill:rgb(244, 195, 171);stroke:black;stroke-width:1.0\"\/>\n",
       "<circle cx=\"351\" cy=\"242\" r=\"4.0\" style=\"fill:rgb(159, 190, 254);stroke:black;stroke-width:1.0\"\/>\n",
       "<circle cx=\"188\" cy=\"32\" r=\"4.0\" style=\"fill:rgb(194, 45, 49);stroke:black;stroke-width:1.0\"\/>\n",
       "<circle cx=\"339\" cy=\"197\" r=\"4.0\" style=\"fill:rgb(231, 117, 92);stroke:black;stroke-width:1.0\"\/>\n",
       "<circle cx=\"215\" cy=\"41\" r=\"4.0\" style=\"fill:rgb(190, 35, 45);stroke:black;stroke-width:1.0\"\/>\n",
       "<circle cx=\"272\" cy=\"95\" r=\"4.0\" style=\"fill:rgb(201, 59, 55);stroke:black;stroke-width:1.0\"\/>\n",
       "<circle cx=\"208\" cy=\"103\" r=\"4.0\" style=\"fill:rgb(187, 26, 43);stroke:black;stroke-width:1.0\"\/>\n",
       "<circle cx=\"55\" cy=\"299\" r=\"4.0\" style=\"fill:rgb(80, 107, 218);stroke:black;stroke-width:1.0\"\/>\n",
       "<circle cx=\"81\" cy=\"258\" r=\"4.0\" style=\"fill:rgb(197, 50, 51);stroke:black;stroke-width:1.0\"\/>\n",
       "<circle cx=\"376\" cy=\"55\" r=\"4.0\" style=\"fill:rgb(220, 94, 75);stroke:black;stroke-width:1.0\"\/>\n",
       "<circle cx=\"323\" cy=\"145\" r=\"4.0\" style=\"fill:rgb(225, 104, 82);stroke:black;stroke-width:1.0\"\/>\n",
       "<circle cx=\"146\" cy=\"164\" r=\"4.0\" style=\"fill:rgb(211, 77, 64);stroke:black;stroke-width:1.0\"\/>\n",
       "<circle cx=\"496\" cy=\"254\" r=\"4.0\" style=\"fill:rgb(148, 181, 254);stroke:black;stroke-width:1.0\"\/>\n",
       "<circle cx=\"65\" cy=\"147\" r=\"4.0\" style=\"fill:rgb(187, 26, 43);stroke:black;stroke-width:1.0\"\/>\n",
       "<circle cx=\"396\" cy=\"237\" r=\"4.0\" style=\"fill:rgb(127, 162, 250);stroke:black;stroke-width:1.0\"\/>\n",
       "<circle cx=\"109\" cy=\"102\" r=\"4.0\" style=\"fill:rgb(187, 26, 43);stroke:black;stroke-width:1.0\"\/>\n",
       "<circle cx=\"375\" cy=\"146\" r=\"4.0\" style=\"fill:rgb(194, 45, 49);stroke:black;stroke-width:1.0\"\/>\n",
       "<circle cx=\"263\" cy=\"36\" r=\"4.0\" style=\"fill:rgb(205, 66, 58);stroke:black;stroke-width:1.0\"\/>\n",
       "<circle cx=\"314\" cy=\"196\" r=\"4.0\" style=\"fill:rgb(230, 114, 89);stroke:black;stroke-width:1.0\"\/>\n",
       "<circle cx=\"72\" cy=\"152\" r=\"4.0\" style=\"fill:rgb(194, 45, 49);stroke:black;stroke-width:1.0\"\/>\n",
       "<circle cx=\"401\" cy=\"83\" r=\"4.0\" style=\"fill:rgb(190, 35, 45);stroke:black;stroke-width:1.0\"\/>\n",
       "<circle cx=\"120\" cy=\"138\" r=\"4.0\" style=\"fill:rgb(187, 26, 43);stroke:black;stroke-width:1.0\"\/>\n",
       "<circle cx=\"435\" cy=\"304\" r=\"4.0\" style=\"fill:rgb(120, 155, 247);stroke:black;stroke-width:1.0\"\/>\n",
       "<circle cx=\"404\" cy=\"265\" r=\"4.0\" style=\"fill:rgb(155, 187, 254);stroke:black;stroke-width:1.0\"\/>\n",
       "<circle cx=\"219\" cy=\"109\" r=\"4.0\" style=\"fill:rgb(190, 35, 45);stroke:black;stroke-width:1.0\"\/>\n",
       "<circle cx=\"390\" cy=\"85\" r=\"4.0\" style=\"fill:rgb(197, 50, 51);stroke:black;stroke-width:1.0\"\/>\n",
       "<circle cx=\"300\" cy=\"205\" r=\"4.0\" style=\"fill:rgb(201, 59, 55);stroke:black;stroke-width:1.0\"\/>\n",
       "<circle cx=\"25\" cy=\"297\" r=\"4.0\" style=\"fill:rgb(112, 147, 243);stroke:black;stroke-width:1.0\"\/>\n",
       "<circle cx=\"177\" cy=\"255\" r=\"4.0\" style=\"fill:rgb(182, 13, 40);stroke:black;stroke-width:1.0\"\/>\n",
       "<circle cx=\"69\" cy=\"196\" r=\"4.0\" style=\"fill:rgb(194, 45, 49);stroke:black;stroke-width:1.0\"\/>\n",
       "<circle cx=\"55\" cy=\"309\" r=\"4.0\" style=\"fill:rgb(58, 76, 192);stroke:black;stroke-width:1.0\"\/>\n",
       "<circle cx=\"291\" cy=\"183\" r=\"4.0\" style=\"fill:rgb(222, 98, 78);stroke:black;stroke-width:1.0\"\/>\n",
       "<circle cx=\"453\" cy=\"135\" r=\"4.0\" style=\"fill:rgb(170, 198, 253);stroke:black;stroke-width:1.0\"\/>\n",
       "<circle cx=\"449\" cy=\"316\" r=\"4.0\" style=\"fill:rgb(116, 151, 245);stroke:black;stroke-width:1.0\"\/>\n",
       "<circle cx=\"297\" cy=\"23\" r=\"4.0\" style=\"fill:rgb(201, 59, 55);stroke:black;stroke-width:1.0\"\/>\n",
       "<circle cx=\"65\" cy=\"135\" r=\"4.0\" style=\"fill:rgb(194, 45, 49);stroke:black;stroke-width:1.0\"\/>\n",
       "<circle cx=\"61\" cy=\"216\" r=\"4.0\" style=\"fill:rgb(201, 59, 55);stroke:black;stroke-width:1.0\"\/>\n",
       "<circle cx=\"41\" cy=\"229\" r=\"4.0\" style=\"fill:rgb(187, 26, 43);stroke:black;stroke-width:1.0\"\/>\n",
       "<circle cx=\"70\" cy=\"281\" r=\"4.0\" style=\"fill:rgb(64, 84, 199);stroke:black;stroke-width:1.0\"\/>\n",
       "<circle cx=\"378\" cy=\"231\" r=\"4.0\" style=\"fill:rgb(134, 169, 252);stroke:black;stroke-width:1.0\"\/>\n",
       "<circle cx=\"128\" cy=\"85\" r=\"4.0\" style=\"fill:rgb(187, 26, 43);stroke:black;stroke-width:1.0\"\/>\n",
       "<circle cx=\"302\" cy=\"152\" r=\"4.0\" style=\"fill:rgb(240, 141, 111);stroke:black;stroke-width:1.0\"\/>\n",
       "<circle cx=\"343\" cy=\"179\" r=\"4.0\" style=\"fill:rgb(236, 128, 100);stroke:black;stroke-width:1.0\"\/>\n",
       "<circle cx=\"115\" cy=\"265\" r=\"4.0\" style=\"fill:rgb(99, 131, 234);stroke:black;stroke-width:1.0\"\/>\n",
       "<circle cx=\"304\" cy=\"32\" r=\"4.0\" style=\"fill:rgb(197, 50, 51);stroke:black;stroke-width:1.0\"\/>\n",
       "<circle cx=\"130\" cy=\"105\" r=\"4.0\" style=\"fill:rgb(190, 35, 45);stroke:black;stroke-width:1.0\"\/>\n",
       "<circle cx=\"406\" cy=\"187\" r=\"4.0\" style=\"fill:rgb(230, 215, 207);stroke:black;stroke-width:1.0\"\/>\n",
       "<circle cx=\"135\" cy=\"80\" r=\"4.0\" style=\"fill:rgb(190, 35, 45);stroke:black;stroke-width:1.0\"\/>\n",
       "<circle cx=\"386\" cy=\"252\" r=\"4.0\" style=\"fill:rgb(163, 193, 254);stroke:black;stroke-width:1.0\"\/>\n",
       "<circle cx=\"369\" cy=\"70\" r=\"4.0\" style=\"fill:rgb(187, 26, 43);stroke:black;stroke-width:1.0\"\/>\n",
       "<circle cx=\"244\" cy=\"162\" r=\"4.0\" style=\"fill:rgb(190, 35, 45);stroke:black;stroke-width:1.0\"\/>\n",
       "<circle cx=\"216\" cy=\"152\" r=\"4.0\" style=\"fill:rgb(197, 50, 51);stroke:black;stroke-width:1.0\"\/>\n",
       "<circle cx=\"334\" cy=\"70\" r=\"4.0\" style=\"fill:rgb(194, 45, 49);stroke:black;stroke-width:1.0\"\/>\n",
       "<circle cx=\"199\" cy=\"107\" r=\"4.0\" style=\"fill:rgb(222, 98, 78);stroke:black;stroke-width:1.0\"\/>\n",
       "<circle cx=\"100\" cy=\"90\" r=\"4.0\" style=\"fill:rgb(234, 123, 96);stroke:black;stroke-width:1.0\"\/>\n",
       "<circle cx=\"393\" cy=\"291\" r=\"4.0\" style=\"fill:rgb(134, 169, 252);stroke:black;stroke-width:1.0\"\/>\n",
       "<circle cx=\"337\" cy=\"42\" r=\"4.0\" style=\"fill:rgb(190, 35, 45);stroke:black;stroke-width:1.0\"\/>\n",
       "<circle cx=\"358\" cy=\"52\" r=\"4.0\" style=\"fill:rgb(197, 50, 51);stroke:black;stroke-width:1.0\"\/>\n",
       "<circle cx=\"311\" cy=\"157\" r=\"4.0\" style=\"fill:rgb(201, 59, 55);stroke:black;stroke-width:1.0\"\/>\n",
       "<circle cx=\"174\" cy=\"297\" r=\"4.0\" style=\"fill:rgb(99, 131, 234);stroke:black;stroke-width:1.0\"\/>\n",
       "<circle cx=\"271\" cy=\"36\" r=\"4.0\" style=\"fill:rgb(205, 66, 58);stroke:black;stroke-width:1.0\"\/>\n",
       "<circle cx=\"272\" cy=\"128\" r=\"4.0\" style=\"fill:rgb(227, 108, 84);stroke:black;stroke-width:1.0\"\/>\n",
       "<circle cx=\"354\" cy=\"168\" r=\"4.0\" style=\"fill:rgb(244, 154, 123);stroke:black;stroke-width:1.0\"\/>\n",
       "<circle cx=\"228\" cy=\"131\" r=\"4.0\" style=\"fill:rgb(190, 35, 45);stroke:black;stroke-width:1.0\"\/>\n",
       "<circle cx=\"422\" cy=\"315\" r=\"4.0\" style=\"fill:rgb(127, 162, 250);stroke:black;stroke-width:1.0\"\/>\n",
       "<circle cx=\"184\" cy=\"172\" r=\"4.0\" style=\"fill:rgb(194, 45, 49);stroke:black;stroke-width:1.0\"\/>\n",
       "<circle cx=\"321\" cy=\"36\" r=\"4.0\" style=\"fill:rgb(201, 59, 55);stroke:black;stroke-width:1.0\"\/>\n",
       "<circle cx=\"422\" cy=\"304\" r=\"4.0\" style=\"fill:rgb(180, 205, 250);stroke:black;stroke-width:1.0\"\/>\n",
       "<circle cx=\"94\" cy=\"177\" r=\"4.0\" style=\"fill:rgb(197, 50, 51);stroke:black;stroke-width:1.0\"\/>\n",
       "<circle cx=\"227\" cy=\"98\" r=\"4.0\" style=\"fill:rgb(231, 214, 204);stroke:black;stroke-width:1.0\"\/>\n",
       "<circle cx=\"154\" cy=\"309\" r=\"4.0\" style=\"fill:rgb(109, 144, 241);stroke:black;stroke-width:1.0\"\/>\n",
       "<circle cx=\"311\" cy=\"43\" r=\"4.0\" style=\"fill:rgb(197, 50, 51);stroke:black;stroke-width:1.0\"\/>\n",
       "<circle cx=\"113\" cy=\"187\" r=\"4.0\" style=\"fill:rgb(207, 70, 61);stroke:black;stroke-width:1.0\"\/>\n",
       "<circle cx=\"329\" cy=\"262\" r=\"4.0\" style=\"fill:rgb(236, 210, 196);stroke:black;stroke-width:1.0\"\/>\n",
       "<circle cx=\"146\" cy=\"299\" r=\"4.0\" style=\"fill:rgb(82, 110, 220);stroke:black;stroke-width:1.0\"\/>\n",
       "<circle cx=\"470\" cy=\"181\" r=\"4.0\" style=\"fill:rgb(145, 179, 254);stroke:black;stroke-width:1.0\"\/>\n",
       "<circle cx=\"77\" cy=\"177\" r=\"4.0\" style=\"fill:rgb(197, 50, 51);stroke:black;stroke-width:1.0\"\/>\n",
       "<circle cx=\"336\" cy=\"162\" r=\"4.0\" style=\"fill:rgb(211, 77, 64);stroke:black;stroke-width:1.0\"\/>\n",
       "<circle cx=\"372\" cy=\"299\" r=\"4.0\" style=\"fill:rgb(116, 151, 245);stroke:black;stroke-width:1.0\"\/>\n",
       "<circle cx=\"331\" cy=\"150\" r=\"4.0\" style=\"fill:rgb(225, 104, 82);stroke:black;stroke-width:1.0\"\/>\n",
       "<circle cx=\"409\" cy=\"153\" r=\"4.0\" style=\"fill:rgb(244, 154, 123);stroke:black;stroke-width:1.0\"\/>\n",
       "<circle cx=\"369\" cy=\"267\" r=\"4.0\" style=\"fill:rgb(217, 220, 224);stroke:black;stroke-width:1.0\"\/>\n",
       "<circle cx=\"383\" cy=\"241\" r=\"4.0\" style=\"fill:rgb(145, 179, 254);stroke:black;stroke-width:1.0\"\/>\n",
       "<circle cx=\"313\" cy=\"34\" r=\"4.0\" style=\"fill:rgb(194, 45, 49);stroke:black;stroke-width:1.0\"\/>\n",
       "<circle cx=\"466\" cy=\"172\" r=\"4.0\" style=\"fill:rgb(120, 155, 247);stroke:black;stroke-width:1.0\"\/>\n",
       "<circle cx=\"448\" cy=\"127\" r=\"4.0\" style=\"fill:rgb(208, 218, 233);stroke:black;stroke-width:1.0\"\/>\n",
       "<circle cx=\"236\" cy=\"146\" r=\"4.0\" style=\"fill:rgb(187, 26, 43);stroke:black;stroke-width:1.0\"\/>\n",
       "<circle cx=\"166\" cy=\"145\" r=\"4.0\" style=\"fill:rgb(190, 35, 45);stroke:black;stroke-width:1.0\"\/>\n",
       "<circle cx=\"97\" cy=\"115\" r=\"4.0\" style=\"fill:rgb(194, 45, 49);stroke:black;stroke-width:1.0\"\/>\n",
       "<circle cx=\"248\" cy=\"36\" r=\"4.0\" style=\"fill:rgb(187, 26, 43);stroke:black;stroke-width:1.0\"\/>\n",
       "<circle cx=\"365\" cy=\"88\" r=\"4.0\" style=\"fill:rgb(194, 45, 49);stroke:black;stroke-width:1.0\"\/>\n",
       "<circle cx=\"256\" cy=\"62\" r=\"4.0\" style=\"fill:rgb(197, 50, 51);stroke:black;stroke-width:1.0\"\/>\n",
       "<circle cx=\"219\" cy=\"58\" r=\"4.0\" style=\"fill:rgb(190, 35, 45);stroke:black;stroke-width:1.0\"\/>\n",
       "<circle cx=\"379\" cy=\"212\" r=\"4.0\" style=\"fill:rgb(130, 165, 251);stroke:black;stroke-width:1.0\"\/>\n",
       "<circle cx=\"161\" cy=\"195\" r=\"4.0\" style=\"fill:rgb(187, 26, 43);stroke:black;stroke-width:1.0\"\/>\n",
       "<circle cx=\"87\" cy=\"159\" r=\"4.0\" style=\"fill:rgb(197, 50, 51);stroke:black;stroke-width:1.0\"\/>\n",
       "<circle cx=\"180\" cy=\"197\" r=\"4.0\" style=\"fill:rgb(205, 66, 58);stroke:black;stroke-width:1.0\"\/>\n",
       "<circle cx=\"358\" cy=\"102\" r=\"4.0\" style=\"fill:rgb(194, 45, 49);stroke:black;stroke-width:1.0\"\/>\n",
       "<circle cx=\"380\" cy=\"99\" r=\"4.0\" style=\"fill:rgb(187, 26, 43);stroke:black;stroke-width:1.0\"\/>\n",
       "<circle cx=\"229\" cy=\"113\" r=\"4.0\" style=\"fill:rgb(190, 35, 45);stroke:black;stroke-width:1.0\"\/>\n",
       "<circle cx=\"161\" cy=\"83\" r=\"4.0\" style=\"fill:rgb(194, 45, 49);stroke:black;stroke-width:1.0\"\/>\n",
       "<circle cx=\"56\" cy=\"234\" r=\"4.0\" style=\"fill:rgb(201, 59, 55);stroke:black;stroke-width:1.0\"\/>\n",
       "<circle cx=\"238\" cy=\"137\" r=\"4.0\" style=\"fill:rgb(211, 77, 64);stroke:black;stroke-width:1.0\"\/>\n",
       "<circle cx=\"329\" cy=\"209\" r=\"4.0\" style=\"fill:rgb(225, 104, 82);stroke:black;stroke-width:1.0\"\/>\n",
       "<circle cx=\"424\" cy=\"177\" r=\"4.0\" style=\"fill:rgb(234, 211, 199);stroke:black;stroke-width:1.0\"\/>\n",
       "<circle cx=\"56\" cy=\"185\" r=\"4.0\" style=\"fill:rgb(187, 26, 43);stroke:black;stroke-width:1.0\"\/>\n",
       "<circle cx=\"221\" cy=\"23\" r=\"4.0\" style=\"fill:rgb(197, 50, 51);stroke:black;stroke-width:1.0\"\/>\n",
       "<circle cx=\"283\" cy=\"146\" r=\"4.0\" style=\"fill:rgb(201, 59, 55);stroke:black;stroke-width:1.0\"\/>\n",
       "<circle cx=\"83\" cy=\"304\" r=\"4.0\" style=\"fill:rgb(86, 115, 224);stroke:black;stroke-width:1.0\"\/>\n",
       "<circle cx=\"309\" cy=\"211\" r=\"4.0\" style=\"fill:rgb(207, 70, 61);stroke:black;stroke-width:1.0\"\/>\n",
       "<circle cx=\"325\" cy=\"253\" r=\"4.0\" style=\"fill:rgb(130, 165, 251);stroke:black;stroke-width:1.0\"\/>\n",
       "<circle cx=\"263\" cy=\"161\" r=\"4.0\" style=\"fill:rgb(231, 117, 92);stroke:black;stroke-width:1.0\"\/>\n",
       "<circle cx=\"219\" cy=\"134\" r=\"4.0\" style=\"fill:rgb(217, 88, 71);stroke:black;stroke-width:1.0\"\/>\n",
       "<circle cx=\"150\" cy=\"267\" r=\"4.0\" style=\"fill:rgb(72, 96, 209);stroke:black;stroke-width:1.0\"\/>\n",
       "<circle cx=\"150\" cy=\"245\" r=\"4.0\" style=\"fill:rgb(141, 175, 253);stroke:black;stroke-width:1.0\"\/>\n",
       "<circle cx=\"73\" cy=\"186\" r=\"4.0\" style=\"fill:rgb(182, 13, 40);stroke:black;stroke-width:1.0\"\/>\n",
       "<circle cx=\"178\" cy=\"223\" r=\"4.0\" style=\"fill:rgb(127, 162, 250);stroke:black;stroke-width:1.0\"\/>\n",
       "<circle cx=\"361\" cy=\"176\" r=\"4.0\" style=\"fill:rgb(237, 132, 103);stroke:black;stroke-width:1.0\"\/>\n",
       "<circle cx=\"346\" cy=\"232\" r=\"4.0\" style=\"fill:rgb(138, 173, 253);stroke:black;stroke-width:1.0\"\/>\n",
       "<circle cx=\"256\" cy=\"87\" r=\"4.0\" style=\"fill:rgb(190, 35, 45);stroke:black;stroke-width:1.0\"\/>\n",
       "<circle cx=\"438\" cy=\"258\" r=\"4.0\" style=\"fill:rgb(141, 175, 253);stroke:black;stroke-width:1.0\"\/>\n",
       "<circle cx=\"479\" cy=\"309\" r=\"4.0\" style=\"fill:rgb(112, 147, 243);stroke:black;stroke-width:1.0\"\/>\n",
       "<circle cx=\"321\" cy=\"182\" r=\"4.0\" style=\"fill:rgb(236, 128, 100);stroke:black;stroke-width:1.0\"\/>\n",
       "<circle cx=\"345\" cy=\"297\" r=\"4.0\" style=\"fill:rgb(134, 169, 252);stroke:black;stroke-width:1.0\"\/>\n",
       "<circle cx=\"363\" cy=\"234\" r=\"4.0\" style=\"fill:rgb(246, 166, 135);stroke:black;stroke-width:1.0\"\/>\n",
       "<circle cx=\"130\" cy=\"217\" r=\"4.0\" style=\"fill:rgb(145, 179, 254);stroke:black;stroke-width:1.0\"\/>\n",
       "<circle cx=\"118\" cy=\"294\" r=\"4.0\" style=\"fill:rgb(189, 210, 246);stroke:black;stroke-width:1.0\"\/>\n",
       "<circle cx=\"132\" cy=\"252\" r=\"4.0\" style=\"fill:rgb(112, 147, 243);stroke:black;stroke-width:1.0\"\/>\n",
       "<circle cx=\"70\" cy=\"239\" r=\"4.0\" style=\"fill:rgb(187, 26, 43);stroke:black;stroke-width:1.0\"\/>\n",
       "<circle cx=\"175\" cy=\"93\" r=\"4.0\" style=\"fill:rgb(197, 50, 51);stroke:black;stroke-width:1.0\"\/>\n",
       "<circle cx=\"98\" cy=\"284\" r=\"4.0\" style=\"fill:rgb(72, 96, 209);stroke:black;stroke-width:1.0\"\/>\n",
       "<circle cx=\"167\" cy=\"125\" r=\"4.0\" style=\"fill:rgb(207, 70, 61);stroke:black;stroke-width:1.0\"\/>\n",
       "<circle cx=\"317\" cy=\"63\" r=\"4.0\" style=\"fill:rgb(197, 50, 51);stroke:black;stroke-width:1.0\"\/>\n",
       "<circle cx=\"281\" cy=\"55\" r=\"4.0\" style=\"fill:rgb(194, 45, 49);stroke:black;stroke-width:1.0\"\/>\n",
       "<circle cx=\"206\" cy=\"34\" r=\"4.0\" style=\"fill:rgb(182, 13, 40);stroke:black;stroke-width:1.0\"\/>\n",
       "<circle cx=\"291\" cy=\"131\" r=\"4.0\" style=\"fill:rgb(247, 179, 151);stroke:black;stroke-width:1.0\"\/>\n",
       "<circle cx=\"198\" cy=\"36\" r=\"4.0\" style=\"fill:rgb(187, 26, 43);stroke:black;stroke-width:1.0\"\/>\n",
       "<circle cx=\"163\" cy=\"252\" r=\"4.0\" style=\"fill:rgb(99, 131, 234);stroke:black;stroke-width:1.0\"\/>\n",
       "<circle cx=\"373\" cy=\"164\" r=\"4.0\" style=\"fill:rgb(227, 217, 211);stroke:black;stroke-width:1.0\"\/>\n",
       "<circle cx=\"457\" cy=\"216\" r=\"4.0\" style=\"fill:rgb(148, 181, 254);stroke:black;stroke-width:1.0\"\/>\n",
       "<circle cx=\"393\" cy=\"301\" r=\"4.0\" style=\"fill:rgb(123, 158, 248);stroke:black;stroke-width:1.0\"\/>\n",
       "<circle cx=\"383\" cy=\"80\" r=\"4.0\" style=\"fill:rgb(217, 88, 71);stroke:black;stroke-width:1.0\"\/>\n",
       "<circle cx=\"295\" cy=\"168\" r=\"4.0\" style=\"fill:rgb(227, 108, 84);stroke:black;stroke-width:1.0\"\/>\n",
       "<circle cx=\"331\" cy=\"32\" r=\"4.0\" style=\"fill:rgb(190, 35, 45);stroke:black;stroke-width:1.0\"\/>\n",
       "<circle cx=\"60\" cy=\"247\" r=\"4.0\" style=\"fill:rgb(194, 45, 49);stroke:black;stroke-width:1.0\"\/>\n",
       "<circle cx=\"479\" cy=\"298\" r=\"4.0\" style=\"fill:rgb(86, 115, 224);stroke:black;stroke-width:1.0\"\/>\n",
       "<circle cx=\"398\" cy=\"138\" r=\"4.0\" style=\"fill:rgb(193, 212, 244);stroke:black;stroke-width:1.0\"\/>\n",
       "<circle cx=\"228\" cy=\"106\" r=\"4.0\" style=\"fill:rgb(207, 70, 61);stroke:black;stroke-width:1.0\"\/>\n",
       "<circle cx=\"348\" cy=\"274\" r=\"4.0\" style=\"fill:rgb(130, 165, 251);stroke:black;stroke-width:1.0\"\/>\n",
       "<circle cx=\"337\" cy=\"108\" r=\"4.0\" style=\"fill:rgb(190, 35, 45);stroke:black;stroke-width:1.0\"\/>\n",
       "<circle cx=\"355\" cy=\"252\" r=\"4.0\" style=\"fill:rgb(155, 187, 254);stroke:black;stroke-width:1.0\"\/>\n",
       "<circle cx=\"348\" cy=\"133\" r=\"4.0\" style=\"fill:rgb(127, 162, 250);stroke:black;stroke-width:1.0\"\/>\n",
       "<circle cx=\"368\" cy=\"138\" r=\"4.0\" style=\"fill:rgb(194, 45, 49);stroke:black;stroke-width:1.0\"\/>\n",
       "<circle cx=\"60\" cy=\"177\" r=\"4.0\" style=\"fill:rgb(190, 35, 45);stroke:black;stroke-width:1.0\"\/>\n",
       "<circle cx=\"182\" cy=\"42\" r=\"4.0\" style=\"fill:rgb(182, 13, 40);stroke:black;stroke-width:1.0\"\/>\n",
       "<circle cx=\"302\" cy=\"225\" r=\"4.0\" style=\"fill:rgb(225, 104, 82);stroke:black;stroke-width:1.0\"\/>\n",
       "<circle cx=\"352\" cy=\"125\" r=\"4.0\" style=\"fill:rgb(197, 50, 51);stroke:black;stroke-width:1.0\"\/>\n",
       "<circle cx=\"329\" cy=\"86\" r=\"4.0\" style=\"fill:rgb(222, 98, 78);stroke:black;stroke-width:1.0\"\/>\n",
       "<circle cx=\"98\" cy=\"102\" r=\"4.0\" style=\"fill:rgb(197, 50, 51);stroke:black;stroke-width:1.0\"\/>\n",
       "<circle cx=\"148\" cy=\"278\" r=\"4.0\" style=\"fill:rgb(76, 102, 214);stroke:black;stroke-width:1.0\"\/>\n",
       "<circle cx=\"463\" cy=\"319\" r=\"4.0\" style=\"fill:rgb(166, 195, 253);stroke:black;stroke-width:1.0\"\/>\n",
       "<circle cx=\"110\" cy=\"89\" r=\"4.0\" style=\"fill:rgb(179, 3, 38);stroke:black;stroke-width:1.0\"\/>\n",
       "<circle cx=\"335\" cy=\"172\" r=\"4.0\" style=\"fill:rgb(207, 70, 61);stroke:black;stroke-width:1.0\"\/>\n",
       "<circle cx=\"126\" cy=\"227\" r=\"4.0\" style=\"fill:rgb(127, 162, 250);stroke:black;stroke-width:1.0\"\/>\n",
       "<circle cx=\"347\" cy=\"39\" r=\"4.0\" style=\"fill:rgb(201, 59, 55);stroke:black;stroke-width:1.0\"\/>\n",
       "<circle cx=\"255\" cy=\"178\" r=\"4.0\" style=\"fill:rgb(190, 35, 45);stroke:black;stroke-width:1.0\"\/>\n",
       "<circle cx=\"255\" cy=\"128\" r=\"4.0\" style=\"fill:rgb(194, 45, 49);stroke:black;stroke-width:1.0\"\/>\n",
       "<circle cx=\"285\" cy=\"164\" r=\"4.0\" style=\"fill:rgb(220, 94, 75);stroke:black;stroke-width:1.0\"\/>\n",
       "<circle cx=\"368\" cy=\"245\" r=\"4.0\" style=\"fill:rgb(155, 187, 254);stroke:black;stroke-width:1.0\"\/>\n",
       "<circle cx=\"352\" cy=\"145\" r=\"4.0\" style=\"fill:rgb(217, 220, 224);stroke:black;stroke-width:1.0\"\/>\n",
       "<circle cx=\"469\" cy=\"203\" r=\"4.0\" style=\"fill:rgb(120, 155, 247);stroke:black;stroke-width:1.0\"\/>\n",
       "<circle cx=\"407\" cy=\"303\" r=\"4.0\" style=\"fill:rgb(138, 173, 253);stroke:black;stroke-width:1.0\"\/>\n",
       "<circle cx=\"97\" cy=\"304\" r=\"4.0\" style=\"fill:rgb(72, 96, 209);stroke:black;stroke-width:1.0\"\/>\n",
       "<circle cx=\"111\" cy=\"303\" r=\"4.0\" style=\"fill:rgb(96, 128, 232);stroke:black;stroke-width:1.0\"\/>\n",
       "<circle cx=\"188\" cy=\"234\" r=\"4.0\" style=\"fill:rgb(134, 169, 252);stroke:black;stroke-width:1.0\"\/>\n",
       "<circle cx=\"223\" cy=\"39\" r=\"4.0\" style=\"fill:rgb(194, 45, 49);stroke:black;stroke-width:1.0\"\/>\n",
       "<circle cx=\"451\" cy=\"160\" r=\"4.0\" style=\"fill:rgb(227, 217, 211);stroke:black;stroke-width:1.0\"\/>\n",
       "<circle cx=\"123\" cy=\"257\" r=\"4.0\" style=\"fill:rgb(72, 96, 209);stroke:black;stroke-width:1.0\"\/>\n",
       "<circle cx=\"318\" cy=\"219\" r=\"4.0\" style=\"fill:rgb(230, 114, 89);stroke:black;stroke-width:1.0\"\/>\n",
       "<circle cx=\"133\" cy=\"125\" r=\"4.0\" style=\"fill:rgb(197, 50, 51);stroke:black;stroke-width:1.0\"\/>\n",
       "<circle cx=\"423\" cy=\"227\" r=\"4.0\" style=\"fill:rgb(145, 179, 254);stroke:black;stroke-width:1.0\"\/>\n",
       "<circle cx=\"40\" cy=\"288\" r=\"4.0\" style=\"fill:rgb(244, 154, 123);stroke:black;stroke-width:1.0\"\/>\n",
       "<circle cx=\"168\" cy=\"97\" r=\"4.0\" style=\"fill:rgb(190, 35, 45);stroke:black;stroke-width:1.0\"\/>\n",
       "<circle cx=\"393\" cy=\"301\" r=\"4.0\" style=\"fill:rgb(109, 144, 241);stroke:black;stroke-width:1.0\"\/>\n",
       "<circle cx=\"388\" cy=\"105\" r=\"4.0\" style=\"fill:rgb(207, 70, 61);stroke:black;stroke-width:1.0\"\/>\n",
       "<circle cx=\"69\" cy=\"292\" r=\"4.0\" style=\"fill:rgb(72, 96, 209);stroke:black;stroke-width:1.0\"\/>\n",
       "<circle cx=\"214\" cy=\"32\" r=\"4.0\" style=\"fill:rgb(201, 59, 55);stroke:black;stroke-width:1.0\"\/>\n",
       "<circle cx=\"382\" cy=\"153\" r=\"4.0\" style=\"fill:rgb(197, 50, 51);stroke:black;stroke-width:1.0\"\/>\n",
       "<circle cx=\"341\" cy=\"223\" r=\"4.0\" style=\"fill:rgb(234, 211, 199);stroke:black;stroke-width:1.0\"\/>\n",
       "<circle cx=\"81\" cy=\"124\" r=\"4.0\" style=\"fill:rgb(207, 70, 61);stroke:black;stroke-width:1.0\"\/>\n",
       "<circle cx=\"446\" cy=\"152\" r=\"4.0\" style=\"fill:rgb(214, 219, 228);stroke:black;stroke-width:1.0\"\/>\n",
       "<circle cx=\"415\" cy=\"160\" r=\"4.0\" style=\"fill:rgb(246, 189, 164);stroke:black;stroke-width:1.0\"\/>\n",
       "<circle cx=\"440\" cy=\"212\" r=\"4.0\" style=\"fill:rgb(148, 181, 254);stroke:black;stroke-width:1.0\"\/>\n",
       "<circle cx=\"290\" cy=\"57\" r=\"4.0\" style=\"fill:rgb(201, 59, 55);stroke:black;stroke-width:1.0\"\/>\n",
       "<circle cx=\"138\" cy=\"99\" r=\"4.0\" style=\"fill:rgb(194, 45, 49);stroke:black;stroke-width:1.0\"\/>\n",
       "<circle cx=\"184\" cy=\"70\" r=\"4.0\" style=\"fill:rgb(187, 26, 43);stroke:black;stroke-width:1.0\"\/>\n",
       "<circle cx=\"82\" cy=\"137\" r=\"4.0\" style=\"fill:rgb(194, 45, 49);stroke:black;stroke-width:1.0\"\/>\n",
       "<circle cx=\"330\" cy=\"234\" r=\"4.0\" style=\"fill:rgb(145, 179, 254);stroke:black;stroke-width:1.0\"\/>\n",
       "<circle cx=\"208\" cy=\"43\" r=\"4.0\" style=\"fill:rgb(190, 35, 45);stroke:black;stroke-width:1.0\"\/>\n",
       "<circle cx=\"308\" cy=\"61\" r=\"4.0\" style=\"fill:rgb(197, 50, 51);stroke:black;stroke-width:1.0\"\/>\n",
       "<circle cx=\"281\" cy=\"105\" r=\"4.0\" style=\"fill:rgb(190, 35, 45);stroke:black;stroke-width:1.0\"\/>\n",
       "<circle cx=\"39\" cy=\"187\" r=\"4.0\" style=\"fill:rgb(187, 26, 43);stroke:black;stroke-width:1.0\"\/>\n",
       "<circle cx=\"103\" cy=\"206\" r=\"4.0\" style=\"fill:rgb(197, 50, 51);stroke:black;stroke-width:1.0\"\/>\n",
       "<circle cx=\"20\" cy=\"287\" r=\"4.0\" style=\"fill:rgb(145, 179, 254);stroke:black;stroke-width:1.0\"\/>\n",
       "<circle cx=\"82\" cy=\"203\" r=\"4.0\" style=\"fill:rgb(201, 59, 55);stroke:black;stroke-width:1.0\"\/>\n",
       "<circle cx=\"178\" cy=\"127\" r=\"4.0\" style=\"fill:rgb(190, 35, 45);stroke:black;stroke-width:1.0\"\/>\n",
       "<circle cx=\"280\" cy=\"20\" r=\"4.0\" style=\"fill:rgb(194, 45, 49);stroke:black;stroke-width:1.0\"\/>\n",
       "<circle cx=\"263\" cy=\"178\" r=\"4.0\" style=\"fill:rgb(227, 108, 84);stroke:black;stroke-width:1.0\"\/>\n",
       "<circle cx=\"431\" cy=\"159\" r=\"4.0\" style=\"fill:rgb(246, 183, 156);stroke:black;stroke-width:1.0\"\/>\n",
       "<circle cx=\"337\" cy=\"244\" r=\"4.0\" style=\"fill:rgb(172, 200, 252);stroke:black;stroke-width:1.0\"\/>\n",
       "<circle cx=\"207\" cy=\"175\" r=\"4.0\" style=\"fill:rgb(194, 45, 49);stroke:black;stroke-width:1.0\"\/>\n",
       "<circle cx=\"40\" cy=\"309\" r=\"4.0\" style=\"fill:rgb(148, 181, 254);stroke:black;stroke-width:1.0\"\/>\n",
       "<circle cx=\"464\" cy=\"299\" r=\"4.0\" style=\"fill:rgb(145, 179, 254);stroke:black;stroke-width:1.0\"\/>\n",
       "<circle cx=\"200\" cy=\"45\" r=\"4.0\" style=\"fill:rgb(205, 66, 58);stroke:black;stroke-width:1.0\"\/>\n",
       "<circle cx=\"156\" cy=\"65\" r=\"4.0\" style=\"fill:rgb(187, 26, 43);stroke:black;stroke-width:1.0\"\/>\n",
       "<circle cx=\"400\" cy=\"177\" r=\"4.0\" style=\"fill:rgb(214, 219, 228);stroke:black;stroke-width:1.0\"\/>\n",
       "<circle cx=\"420\" cy=\"168\" r=\"4.0\" style=\"fill:rgb(217, 220, 224);stroke:black;stroke-width:1.0\"\/>\n",
       "<circle cx=\"68\" cy=\"160\" r=\"4.0\" style=\"fill:rgb(211, 77, 64);stroke:black;stroke-width:1.0\"\/>\n",
       "<circle cx=\"28\" cy=\"224\" r=\"4.0\" style=\"fill:rgb(201, 59, 55);stroke:black;stroke-width:1.0\"\/>\n",
       "<circle cx=\"195\" cy=\"145\" r=\"4.0\" style=\"fill:rgb(187, 26, 43);stroke:black;stroke-width:1.0\"\/>\n",
       "<circle cx=\"247\" cy=\"71\" r=\"4.0\" style=\"fill:rgb(194, 45, 49);stroke:black;stroke-width:1.0\"\/>\n",
       "<circle cx=\"466\" cy=\"194\" r=\"4.0\" style=\"fill:rgb(130, 165, 251);stroke:black;stroke-width:1.0\"\/>\n",
       "<circle cx=\"42\" cy=\"199\" r=\"4.0\" style=\"fill:rgb(194, 45, 49);stroke:black;stroke-width:1.0\"\/>\n",
       "<circle cx=\"279\" cy=\"37\" r=\"4.0\" style=\"fill:rgb(194, 45, 49);stroke:black;stroke-width:1.0\"\/>\n",
       "<circle cx=\"411\" cy=\"232\" r=\"4.0\" style=\"fill:rgb(239, 137, 108);stroke:black;stroke-width:1.0\"\/>\n",
       "<circle cx=\"308\" cy=\"112\" r=\"4.0\" style=\"fill:rgb(197, 50, 51);stroke:black;stroke-width:1.0\"\/>\n",
       "<circle cx=\"396\" cy=\"90\" r=\"4.0\" style=\"fill:rgb(190, 35, 45);stroke:black;stroke-width:1.0\"\/>\n",
       "<circle cx=\"159\" cy=\"132\" r=\"4.0\" style=\"fill:rgb(201, 59, 55);stroke:black;stroke-width:1.0\"\/>\n",
       "<circle cx=\"196\" cy=\"202\" r=\"4.0\" style=\"fill:rgb(201, 59, 55);stroke:black;stroke-width:1.0\"\/>\n",
       "<circle cx=\"419\" cy=\"263\" r=\"4.0\" style=\"fill:rgb(141, 175, 253);stroke:black;stroke-width:1.0\"\/>\n",
       "<circle cx=\"322\" cy=\"202\" r=\"4.0\" style=\"fill:rgb(231, 117, 92);stroke:black;stroke-width:1.0\"\/>\n",
       "<circle cx=\"71\" cy=\"127\" r=\"4.0\" style=\"fill:rgb(187, 26, 43);stroke:black;stroke-width:1.0\"\/>\n",
       "<circle cx=\"376\" cy=\"74\" r=\"4.0\" style=\"fill:rgb(194, 45, 49);stroke:black;stroke-width:1.0\"\/>\n",
       "<circle cx=\"57\" cy=\"164\" r=\"4.0\" style=\"fill:rgb(194, 45, 49);stroke:black;stroke-width:1.0\"\/>\n",
       "<circle cx=\"126\" cy=\"291\" r=\"4.0\" style=\"fill:rgb(86, 115, 224);stroke:black;stroke-width:1.0\"\/>\n",
       "<circle cx=\"89\" cy=\"185\" r=\"4.0\" style=\"fill:rgb(190, 35, 45);stroke:black;stroke-width:1.0\"\/>\n",
       "<circle cx=\"163\" cy=\"139\" r=\"4.0\" style=\"fill:rgb(187, 26, 43);stroke:black;stroke-width:1.0\"\/>\n",
       "<circle cx=\"140\" cy=\"199\" r=\"4.0\" style=\"fill:rgb(99, 131, 234);stroke:black;stroke-width:1.0\"\/>\n",
       "<circle cx=\"136\" cy=\"153\" r=\"4.0\" style=\"fill:rgb(194, 45, 49);stroke:black;stroke-width:1.0\"\/>\n",
       "<circle cx=\"459\" cy=\"247\" r=\"4.0\" style=\"fill:rgb(116, 151, 245);stroke:black;stroke-width:1.0\"\/>\n",
       "<circle cx=\"340\" cy=\"127\" r=\"4.0\" style=\"fill:rgb(211, 77, 64);stroke:black;stroke-width:1.0\"\/>\n",
       "<circle cx=\"93\" cy=\"150\" r=\"4.0\" style=\"fill:rgb(197, 50, 51);stroke:black;stroke-width:1.0\"\/>\n",
       "<circle cx=\"213\" cy=\"190\" r=\"4.0\" style=\"fill:rgb(214, 82, 67);stroke:black;stroke-width:1.0\"\/>\n",
       "<circle cx=\"161\" cy=\"223\" r=\"4.0\" style=\"fill:rgb(138, 173, 253);stroke:black;stroke-width:1.0\"\/>\n",
       "<circle cx=\"449\" cy=\"292\" r=\"4.0\" style=\"fill:rgb(134, 169, 252);stroke:black;stroke-width:1.0\"\/>\n",
       "<circle cx=\"295\" cy=\"39\" r=\"4.0\" style=\"fill:rgb(207, 70, 61);stroke:black;stroke-width:1.0\"\/>\n",
       "<circle cx=\"99\" cy=\"216\" r=\"4.0\" style=\"fill:rgb(217, 88, 71);stroke:black;stroke-width:1.0\"\/>\n",
       "<circle cx=\"150\" cy=\"50\" r=\"4.0\" style=\"fill:rgb(182, 13, 40);stroke:black;stroke-width:1.0\"\/>\n",
       "<circle cx=\"66\" cy=\"260\" r=\"4.0\" style=\"fill:rgb(205, 66, 58);stroke:black;stroke-width:1.0\"\/>\n",
       "<circle cx=\"148\" cy=\"152\" r=\"4.0\" style=\"fill:rgb(197, 50, 51);stroke:black;stroke-width:1.0\"\/>\n",
       "<circle cx=\"372\" cy=\"288\" r=\"4.0\" style=\"fill:rgb(120, 155, 247);stroke:black;stroke-width:1.0\"\/>\n",
       "<circle cx=\"231\" cy=\"28\" r=\"4.0\" style=\"fill:rgb(194, 45, 49);stroke:black;stroke-width:1.0\"\/>\n",
       "<circle cx=\"323\" cy=\"265\" r=\"4.0\" style=\"fill:rgb(159, 190, 254);stroke:black;stroke-width:1.0\"\/>\n",
       "<circle cx=\"58\" cy=\"258\" r=\"4.0\" style=\"fill:rgb(214, 82, 67);stroke:black;stroke-width:1.0\"\/>\n",
       "<circle cx=\"234\" cy=\"164\" r=\"4.0\" style=\"fill:rgb(190, 35, 45);stroke:black;stroke-width:1.0\"\/>\n",
       "<circle cx=\"139\" cy=\"119\" r=\"4.0\" style=\"fill:rgb(205, 66, 58);stroke:black;stroke-width:1.0\"\/>\n",
       "<circle cx=\"436\" cy=\"168\" r=\"4.0\" style=\"fill:rgb(202, 216, 238);stroke:black;stroke-width:1.0\"\/>\n",
       "<circle cx=\"246\" cy=\"128\" r=\"4.0\" style=\"fill:rgb(187, 26, 43);stroke:black;stroke-width:1.0\"\/>\n",
       "<circle cx=\"435\" cy=\"293\" r=\"4.0\" style=\"fill:rgb(176, 203, 251);stroke:black;stroke-width:1.0\"\/>\n",
       "<circle cx=\"451\" cy=\"250\" r=\"4.0\" style=\"fill:rgb(243, 198, 176);stroke:black;stroke-width:1.0\"\/>\n",
       "<circle cx=\"157\" cy=\"176\" r=\"4.0\" style=\"fill:rgb(190, 35, 45);stroke:black;stroke-width:1.0\"\/>\n",
       "<circle cx=\"383\" cy=\"262\" r=\"4.0\" style=\"fill:rgb(120, 155, 247);stroke:black;stroke-width:1.0\"\/>\n",
       "<circle cx=\"116\" cy=\"119\" r=\"4.0\" style=\"fill:rgb(205, 66, 58);stroke:black;stroke-width:1.0\"\/>\n",
       "<circle cx=\"494\" cy=\"307\" r=\"4.0\" style=\"fill:rgb(103, 136, 237);stroke:black;stroke-width:1.0\"\/>\n",
       "<circle cx=\"182\" cy=\"244\" r=\"4.0\" style=\"fill:rgb(103, 136, 237);stroke:black;stroke-width:1.0\"\/>\n",
       "<circle cx=\"490\" cy=\"224\" r=\"4.0\" style=\"fill:rgb(152, 185, 254);stroke:black;stroke-width:1.0\"\/>\n",
       "<circle cx=\"256\" cy=\"70\" r=\"4.0\" style=\"fill:rgb(197, 50, 51);stroke:black;stroke-width:1.0\"\/>\n",
       "<circle cx=\"103\" cy=\"109\" r=\"4.0\" style=\"fill:rgb(211, 77, 64);stroke:black;stroke-width:1.0\"\/>\n",
       "<circle cx=\"437\" cy=\"137\" r=\"4.0\" style=\"fill:rgb(230, 215, 207);stroke:black;stroke-width:1.0\"\/>\n",
       "<circle cx=\"343\" cy=\"120\" r=\"4.0\" style=\"fill:rgb(182, 13, 40);stroke:black;stroke-width:1.0\"\/>\n",
       "<circle cx=\"263\" cy=\"87\" r=\"4.0\" style=\"fill:rgb(197, 50, 51);stroke:black;stroke-width:1.0\"\/>\n",
       "<circle cx=\"140\" cy=\"212\" r=\"4.0\" style=\"fill:rgb(141, 175, 253);stroke:black;stroke-width:1.0\"\/>\n",
       "<circle cx=\"237\" cy=\"105\" r=\"4.0\" style=\"fill:rgb(190, 35, 45);stroke:black;stroke-width:1.0\"\/>\n",
       "<circle cx=\"334\" cy=\"51\" r=\"4.0\" style=\"fill:rgb(194, 45, 49);stroke:black;stroke-width:1.0\"\/>\n",
       "<circle cx=\"434\" cy=\"283\" r=\"4.0\" style=\"fill:rgb(112, 147, 243);stroke:black;stroke-width:1.0\"\/>\n",
       "<circle cx=\"344\" cy=\"286\" r=\"4.0\" style=\"fill:rgb(134, 169, 252);stroke:black;stroke-width:1.0\"\/>\n",
       "<circle cx=\"282\" cy=\"180\" r=\"4.0\" style=\"fill:rgb(211, 77, 64);stroke:black;stroke-width:1.0\"\/>\n",
       "<circle cx=\"100\" cy=\"263\" r=\"4.0\" style=\"fill:rgb(190, 35, 45);stroke:black;stroke-width:1.0\"\/>\n",
       "<circle cx=\"226\" cy=\"149\" r=\"4.0\" style=\"fill:rgb(187, 26, 43);stroke:black;stroke-width:1.0\"\/>\n",
       "<circle cx=\"184\" cy=\"51\" r=\"4.0\" style=\"fill:rgb(190, 35, 45);stroke:black;stroke-width:1.0\"\/>\n",
       "<circle cx=\"153\" cy=\"107\" r=\"4.0\" style=\"fill:rgb(205, 66, 58);stroke:black;stroke-width:1.0\"\/>\n",
       "<circle cx=\"55\" cy=\"279\" r=\"4.0\" style=\"fill:rgb(88, 118, 226);stroke:black;stroke-width:1.0\"\/>\n",
       "<circle cx=\"462\" cy=\"185\" r=\"4.0\" style=\"fill:rgb(217, 220, 224);stroke:black;stroke-width:1.0\"\/>\n",
       "<circle cx=\"472\" cy=\"211\" r=\"4.0\" style=\"fill:rgb(127, 162, 250);stroke:black;stroke-width:1.0\"\/>\n",
       "<circle cx=\"351\" cy=\"97\" r=\"4.0\" style=\"fill:rgb(194, 45, 49);stroke:black;stroke-width:1.0\"\/>\n",
       "<circle cx=\"282\" cy=\"96\" r=\"4.0\" style=\"fill:rgb(190, 35, 45);stroke:black;stroke-width:1.0\"\/>\n",
       "<circle cx=\"119\" cy=\"192\" r=\"4.0\" style=\"fill:rgb(109, 144, 241);stroke:black;stroke-width:1.0\"\/>\n",
       "<circle cx=\"119\" cy=\"204\" r=\"4.0\" style=\"fill:rgb(237, 132, 103);stroke:black;stroke-width:1.0\"\/>\n",
       "<circle cx=\"420\" cy=\"216\" r=\"4.0\" style=\"fill:rgb(145, 179, 254);stroke:black;stroke-width:1.0\"\/>\n",
       "<circle cx=\"350\" cy=\"186\" r=\"4.0\" style=\"fill:rgb(234, 123, 96);stroke:black;stroke-width:1.0\"\/>\n",
       "<circle cx=\"311\" cy=\"175\" r=\"4.0\" style=\"fill:rgb(205, 66, 58);stroke:black;stroke-width:1.0\"\/>\n",
       "<circle cx=\"172\" cy=\"84\" r=\"4.0\" style=\"fill:rgb(190, 35, 45);stroke:black;stroke-width:1.0\"\/>\n",
       "<circle cx=\"271\" cy=\"20\" r=\"4.0\" style=\"fill:rgb(194, 45, 49);stroke:black;stroke-width:1.0\"\/>\n",
       "<circle cx=\"431\" cy=\"104\" r=\"4.0\" style=\"fill:rgb(242, 145, 115);stroke:black;stroke-width:1.0\"\/>\n",
       "<circle cx=\"409\" cy=\"210\" r=\"4.0\" style=\"fill:rgb(130, 165, 251);stroke:black;stroke-width:1.0\"\/>\n",
       "<circle cx=\"63\" cy=\"169\" r=\"4.0\" style=\"fill:rgb(182, 13, 40);stroke:black;stroke-width:1.0\"\/>\n",
       "<circle cx=\"182\" cy=\"162\" r=\"4.0\" style=\"fill:rgb(201, 59, 55);stroke:black;stroke-width:1.0\"\/>\n",
       "<circle cx=\"256\" cy=\"36\" r=\"4.0\" style=\"fill:rgb(182, 13, 40);stroke:black;stroke-width:1.0\"\/>\n",
       "<circle cx=\"374\" cy=\"220\" r=\"4.0\" style=\"fill:rgb(189, 210, 246);stroke:black;stroke-width:1.0\"\/>\n",
       "<circle cx=\"442\" cy=\"145\" r=\"4.0\" style=\"fill:rgb(246, 189, 164);stroke:black;stroke-width:1.0\"\/>\n",
       "<circle cx=\"305\" cy=\"77\" r=\"4.0\" style=\"fill:rgb(211, 77, 64);stroke:black;stroke-width:1.0\"\/>\n",
       "<circle cx=\"299\" cy=\"109\" r=\"4.0\" style=\"fill:rgb(190, 35, 45);stroke:black;stroke-width:1.0\"\/>\n",
       "<circle cx=\"142\" cy=\"74\" r=\"4.0\" style=\"fill:rgb(205, 66, 58);stroke:black;stroke-width:1.0\"\/>\n",
       "<circle cx=\"55\" cy=\"289\" r=\"4.0\" style=\"fill:rgb(86, 115, 224);stroke:black;stroke-width:1.0\"\/>\n",
       "<circle cx=\"55\" cy=\"319\" r=\"4.0\" style=\"fill:rgb(80, 107, 218);stroke:black;stroke-width:1.0\"\/>\n",
       "<\/svg>"
      ]
     },
     "metadata":{
      
     },
     "output_type":"display_data"
    }
   ],
   "metadata":{
    "datalore":{
     "type":"CODE",
     "hide_input_from_viewers":false,
     "hide_output_from_viewers":false,
     "node_id":"WiOUxGGi5cbg6ovO4fi0WP"
    }
   }
  },
  {
   "cell_type":"code",
   "source":[
    "# top-10 deputies for majority\n",
    "index = np.argwhere(majority).ravel()\n",
    "top = index[top_k(scores[index], 10)]\n",
    "print(names[top])"
   ],
   "execution_count":200,
   "outputs":[
    {
     "name":"stdout",
     "text":[
      "['Émilie Chalas' 'Didier Paris' 'Richard Ferrand'\n",
      " 'Élise Fajgeles|||Benjamin Griveaux' 'Guillaume Vuilletet'\n",
      " 'Yaël Braun-Pivet' 'Marie Guévenoux' 'Jean Terlier' 'Sacha Houlié'\n",
      " 'Thomas Rudigoz']\n"
     ],
     "output_type":"stream"
    }
   ],
   "metadata":{
    "datalore":{
     "type":"CODE",
     "hide_input_from_viewers":false,
     "hide_output_from_viewers":false,
     "node_id":"9YxVG3wQkBCxfJ5wcCX5zA"
    }
   }
  },
  {
   "cell_type":"code",
   "source":[
    "# bottom-10 deputies for majority\n",
    "bottom = index[top_k(-scores[index], 10)]\n",
    "print(names[bottom])"
   ],
   "execution_count":201,
   "outputs":[
    {
     "name":"stdout",
     "text":[
      "['Frédérique Dumas' 'Maud Petit' 'Richard Ramos' 'Agnès Thill'\n",
      " 'Brahim Hammouche' 'Sébastien Nadot' 'Jimmy Pahun' 'Josy Poueyto'\n",
      " 'Sonia Krimi' 'Max Mathiasin']\n"
     ],
     "output_type":"stream"
    }
   ],
   "metadata":{
    "datalore":{
     "type":"CODE",
     "hide_input_from_viewers":false,
     "hide_output_from_viewers":false,
     "node_id":"h9qyacG1I1YKlQpVNPDqfh"
    }
   }
  },
  {
   "cell_type":"code",
   "source":[
    "# top-10 deputies for opposition\n",
    "index = np.argwhere(opposition).ravel()\n",
    "top = index[top_k(-scores[index], 10)]\n",
    "print(names[top])"
   ],
   "execution_count":202,
   "outputs":[
    {
     "name":"stdout",
     "text":[
      "['Ugo Bernalicis' 'Adrien Quatennens' 'Alain Bruneel' 'Clémentine Autain'\n",
      " 'Nicolas Dupont-Aignan' 'Alexis Corbière' 'Jean-Luc Mélenchon'\n",
      " 'Sébastien Jumel' 'Jean-Hugues Ratenon' 'Pierre Dharréville']\n"
     ],
     "output_type":"stream"
    }
   ],
   "metadata":{
    "datalore":{
     "type":"CODE",
     "hide_input_from_viewers":false,
     "hide_output_from_viewers":false,
     "node_id":"IZF4ZUd3nHsTIHXg3fdUT1"
    }
   }
  },
  {
   "cell_type":"code",
   "source":[
    "# bottom-10 deputies for opposition\n",
    "bottom = index[top_k(scores[index], 10)]\n",
    "print(names[bottom])"
   ],
   "execution_count":203,
   "outputs":[
    {
     "name":"stdout",
     "text":[
      "['Jean-Luc Warsmann' 'Olivier Dassault' 'Napole Polutele|||Sylvain Brial'\n",
      " 'Stéphane Demilly' 'Michèle Tabarot' 'Bernard Deflesselles'\n",
      " 'Franck Riester|||Patricia Lemoine' 'Thierry Robert|||Jean-Luc Poudroux'\n",
      " 'Laure de La Raudière' 'Philippe Gomès']\n"
     ],
     "output_type":"stream"
    }
   ],
   "metadata":{
    "datalore":{
     "type":"CODE",
     "hide_input_from_viewers":false,
     "hide_output_from_viewers":false,
     "node_id":"oZuieF1X1e4CiS5qLNW8xJ"
    }
   }
  },
  {
   "cell_type":"markdown",
   "source":[
    "## BILLS"
   ],
   "attachments":{
    
   },
   "metadata":{
    "datalore":{
     "type":"MD",
     "hide_input_from_viewers":false,
     "hide_output_from_viewers":false,
     "node_id":"ovwZqWPz94SCEicIHCthvN"
    }
   }
  },
  {
   "cell_type":"code",
   "source":[
    "# labels are on deputies so you need an odd number of iterations\n",
    "diffusion = Diffusion(n_iter=5)"
   ],
   "execution_count":204,
   "outputs":[
    
   ],
   "metadata":{
    "datalore":{
     "type":"CODE",
     "hide_input_from_viewers":false,
     "hide_output_from_viewers":false,
     "node_id":"mOj2lZtVSsQVkVPzswRjGt"
    }
   }
  },
  {
   "cell_type":"code",
   "source":[
    "diffusion.fit(biadjacency_for, seeds_row=majority)"
   ],
   "execution_count":205,
   "outputs":[
    {
     "data":{
      "text\/plain":[
       "Diffusion(n_iter=5, damping_factor=1.0)"
      ]
     },
     "metadata":{
      
     },
     "output_type":"display_data"
    }
   ],
   "metadata":{
    "datalore":{
     "type":"CODE",
     "hide_input_from_viewers":false,
     "hide_output_from_viewers":false,
     "node_id":"YClAiBqX4j2CFn0B3Rbxpo"
    }
   }
  },
  {
   "cell_type":"code",
   "source":[
    "scores_bill = diffusion.scores_col_"
   ],
   "execution_count":206,
   "outputs":[
    
   ],
   "metadata":{
    "datalore":{
     "type":"CODE",
     "hide_input_from_viewers":false,
     "hide_output_from_viewers":false,
     "node_id":"wfrThunP44YoembAcQztgW"
    }
   }
  },
  {
   "cell_type":"code",
   "source":[
    "np.quantile(scores_bill, [0.1, 0.5, 0.9])"
   ],
   "execution_count":207,
   "outputs":[
    {
     "data":{
      "text\/html":[
       
      ]
     },
     "metadata":{
      
     },
     "output_type":"display_data"
    }
   ],
   "metadata":{
    "datalore":{
     "type":"CODE",
     "hide_input_from_viewers":false,
     "hide_output_from_viewers":false,
     "node_id":"0NEEskHZLMvlZW3pyZ53o9"
    }
   }
  },
  {
   "cell_type":"code",
   "source":[
    "# top-5 bills for majority\n",
    "for i in top_k(scores_bill, 5):\n",
    "    print(bills[i] + '\\n')"
   ],
   "execution_count":208,
   "outputs":[
    {
     "name":"stdout",
     "text":[
      "l'article 27 du projet de loi de programmation 2018-2022 et de réforme pour la justice (première lecture).\n",
      "\n",
      "l'amendement de suppression n° 72 du Gouvernement à l'article 9 de la proposition de loi d'orientation et de programmation relative à la sécurité intérieure (première lecture).\n",
      "\n",
      "l'amendement de suppression n° 71 du Gouvernement à l'article 3 de la proposition de loi d'orientation et de programmation relative à la sécurité intérieure (première lecture).\n",
      "\n",
      "l'amendement n° 2362  de Mme Marsaud après l'article 60 du projet de loi portant évolution du logement, de l'aménagement et du numérique (première lecture)\n",
      "\n",
      "l'article 13 du projet de loi de programmation 2018-2022 et de réforme pour la justice (première lecture).\n",
      "\n"
     ],
     "output_type":"stream"
    }
   ],
   "metadata":{
    "datalore":{
     "type":"CODE",
     "hide_input_from_viewers":false,
     "hide_output_from_viewers":false,
     "node_id":"GloLwBxLPlrpaioZfTLODO"
    }
   }
  },
  {
   "cell_type":"code",
   "source":[
    "# top-5 bills for opposition\n",
    "for i in top_k(-scores_bill, 5):\n",
    "    print(bills[i] + '\\n')"
   ],
   "execution_count":209,
   "outputs":[
    {
     "name":"stdout",
     "text":[
      "l'amendement n° 602 de M. Bernalicis à l'article 32 du projet de loi de programmation 2018-2022 et de réforme pour la justice (première lecture).\n",
      "\n",
      "l'amendement n° 208 de Mme Obono après l'article 31 bis du projet de loi de programmation 2018-2022 et de réforme pour la justice (première lecture).\n",
      "\n",
      "l'amendement n° 205 de Mme Obono après l'article 30 du projet de loi de programmation 2018-2022 et de réforme pour la justice (première lecture).\n",
      "\n",
      "l'amendement n° 11 de M. Bernalicis à l'article unique de la proposition de loi renforçant la lutte contre les rodéos motorisés (première lecture).\n",
      "\n",
      "l'amendement n° 272 de Mme Obono à l'article 50 du projet de loi de programmation 2018-2022 et de réforme pour la justice (première lecture).\n",
      "\n"
     ],
     "output_type":"stream"
    }
   ],
   "metadata":{
    "datalore":{
     "type":"CODE",
     "hide_input_from_viewers":false,
     "hide_output_from_viewers":false,
     "node_id":"h4zZJj9Q23qzzb29265oWq"
    }
   }
  },
  {
   "cell_type":"code",
   "source":[
    "# top-5 controversial\n",
    "for i in top_k(-np.abs(scores_bill-0.5), 5):\n",
    "    print(bills[i] + '\\n')"
   ],
   "execution_count":210,
   "outputs":[
    {
     "name":"stdout",
     "text":[
      "l'article unique de la proposition de loi organique visant à permettre l'inscription d'office sur la liste électorale spéciale à la consultation sur l'accession à la pleine souveraineté de la Nouvelle-Calédonie (première lecture).\n",
      "\n",
      "l'amendement n° 66 de Mme Auconie et les amendements identiques suivants à l'article premier du projet de loi renforçant la lutte contre les violences sexuelles et sexistes (première lecture).\n",
      "\n",
      "l'amendement de suppression n° 168 de Mme Obono et les amendements identiques suivants à l'article 9 ter du projet de loi pour une immigration maîtrisée, un droit d'asile effectif et une intégration réussie (nouvelle lecture).\n",
      "\n",
      "l'amendement n° 962 de la commission du développement durable et l'amendement identique suivant après l'article 14 septies du projet de loi pour l'équilibre des relations commerciales dans le secteur agricole et alimentaire et une alimentation saine et durable (première lecture).\n",
      "\n",
      "l'amendement n° 1118 de M. Clément à l'article premier du projet de loi pour une immigration maîtrisée, un droit d'asile effectif et une intégration réussie (première lecture).\n",
      "\n"
     ],
     "output_type":"stream"
    }
   ],
   "metadata":{
    "datalore":{
     "type":"CODE",
     "hide_input_from_viewers":false,
     "hide_output_from_viewers":false,
     "node_id":"POp9u8rWKusnAKKqQRC5kM"
    }
   }
  },
  {
   "cell_type":"markdown",
   "source":[
    "## Embedding"
   ],
   "attachments":{
    
   },
   "metadata":{
    "datalore":{
     "type":"MD",
     "hide_input_from_viewers":false,
     "hide_output_from_viewers":false,
     "node_id":"UZNkTPzFzFyyt0eAaCgS7i"
    }
   }
  },
  {
   "cell_type":"code",
   "source":[
    "spectral = Spectral(2, normalized=False)"
   ],
   "execution_count":211,
   "outputs":[
    
   ],
   "metadata":{
    "datalore":{
     "type":"CODE",
     "hide_input_from_viewers":false,
     "hide_output_from_viewers":false,
     "node_id":"MuNfWivx0UO2pSqMJlTqLR"
    }
   }
  },
  {
   "cell_type":"code",
   "source":[
    "embedding = spectral.fit_transform(biadjacency_for)"
   ],
   "execution_count":212,
   "outputs":[
    
   ],
   "metadata":{
    "datalore":{
     "type":"CODE",
     "hide_input_from_viewers":false,
     "hide_output_from_viewers":false,
     "node_id":"1N9FvcXd5mzy0YrhIC5dib"
    }
   }
  },
  {
   "cell_type":"code",
   "source":[
    "image = svg_graph(position=embedding, names=names, labels=labels, node_size=5, width=400, height=1000,\n",
    "                  label_colors=label_colors)"
   ],
   "execution_count":213,
   "outputs":[
    
   ],
   "metadata":{
    "datalore":{
     "type":"CODE",
     "hide_input_from_viewers":false,
     "hide_output_from_viewers":false,
     "node_id":"HkPwfxuTg8xjJcXSJm12I6"
    }
   }
  },
  {
   "cell_type":"code",
   "source":[
    "SVG(image)"
   ],
   "execution_count":214,
   "outputs":[
    {
     "data":{
      "image\/svg+xml":[
       "<svg xmlns=\"http:\/\/www.w3.org\/2000\/svg\" width=\"846.5588963095189\" height=\"1040\">\n",
       "<circle cx=\"28\" cy=\"548\" r=\"5.0\" style=\"fill:gold;stroke:black;stroke-width:1.0\"\/>\n",
       "<circle cx=\"376\" cy=\"763\" r=\"5.0\" style=\"fill:hotpink;stroke:black;stroke-width:1.0\"\/>\n",
       "<circle cx=\"221\" cy=\"336\" r=\"5.0\" style=\"fill:skyblue;stroke:black;stroke-width:1.0\"\/>\n",
       "<circle cx=\"34\" cy=\"562\" r=\"5.0\" style=\"fill:gold;stroke:black;stroke-width:1.0\"\/>\n",
       "<circle cx=\"377\" cy=\"927\" r=\"5.0\" style=\"fill:firebrick;stroke:black;stroke-width:1.0\"\/>\n",
       "<circle cx=\"29\" cy=\"552\" r=\"5.0\" style=\"fill:gold;stroke:black;stroke-width:1.0\"\/>\n",
       "<circle cx=\"40\" cy=\"528\" r=\"5.0\" style=\"fill:gold;stroke:black;stroke-width:1.0\"\/>\n",
       "<circle cx=\"375\" cy=\"700\" r=\"5.0\" style=\"fill:red;stroke:black;stroke-width:1.0\"\/>\n",
       "<circle cx=\"36\" cy=\"558\" r=\"5.0\" style=\"fill:gold;stroke:black;stroke-width:1.0\"\/>\n",
       "<circle cx=\"36\" cy=\"555\" r=\"5.0\" style=\"fill:gold;stroke:black;stroke-width:1.0\"\/>\n",
       "<circle cx=\"30\" cy=\"569\" r=\"5.0\" style=\"fill:gold;stroke:black;stroke-width:1.0\"\/>\n",
       "<circle cx=\"49\" cy=\"586\" r=\"5.0\" style=\"fill:gold;stroke:black;stroke-width:1.0\"\/>\n",
       "<circle cx=\"105\" cy=\"519\" r=\"5.0\" style=\"fill:orange;stroke:black;stroke-width:1.0\"\/>\n",
       "<circle cx=\"308\" cy=\"272\" r=\"5.0\" style=\"fill:white;stroke:black;stroke-width:1.0\"\/>\n",
       "<circle cx=\"300\" cy=\"215\" r=\"5.0\" style=\"fill:blue;stroke:black;stroke-width:1.0\"\/>\n",
       "<circle cx=\"274\" cy=\"375\" r=\"5.0\" style=\"fill:blue;stroke:black;stroke-width:1.0\"\/>\n",
       "<circle cx=\"31\" cy=\"528\" r=\"5.0\" style=\"fill:gold;stroke:black;stroke-width:1.0\"\/>\n",
       "<circle cx=\"39\" cy=\"557\" r=\"5.0\" style=\"fill:gold;stroke:black;stroke-width:1.0\"\/>\n",
       "<circle cx=\"35\" cy=\"557\" r=\"5.0\" style=\"fill:gold;stroke:black;stroke-width:1.0\"\/>\n",
       "<circle cx=\"29\" cy=\"545\" r=\"5.0\" style=\"fill:gold;stroke:black;stroke-width:1.0\"\/>\n",
       "<circle cx=\"38\" cy=\"568\" r=\"5.0\" style=\"fill:gold;stroke:black;stroke-width:1.0\"\/>\n",
       "<circle cx=\"25\" cy=\"579\" r=\"5.0\" style=\"fill:gold;stroke:black;stroke-width:1.0\"\/>\n",
       "<circle cx=\"308\" cy=\"232\" r=\"5.0\" style=\"fill:white;stroke:black;stroke-width:1.0\"\/>\n",
       "<circle cx=\"320\" cy=\"584\" r=\"5.0\" style=\"fill:hotpink;stroke:black;stroke-width:1.0\"\/>\n",
       "<circle cx=\"43\" cy=\"581\" r=\"5.0\" style=\"fill:gold;stroke:black;stroke-width:1.0\"\/>\n",
       "<circle cx=\"29\" cy=\"548\" r=\"5.0\" style=\"fill:gold;stroke:black;stroke-width:1.0\"\/>\n",
       "<circle cx=\"36\" cy=\"551\" r=\"5.0\" style=\"fill:gold;stroke:black;stroke-width:1.0\"\/>\n",
       "<circle cx=\"382\" cy=\"639\" r=\"5.0\" style=\"fill:white;stroke:black;stroke-width:1.0\"\/>\n",
       "<circle cx=\"212\" cy=\"334\" r=\"5.0\" style=\"fill:blue;stroke:black;stroke-width:1.0\"\/>\n",
       "<circle cx=\"281\" cy=\"250\" r=\"5.0\" style=\"fill:blue;stroke:black;stroke-width:1.0\"\/>\n",
       "<circle cx=\"35\" cy=\"543\" r=\"5.0\" style=\"fill:gold;stroke:black;stroke-width:1.0\"\/>\n",
       "<circle cx=\"205\" cy=\"431\" r=\"5.0\" style=\"fill:skyblue;stroke:black;stroke-width:1.0\"\/>\n",
       "<circle cx=\"289\" cy=\"165\" r=\"5.0\" style=\"fill:blue;stroke:black;stroke-width:1.0\"\/>\n",
       "<circle cx=\"54\" cy=\"548\" r=\"5.0\" style=\"fill:gold;stroke:black;stroke-width:1.0\"\/>\n",
       "<circle cx=\"33\" cy=\"552\" r=\"5.0\" style=\"fill:gold;stroke:black;stroke-width:1.0\"\/>\n",
       "<circle cx=\"233\" cy=\"278\" r=\"5.0\" style=\"fill:skyblue;stroke:black;stroke-width:1.0\"\/>\n",
       "<circle cx=\"292\" cy=\"759\" r=\"5.0\" style=\"fill:hotpink;stroke:black;stroke-width:1.0\"\/>\n",
       "<circle cx=\"279\" cy=\"282\" r=\"5.0\" style=\"fill:blue;stroke:black;stroke-width:1.0\"\/>\n",
       "<circle cx=\"48\" cy=\"586\" r=\"5.0\" style=\"fill:gold;stroke:black;stroke-width:1.0\"\/>\n",
       "<circle cx=\"22\" cy=\"568\" r=\"5.0\" style=\"fill:gold;stroke:black;stroke-width:1.0\"\/>\n",
       "<circle cx=\"342\" cy=\"272\" r=\"5.0\" style=\"fill:blue;stroke:black;stroke-width:1.0\"\/>\n",
       "<circle cx=\"35\" cy=\"540\" r=\"5.0\" style=\"fill:gold;stroke:black;stroke-width:1.0\"\/>\n",
       "<circle cx=\"26\" cy=\"564\" r=\"5.0\" style=\"fill:gold;stroke:black;stroke-width:1.0\"\/>\n",
       "<circle cx=\"263\" cy=\"340\" r=\"5.0\" style=\"fill:blue;stroke:black;stroke-width:1.0\"\/>\n",
       "<circle cx=\"293\" cy=\"253\" r=\"5.0\" style=\"fill:blue;stroke:black;stroke-width:1.0\"\/>\n",
       "<circle cx=\"222\" cy=\"423\" r=\"5.0\" style=\"fill:blue;stroke:black;stroke-width:1.0\"\/>\n",
       "<circle cx=\"34\" cy=\"561\" r=\"5.0\" style=\"fill:gold;stroke:black;stroke-width:1.0\"\/>\n",
       "<circle cx=\"388\" cy=\"926\" r=\"5.0\" style=\"fill:hotpink;stroke:black;stroke-width:1.0\"\/>\n",
       "<circle cx=\"391\" cy=\"918\" r=\"5.0\" style=\"fill:firebrick;stroke:black;stroke-width:1.0\"\/>\n",
       "<circle cx=\"314\" cy=\"171\" r=\"5.0\" style=\"fill:blue;stroke:black;stroke-width:1.0\"\/>\n",
       "<circle cx=\"36\" cy=\"561\" r=\"5.0\" style=\"fill:gold;stroke:black;stroke-width:1.0\"\/>\n",
       "<circle cx=\"31\" cy=\"562\" r=\"5.0\" style=\"fill:gold;stroke:black;stroke-width:1.0\"\/>\n",
       "<circle cx=\"40\" cy=\"551\" r=\"5.0\" style=\"fill:gold;stroke:black;stroke-width:1.0\"\/>\n",
       "<circle cx=\"378\" cy=\"968\" r=\"5.0\" style=\"fill:firebrick;stroke:black;stroke-width:1.0\"\/>\n",
       "<circle cx=\"257\" cy=\"528\" r=\"5.0\" style=\"fill:skyblue;stroke:black;stroke-width:1.0\"\/>\n",
       "<circle cx=\"263\" cy=\"116\" r=\"5.0\" style=\"fill:blue;stroke:black;stroke-width:1.0\"\/>\n",
       "<circle cx=\"250\" cy=\"483\" r=\"5.0\" style=\"fill:skyblue;stroke:black;stroke-width:1.0\"\/>\n",
       "<circle cx=\"32\" cy=\"540\" r=\"5.0\" style=\"fill:gold;stroke:black;stroke-width:1.0\"\/>\n",
       "<circle cx=\"36\" cy=\"538\" r=\"5.0\" style=\"fill:gold;stroke:black;stroke-width:1.0\"\/>\n",
       "<circle cx=\"40\" cy=\"555\" r=\"5.0\" style=\"fill:gold;stroke:black;stroke-width:1.0\"\/>\n",
       "<circle cx=\"368\" cy=\"893\" r=\"5.0\" style=\"fill:red;stroke:black;stroke-width:1.0\"\/>\n",
       "<circle cx=\"28\" cy=\"559\" r=\"5.0\" style=\"fill:gold;stroke:black;stroke-width:1.0\"\/>\n",
       "<circle cx=\"22\" cy=\"560\" r=\"5.0\" style=\"fill:gold;stroke:black;stroke-width:1.0\"\/>\n",
       "<circle cx=\"36\" cy=\"577\" r=\"5.0\" style=\"fill:gold;stroke:black;stroke-width:1.0\"\/>\n",
       "<circle cx=\"275\" cy=\"373\" r=\"5.0\" style=\"fill:blue;stroke:black;stroke-width:1.0\"\/>\n",
       "<circle cx=\"37\" cy=\"541\" r=\"5.0\" style=\"fill:gold;stroke:black;stroke-width:1.0\"\/>\n",
       "<circle cx=\"333\" cy=\"237\" r=\"5.0\" style=\"fill:blue;stroke:black;stroke-width:1.0\"\/>\n",
       "<circle cx=\"102\" cy=\"593\" r=\"5.0\" style=\"fill:gold;stroke:black;stroke-width:1.0\"\/>\n",
       "<circle cx=\"149\" cy=\"441\" r=\"5.0\" style=\"fill:blue;stroke:black;stroke-width:1.0\"\/>\n",
       "<circle cx=\"37\" cy=\"538\" r=\"5.0\" style=\"fill:gold;stroke:black;stroke-width:1.0\"\/>\n",
       "<circle cx=\"300\" cy=\"291\" r=\"5.0\" style=\"fill:blue;stroke:black;stroke-width:1.0\"\/>\n",
       "<circle cx=\"60\" cy=\"574\" r=\"5.0\" style=\"fill:gold;stroke:black;stroke-width:1.0\"\/>\n",
       "<circle cx=\"71\" cy=\"501\" r=\"5.0\" style=\"fill:gold;stroke:black;stroke-width:1.0\"\/>\n",
       "<circle cx=\"336\" cy=\"563\" r=\"5.0\" style=\"fill:white;stroke:black;stroke-width:1.0\"\/>\n",
       "<circle cx=\"198\" cy=\"489\" r=\"5.0\" style=\"fill:gold;stroke:black;stroke-width:1.0\"\/>\n",
       "<circle cx=\"39\" cy=\"557\" r=\"5.0\" style=\"fill:gold;stroke:black;stroke-width:1.0\"\/>\n",
       "<circle cx=\"34\" cy=\"571\" r=\"5.0\" style=\"fill:gold;stroke:black;stroke-width:1.0\"\/>\n",
       "<circle cx=\"136\" cy=\"403\" r=\"5.0\" style=\"fill:blue;stroke:black;stroke-width:1.0\"\/>\n",
       "<circle cx=\"32\" cy=\"555\" r=\"5.0\" style=\"fill:gold;stroke:black;stroke-width:1.0\"\/>\n",
       "<circle cx=\"25\" cy=\"571\" r=\"5.0\" style=\"fill:gold;stroke:black;stroke-width:1.0\"\/>\n",
       "<circle cx=\"26\" cy=\"562\" r=\"5.0\" style=\"fill:gold;stroke:black;stroke-width:1.0\"\/>\n",
       "<circle cx=\"282\" cy=\"230\" r=\"5.0\" style=\"fill:blue;stroke:black;stroke-width:1.0\"\/>\n",
       "<circle cx=\"333\" cy=\"580\" r=\"5.0\" style=\"fill:skyblue;stroke:black;stroke-width:1.0\"\/>\n",
       "<circle cx=\"168\" cy=\"625\" r=\"5.0\" style=\"fill:skyblue;stroke:black;stroke-width:1.0\"\/>\n",
       "<circle cx=\"384\" cy=\"947\" r=\"5.0\" style=\"fill:firebrick;stroke:black;stroke-width:1.0\"\/>\n",
       "<circle cx=\"343\" cy=\"673\" r=\"5.0\" style=\"fill:hotpink;stroke:black;stroke-width:1.0\"\/>\n",
       "<circle cx=\"33\" cy=\"556\" r=\"5.0\" style=\"fill:gold;stroke:black;stroke-width:1.0\"\/>\n",
       "<circle cx=\"37\" cy=\"540\" r=\"5.0\" style=\"fill:gold;stroke:black;stroke-width:1.0\"\/>\n",
       "<circle cx=\"29\" cy=\"559\" r=\"5.0\" style=\"fill:gold;stroke:black;stroke-width:1.0\"\/>\n",
       "<circle cx=\"233\" cy=\"306\" r=\"5.0\" style=\"fill:blue;stroke:black;stroke-width:1.0\"\/>\n",
       "<circle cx=\"32\" cy=\"556\" r=\"5.0\" style=\"fill:gold;stroke:black;stroke-width:1.0\"\/>\n",
       "<circle cx=\"28\" cy=\"555\" r=\"5.0\" style=\"fill:gold;stroke:black;stroke-width:1.0\"\/>\n",
       "<circle cx=\"26\" cy=\"570\" r=\"5.0\" style=\"fill:gold;stroke:black;stroke-width:1.0\"\/>\n",
       "<circle cx=\"150\" cy=\"419\" r=\"5.0\" style=\"fill:skyblue;stroke:black;stroke-width:1.0\"\/>\n",
       "<circle cx=\"313\" cy=\"194\" r=\"5.0\" style=\"fill:blue;stroke:black;stroke-width:1.0\"\/>\n",
       "<circle cx=\"362\" cy=\"747\" r=\"5.0\" style=\"fill:hotpink;stroke:black;stroke-width:1.0\"\/>\n",
       "<circle cx=\"52\" cy=\"527\" r=\"5.0\" style=\"fill:gold;stroke:black;stroke-width:1.0\"\/>\n",
       "<circle cx=\"315\" cy=\"774\" r=\"5.0\" style=\"fill:hotpink;stroke:black;stroke-width:1.0\"\/>\n",
       "<circle cx=\"36\" cy=\"551\" r=\"5.0\" style=\"fill:gold;stroke:black;stroke-width:1.0\"\/>\n",
       "<circle cx=\"38\" cy=\"563\" r=\"5.0\" style=\"fill:gold;stroke:black;stroke-width:1.0\"\/>\n",
       "<circle cx=\"35\" cy=\"562\" r=\"5.0\" style=\"fill:gold;stroke:black;stroke-width:1.0\"\/>\n",
       "<circle cx=\"31\" cy=\"560\" r=\"5.0\" style=\"fill:gold;stroke:black;stroke-width:1.0\"\/>\n",
       "<circle cx=\"47\" cy=\"554\" r=\"5.0\" style=\"fill:gold;stroke:black;stroke-width:1.0\"\/>\n",
       "<circle cx=\"36\" cy=\"524\" r=\"5.0\" style=\"fill:skyblue;stroke:black;stroke-width:1.0\"\/>\n",
       "<circle cx=\"302\" cy=\"234\" r=\"5.0\" style=\"fill:blue;stroke:black;stroke-width:1.0\"\/>\n",
       "<circle cx=\"37\" cy=\"540\" r=\"5.0\" style=\"fill:gold;stroke:black;stroke-width:1.0\"\/>\n",
       "<circle cx=\"26\" cy=\"556\" r=\"5.0\" style=\"fill:gold;stroke:black;stroke-width:1.0\"\/>\n",
       "<circle cx=\"27\" cy=\"580\" r=\"5.0\" style=\"fill:gold;stroke:black;stroke-width:1.0\"\/>\n",
       "<circle cx=\"41\" cy=\"571\" r=\"5.0\" style=\"fill:gold;stroke:black;stroke-width:1.0\"\/>\n",
       "<circle cx=\"46\" cy=\"544\" r=\"5.0\" style=\"fill:gold;stroke:black;stroke-width:1.0\"\/>\n",
       "<circle cx=\"28\" cy=\"572\" r=\"5.0\" style=\"fill:gold;stroke:black;stroke-width:1.0\"\/>\n",
       "<circle cx=\"27\" cy=\"552\" r=\"5.0\" style=\"fill:gold;stroke:black;stroke-width:1.0\"\/>\n",
       "<circle cx=\"49\" cy=\"554\" r=\"5.0\" style=\"fill:gold;stroke:black;stroke-width:1.0\"\/>\n",
       "<circle cx=\"29\" cy=\"560\" r=\"5.0\" style=\"fill:gold;stroke:black;stroke-width:1.0\"\/>\n",
       "<circle cx=\"56\" cy=\"523\" r=\"5.0\" style=\"fill:gold;stroke:black;stroke-width:1.0\"\/>\n",
       "<circle cx=\"278\" cy=\"374\" r=\"5.0\" style=\"fill:skyblue;stroke:black;stroke-width:1.0\"\/>\n",
       "<circle cx=\"39\" cy=\"555\" r=\"5.0\" style=\"fill:gold;stroke:black;stroke-width:1.0\"\/>\n",
       "<circle cx=\"251\" cy=\"373\" r=\"5.0\" style=\"fill:skyblue;stroke:black;stroke-width:1.0\"\/>\n",
       "<circle cx=\"22\" cy=\"565\" r=\"5.0\" style=\"fill:gold;stroke:black;stroke-width:1.0\"\/>\n",
       "<circle cx=\"313\" cy=\"207\" r=\"5.0\" style=\"fill:blue;stroke:black;stroke-width:1.0\"\/>\n",
       "<circle cx=\"37\" cy=\"544\" r=\"5.0\" style=\"fill:gold;stroke:black;stroke-width:1.0\"\/>\n",
       "<circle cx=\"37\" cy=\"526\" r=\"5.0\" style=\"fill:gold;stroke:black;stroke-width:1.0\"\/>\n",
       "<circle cx=\"337\" cy=\"754\" r=\"5.0\" style=\"fill:red;stroke:black;stroke-width:1.0\"\/>\n",
       "<circle cx=\"36\" cy=\"551\" r=\"5.0\" style=\"fill:gold;stroke:black;stroke-width:1.0\"\/>\n",
       "<circle cx=\"326\" cy=\"738\" r=\"5.0\" style=\"fill:hotpink;stroke:black;stroke-width:1.0\"\/>\n",
       "<circle cx=\"346\" cy=\"310\" r=\"5.0\" style=\"fill:white;stroke:black;stroke-width:1.0\"\/>\n",
       "<circle cx=\"365\" cy=\"590\" r=\"5.0\" style=\"fill:hotpink;stroke:black;stroke-width:1.0\"\/>\n",
       "<circle cx=\"143\" cy=\"542\" r=\"5.0\" style=\"fill:orange;stroke:black;stroke-width:1.0\"\/>\n",
       "<circle cx=\"197\" cy=\"471\" r=\"5.0\" style=\"fill:skyblue;stroke:black;stroke-width:1.0\"\/>\n",
       "<circle cx=\"42\" cy=\"584\" r=\"5.0\" style=\"fill:gold;stroke:black;stroke-width:1.0\"\/>\n",
       "<circle cx=\"384\" cy=\"820\" r=\"5.0\" style=\"fill:firebrick;stroke:black;stroke-width:1.0\"\/>\n",
       "<circle cx=\"323\" cy=\"218\" r=\"5.0\" style=\"fill:blue;stroke:black;stroke-width:1.0\"\/>\n",
       "<circle cx=\"292\" cy=\"127\" r=\"5.0\" style=\"fill:blue;stroke:black;stroke-width:1.0\"\/>\n",
       "<circle cx=\"343\" cy=\"693\" r=\"5.0\" style=\"fill:hotpink;stroke:black;stroke-width:1.0\"\/>\n",
       "<circle cx=\"26\" cy=\"549\" r=\"5.0\" style=\"fill:gold;stroke:black;stroke-width:1.0\"\/>\n",
       "<circle cx=\"114\" cy=\"707\" r=\"5.0\" style=\"fill:gold;stroke:black;stroke-width:1.0\"\/>\n",
       "<circle cx=\"55\" cy=\"592\" r=\"5.0\" style=\"fill:gold;stroke:black;stroke-width:1.0\"\/>\n",
       "<circle cx=\"219\" cy=\"684\" r=\"5.0\" style=\"fill:white;stroke:black;stroke-width:1.0\"\/>\n",
       "<circle cx=\"90\" cy=\"513\" r=\"5.0\" style=\"fill:orange;stroke:black;stroke-width:1.0\"\/>\n",
       "<circle cx=\"38\" cy=\"557\" r=\"5.0\" style=\"fill:gold;stroke:black;stroke-width:1.0\"\/>\n",
       "<circle cx=\"22\" cy=\"564\" r=\"5.0\" style=\"fill:gold;stroke:black;stroke-width:1.0\"\/>\n",
       "<circle cx=\"325\" cy=\"600\" r=\"5.0\" style=\"fill:hotpink;stroke:black;stroke-width:1.0\"\/>\n",
       "<circle cx=\"343\" cy=\"670\" r=\"5.0\" style=\"fill:hotpink;stroke:black;stroke-width:1.0\"\/>\n",
       "<circle cx=\"25\" cy=\"553\" r=\"5.0\" style=\"fill:gold;stroke:black;stroke-width:1.0\"\/>\n",
       "<circle cx=\"22\" cy=\"564\" r=\"5.0\" style=\"fill:gold;stroke:black;stroke-width:1.0\"\/>\n",
       "<circle cx=\"353\" cy=\"742\" r=\"5.0\" style=\"fill:hotpink;stroke:black;stroke-width:1.0\"\/>\n",
       "<circle cx=\"306\" cy=\"431\" r=\"5.0\" style=\"fill:blue;stroke:black;stroke-width:1.0\"\/>\n",
       "<circle cx=\"285\" cy=\"268\" r=\"5.0\" style=\"fill:blue;stroke:black;stroke-width:1.0\"\/>\n",
       "<circle cx=\"47\" cy=\"550\" r=\"5.0\" style=\"fill:gold;stroke:black;stroke-width:1.0\"\/>\n",
       "<circle cx=\"81\" cy=\"534\" r=\"5.0\" style=\"fill:orange;stroke:black;stroke-width:1.0\"\/>\n",
       "<circle cx=\"26\" cy=\"563\" r=\"5.0\" style=\"fill:gold;stroke:black;stroke-width:1.0\"\/>\n",
       "<circle cx=\"89\" cy=\"527\" r=\"5.0\" style=\"fill:orange;stroke:black;stroke-width:1.0\"\/>\n",
       "<circle cx=\"35\" cy=\"566\" r=\"5.0\" style=\"fill:gold;stroke:black;stroke-width:1.0\"\/>\n",
       "<circle cx=\"141\" cy=\"478\" r=\"5.0\" style=\"fill:blue;stroke:black;stroke-width:1.0\"\/>\n",
       "<circle cx=\"248\" cy=\"312\" r=\"5.0\" style=\"fill:skyblue;stroke:black;stroke-width:1.0\"\/>\n",
       "<circle cx=\"34\" cy=\"542\" r=\"5.0\" style=\"fill:gold;stroke:black;stroke-width:1.0\"\/>\n",
       "<circle cx=\"46\" cy=\"535\" r=\"5.0\" style=\"fill:gold;stroke:black;stroke-width:1.0\"\/>\n",
       "<circle cx=\"31\" cy=\"553\" r=\"5.0\" style=\"fill:gold;stroke:black;stroke-width:1.0\"\/>\n",
       "<circle cx=\"298\" cy=\"184\" r=\"5.0\" style=\"fill:blue;stroke:black;stroke-width:1.0\"\/>\n",
       "<circle cx=\"45\" cy=\"552\" r=\"5.0\" style=\"fill:gold;stroke:black;stroke-width:1.0\"\/>\n",
       "<circle cx=\"322\" cy=\"337\" r=\"5.0\" style=\"fill:white;stroke:black;stroke-width:1.0\"\/>\n",
       "<circle cx=\"39\" cy=\"568\" r=\"5.0\" style=\"fill:gold;stroke:black;stroke-width:1.0\"\/>\n",
       "<circle cx=\"112\" cy=\"526\" r=\"5.0\" style=\"fill:orange;stroke:black;stroke-width:1.0\"\/>\n",
       "<circle cx=\"71\" cy=\"591\" r=\"5.0\" style=\"fill:orange;stroke:black;stroke-width:1.0\"\/>\n",
       "<circle cx=\"25\" cy=\"555\" r=\"5.0\" style=\"fill:gold;stroke:black;stroke-width:1.0\"\/>\n",
       "<circle cx=\"77\" cy=\"548\" r=\"5.0\" style=\"fill:orange;stroke:black;stroke-width:1.0\"\/>\n",
       "<circle cx=\"61\" cy=\"592\" r=\"5.0\" style=\"fill:gold;stroke:black;stroke-width:1.0\"\/>\n",
       "<circle cx=\"319\" cy=\"172\" r=\"5.0\" style=\"fill:blue;stroke:black;stroke-width:1.0\"\/>\n",
       "<circle cx=\"113\" cy=\"548\" r=\"5.0\" style=\"fill:orange;stroke:black;stroke-width:1.0\"\/>\n",
       "<circle cx=\"270\" cy=\"192\" r=\"5.0\" style=\"fill:blue;stroke:black;stroke-width:1.0\"\/>\n",
       "<circle cx=\"312\" cy=\"130\" r=\"5.0\" style=\"fill:blue;stroke:black;stroke-width:1.0\"\/>\n",
       "<circle cx=\"29\" cy=\"562\" r=\"5.0\" style=\"fill:gold;stroke:black;stroke-width:1.0\"\/>\n",
       "<circle cx=\"35\" cy=\"569\" r=\"5.0\" style=\"fill:gold;stroke:black;stroke-width:1.0\"\/>\n",
       "<circle cx=\"324\" cy=\"221\" r=\"5.0\" style=\"fill:blue;stroke:black;stroke-width:1.0\"\/>\n",
       "<circle cx=\"340\" cy=\"729\" r=\"5.0\" style=\"fill:hotpink;stroke:black;stroke-width:1.0\"\/>\n",
       "<circle cx=\"21\" cy=\"560\" r=\"5.0\" style=\"fill:gold;stroke:black;stroke-width:1.0\"\/>\n",
       "<circle cx=\"127\" cy=\"515\" r=\"5.0\" style=\"fill:gold;stroke:black;stroke-width:1.0\"\/>\n",
       "<circle cx=\"312\" cy=\"291\" r=\"5.0\" style=\"fill:blue;stroke:black;stroke-width:1.0\"\/>\n",
       "<circle cx=\"52\" cy=\"541\" r=\"5.0\" style=\"fill:orange;stroke:black;stroke-width:1.0\"\/>\n",
       "<circle cx=\"323\" cy=\"686\" r=\"5.0\" style=\"fill:hotpink;stroke:black;stroke-width:1.0\"\/>\n",
       "<circle cx=\"42\" cy=\"556\" r=\"5.0\" style=\"fill:gold;stroke:black;stroke-width:1.0\"\/>\n",
       "<circle cx=\"300\" cy=\"230\" r=\"5.0\" style=\"fill:blue;stroke:black;stroke-width:1.0\"\/>\n",
       "<circle cx=\"329\" cy=\"779\" r=\"5.0\" style=\"fill:hotpink;stroke:black;stroke-width:1.0\"\/>\n",
       "<circle cx=\"35\" cy=\"547\" r=\"5.0\" style=\"fill:orange;stroke:black;stroke-width:1.0\"\/>\n",
       "<circle cx=\"27\" cy=\"545\" r=\"5.0\" style=\"fill:gold;stroke:black;stroke-width:1.0\"\/>\n",
       "<circle cx=\"35\" cy=\"560\" r=\"5.0\" style=\"fill:gold;stroke:black;stroke-width:1.0\"\/>\n",
       "<circle cx=\"144\" cy=\"482\" r=\"5.0\" style=\"fill:skyblue;stroke:black;stroke-width:1.0\"\/>\n",
       "<circle cx=\"43\" cy=\"580\" r=\"5.0\" style=\"fill:gold;stroke:black;stroke-width:1.0\"\/>\n",
       "<circle cx=\"25\" cy=\"558\" r=\"5.0\" style=\"fill:gold;stroke:black;stroke-width:1.0\"\/>\n",
       "<circle cx=\"301\" cy=\"176\" r=\"5.0\" style=\"fill:blue;stroke:black;stroke-width:1.0\"\/>\n",
       "<circle cx=\"33\" cy=\"542\" r=\"5.0\" style=\"fill:gold;stroke:black;stroke-width:1.0\"\/>\n",
       "<circle cx=\"39\" cy=\"542\" r=\"5.0\" style=\"fill:gold;stroke:black;stroke-width:1.0\"\/>\n",
       "<circle cx=\"29\" cy=\"575\" r=\"5.0\" style=\"fill:gold;stroke:black;stroke-width:1.0\"\/>\n",
       "<circle cx=\"33\" cy=\"578\" r=\"5.0\" style=\"fill:gold;stroke:black;stroke-width:1.0\"\/>\n",
       "<circle cx=\"50\" cy=\"568\" r=\"5.0\" style=\"fill:gold;stroke:black;stroke-width:1.0\"\/>\n",
       "<circle cx=\"85\" cy=\"521\" r=\"5.0\" style=\"fill:orange;stroke:black;stroke-width:1.0\"\/>\n",
       "<circle cx=\"261\" cy=\"347\" r=\"5.0\" style=\"fill:skyblue;stroke:black;stroke-width:1.0\"\/>\n",
       "<circle cx=\"298\" cy=\"249\" r=\"5.0\" style=\"fill:blue;stroke:black;stroke-width:1.0\"\/>\n",
       "<circle cx=\"37\" cy=\"558\" r=\"5.0\" style=\"fill:gold;stroke:black;stroke-width:1.0\"\/>\n",
       "<circle cx=\"401\" cy=\"911\" r=\"5.0\" style=\"fill:white;stroke:black;stroke-width:1.0\"\/>\n",
       "<circle cx=\"45\" cy=\"538\" r=\"5.0\" style=\"fill:gold;stroke:black;stroke-width:1.0\"\/>\n",
       "<circle cx=\"329\" cy=\"593\" r=\"5.0\" style=\"fill:hotpink;stroke:black;stroke-width:1.0\"\/>\n",
       "<circle cx=\"44\" cy=\"563\" r=\"5.0\" style=\"fill:gold;stroke:black;stroke-width:1.0\"\/>\n",
       "<circle cx=\"35\" cy=\"532\" r=\"5.0\" style=\"fill:gold;stroke:black;stroke-width:1.0\"\/>\n",
       "<circle cx=\"262\" cy=\"455\" r=\"5.0\" style=\"fill:blue;stroke:black;stroke-width:1.0\"\/>\n",
       "<circle cx=\"40\" cy=\"553\" r=\"5.0\" style=\"fill:gold;stroke:black;stroke-width:1.0\"\/>\n",
       "<circle cx=\"51\" cy=\"577\" r=\"5.0\" style=\"fill:gold;stroke:black;stroke-width:1.0\"\/>\n",
       "<circle cx=\"30\" cy=\"556\" r=\"5.0\" style=\"fill:gold;stroke:black;stroke-width:1.0\"\/>\n",
       "<circle cx=\"71\" cy=\"531\" r=\"5.0\" style=\"fill:orange;stroke:black;stroke-width:1.0\"\/>\n",
       "<circle cx=\"64\" cy=\"523\" r=\"5.0\" style=\"fill:gold;stroke:black;stroke-width:1.0\"\/>\n",
       "<circle cx=\"389\" cy=\"775\" r=\"5.0\" style=\"fill:red;stroke:black;stroke-width:1.0\"\/>\n",
       "<circle cx=\"282\" cy=\"188\" r=\"5.0\" style=\"fill:blue;stroke:black;stroke-width:1.0\"\/>\n",
       "<circle cx=\"55\" cy=\"557\" r=\"5.0\" style=\"fill:gold;stroke:black;stroke-width:1.0\"\/>\n",
       "<circle cx=\"35\" cy=\"552\" r=\"5.0\" style=\"fill:gold;stroke:black;stroke-width:1.0\"\/>\n",
       "<circle cx=\"45\" cy=\"527\" r=\"5.0\" style=\"fill:gold;stroke:black;stroke-width:1.0\"\/>\n",
       "<circle cx=\"27\" cy=\"554\" r=\"5.0\" style=\"fill:gold;stroke:black;stroke-width:1.0\"\/>\n",
       "<circle cx=\"258\" cy=\"305\" r=\"5.0\" style=\"fill:blue;stroke:black;stroke-width:1.0\"\/>\n",
       "<circle cx=\"373\" cy=\"781\" r=\"5.0\" style=\"fill:red;stroke:black;stroke-width:1.0\"\/>\n",
       "<circle cx=\"36\" cy=\"570\" r=\"5.0\" style=\"fill:gold;stroke:black;stroke-width:1.0\"\/>\n",
       "<circle cx=\"30\" cy=\"571\" r=\"5.0\" style=\"fill:gold;stroke:black;stroke-width:1.0\"\/>\n",
       "<circle cx=\"263\" cy=\"342\" r=\"5.0\" style=\"fill:blue;stroke:black;stroke-width:1.0\"\/>\n",
       "<circle cx=\"33\" cy=\"552\" r=\"5.0\" style=\"fill:gold;stroke:black;stroke-width:1.0\"\/>\n",
       "<circle cx=\"34\" cy=\"557\" r=\"5.0\" style=\"fill:gold;stroke:black;stroke-width:1.0\"\/>\n",
       "<circle cx=\"32\" cy=\"557\" r=\"5.0\" style=\"fill:gold;stroke:black;stroke-width:1.0\"\/>\n",
       "<circle cx=\"306\" cy=\"280\" r=\"5.0\" style=\"fill:blue;stroke:black;stroke-width:1.0\"\/>\n",
       "<circle cx=\"263\" cy=\"313\" r=\"5.0\" style=\"fill:blue;stroke:black;stroke-width:1.0\"\/>\n",
       "<circle cx=\"33\" cy=\"546\" r=\"5.0\" style=\"fill:gold;stroke:black;stroke-width:1.0\"\/>\n",
       "<circle cx=\"24\" cy=\"556\" r=\"5.0\" style=\"fill:gold;stroke:black;stroke-width:1.0\"\/>\n",
       "<circle cx=\"48\" cy=\"568\" r=\"5.0\" style=\"fill:gold;stroke:black;stroke-width:1.0\"\/>\n",
       "<circle cx=\"33\" cy=\"541\" r=\"5.0\" style=\"fill:gold;stroke:black;stroke-width:1.0\"\/>\n",
       "<circle cx=\"86\" cy=\"535\" r=\"5.0\" style=\"fill:orange;stroke:black;stroke-width:1.0\"\/>\n",
       "<circle cx=\"312\" cy=\"337\" r=\"5.0\" style=\"fill:blue;stroke:black;stroke-width:1.0\"\/>\n",
       "<circle cx=\"295\" cy=\"269\" r=\"5.0\" style=\"fill:blue;stroke:black;stroke-width:1.0\"\/>\n",
       "<circle cx=\"31\" cy=\"564\" r=\"5.0\" style=\"fill:gold;stroke:black;stroke-width:1.0\"\/>\n",
       "<circle cx=\"63\" cy=\"592\" r=\"5.0\" style=\"fill:gold;stroke:black;stroke-width:1.0\"\/>\n",
       "<circle cx=\"105\" cy=\"632\" r=\"5.0\" style=\"fill:gold;stroke:black;stroke-width:1.0\"\/>\n",
       "<circle cx=\"30\" cy=\"553\" r=\"5.0\" style=\"fill:gold;stroke:black;stroke-width:1.0\"\/>\n",
       "<circle cx=\"325\" cy=\"509\" r=\"5.0\" style=\"fill:skyblue;stroke:black;stroke-width:1.0\"\/>\n",
       "<circle cx=\"237\" cy=\"399\" r=\"5.0\" style=\"fill:skyblue;stroke:black;stroke-width:1.0\"\/>\n",
       "<circle cx=\"24\" cy=\"559\" r=\"5.0\" style=\"fill:gold;stroke:black;stroke-width:1.0\"\/>\n",
       "<circle cx=\"53\" cy=\"595\" r=\"5.0\" style=\"fill:gold;stroke:black;stroke-width:1.0\"\/>\n",
       "<circle cx=\"420\" cy=\"980\" r=\"5.0\" style=\"fill:firebrick;stroke:black;stroke-width:1.0\"\/>\n",
       "<circle cx=\"318\" cy=\"402\" r=\"5.0\" style=\"fill:blue;stroke:black;stroke-width:1.0\"\/>\n",
       "<circle cx=\"349\" cy=\"695\" r=\"5.0\" style=\"fill:hotpink;stroke:black;stroke-width:1.0\"\/>\n",
       "<circle cx=\"75\" cy=\"513\" r=\"5.0\" style=\"fill:gold;stroke:black;stroke-width:1.0\"\/>\n",
       "<circle cx=\"190\" cy=\"447\" r=\"5.0\" style=\"fill:skyblue;stroke:black;stroke-width:1.0\"\/>\n",
       "<circle cx=\"36\" cy=\"573\" r=\"5.0\" style=\"fill:gold;stroke:black;stroke-width:1.0\"\/>\n",
       "<circle cx=\"72\" cy=\"550\" r=\"5.0\" style=\"fill:gold;stroke:black;stroke-width:1.0\"\/>\n",
       "<circle cx=\"388\" cy=\"836\" r=\"5.0\" style=\"fill:firebrick;stroke:black;stroke-width:1.0\"\/>\n",
       "<circle cx=\"41\" cy=\"573\" r=\"5.0\" style=\"fill:gold;stroke:black;stroke-width:1.0\"\/>\n",
       "<circle cx=\"35\" cy=\"539\" r=\"5.0\" style=\"fill:gold;stroke:black;stroke-width:1.0\"\/>\n",
       "<circle cx=\"34\" cy=\"562\" r=\"5.0\" style=\"fill:gold;stroke:black;stroke-width:1.0\"\/>\n",
       "<circle cx=\"54\" cy=\"556\" r=\"5.0\" style=\"fill:gold;stroke:black;stroke-width:1.0\"\/>\n",
       "<circle cx=\"33\" cy=\"555\" r=\"5.0\" style=\"fill:gold;stroke:black;stroke-width:1.0\"\/>\n",
       "<circle cx=\"30\" cy=\"550\" r=\"5.0\" style=\"fill:gold;stroke:black;stroke-width:1.0\"\/>\n",
       "<circle cx=\"31\" cy=\"554\" r=\"5.0\" style=\"fill:gold;stroke:black;stroke-width:1.0\"\/>\n",
       "<circle cx=\"59\" cy=\"611\" r=\"5.0\" style=\"fill:gold;stroke:black;stroke-width:1.0\"\/>\n",
       "<circle cx=\"28\" cy=\"558\" r=\"5.0\" style=\"fill:gold;stroke:black;stroke-width:1.0\"\/>\n",
       "<circle cx=\"25\" cy=\"545\" r=\"5.0\" style=\"fill:gold;stroke:black;stroke-width:1.0\"\/>\n",
       "<circle cx=\"26\" cy=\"561\" r=\"5.0\" style=\"fill:gold;stroke:black;stroke-width:1.0\"\/>\n",
       "<circle cx=\"34\" cy=\"571\" r=\"5.0\" style=\"fill:gold;stroke:black;stroke-width:1.0\"\/>\n",
       "<circle cx=\"139\" cy=\"471\" r=\"5.0\" style=\"fill:skyblue;stroke:black;stroke-width:1.0\"\/>\n",
       "<circle cx=\"31\" cy=\"563\" r=\"5.0\" style=\"fill:gold;stroke:black;stroke-width:1.0\"\/>\n",
       "<circle cx=\"37\" cy=\"547\" r=\"5.0\" style=\"fill:gold;stroke:black;stroke-width:1.0\"\/>\n",
       "<circle cx=\"55\" cy=\"550\" r=\"5.0\" style=\"fill:orange;stroke:black;stroke-width:1.0\"\/>\n",
       "<circle cx=\"269\" cy=\"373\" r=\"5.0\" style=\"fill:blue;stroke:black;stroke-width:1.0\"\/>\n",
       "<circle cx=\"47\" cy=\"547\" r=\"5.0\" style=\"fill:orange;stroke:black;stroke-width:1.0\"\/>\n",
       "<circle cx=\"319\" cy=\"303\" r=\"5.0\" style=\"fill:blue;stroke:black;stroke-width:1.0\"\/>\n",
       "<circle cx=\"410\" cy=\"902\" r=\"5.0\" style=\"fill:red;stroke:black;stroke-width:1.0\"\/>\n",
       "<circle cx=\"71\" cy=\"585\" r=\"5.0\" style=\"fill:gold;stroke:black;stroke-width:1.0\"\/>\n",
       "<circle cx=\"318\" cy=\"448\" r=\"5.0\" style=\"fill:white;stroke:black;stroke-width:1.0\"\/>\n",
       "<circle cx=\"38\" cy=\"542\" r=\"5.0\" style=\"fill:orange;stroke:black;stroke-width:1.0\"\/>\n",
       "<circle cx=\"160\" cy=\"415\" r=\"5.0\" style=\"fill:blue;stroke:black;stroke-width:1.0\"\/>\n",
       "<circle cx=\"285\" cy=\"494\" r=\"5.0\" style=\"fill:blue;stroke:black;stroke-width:1.0\"\/>\n",
       "<circle cx=\"35\" cy=\"553\" r=\"5.0\" style=\"fill:gold;stroke:black;stroke-width:1.0\"\/>\n",
       "<circle cx=\"84\" cy=\"527\" r=\"5.0\" style=\"fill:orange;stroke:black;stroke-width:1.0\"\/>\n",
       "<circle cx=\"28\" cy=\"548\" r=\"5.0\" style=\"fill:gold;stroke:black;stroke-width:1.0\"\/>\n",
       "<circle cx=\"41\" cy=\"548\" r=\"5.0\" style=\"fill:gold;stroke:black;stroke-width:1.0\"\/>\n",
       "<circle cx=\"25\" cy=\"544\" r=\"5.0\" style=\"fill:gold;stroke:black;stroke-width:1.0\"\/>\n",
       "<circle cx=\"387\" cy=\"969\" r=\"5.0\" style=\"fill:firebrick;stroke:black;stroke-width:1.0\"\/>\n",
       "<circle cx=\"38\" cy=\"569\" r=\"5.0\" style=\"fill:gold;stroke:black;stroke-width:1.0\"\/>\n",
       "<circle cx=\"64\" cy=\"533\" r=\"5.0\" style=\"fill:gold;stroke:black;stroke-width:1.0\"\/>\n",
       "<circle cx=\"72\" cy=\"517\" r=\"5.0\" style=\"fill:orange;stroke:black;stroke-width:1.0\"\/>\n",
       "<circle cx=\"51\" cy=\"550\" r=\"5.0\" style=\"fill:gold;stroke:black;stroke-width:1.0\"\/>\n",
       "<circle cx=\"289\" cy=\"233\" r=\"5.0\" style=\"fill:blue;stroke:black;stroke-width:1.0\"\/>\n",
       "<circle cx=\"28\" cy=\"567\" r=\"5.0\" style=\"fill:gold;stroke:black;stroke-width:1.0\"\/>\n",
       "<circle cx=\"311\" cy=\"139\" r=\"5.0\" style=\"fill:blue;stroke:black;stroke-width:1.0\"\/>\n",
       "<circle cx=\"25\" cy=\"562\" r=\"5.0\" style=\"fill:gold;stroke:black;stroke-width:1.0\"\/>\n",
       "<circle cx=\"33\" cy=\"553\" r=\"5.0\" style=\"fill:gold;stroke:black;stroke-width:1.0\"\/>\n",
       "<circle cx=\"44\" cy=\"540\" r=\"5.0\" style=\"fill:gold;stroke:black;stroke-width:1.0\"\/>\n",
       "<circle cx=\"81\" cy=\"527\" r=\"5.0\" style=\"fill:orange;stroke:black;stroke-width:1.0\"\/>\n",
       "<circle cx=\"34\" cy=\"540\" r=\"5.0\" style=\"fill:gold;stroke:black;stroke-width:1.0\"\/>\n",
       "<circle cx=\"31\" cy=\"559\" r=\"5.0\" style=\"fill:gold;stroke:black;stroke-width:1.0\"\/>\n",
       "<circle cx=\"25\" cy=\"564\" r=\"5.0\" style=\"fill:gold;stroke:black;stroke-width:1.0\"\/>\n",
       "<circle cx=\"324\" cy=\"246\" r=\"5.0\" style=\"fill:blue;stroke:black;stroke-width:1.0\"\/>\n",
       "<circle cx=\"284\" cy=\"283\" r=\"5.0\" style=\"fill:blue;stroke:black;stroke-width:1.0\"\/>\n",
       "<circle cx=\"29\" cy=\"562\" r=\"5.0\" style=\"fill:gold;stroke:black;stroke-width:1.0\"\/>\n",
       "<circle cx=\"38\" cy=\"561\" r=\"5.0\" style=\"fill:gold;stroke:black;stroke-width:1.0\"\/>\n",
       "<circle cx=\"43\" cy=\"544\" r=\"5.0\" style=\"fill:orange;stroke:black;stroke-width:1.0\"\/>\n",
       "<circle cx=\"338\" cy=\"599\" r=\"5.0\" style=\"fill:skyblue;stroke:black;stroke-width:1.0\"\/>\n",
       "<circle cx=\"23\" cy=\"573\" r=\"5.0\" style=\"fill:gold;stroke:black;stroke-width:1.0\"\/>\n",
       "<circle cx=\"33\" cy=\"564\" r=\"5.0\" style=\"fill:gold;stroke:black;stroke-width:1.0\"\/>\n",
       "<circle cx=\"413\" cy=\"901\" r=\"5.0\" style=\"fill:firebrick;stroke:black;stroke-width:1.0\"\/>\n",
       "<circle cx=\"68\" cy=\"535\" r=\"5.0\" style=\"fill:orange;stroke:black;stroke-width:1.0\"\/>\n",
       "<circle cx=\"273\" cy=\"487\" r=\"5.0\" style=\"fill:skyblue;stroke:black;stroke-width:1.0\"\/>\n",
       "<circle cx=\"328\" cy=\"319\" r=\"5.0\" style=\"fill:blue;stroke:black;stroke-width:1.0\"\/>\n",
       "<circle cx=\"41\" cy=\"536\" r=\"5.0\" style=\"fill:gold;stroke:black;stroke-width:1.0\"\/>\n",
       "<circle cx=\"32\" cy=\"550\" r=\"5.0\" style=\"fill:gold;stroke:black;stroke-width:1.0\"\/>\n",
       "<circle cx=\"42\" cy=\"534\" r=\"5.0\" style=\"fill:gold;stroke:black;stroke-width:1.0\"\/>\n",
       "<circle cx=\"27\" cy=\"569\" r=\"5.0\" style=\"fill:gold;stroke:black;stroke-width:1.0\"\/>\n",
       "<circle cx=\"410\" cy=\"968\" r=\"5.0\" style=\"fill:firebrick;stroke:black;stroke-width:1.0\"\/>\n",
       "<circle cx=\"302\" cy=\"89\" r=\"5.0\" style=\"fill:blue;stroke:black;stroke-width:1.0\"\/>\n",
       "<circle cx=\"24\" cy=\"545\" r=\"5.0\" style=\"fill:gold;stroke:black;stroke-width:1.0\"\/>\n",
       "<circle cx=\"104\" cy=\"538\" r=\"5.0\" style=\"fill:orange;stroke:black;stroke-width:1.0\"\/>\n",
       "<circle cx=\"92\" cy=\"522\" r=\"5.0\" style=\"fill:orange;stroke:black;stroke-width:1.0\"\/>\n",
       "<circle cx=\"359\" cy=\"719\" r=\"5.0\" style=\"fill:red;stroke:black;stroke-width:1.0\"\/>\n",
       "<circle cx=\"35\" cy=\"551\" r=\"5.0\" style=\"fill:gold;stroke:black;stroke-width:1.0\"\/>\n",
       "<circle cx=\"31\" cy=\"547\" r=\"5.0\" style=\"fill:gold;stroke:black;stroke-width:1.0\"\/>\n",
       "<circle cx=\"194\" cy=\"409\" r=\"5.0\" style=\"fill:skyblue;stroke:black;stroke-width:1.0\"\/>\n",
       "<circle cx=\"29\" cy=\"558\" r=\"5.0\" style=\"fill:gold;stroke:black;stroke-width:1.0\"\/>\n",
       "<circle cx=\"277\" cy=\"276\" r=\"5.0\" style=\"fill:blue;stroke:black;stroke-width:1.0\"\/>\n",
       "<circle cx=\"26\" cy=\"550\" r=\"5.0\" style=\"fill:gold;stroke:black;stroke-width:1.0\"\/>\n",
       "<circle cx=\"30\" cy=\"585\" r=\"5.0\" style=\"fill:gold;stroke:black;stroke-width:1.0\"\/>\n",
       "<circle cx=\"37\" cy=\"548\" r=\"5.0\" style=\"fill:gold;stroke:black;stroke-width:1.0\"\/>\n",
       "<circle cx=\"34\" cy=\"577\" r=\"5.0\" style=\"fill:gold;stroke:black;stroke-width:1.0\"\/>\n",
       "<circle cx=\"70\" cy=\"584\" r=\"5.0\" style=\"fill:gold;stroke:black;stroke-width:1.0\"\/>\n",
       "<circle cx=\"92\" cy=\"658\" r=\"5.0\" style=\"fill:gold;stroke:black;stroke-width:1.0\"\/>\n",
       "<circle cx=\"310\" cy=\"233\" r=\"5.0\" style=\"fill:blue;stroke:black;stroke-width:1.0\"\/>\n",
       "<circle cx=\"32\" cy=\"571\" r=\"5.0\" style=\"fill:gold;stroke:black;stroke-width:1.0\"\/>\n",
       "<circle cx=\"36\" cy=\"558\" r=\"5.0\" style=\"fill:gold;stroke:black;stroke-width:1.0\"\/>\n",
       "<circle cx=\"43\" cy=\"551\" r=\"5.0\" style=\"fill:orange;stroke:black;stroke-width:1.0\"\/>\n",
       "<circle cx=\"364\" cy=\"851\" r=\"5.0\" style=\"fill:hotpink;stroke:black;stroke-width:1.0\"\/>\n",
       "<circle cx=\"47\" cy=\"545\" r=\"5.0\" style=\"fill:gold;stroke:black;stroke-width:1.0\"\/>\n",
       "<circle cx=\"78\" cy=\"552\" r=\"5.0\" style=\"fill:orange;stroke:black;stroke-width:1.0\"\/>\n",
       "<circle cx=\"120\" cy=\"599\" r=\"5.0\" style=\"fill:orange;stroke:black;stroke-width:1.0\"\/>\n",
       "<circle cx=\"31\" cy=\"557\" r=\"5.0\" style=\"fill:gold;stroke:black;stroke-width:1.0\"\/>\n",
       "<circle cx=\"319\" cy=\"323\" r=\"5.0\" style=\"fill:blue;stroke:black;stroke-width:1.0\"\/>\n",
       "<circle cx=\"32\" cy=\"571\" r=\"5.0\" style=\"fill:gold;stroke:black;stroke-width:1.0\"\/>\n",
       "<circle cx=\"42\" cy=\"544\" r=\"5.0\" style=\"fill:gold;stroke:black;stroke-width:1.0\"\/>\n",
       "<circle cx=\"256\" cy=\"183\" r=\"5.0\" style=\"fill:blue;stroke:black;stroke-width:1.0\"\/>\n",
       "<circle cx=\"37\" cy=\"564\" r=\"5.0\" style=\"fill:gold;stroke:black;stroke-width:1.0\"\/>\n",
       "<circle cx=\"195\" cy=\"550\" r=\"5.0\" style=\"fill:skyblue;stroke:black;stroke-width:1.0\"\/>\n",
       "<circle cx=\"349\" cy=\"788\" r=\"5.0\" style=\"fill:red;stroke:black;stroke-width:1.0\"\/>\n",
       "<circle cx=\"36\" cy=\"569\" r=\"5.0\" style=\"fill:gold;stroke:black;stroke-width:1.0\"\/>\n",
       "<circle cx=\"50\" cy=\"585\" r=\"5.0\" style=\"fill:gold;stroke:black;stroke-width:1.0\"\/>\n",
       "<circle cx=\"185\" cy=\"447\" r=\"5.0\" style=\"fill:blue;stroke:black;stroke-width:1.0\"\/>\n",
       "<circle cx=\"384\" cy=\"887\" r=\"5.0\" style=\"fill:red;stroke:black;stroke-width:1.0\"\/>\n",
       "<circle cx=\"298\" cy=\"222\" r=\"5.0\" style=\"fill:blue;stroke:black;stroke-width:1.0\"\/>\n",
       "<circle cx=\"38\" cy=\"543\" r=\"5.0\" style=\"fill:gold;stroke:black;stroke-width:1.0\"\/>\n",
       "<circle cx=\"53\" cy=\"533\" r=\"5.0\" style=\"fill:orange;stroke:black;stroke-width:1.0\"\/>\n",
       "<circle cx=\"327\" cy=\"154\" r=\"5.0\" style=\"fill:blue;stroke:black;stroke-width:1.0\"\/>\n",
       "<circle cx=\"73\" cy=\"533\" r=\"5.0\" style=\"fill:orange;stroke:black;stroke-width:1.0\"\/>\n",
       "<circle cx=\"112\" cy=\"487\" r=\"5.0\" style=\"fill:skyblue;stroke:black;stroke-width:1.0\"\/>\n",
       "<circle cx=\"207\" cy=\"140\" r=\"5.0\" style=\"fill:blue;stroke:black;stroke-width:1.0\"\/>\n",
       "<circle cx=\"296\" cy=\"229\" r=\"5.0\" style=\"fill:blue;stroke:black;stroke-width:1.0\"\/>\n",
       "<circle cx=\"34\" cy=\"569\" r=\"5.0\" style=\"fill:gold;stroke:black;stroke-width:1.0\"\/>\n",
       "<circle cx=\"321\" cy=\"164\" r=\"5.0\" style=\"fill:blue;stroke:black;stroke-width:1.0\"\/>\n",
       "<circle cx=\"224\" cy=\"364\" r=\"5.0\" style=\"fill:skyblue;stroke:black;stroke-width:1.0\"\/>\n",
       "<circle cx=\"26\" cy=\"558\" r=\"5.0\" style=\"fill:gold;stroke:black;stroke-width:1.0\"\/>\n",
       "<circle cx=\"31\" cy=\"562\" r=\"5.0\" style=\"fill:gold;stroke:black;stroke-width:1.0\"\/>\n",
       "<circle cx=\"33\" cy=\"565\" r=\"5.0\" style=\"fill:gold;stroke:black;stroke-width:1.0\"\/>\n",
       "<circle cx=\"25\" cy=\"563\" r=\"5.0\" style=\"fill:gold;stroke:black;stroke-width:1.0\"\/>\n",
       "<circle cx=\"35\" cy=\"556\" r=\"5.0\" style=\"fill:gold;stroke:black;stroke-width:1.0\"\/>\n",
       "<circle cx=\"38\" cy=\"568\" r=\"5.0\" style=\"fill:gold;stroke:black;stroke-width:1.0\"\/>\n",
       "<circle cx=\"29\" cy=\"559\" r=\"5.0\" style=\"fill:gold;stroke:black;stroke-width:1.0\"\/>\n",
       "<circle cx=\"309\" cy=\"201\" r=\"5.0\" style=\"fill:blue;stroke:black;stroke-width:1.0\"\/>\n",
       "<circle cx=\"26\" cy=\"555\" r=\"5.0\" style=\"fill:gold;stroke:black;stroke-width:1.0\"\/>\n",
       "<circle cx=\"37\" cy=\"542\" r=\"5.0\" style=\"fill:gold;stroke:black;stroke-width:1.0\"\/>\n",
       "<circle cx=\"45\" cy=\"524\" r=\"5.0\" style=\"fill:gold;stroke:black;stroke-width:1.0\"\/>\n",
       "<circle cx=\"34\" cy=\"558\" r=\"5.0\" style=\"fill:gold;stroke:black;stroke-width:1.0\"\/>\n",
       "<circle cx=\"27\" cy=\"577\" r=\"5.0\" style=\"fill:gold;stroke:black;stroke-width:1.0\"\/>\n",
       "<circle cx=\"30\" cy=\"566\" r=\"5.0\" style=\"fill:gold;stroke:black;stroke-width:1.0\"\/>\n",
       "<circle cx=\"35\" cy=\"556\" r=\"5.0\" style=\"fill:gold;stroke:black;stroke-width:1.0\"\/>\n",
       "<circle cx=\"43\" cy=\"569\" r=\"5.0\" style=\"fill:gold;stroke:black;stroke-width:1.0\"\/>\n",
       "<circle cx=\"56\" cy=\"603\" r=\"5.0\" style=\"fill:gold;stroke:black;stroke-width:1.0\"\/>\n",
       "<circle cx=\"72\" cy=\"534\" r=\"5.0\" style=\"fill:orange;stroke:black;stroke-width:1.0\"\/>\n",
       "<circle cx=\"182\" cy=\"415\" r=\"5.0\" style=\"fill:skyblue;stroke:black;stroke-width:1.0\"\/>\n",
       "<circle cx=\"26\" cy=\"566\" r=\"5.0\" style=\"fill:gold;stroke:black;stroke-width:1.0\"\/>\n",
       "<circle cx=\"37\" cy=\"572\" r=\"5.0\" style=\"fill:gold;stroke:black;stroke-width:1.0\"\/>\n",
       "<circle cx=\"42\" cy=\"552\" r=\"5.0\" style=\"fill:orange;stroke:black;stroke-width:1.0\"\/>\n",
       "<circle cx=\"382\" cy=\"947\" r=\"5.0\" style=\"fill:firebrick;stroke:black;stroke-width:1.0\"\/>\n",
       "<circle cx=\"48\" cy=\"549\" r=\"5.0\" style=\"fill:orange;stroke:black;stroke-width:1.0\"\/>\n",
       "<circle cx=\"312\" cy=\"242\" r=\"5.0\" style=\"fill:blue;stroke:black;stroke-width:1.0\"\/>\n",
       "<circle cx=\"83\" cy=\"535\" r=\"5.0\" style=\"fill:orange;stroke:black;stroke-width:1.0\"\/>\n",
       "<circle cx=\"61\" cy=\"524\" r=\"5.0\" style=\"fill:gold;stroke:black;stroke-width:1.0\"\/>\n",
       "<circle cx=\"394\" cy=\"867\" r=\"5.0\" style=\"fill:red;stroke:black;stroke-width:1.0\"\/>\n",
       "<circle cx=\"318\" cy=\"821\" r=\"5.0\" style=\"fill:hotpink;stroke:black;stroke-width:1.0\"\/>\n",
       "<circle cx=\"22\" cy=\"565\" r=\"5.0\" style=\"fill:gold;stroke:black;stroke-width:1.0\"\/>\n",
       "<circle cx=\"328\" cy=\"740\" r=\"5.0\" style=\"fill:hotpink;stroke:black;stroke-width:1.0\"\/>\n",
       "<circle cx=\"98\" cy=\"591\" r=\"5.0\" style=\"fill:orange;stroke:black;stroke-width:1.0\"\/>\n",
       "<circle cx=\"296\" cy=\"20\" r=\"5.0\" style=\"fill:blue;stroke:black;stroke-width:1.0\"\/>\n",
       "<circle cx=\"28\" cy=\"563\" r=\"5.0\" style=\"fill:gold;stroke:black;stroke-width:1.0\"\/>\n",
       "<circle cx=\"301\" cy=\"216\" r=\"5.0\" style=\"fill:blue;stroke:black;stroke-width:1.0\"\/>\n",
       "<circle cx=\"337\" cy=\"430\" r=\"5.0\" style=\"fill:white;stroke:black;stroke-width:1.0\"\/>\n",
       "<circle cx=\"91\" cy=\"556\" r=\"5.0\" style=\"fill:orange;stroke:black;stroke-width:1.0\"\/>\n",
       "<circle cx=\"306\" cy=\"192\" r=\"5.0\" style=\"fill:blue;stroke:black;stroke-width:1.0\"\/>\n",
       "<circle cx=\"127\" cy=\"435\" r=\"5.0\" style=\"fill:blue;stroke:black;stroke-width:1.0\"\/>\n",
       "<circle cx=\"304\" cy=\"597\" r=\"5.0\" style=\"fill:hotpink;stroke:black;stroke-width:1.0\"\/>\n",
       "<circle cx=\"257\" cy=\"714\" r=\"5.0\" style=\"fill:red;stroke:black;stroke-width:1.0\"\/>\n",
       "<circle cx=\"344\" cy=\"680\" r=\"5.0\" style=\"fill:hotpink;stroke:black;stroke-width:1.0\"\/>\n",
       "<circle cx=\"24\" cy=\"557\" r=\"5.0\" style=\"fill:gold;stroke:black;stroke-width:1.0\"\/>\n",
       "<circle cx=\"36\" cy=\"548\" r=\"5.0\" style=\"fill:gold;stroke:black;stroke-width:1.0\"\/>\n",
       "<circle cx=\"399\" cy=\"1020\" r=\"5.0\" style=\"fill:firebrick;stroke:black;stroke-width:1.0\"\/>\n",
       "<circle cx=\"47\" cy=\"548\" r=\"5.0\" style=\"fill:gold;stroke:black;stroke-width:1.0\"\/>\n",
       "<circle cx=\"37\" cy=\"561\" r=\"5.0\" style=\"fill:gold;stroke:black;stroke-width:1.0\"\/>\n",
       "<circle cx=\"35\" cy=\"568\" r=\"5.0\" style=\"fill:gold;stroke:black;stroke-width:1.0\"\/>\n",
       "<circle cx=\"21\" cy=\"568\" r=\"5.0\" style=\"fill:gold;stroke:black;stroke-width:1.0\"\/>\n",
       "<circle cx=\"143\" cy=\"549\" r=\"5.0\" style=\"fill:orange;stroke:black;stroke-width:1.0\"\/>\n",
       "<circle cx=\"25\" cy=\"555\" r=\"5.0\" style=\"fill:gold;stroke:black;stroke-width:1.0\"\/>\n",
       "<circle cx=\"354\" cy=\"607\" r=\"5.0\" style=\"fill:hotpink;stroke:black;stroke-width:1.0\"\/>\n",
       "<circle cx=\"199\" cy=\"551\" r=\"5.0\" style=\"fill:skyblue;stroke:black;stroke-width:1.0\"\/>\n",
       "<circle cx=\"290\" cy=\"230\" r=\"5.0\" style=\"fill:blue;stroke:black;stroke-width:1.0\"\/>\n",
       "<circle cx=\"320\" cy=\"272\" r=\"5.0\" style=\"fill:blue;stroke:black;stroke-width:1.0\"\/>\n",
       "<circle cx=\"59\" cy=\"549\" r=\"5.0\" style=\"fill:gold;stroke:black;stroke-width:1.0\"\/>\n",
       "<circle cx=\"76\" cy=\"521\" r=\"5.0\" style=\"fill:orange;stroke:black;stroke-width:1.0\"\/>\n",
       "<circle cx=\"29\" cy=\"556\" r=\"5.0\" style=\"fill:gold;stroke:black;stroke-width:1.0\"\/>\n",
       "<circle cx=\"33\" cy=\"538\" r=\"5.0\" style=\"fill:gold;stroke:black;stroke-width:1.0\"\/>\n",
       "<circle cx=\"366\" cy=\"408\" r=\"5.0\" style=\"fill:white;stroke:black;stroke-width:1.0\"\/>\n",
       "<circle cx=\"241\" cy=\"313\" r=\"5.0\" style=\"fill:skyblue;stroke:black;stroke-width:1.0\"\/>\n",
       "<circle cx=\"51\" cy=\"551\" r=\"5.0\" style=\"fill:gold;stroke:black;stroke-width:1.0\"\/>\n",
       "<circle cx=\"309\" cy=\"225\" r=\"5.0\" style=\"fill:blue;stroke:black;stroke-width:1.0\"\/>\n",
       "<circle cx=\"31\" cy=\"551\" r=\"5.0\" style=\"fill:gold;stroke:black;stroke-width:1.0\"\/>\n",
       "<circle cx=\"286\" cy=\"338\" r=\"5.0\" style=\"fill:blue;stroke:black;stroke-width:1.0\"\/>\n",
       "<circle cx=\"322\" cy=\"600\" r=\"5.0\" style=\"fill:skyblue;stroke:black;stroke-width:1.0\"\/>\n",
       "<circle cx=\"32\" cy=\"554\" r=\"5.0\" style=\"fill:gold;stroke:black;stroke-width:1.0\"\/>\n",
       "<circle cx=\"28\" cy=\"569\" r=\"5.0\" style=\"fill:gold;stroke:black;stroke-width:1.0\"\/>\n",
       "<circle cx=\"22\" cy=\"556\" r=\"5.0\" style=\"fill:gold;stroke:black;stroke-width:1.0\"\/>\n",
       "<circle cx=\"74\" cy=\"534\" r=\"5.0\" style=\"fill:orange;stroke:black;stroke-width:1.0\"\/>\n",
       "<circle cx=\"35\" cy=\"552\" r=\"5.0\" style=\"fill:gold;stroke:black;stroke-width:1.0\"\/>\n",
       "<circle cx=\"71\" cy=\"598\" r=\"5.0\" style=\"fill:gold;stroke:black;stroke-width:1.0\"\/>\n",
       "<circle cx=\"39\" cy=\"585\" r=\"5.0\" style=\"fill:gold;stroke:black;stroke-width:1.0\"\/>\n",
       "<circle cx=\"387\" cy=\"758\" r=\"5.0\" style=\"fill:red;stroke:black;stroke-width:1.0\"\/>\n",
       "<circle cx=\"274\" cy=\"285\" r=\"5.0\" style=\"fill:blue;stroke:black;stroke-width:1.0\"\/>\n",
       "<circle cx=\"20\" cy=\"561\" r=\"5.0\" style=\"fill:gold;stroke:black;stroke-width:1.0\"\/>\n",
       "<circle cx=\"50\" cy=\"533\" r=\"5.0\" style=\"fill:orange;stroke:black;stroke-width:1.0\"\/>\n",
       "<circle cx=\"328\" cy=\"665\" r=\"5.0\" style=\"fill:hotpink;stroke:black;stroke-width:1.0\"\/>\n",
       "<circle cx=\"38\" cy=\"530\" r=\"5.0\" style=\"fill:gold;stroke:black;stroke-width:1.0\"\/>\n",
       "<circle cx=\"32\" cy=\"567\" r=\"5.0\" style=\"fill:gold;stroke:black;stroke-width:1.0\"\/>\n",
       "<circle cx=\"32\" cy=\"559\" r=\"5.0\" style=\"fill:gold;stroke:black;stroke-width:1.0\"\/>\n",
       "<circle cx=\"64\" cy=\"524\" r=\"5.0\" style=\"fill:orange;stroke:black;stroke-width:1.0\"\/>\n",
       "<circle cx=\"286\" cy=\"248\" r=\"5.0\" style=\"fill:blue;stroke:black;stroke-width:1.0\"\/>\n",
       "<circle cx=\"218\" cy=\"559\" r=\"5.0\" style=\"fill:skyblue;stroke:black;stroke-width:1.0\"\/>\n",
       "<circle cx=\"321\" cy=\"205\" r=\"5.0\" style=\"fill:blue;stroke:black;stroke-width:1.0\"\/>\n",
       "<circle cx=\"304\" cy=\"216\" r=\"5.0\" style=\"fill:blue;stroke:black;stroke-width:1.0\"\/>\n",
       "<circle cx=\"397\" cy=\"950\" r=\"5.0\" style=\"fill:firebrick;stroke:black;stroke-width:1.0\"\/>\n",
       "<circle cx=\"367\" cy=\"808\" r=\"5.0\" style=\"fill:red;stroke:black;stroke-width:1.0\"\/>\n",
       "<circle cx=\"321\" cy=\"712\" r=\"5.0\" style=\"fill:hotpink;stroke:black;stroke-width:1.0\"\/>\n",
       "<circle cx=\"32\" cy=\"547\" r=\"5.0\" style=\"fill:gold;stroke:black;stroke-width:1.0\"\/>\n",
       "<circle cx=\"195\" cy=\"404\" r=\"5.0\" style=\"fill:skyblue;stroke:black;stroke-width:1.0\"\/>\n",
       "<circle cx=\"392\" cy=\"861\" r=\"5.0\" style=\"fill:red;stroke:black;stroke-width:1.0\"\/>\n",
       "<circle cx=\"79\" cy=\"493\" r=\"5.0\" style=\"fill:orange;stroke:black;stroke-width:1.0\"\/>\n",
       "<circle cx=\"35\" cy=\"531\" r=\"5.0\" style=\"fill:gold;stroke:black;stroke-width:1.0\"\/>\n",
       "<circle cx=\"297\" cy=\"286\" r=\"5.0\" style=\"fill:blue;stroke:black;stroke-width:1.0\"\/>\n",
       "<circle cx=\"120\" cy=\"668\" r=\"5.0\" style=\"fill:gold;stroke:black;stroke-width:1.0\"\/>\n",
       "<circle cx=\"30\" cy=\"563\" r=\"5.0\" style=\"fill:gold;stroke:black;stroke-width:1.0\"\/>\n",
       "<circle cx=\"332\" cy=\"172\" r=\"5.0\" style=\"fill:blue;stroke:black;stroke-width:1.0\"\/>\n",
       "<circle cx=\"51\" cy=\"600\" r=\"5.0\" style=\"fill:gold;stroke:black;stroke-width:1.0\"\/>\n",
       "<circle cx=\"394\" cy=\"902\" r=\"5.0\" style=\"fill:firebrick;stroke:black;stroke-width:1.0\"\/>\n",
       "<circle cx=\"42\" cy=\"558\" r=\"5.0\" style=\"fill:gold;stroke:black;stroke-width:1.0\"\/>\n",
       "<circle cx=\"39\" cy=\"552\" r=\"5.0\" style=\"fill:gold;stroke:black;stroke-width:1.0\"\/>\n",
       "<circle cx=\"184\" cy=\"298\" r=\"5.0\" style=\"fill:blue;stroke:black;stroke-width:1.0\"\/>\n",
       "<circle cx=\"49\" cy=\"563\" r=\"5.0\" style=\"fill:gold;stroke:black;stroke-width:1.0\"\/>\n",
       "<circle cx=\"216\" cy=\"415\" r=\"5.0\" style=\"fill:skyblue;stroke:black;stroke-width:1.0\"\/>\n",
       "<circle cx=\"151\" cy=\"459\" r=\"5.0\" style=\"fill:skyblue;stroke:black;stroke-width:1.0\"\/>\n",
       "<circle cx=\"293\" cy=\"236\" r=\"5.0\" style=\"fill:blue;stroke:black;stroke-width:1.0\"\/>\n",
       "<circle cx=\"39\" cy=\"533\" r=\"5.0\" style=\"fill:gold;stroke:black;stroke-width:1.0\"\/>\n",
       "<circle cx=\"33\" cy=\"560\" r=\"5.0\" style=\"fill:gold;stroke:black;stroke-width:1.0\"\/>\n",
       "<circle cx=\"27\" cy=\"556\" r=\"5.0\" style=\"fill:gold;stroke:black;stroke-width:1.0\"\/>\n",
       "<circle cx=\"32\" cy=\"546\" r=\"5.0\" style=\"fill:gold;stroke:black;stroke-width:1.0\"\/>\n",
       "<circle cx=\"298\" cy=\"277\" r=\"5.0\" style=\"fill:blue;stroke:black;stroke-width:1.0\"\/>\n",
       "<circle cx=\"30\" cy=\"560\" r=\"5.0\" style=\"fill:gold;stroke:black;stroke-width:1.0\"\/>\n",
       "<circle cx=\"37\" cy=\"551\" r=\"5.0\" style=\"fill:gold;stroke:black;stroke-width:1.0\"\/>\n",
       "<circle cx=\"30\" cy=\"537\" r=\"5.0\" style=\"fill:gold;stroke:black;stroke-width:1.0\"\/>\n",
       "<circle cx=\"26\" cy=\"557\" r=\"5.0\" style=\"fill:gold;stroke:black;stroke-width:1.0\"\/>\n",
       "<circle cx=\"38\" cy=\"547\" r=\"5.0\" style=\"fill:gold;stroke:black;stroke-width:1.0\"\/>\n",
       "<circle cx=\"301\" cy=\"541\" r=\"5.0\" style=\"fill:skyblue;stroke:black;stroke-width:1.0\"\/>\n",
       "<circle cx=\"42\" cy=\"573\" r=\"5.0\" style=\"fill:gold;stroke:black;stroke-width:1.0\"\/>\n",
       "<circle cx=\"32\" cy=\"566\" r=\"5.0\" style=\"fill:gold;stroke:black;stroke-width:1.0\"\/>\n",
       "<circle cx=\"34\" cy=\"557\" r=\"5.0\" style=\"fill:gold;stroke:black;stroke-width:1.0\"\/>\n",
       "<circle cx=\"76\" cy=\"523\" r=\"5.0\" style=\"fill:orange;stroke:black;stroke-width:1.0\"\/>\n",
       "<circle cx=\"141\" cy=\"448\" r=\"5.0\" style=\"fill:skyblue;stroke:black;stroke-width:1.0\"\/>\n",
       "<circle cx=\"264\" cy=\"216\" r=\"5.0\" style=\"fill:blue;stroke:black;stroke-width:1.0\"\/>\n",
       "<circle cx=\"34\" cy=\"550\" r=\"5.0\" style=\"fill:gold;stroke:black;stroke-width:1.0\"\/>\n",
       "<circle cx=\"303\" cy=\"778\" r=\"5.0\" style=\"fill:white;stroke:black;stroke-width:1.0\"\/>\n",
       "<circle cx=\"297\" cy=\"255\" r=\"5.0\" style=\"fill:blue;stroke:black;stroke-width:1.0\"\/>\n",
       "<circle cx=\"45\" cy=\"573\" r=\"5.0\" style=\"fill:gold;stroke:black;stroke-width:1.0\"\/>\n",
       "<circle cx=\"27\" cy=\"553\" r=\"5.0\" style=\"fill:gold;stroke:black;stroke-width:1.0\"\/>\n",
       "<circle cx=\"218\" cy=\"464\" r=\"5.0\" style=\"fill:skyblue;stroke:black;stroke-width:1.0\"\/>\n",
       "<circle cx=\"213\" cy=\"419\" r=\"5.0\" style=\"fill:skyblue;stroke:black;stroke-width:1.0\"\/>\n",
       "<circle cx=\"52\" cy=\"565\" r=\"5.0\" style=\"fill:gold;stroke:black;stroke-width:1.0\"\/>\n",
       "<circle cx=\"43\" cy=\"584\" r=\"5.0\" style=\"fill:gold;stroke:black;stroke-width:1.0\"\/>\n",
       "<circle cx=\"26\" cy=\"560\" r=\"5.0\" style=\"fill:gold;stroke:black;stroke-width:1.0\"\/>\n",
       "<circle cx=\"35\" cy=\"556\" r=\"5.0\" style=\"fill:gold;stroke:black;stroke-width:1.0\"\/>\n",
       "<circle cx=\"311\" cy=\"268\" r=\"5.0\" style=\"fill:blue;stroke:black;stroke-width:1.0\"\/>\n",
       "<circle cx=\"33\" cy=\"557\" r=\"5.0\" style=\"fill:gold;stroke:black;stroke-width:1.0\"\/>\n",
       "<circle cx=\"35\" cy=\"556\" r=\"5.0\" style=\"fill:gold;stroke:black;stroke-width:1.0\"\/>\n",
       "<circle cx=\"101\" cy=\"441\" r=\"5.0\" style=\"fill:blue;stroke:black;stroke-width:1.0\"\/>\n",
       "<circle cx=\"36\" cy=\"570\" r=\"5.0\" style=\"fill:gold;stroke:black;stroke-width:1.0\"\/>\n",
       "<circle cx=\"27\" cy=\"548\" r=\"5.0\" style=\"fill:gold;stroke:black;stroke-width:1.0\"\/>\n",
       "<circle cx=\"41\" cy=\"541\" r=\"5.0\" style=\"fill:gold;stroke:black;stroke-width:1.0\"\/>\n",
       "<circle cx=\"39\" cy=\"545\" r=\"5.0\" style=\"fill:gold;stroke:black;stroke-width:1.0\"\/>\n",
       "<circle cx=\"300\" cy=\"270\" r=\"5.0\" style=\"fill:blue;stroke:black;stroke-width:1.0\"\/>\n",
       "<circle cx=\"82\" cy=\"508\" r=\"5.0\" style=\"fill:orange;stroke:black;stroke-width:1.0\"\/>\n",
       "<circle cx=\"26\" cy=\"569\" r=\"5.0\" style=\"fill:gold;stroke:black;stroke-width:1.0\"\/>\n",
       "<circle cx=\"33\" cy=\"558\" r=\"5.0\" style=\"fill:gold;stroke:black;stroke-width:1.0\"\/>\n",
       "<circle cx=\"34\" cy=\"553\" r=\"5.0\" style=\"fill:gold;stroke:black;stroke-width:1.0\"\/>\n",
       "<circle cx=\"376\" cy=\"832\" r=\"5.0\" style=\"fill:red;stroke:black;stroke-width:1.0\"\/>\n",
       "<circle cx=\"30\" cy=\"564\" r=\"5.0\" style=\"fill:gold;stroke:black;stroke-width:1.0\"\/>\n",
       "<circle cx=\"26\" cy=\"565\" r=\"5.0\" style=\"fill:gold;stroke:black;stroke-width:1.0\"\/>\n",
       "<circle cx=\"362\" cy=\"886\" r=\"5.0\" style=\"fill:hotpink;stroke:black;stroke-width:1.0\"\/>\n",
       "<circle cx=\"34\" cy=\"560\" r=\"5.0\" style=\"fill:gold;stroke:black;stroke-width:1.0\"\/>\n",
       "<circle cx=\"327\" cy=\"249\" r=\"5.0\" style=\"fill:blue;stroke:black;stroke-width:1.0\"\/>\n",
       "<circle cx=\"52\" cy=\"528\" r=\"5.0\" style=\"fill:gold;stroke:black;stroke-width:1.0\"\/>\n",
       "<circle cx=\"39\" cy=\"555\" r=\"5.0\" style=\"fill:gold;stroke:black;stroke-width:1.0\"\/>\n",
       "<circle cx=\"58\" cy=\"567\" r=\"5.0\" style=\"fill:gold;stroke:black;stroke-width:1.0\"\/>\n",
       "<circle cx=\"315\" cy=\"646\" r=\"5.0\" style=\"fill:hotpink;stroke:black;stroke-width:1.0\"\/>\n",
       "<circle cx=\"312\" cy=\"430\" r=\"5.0\" style=\"fill:blue;stroke:black;stroke-width:1.0\"\/>\n",
       "<circle cx=\"48\" cy=\"543\" r=\"5.0\" style=\"fill:gold;stroke:black;stroke-width:1.0\"\/>\n",
       "<circle cx=\"64\" cy=\"593\" r=\"5.0\" style=\"fill:gold;stroke:black;stroke-width:1.0\"\/>\n",
       "<circle cx=\"23\" cy=\"560\" r=\"5.0\" style=\"fill:gold;stroke:black;stroke-width:1.0\"\/>\n",
       "<circle cx=\"45\" cy=\"585\" r=\"5.0\" style=\"fill:gold;stroke:black;stroke-width:1.0\"\/>\n",
       "<circle cx=\"39\" cy=\"570\" r=\"5.0\" style=\"fill:gold;stroke:black;stroke-width:1.0\"\/>\n",
       "<circle cx=\"322\" cy=\"221\" r=\"5.0\" style=\"fill:blue;stroke:black;stroke-width:1.0\"\/>\n",
       "<circle cx=\"34\" cy=\"541\" r=\"5.0\" style=\"fill:gold;stroke:black;stroke-width:1.0\"\/>\n",
       "<circle cx=\"278\" cy=\"243\" r=\"5.0\" style=\"fill:blue;stroke:black;stroke-width:1.0\"\/>\n",
       "<circle cx=\"55\" cy=\"543\" r=\"5.0\" style=\"fill:gold;stroke:black;stroke-width:1.0\"\/>\n",
       "<circle cx=\"30\" cy=\"560\" r=\"5.0\" style=\"fill:gold;stroke:black;stroke-width:1.0\"\/>\n",
       "<circle cx=\"49\" cy=\"611\" r=\"5.0\" style=\"fill:gold;stroke:black;stroke-width:1.0\"\/>\n",
       "<circle cx=\"237\" cy=\"534\" r=\"5.0\" style=\"fill:skyblue;stroke:black;stroke-width:1.0\"\/>\n",
       "<circle cx=\"25\" cy=\"574\" r=\"5.0\" style=\"fill:gold;stroke:black;stroke-width:1.0\"\/>\n",
       "<circle cx=\"259\" cy=\"218\" r=\"5.0\" style=\"fill:blue;stroke:black;stroke-width:1.0\"\/>\n",
       "<circle cx=\"167\" cy=\"477\" r=\"5.0\" style=\"fill:blue;stroke:black;stroke-width:1.0\"\/>\n",
       "<circle cx=\"31\" cy=\"544\" r=\"5.0\" style=\"fill:gold;stroke:black;stroke-width:1.0\"\/>\n",
       "<circle cx=\"326\" cy=\"280\" r=\"5.0\" style=\"fill:blue;stroke:black;stroke-width:1.0\"\/>\n",
       "<circle cx=\"46\" cy=\"548\" r=\"5.0\" style=\"fill:gold;stroke:black;stroke-width:1.0\"\/>\n",
       "<circle cx=\"346\" cy=\"443\" r=\"5.0\" style=\"fill:white;stroke:black;stroke-width:1.0\"\/>\n",
       "<circle cx=\"355\" cy=\"757\" r=\"5.0\" style=\"fill:red;stroke:black;stroke-width:1.0\"\/>\n",
       "<circle cx=\"290\" cy=\"286\" r=\"5.0\" style=\"fill:blue;stroke:black;stroke-width:1.0\"\/>\n",
       "<circle cx=\"36\" cy=\"545\" r=\"5.0\" style=\"fill:gold;stroke:black;stroke-width:1.0\"\/>\n",
       "<circle cx=\"51\" cy=\"560\" r=\"5.0\" style=\"fill:gold;stroke:black;stroke-width:1.0\"\/>\n",
       "<circle cx=\"193\" cy=\"472\" r=\"5.0\" style=\"fill:skyblue;stroke:black;stroke-width:1.0\"\/>\n",
       "<circle cx=\"23\" cy=\"556\" r=\"5.0\" style=\"fill:gold;stroke:black;stroke-width:1.0\"\/>\n",
       "<circle cx=\"38\" cy=\"570\" r=\"5.0\" style=\"fill:gold;stroke:black;stroke-width:1.0\"\/>\n",
       "<circle cx=\"306\" cy=\"558\" r=\"5.0\" style=\"fill:skyblue;stroke:black;stroke-width:1.0\"\/>\n",
       "<circle cx=\"28\" cy=\"566\" r=\"5.0\" style=\"fill:gold;stroke:black;stroke-width:1.0\"\/>\n",
       "<circle cx=\"33\" cy=\"555\" r=\"5.0\" style=\"fill:gold;stroke:black;stroke-width:1.0\"\/>\n",
       "<circle cx=\"335\" cy=\"355\" r=\"5.0\" style=\"fill:blue;stroke:black;stroke-width:1.0\"\/>\n",
       "<circle cx=\"308\" cy=\"252\" r=\"5.0\" style=\"fill:blue;stroke:black;stroke-width:1.0\"\/>\n",
       "<circle cx=\"53\" cy=\"544\" r=\"5.0\" style=\"fill:orange;stroke:black;stroke-width:1.0\"\/>\n",
       "<circle cx=\"29\" cy=\"567\" r=\"5.0\" style=\"fill:gold;stroke:black;stroke-width:1.0\"\/>\n",
       "<circle cx=\"25\" cy=\"558\" r=\"5.0\" style=\"fill:gold;stroke:black;stroke-width:1.0\"\/>\n",
       "<circle cx=\"31\" cy=\"554\" r=\"5.0\" style=\"fill:gold;stroke:black;stroke-width:1.0\"\/>\n",
       "<circle cx=\"46\" cy=\"570\" r=\"5.0\" style=\"fill:gold;stroke:black;stroke-width:1.0\"\/>\n",
       "<circle cx=\"379\" cy=\"998\" r=\"5.0\" style=\"fill:firebrick;stroke:black;stroke-width:1.0\"\/>\n",
       "<circle cx=\"214\" cy=\"334\" r=\"5.0\" style=\"fill:blue;stroke:black;stroke-width:1.0\"\/>\n",
       "<circle cx=\"316\" cy=\"341\" r=\"5.0\" style=\"fill:blue;stroke:black;stroke-width:1.0\"\/>\n",
       "<circle cx=\"33\" cy=\"557\" r=\"5.0\" style=\"fill:gold;stroke:black;stroke-width:1.0\"\/>\n",
       "<circle cx=\"30\" cy=\"562\" r=\"5.0\" style=\"fill:gold;stroke:black;stroke-width:1.0\"\/>\n",
       "<circle cx=\"348\" cy=\"737\" r=\"5.0\" style=\"fill:hotpink;stroke:black;stroke-width:1.0\"\/>\n",
       "<circle cx=\"97\" cy=\"619\" r=\"5.0\" style=\"fill:gold;stroke:black;stroke-width:1.0\"\/>\n",
       "<circle cx=\"300\" cy=\"428\" r=\"5.0\" style=\"fill:blue;stroke:black;stroke-width:1.0\"\/>\n",
       "<circle cx=\"89\" cy=\"526\" r=\"5.0\" style=\"fill:orange;stroke:black;stroke-width:1.0\"\/>\n",
       "<circle cx=\"45\" cy=\"545\" r=\"5.0\" style=\"fill:orange;stroke:black;stroke-width:1.0\"\/>\n",
       "<circle cx=\"31\" cy=\"561\" r=\"5.0\" style=\"fill:gold;stroke:black;stroke-width:1.0\"\/>\n",
       "<circle cx=\"34\" cy=\"567\" r=\"5.0\" style=\"fill:gold;stroke:black;stroke-width:1.0\"\/>\n",
       "<circle cx=\"108\" cy=\"558\" r=\"5.0\" style=\"fill:skyblue;stroke:black;stroke-width:1.0\"\/>\n",
       "<circle cx=\"311\" cy=\"208\" r=\"5.0\" style=\"fill:blue;stroke:black;stroke-width:1.0\"\/>\n",
       "<circle cx=\"23\" cy=\"559\" r=\"5.0\" style=\"fill:gold;stroke:black;stroke-width:1.0\"\/>\n",
       "<circle cx=\"42\" cy=\"555\" r=\"5.0\" style=\"fill:gold;stroke:black;stroke-width:1.0\"\/>\n",
       "<circle cx=\"23\" cy=\"577\" r=\"5.0\" style=\"fill:gold;stroke:black;stroke-width:1.0\"\/>\n",
       "<circle cx=\"244\" cy=\"258\" r=\"5.0\" style=\"fill:blue;stroke:black;stroke-width:1.0\"\/>\n",
       "<circle cx=\"146\" cy=\"377\" r=\"5.0\" style=\"fill:skyblue;stroke:black;stroke-width:1.0\"\/>\n",
       "<circle cx=\"53\" cy=\"535\" r=\"5.0\" style=\"fill:gold;stroke:black;stroke-width:1.0\"\/>\n",
       "<circle cx=\"30\" cy=\"561\" r=\"5.0\" style=\"fill:gold;stroke:black;stroke-width:1.0\"\/>\n",
       "<circle cx=\"44\" cy=\"523\" r=\"5.0\" style=\"fill:gold;stroke:black;stroke-width:1.0\"\/>\n",
       "<circle cx=\"377\" cy=\"909\" r=\"5.0\" style=\"fill:firebrick;stroke:black;stroke-width:1.0\"\/>\n",
       "<circle cx=\"386\" cy=\"768\" r=\"5.0\" style=\"fill:firebrick;stroke:black;stroke-width:1.0\"\/>\n",
       "<text text-anchor=\"start\" x=\"36\" y=\"548\" font-size=\"12\">Fabien Matras<\/text><text text-anchor=\"start\" x=\"384\" y=\"763\" font-size=\"12\">Régis Juanico<\/text><text text-anchor=\"start\" x=\"229\" y=\"336\" font-size=\"12\">Pierre Morel-À-L'Huissier<\/text><text text-anchor=\"start\" x=\"42\" y=\"562\" font-size=\"12\">Jean-Marie Fiévet<\/text><text text-anchor=\"start\" x=\"385\" y=\"927\" font-size=\"12\">Loïc Prud'homme<\/text><text text-anchor=\"start\" x=\"37\" y=\"552\" font-size=\"12\">Danièle Hérin<\/text><text text-anchor=\"start\" x=\"48\" y=\"528\" font-size=\"12\">Claire O'Petit<\/text><text text-anchor=\"start\" x=\"383\" y=\"700\" font-size=\"12\">Jean-Paul Dufrègne<\/text><text text-anchor=\"start\" x=\"44\" y=\"558\" font-size=\"12\">Anne-France Brunet<\/text><text text-anchor=\"start\" x=\"44\" y=\"555\" font-size=\"12\">Anthony Cellier<\/text><text text-anchor=\"start\" x=\"38\" y=\"569\" font-size=\"12\">Corinne Vignon<\/text><text text-anchor=\"start\" x=\"57\" y=\"586\" font-size=\"12\">Delphine O|||Mounir Mahjoubi<\/text><text text-anchor=\"start\" x=\"113\" y=\"519\" font-size=\"12\">Max Mathiasin<\/text><text text-anchor=\"start\" x=\"316\" y=\"272\" font-size=\"12\">Jacques Bompard|||Marie-France Lorho<\/text><text text-anchor=\"start\" x=\"308\" y=\"215\" font-size=\"12\">Daniel Fasquelle<\/text><text text-anchor=\"start\" x=\"282\" y=\"375\" font-size=\"12\">David Lorion<\/text><text text-anchor=\"start\" x=\"39\" y=\"528\" font-size=\"12\">Thierry Solère<\/text><text text-anchor=\"start\" x=\"47\" y=\"557\" font-size=\"12\">Nicole Trisse<\/text><text text-anchor=\"start\" x=\"43\" y=\"557\" font-size=\"12\">Bertrand Sorre<\/text><text text-anchor=\"start\" x=\"37\" y=\"545\" font-size=\"12\">Christophe Lejeune<\/text><text text-anchor=\"start\" x=\"46\" y=\"568\" font-size=\"12\">Sandrine Le Feur<\/text><text text-anchor=\"start\" x=\"33\" y=\"579\" font-size=\"12\">Aurélien Taché<\/text><text text-anchor=\"start\" x=\"316\" y=\"232\" font-size=\"12\">Louis Aliot<\/text><text text-anchor=\"start\" x=\"328\" y=\"584\" font-size=\"12\">Cécile Untermaier<\/text><text text-anchor=\"start\" x=\"51\" y=\"581\" font-size=\"12\">Fannette Charvier<\/text><text text-anchor=\"start\" x=\"37\" y=\"548\" font-size=\"12\">Alexandra Louis<\/text><text text-anchor=\"start\" x=\"44\" y=\"551\" font-size=\"12\">Stéphane Testé<\/text><text text-anchor=\"start\" x=\"390\" y=\"639\" font-size=\"12\">José Evrard<\/text><text text-anchor=\"start\" x=\"220\" y=\"334\" font-size=\"12\">Didier Quentin<\/text><text text-anchor=\"start\" x=\"289\" y=\"250\" font-size=\"12\">Jean-Claude Bouchet<\/text><text text-anchor=\"start\" x=\"43\" y=\"543\" font-size=\"12\">Didier Le Gac<\/text><text text-anchor=\"start\" x=\"213\" y=\"431\" font-size=\"12\">Jean-Christophe Lagarde<\/text><text text-anchor=\"start\" x=\"297\" y=\"165\" font-size=\"12\">Sébastien Huyghe<\/text><text text-anchor=\"start\" x=\"62\" y=\"548\" font-size=\"12\">Pierre Henriet<\/text><text text-anchor=\"start\" x=\"41\" y=\"552\" font-size=\"12\">Jean-Charles Larsonneur<\/text><text text-anchor=\"start\" x=\"241\" y=\"278\" font-size=\"12\">Meyer Habib<\/text><text text-anchor=\"start\" x=\"300\" y=\"759\" font-size=\"12\">Josette Manin<\/text><text text-anchor=\"start\" x=\"287\" y=\"282\" font-size=\"12\">Jean-Jacques Ferrara<\/text><text text-anchor=\"start\" x=\"56\" y=\"586\" font-size=\"12\">Annie Chapelier<\/text><text text-anchor=\"start\" x=\"30\" y=\"568\" font-size=\"12\">Sacha Houlié<\/text><text text-anchor=\"start\" x=\"350\" y=\"272\" font-size=\"12\">Dino Cinieri<\/text><text text-anchor=\"start\" x=\"43\" y=\"540\" font-size=\"12\">Michel Delpon<\/text><text text-anchor=\"start\" x=\"34\" y=\"564\" font-size=\"12\">Jean-René Cazeneuve<\/text><text text-anchor=\"start\" x=\"271\" y=\"340\" font-size=\"12\">Frédérique Meunier<\/text><text text-anchor=\"start\" x=\"301\" y=\"253\" font-size=\"12\">Gérard Menuel<\/text><text text-anchor=\"start\" x=\"230\" y=\"423\" font-size=\"12\">Jean-Charles Taugourdeau<\/text><text text-anchor=\"start\" x=\"42\" y=\"561\" font-size=\"12\">Amélie de Montchalin|||Stéphanie Atger<\/text><text text-anchor=\"start\" x=\"396\" y=\"926\" font-size=\"12\">Boris Vallaud<\/text><text text-anchor=\"start\" x=\"399\" y=\"918\" font-size=\"12\">Éric Coquerel<\/text><text text-anchor=\"start\" x=\"322\" y=\"171\" font-size=\"12\">Vincent Rolland<\/text><text text-anchor=\"start\" x=\"44\" y=\"561\" font-size=\"12\">Jean-Claude Leclabart<\/text><text text-anchor=\"start\" x=\"39\" y=\"562\" font-size=\"12\">Martine Leguille-Balloy<\/text><text text-anchor=\"start\" x=\"48\" y=\"551\" font-size=\"12\">Jacqueline Dubois<\/text><text text-anchor=\"start\" x=\"386\" y=\"968\" font-size=\"12\">Mathilde Panot<\/text><text text-anchor=\"start\" x=\"265\" y=\"528\" font-size=\"12\">Paul Molac<\/text><text text-anchor=\"start\" x=\"271\" y=\"116\" font-size=\"12\">Mansour Kamardine<\/text><text text-anchor=\"start\" x=\"258\" y=\"483\" font-size=\"12\">Bertrand Pancher<\/text><text text-anchor=\"start\" x=\"40\" y=\"540\" font-size=\"12\">Alexandre Holroyd<\/text><text text-anchor=\"start\" x=\"44\" y=\"538\" font-size=\"12\">Denis Masséglia<\/text><text text-anchor=\"start\" x=\"48\" y=\"555\" font-size=\"12\">Gaël Le Bohec<\/text><text text-anchor=\"start\" x=\"376\" y=\"893\" font-size=\"12\">Elsa Faucillon<\/text><text text-anchor=\"start\" x=\"36\" y=\"559\" font-size=\"12\">Marie-Christine Verdier-Jouclas<\/text><text text-anchor=\"start\" x=\"30\" y=\"560\" font-size=\"12\">Marie Guévenoux<\/text><text text-anchor=\"start\" x=\"44\" y=\"577\" font-size=\"12\">Fabienne Colboc<\/text><text text-anchor=\"start\" x=\"283\" y=\"373\" font-size=\"12\">Jean-Marie Sermier<\/text><text text-anchor=\"start\" x=\"45\" y=\"541\" font-size=\"12\">Stéphanie Do<\/text><text text-anchor=\"start\" x=\"341\" y=\"237\" font-size=\"12\">Marc Le Fur<\/text><text text-anchor=\"start\" x=\"110\" y=\"593\" font-size=\"12\">Jennifer De Temmerman<\/text><text text-anchor=\"start\" x=\"157\" y=\"441\" font-size=\"12\">Franck Marlin<\/text><text text-anchor=\"start\" x=\"45\" y=\"538\" font-size=\"12\">Sébastien Cazenove<\/text><text text-anchor=\"start\" x=\"308\" y=\"291\" font-size=\"12\">Jean-Pierre Vigier<\/text><text text-anchor=\"start\" x=\"68\" y=\"574\" font-size=\"12\">Caroline Janvier<\/text><text text-anchor=\"start\" x=\"79\" y=\"501\" font-size=\"12\">Joachim Son-Forget<\/text><text text-anchor=\"start\" x=\"344\" y=\"563\" font-size=\"12\">Jean Lassalle<\/text><text text-anchor=\"start\" x=\"206\" y=\"489\" font-size=\"12\">Frédérique Dumas<\/text><text text-anchor=\"start\" x=\"47\" y=\"557\" font-size=\"12\">Marjolaine Meynier-Millefert<\/text><text text-anchor=\"start\" x=\"42\" y=\"571\" font-size=\"12\">Olivier Véran|||Camille Galliard-Minier<\/text><text text-anchor=\"start\" x=\"144\" y=\"403\" font-size=\"12\">Bernard Deflesselles<\/text><text text-anchor=\"start\" x=\"40\" y=\"555\" font-size=\"12\">Damien Pichereau<\/text><text text-anchor=\"start\" x=\"33\" y=\"571\" font-size=\"12\">Pacôme Rupin<\/text><text text-anchor=\"start\" x=\"34\" y=\"562\" font-size=\"12\">Adrien Morenas<\/text><text text-anchor=\"start\" x=\"290\" y=\"230\" font-size=\"12\">Jérôme Nury<\/text><text text-anchor=\"start\" x=\"341\" y=\"580\" font-size=\"12\">Jeanine Dubié<\/text><text text-anchor=\"start\" x=\"176\" y=\"625\" font-size=\"12\">Jean-Michel Clément<\/text><text text-anchor=\"start\" x=\"392\" y=\"947\" font-size=\"12\">Bénédicte Taurine<\/text><text text-anchor=\"start\" x=\"351\" y=\"673\" font-size=\"12\">Hélène Vainqueur-Christophe<\/text><text text-anchor=\"start\" x=\"41\" y=\"556\" font-size=\"12\">Christophe Blanchet<\/text><text text-anchor=\"start\" x=\"45\" y=\"540\" font-size=\"12\">Valérie Gomez-Bassac<\/text><text text-anchor=\"start\" x=\"37\" y=\"559\" font-size=\"12\">Ramlati Ali<\/text><text text-anchor=\"start\" x=\"241\" y=\"306\" font-size=\"12\">Yves Jégo|||Jean-Louis Thiériot<\/text><text text-anchor=\"start\" x=\"40\" y=\"556\" font-size=\"12\">Christophe Euzet<\/text><text text-anchor=\"start\" x=\"36\" y=\"555\" font-size=\"12\">Catherine Osson<\/text><text text-anchor=\"start\" x=\"34\" y=\"570\" font-size=\"12\">Alice Thourot<\/text><text text-anchor=\"start\" x=\"158\" y=\"419\" font-size=\"12\">Vincent Ledoux<\/text><text text-anchor=\"start\" x=\"321\" y=\"194\" font-size=\"12\">Patrice Verchère|||Nathalie Serre<\/text><text text-anchor=\"start\" x=\"370\" y=\"747\" font-size=\"12\">Alain David<\/text><text text-anchor=\"start\" x=\"60\" y=\"527\" font-size=\"12\">Frédérique Lardet<\/text><text text-anchor=\"start\" x=\"323\" y=\"774\" font-size=\"12\">Christian Hutin<\/text><text text-anchor=\"start\" x=\"44\" y=\"551\" font-size=\"12\">Alain Perea<\/text><text text-anchor=\"start\" x=\"46\" y=\"563\" font-size=\"12\">Jean-Baptiste Djebbari|||Pierre Venteau<\/text><text text-anchor=\"start\" x=\"43\" y=\"562\" font-size=\"12\">Éric Alauzet<\/text><text text-anchor=\"start\" x=\"39\" y=\"560\" font-size=\"12\">Sandra Marsaud<\/text><text text-anchor=\"start\" x=\"55\" y=\"554\" font-size=\"12\">Marie Tamarelle-Verhaeghe<\/text><text text-anchor=\"start\" x=\"44\" y=\"524\" font-size=\"12\">Jean-Luc Warsmann<\/text><text text-anchor=\"start\" x=\"310\" y=\"234\" font-size=\"12\">Charles de la Verpillière<\/text><text text-anchor=\"start\" x=\"45\" y=\"540\" font-size=\"12\">Pascale Fontenel-Personne<\/text><text text-anchor=\"start\" x=\"34\" y=\"556\" font-size=\"12\">Grégory Besson-Moreau<\/text><text text-anchor=\"start\" x=\"35\" y=\"580\" font-size=\"12\">Coralie Dubost<\/text><text text-anchor=\"start\" x=\"49\" y=\"571\" font-size=\"12\">Olivier Damaisin<\/text><text text-anchor=\"start\" x=\"54\" y=\"544\" font-size=\"12\">Jean-François Portarrieu<\/text><text text-anchor=\"start\" x=\"36\" y=\"572\" font-size=\"12\">Laurent Pietraszewski|||Florence Morlighem<\/text><text text-anchor=\"start\" x=\"35\" y=\"552\" font-size=\"12\">Carole Bureau-Bonnard<\/text><text text-anchor=\"start\" x=\"57\" y=\"554\" font-size=\"12\">Nathalie Sarles<\/text><text text-anchor=\"start\" x=\"37\" y=\"560\" font-size=\"12\">Belkhir Belhaddad<\/text><text text-anchor=\"start\" x=\"64\" y=\"523\" font-size=\"12\">Sandrine Josso<\/text><text text-anchor=\"start\" x=\"286\" y=\"374\" font-size=\"12\">Philippe Vigier<\/text><text text-anchor=\"start\" x=\"47\" y=\"555\" font-size=\"12\">Stéphanie Kerbarh<\/text><text text-anchor=\"start\" x=\"259\" y=\"373\" font-size=\"12\">Sophie Auconie<\/text><text text-anchor=\"start\" x=\"30\" y=\"565\" font-size=\"12\">Yaël Braun-Pivet<\/text><text text-anchor=\"start\" x=\"321\" y=\"207\" font-size=\"12\">Éric Pauget<\/text><text text-anchor=\"start\" x=\"45\" y=\"544\" font-size=\"12\">Joël Giraud<\/text><text text-anchor=\"start\" x=\"45\" y=\"526\" font-size=\"12\">Philippe Huppé<\/text><text text-anchor=\"start\" x=\"345\" y=\"754\" font-size=\"12\">Jean-Philippe Nilor<\/text><text text-anchor=\"start\" x=\"44\" y=\"551\" font-size=\"12\">Vincent Thiébaut<\/text><text text-anchor=\"start\" x=\"334\" y=\"738\" font-size=\"12\">Joël Aviragnet<\/text><text text-anchor=\"start\" x=\"354\" y=\"310\" font-size=\"12\">Ludovic Pajot<\/text><text text-anchor=\"start\" x=\"373\" y=\"590\" font-size=\"12\">David Habib<\/text><text text-anchor=\"start\" x=\"151\" y=\"542\" font-size=\"12\">Maud Petit<\/text><text text-anchor=\"start\" x=\"205\" y=\"471\" font-size=\"12\">Maurice Leroy|||Pascal Brindeau<\/text><text text-anchor=\"start\" x=\"50\" y=\"584\" font-size=\"12\">Audrey Dufeu Schubert<\/text><text text-anchor=\"start\" x=\"392\" y=\"820\" font-size=\"12\">Caroline Fiat<\/text><text text-anchor=\"start\" x=\"331\" y=\"218\" font-size=\"12\">Emmanuelle Anthoine<\/text><text text-anchor=\"start\" x=\"300\" y=\"127\" font-size=\"12\">Guillaume Larrivé<\/text><text text-anchor=\"start\" x=\"351\" y=\"693\" font-size=\"12\">Olivier Faure<\/text><text text-anchor=\"start\" x=\"34\" y=\"549\" font-size=\"12\">Marie-Ange Magne<\/text><text text-anchor=\"start\" x=\"122\" y=\"707\" font-size=\"12\">Sonia Krimi<\/text><text text-anchor=\"start\" x=\"63\" y=\"592\" font-size=\"12\">Laurence Vanceunebrock<\/text><text text-anchor=\"start\" x=\"227\" y=\"684\" font-size=\"12\">M'jid El Guerrab<\/text><text text-anchor=\"start\" x=\"98\" y=\"513\" font-size=\"12\">Mohamed Laqhila<\/text><text text-anchor=\"start\" x=\"46\" y=\"557\" font-size=\"12\">Monique Limon<\/text><text text-anchor=\"start\" x=\"30\" y=\"564\" font-size=\"12\">Guillaume Vuilletet<\/text><text text-anchor=\"start\" x=\"333\" y=\"600\" font-size=\"12\">Joaquim Pueyo<\/text><text text-anchor=\"start\" x=\"351\" y=\"670\" font-size=\"12\">Hervé Saulignac<\/text><text text-anchor=\"start\" x=\"33\" y=\"553\" font-size=\"12\">Stéphane Mazars<\/text><text text-anchor=\"start\" x=\"30\" y=\"564\" font-size=\"12\">Jean Terlier<\/text><text text-anchor=\"start\" x=\"361\" y=\"742\" font-size=\"12\">Stéphane Le Foll|||Sylvie Tolmont<\/text><text text-anchor=\"start\" x=\"314\" y=\"431\" font-size=\"12\">Gérard Cherpion<\/text><text text-anchor=\"start\" x=\"293\" y=\"268\" font-size=\"12\">Bérengère Poletti<\/text><text text-anchor=\"start\" x=\"55\" y=\"550\" font-size=\"12\">Jean-Michel Fauvergue<\/text><text text-anchor=\"start\" x=\"89\" y=\"534\" font-size=\"12\">Philippe Michel-Kleisbauer<\/text><text text-anchor=\"start\" x=\"34\" y=\"563\" font-size=\"12\">Rémy Rebeyrotte<\/text><text text-anchor=\"start\" x=\"97\" y=\"527\" font-size=\"12\">Patricia Gallerneau|||Patrick Loiseau<\/text><text text-anchor=\"start\" x=\"43\" y=\"566\" font-size=\"12\">Gabriel Attal|||Florence Provendier<\/text><text text-anchor=\"start\" x=\"149\" y=\"478\" font-size=\"12\">Thierry Robert|||Jean-Luc Poudroux<\/text><text text-anchor=\"start\" x=\"256\" y=\"312\" font-size=\"12\">Charles de Courson<\/text><text text-anchor=\"start\" x=\"42\" y=\"542\" font-size=\"12\">Valérie Petit<\/text><text text-anchor=\"start\" x=\"54\" y=\"535\" font-size=\"12\">Lénaïck Adam<\/text><text text-anchor=\"start\" x=\"39\" y=\"553\" font-size=\"12\">Samantha Cazebonne<\/text><text text-anchor=\"start\" x=\"306\" y=\"184\" font-size=\"12\">Claude de Ganay<\/text><text text-anchor=\"start\" x=\"53\" y=\"552\" font-size=\"12\">Liliana Tanguy<\/text><text text-anchor=\"start\" x=\"330\" y=\"337\" font-size=\"12\">Emmanuelle Ménard<\/text><text text-anchor=\"start\" x=\"47\" y=\"568\" font-size=\"12\">Charlotte Lecocq<\/text><text text-anchor=\"start\" x=\"120\" y=\"526\" font-size=\"12\">Josy Poueyto<\/text><text text-anchor=\"start\" x=\"79\" y=\"591\" font-size=\"12\">Erwan Balanant<\/text><text text-anchor=\"start\" x=\"33\" y=\"555\" font-size=\"12\">Raphaël Gauvain<\/text><text text-anchor=\"start\" x=\"85\" y=\"548\" font-size=\"12\">Géraldine Bannier<\/text><text text-anchor=\"start\" x=\"69\" y=\"592\" font-size=\"12\">Jean François Mbaye<\/text><text text-anchor=\"start\" x=\"327\" y=\"172\" font-size=\"12\">Pierre-Henri Dumont<\/text><text text-anchor=\"start\" x=\"121\" y=\"548\" font-size=\"12\">Jimmy Pahun<\/text><text text-anchor=\"start\" x=\"278\" y=\"192\" font-size=\"12\">Virginie Duby-Muller<\/text><text text-anchor=\"start\" x=\"320\" y=\"130\" font-size=\"12\">Valérie Bazin-Malgras<\/text><text text-anchor=\"start\" x=\"37\" y=\"562\" font-size=\"12\">Valéria Faure-Muntian<\/text><text text-anchor=\"start\" x=\"43\" y=\"569\" font-size=\"12\">Sylvie Charrière<\/text><text text-anchor=\"start\" x=\"332\" y=\"221\" font-size=\"12\">Isabelle Valentin<\/text><text text-anchor=\"start\" x=\"348\" y=\"729\" font-size=\"12\">Serge Letchimy<\/text><text text-anchor=\"start\" x=\"29\" y=\"560\" font-size=\"12\">Élise Fajgeles|||Benjamin Griveaux<\/text><text text-anchor=\"start\" x=\"135\" y=\"515\" font-size=\"12\">Agnès Thill<\/text><text text-anchor=\"start\" x=\"320\" y=\"291\" font-size=\"12\">Éric Diard<\/text><text text-anchor=\"start\" x=\"60\" y=\"541\" font-size=\"12\">Nicolas Turquois<\/text><text text-anchor=\"start\" x=\"331\" y=\"686\" font-size=\"12\">Ericka Bareigts<\/text><text text-anchor=\"start\" x=\"50\" y=\"556\" font-size=\"12\">Anne-Laurence Petel<\/text><text text-anchor=\"start\" x=\"308\" y=\"230\" font-size=\"12\">Raphaël Schellenberger<\/text><text text-anchor=\"start\" x=\"337\" y=\"779\" font-size=\"12\">Christophe Bouillon|||Bastien Coriton<\/text><text text-anchor=\"start\" x=\"43\" y=\"547\" font-size=\"12\">Laurence Vichnievsky<\/text><text text-anchor=\"start\" x=\"35\" y=\"545\" font-size=\"12\">Sabine Thillaye<\/text><text text-anchor=\"start\" x=\"43\" y=\"560\" font-size=\"12\">Nicole Dubré-Chirat<\/text><text text-anchor=\"start\" x=\"152\" y=\"482\" font-size=\"12\">Philippe Gomès<\/text><text text-anchor=\"start\" x=\"51\" y=\"580\" font-size=\"12\">Sira Sylla<\/text><text text-anchor=\"start\" x=\"33\" y=\"558\" font-size=\"12\">Éric Poulliat<\/text><text text-anchor=\"start\" x=\"309\" y=\"176\" font-size=\"12\">François Cornut-Gentille<\/text><text text-anchor=\"start\" x=\"41\" y=\"542\" font-size=\"12\">Gwendal Rouillard<\/text><text text-anchor=\"start\" x=\"47\" y=\"542\" font-size=\"12\">Romain Grau<\/text><text text-anchor=\"start\" x=\"37\" y=\"575\" font-size=\"12\">Thomas Mesnier<\/text><text text-anchor=\"start\" x=\"41\" y=\"578\" font-size=\"12\">Guillaume Gouffier-Cha<\/text><text text-anchor=\"start\" x=\"58\" y=\"568\" font-size=\"12\">Didier Martin<\/text><text text-anchor=\"start\" x=\"93\" y=\"521\" font-size=\"12\">Jean-Paul Mattei<\/text><text text-anchor=\"start\" x=\"269\" y=\"347\" font-size=\"12\">Thierry Benoit<\/text><text text-anchor=\"start\" x=\"306\" y=\"249\" font-size=\"12\">Valérie Lacroute|||Sylvie Bouchet Bellecourt<\/text><text text-anchor=\"start\" x=\"45\" y=\"558\" font-size=\"12\">Christelle Dubos|||Pascal Lavergne<\/text><text text-anchor=\"start\" x=\"409\" y=\"911\" font-size=\"12\">Nicolas Dupont-Aignan<\/text><text text-anchor=\"start\" x=\"53\" y=\"538\" font-size=\"12\">François Jolivet<\/text><text text-anchor=\"start\" x=\"337\" y=\"593\" font-size=\"12\">Marie-Noëlle Battistel<\/text><text text-anchor=\"start\" x=\"52\" y=\"563\" font-size=\"12\">Dominique Da Silva<\/text><text text-anchor=\"start\" x=\"43\" y=\"532\" font-size=\"12\">Dominique David<\/text><text text-anchor=\"start\" x=\"270\" y=\"455\" font-size=\"12\">Marine Brenier<\/text><text text-anchor=\"start\" x=\"48\" y=\"553\" font-size=\"12\">Éric Girardin<\/text><text text-anchor=\"start\" x=\"59\" y=\"577\" font-size=\"12\">Élisabeth Toutut-Picard<\/text><text text-anchor=\"start\" x=\"38\" y=\"556\" font-size=\"12\">Jean-Baptiste Moreau<\/text><text text-anchor=\"start\" x=\"79\" y=\"531\" font-size=\"12\">Patrick Mignola<\/text><text text-anchor=\"start\" x=\"72\" y=\"523\" font-size=\"12\">Benoit Potterie<\/text><text text-anchor=\"start\" x=\"397\" y=\"775\" font-size=\"12\">Fabien Roussel<\/text><text text-anchor=\"start\" x=\"290\" y=\"188\" font-size=\"12\">Michel Vialay<\/text><text text-anchor=\"start\" x=\"63\" y=\"557\" font-size=\"12\">Jean-François Cesarini|||Souad Zitouni<\/text><text text-anchor=\"start\" x=\"43\" y=\"552\" font-size=\"12\">Michèle Crouzet<\/text><text text-anchor=\"start\" x=\"53\" y=\"527\" font-size=\"12\">Barbara Bessot Ballot<\/text><text text-anchor=\"start\" x=\"35\" y=\"554\" font-size=\"12\">Hervé Berville<\/text><text text-anchor=\"start\" x=\"266\" y=\"305\" font-size=\"12\">Gilles Carrez<\/text><text text-anchor=\"start\" x=\"381\" y=\"781\" font-size=\"12\">André Chassaigne<\/text><text text-anchor=\"start\" x=\"44\" y=\"570\" font-size=\"12\">Cathy Racon-Bouzon<\/text><text text-anchor=\"start\" x=\"38\" y=\"571\" font-size=\"12\">Sylvain Maillard<\/text><text text-anchor=\"start\" x=\"271\" y=\"342\" font-size=\"12\">Geneviève Levy<\/text><text text-anchor=\"start\" x=\"41\" y=\"552\" font-size=\"12\">Yolaine de Courson<\/text><text text-anchor=\"start\" x=\"42\" y=\"557\" font-size=\"12\">Saïd Ahamada<\/text><text text-anchor=\"start\" x=\"40\" y=\"557\" font-size=\"12\">Pascal Bois<\/text><text text-anchor=\"start\" x=\"314\" y=\"280\" font-size=\"12\">Gilles Lurton<\/text><text text-anchor=\"start\" x=\"271\" y=\"313\" font-size=\"12\">Jean-Carles Grelier<\/text><text text-anchor=\"start\" x=\"41\" y=\"546\" font-size=\"12\">Jean-Pierre Pont<\/text><text text-anchor=\"start\" x=\"32\" y=\"556\" font-size=\"12\">Stanislas Guerini<\/text><text text-anchor=\"start\" x=\"56\" y=\"568\" font-size=\"12\">Yannick Kerlogot<\/text><text text-anchor=\"start\" x=\"41\" y=\"541\" font-size=\"12\">Jacques Savatier<\/text><text text-anchor=\"start\" x=\"94\" y=\"535\" font-size=\"12\">Nathalie Elimas<\/text><text text-anchor=\"start\" x=\"320\" y=\"337\" font-size=\"12\">Alain Ramadier<\/text><text text-anchor=\"start\" x=\"303\" y=\"269\" font-size=\"12\">Ian Boucard<\/text><text text-anchor=\"start\" x=\"39\" y=\"564\" font-size=\"12\">Jacques Marilossian<\/text><text text-anchor=\"start\" x=\"71\" y=\"592\" font-size=\"12\">Sandrine Mörch<\/text><text text-anchor=\"start\" x=\"113\" y=\"632\" font-size=\"12\">Matthieu Orphelin<\/text><text text-anchor=\"start\" x=\"38\" y=\"553\" font-size=\"12\">Laurence Gayte<\/text><text text-anchor=\"start\" x=\"333\" y=\"509\" font-size=\"12\">Jean-Félix Acquaviva<\/text><text text-anchor=\"start\" x=\"245\" y=\"399\" font-size=\"12\">Guy Bricout<\/text><text text-anchor=\"start\" x=\"32\" y=\"559\" font-size=\"12\">Florian Bachelier<\/text><text text-anchor=\"start\" x=\"61\" y=\"595\" font-size=\"12\">Barbara Pompili<\/text><text text-anchor=\"start\" x=\"428\" y=\"980\" font-size=\"12\">Adrien Quatennens<\/text><text text-anchor=\"start\" x=\"326\" y=\"402\" font-size=\"12\">Xavier Breton<\/text><text text-anchor=\"start\" x=\"357\" y=\"695\" font-size=\"12\">Valérie Rabault<\/text><text text-anchor=\"start\" x=\"83\" y=\"513\" font-size=\"12\">Yves Daniel<\/text><text text-anchor=\"start\" x=\"198\" y=\"447\" font-size=\"12\">Agnès Firmin Le Bodo<\/text><text text-anchor=\"start\" x=\"44\" y=\"573\" font-size=\"12\">Julien Borowczyk<\/text><text text-anchor=\"start\" x=\"80\" y=\"550\" font-size=\"12\">Stéphane Claireaux<\/text><text text-anchor=\"start\" x=\"396\" y=\"836\" font-size=\"12\">Muriel Ressiguier<\/text><text text-anchor=\"start\" x=\"49\" y=\"573\" font-size=\"12\">Aina Kuric<\/text><text text-anchor=\"start\" x=\"43\" y=\"539\" font-size=\"12\">Mounir Belhamiti|||François de Rugy<\/text><text text-anchor=\"start\" x=\"42\" y=\"562\" font-size=\"12\">Monica Michel<\/text><text text-anchor=\"start\" x=\"62\" y=\"556\" font-size=\"12\">Laurianne Rossi<\/text><text text-anchor=\"start\" x=\"41\" y=\"555\" font-size=\"12\">Fabien Gouttefarde<\/text><text text-anchor=\"start\" x=\"38\" y=\"550\" font-size=\"12\">Cédric Roussel<\/text><text text-anchor=\"start\" x=\"39\" y=\"554\" font-size=\"12\">Bruno Bonnell<\/text><text text-anchor=\"start\" x=\"67\" y=\"611\" font-size=\"12\">Martine Wonner<\/text><text text-anchor=\"start\" x=\"36\" y=\"558\" font-size=\"12\">Mickaël Nogal<\/text><text text-anchor=\"start\" x=\"33\" y=\"545\" font-size=\"12\">Florent Boudié<\/text><text text-anchor=\"start\" x=\"34\" y=\"561\" font-size=\"12\">Benjamin Dirx<\/text><text text-anchor=\"start\" x=\"42\" y=\"571\" font-size=\"12\">Adrien Taquet|||Bénédicte Pételle<\/text><text text-anchor=\"start\" x=\"147\" y=\"471\" font-size=\"12\">Franck Riester|||Patricia Lemoine<\/text><text text-anchor=\"start\" x=\"39\" y=\"563\" font-size=\"12\">Mireille Clapot<\/text><text text-anchor=\"start\" x=\"45\" y=\"547\" font-size=\"12\">Hervé Pellois<\/text><text text-anchor=\"start\" x=\"63\" y=\"550\" font-size=\"12\">Laurent Garcia<\/text><text text-anchor=\"start\" x=\"277\" y=\"373\" font-size=\"12\">Marianne Dubois<\/text><text text-anchor=\"start\" x=\"55\" y=\"547\" font-size=\"12\">Bruno Duvergé<\/text><text text-anchor=\"start\" x=\"327\" y=\"303\" font-size=\"12\">Josiane Corneloup<\/text><text text-anchor=\"start\" x=\"418\" y=\"902\" font-size=\"12\">Alain Bruneel<\/text><text text-anchor=\"start\" x=\"79\" y=\"585\" font-size=\"12\">Jean-Louis Touraine<\/text><text text-anchor=\"start\" x=\"326\" y=\"448\" font-size=\"12\">Marine Le Pen<\/text><text text-anchor=\"start\" x=\"46\" y=\"542\" font-size=\"12\">Sylvain Waserman<\/text><text text-anchor=\"start\" x=\"168\" y=\"415\" font-size=\"12\">Bernard Reynès<\/text><text text-anchor=\"start\" x=\"293\" y=\"494\" font-size=\"12\">Bernard Brochand<\/text><text text-anchor=\"start\" x=\"43\" y=\"553\" font-size=\"12\">Philippe Chassaing<\/text><text text-anchor=\"start\" x=\"92\" y=\"527\" font-size=\"12\">Sarah El Haïry<\/text><text text-anchor=\"start\" x=\"36\" y=\"548\" font-size=\"12\">Patrick Vignal<\/text><text text-anchor=\"start\" x=\"49\" y=\"548\" font-size=\"12\">Sophie Panonacle<\/text><text text-anchor=\"start\" x=\"33\" y=\"544\" font-size=\"12\">Sophie Errante<\/text><text text-anchor=\"start\" x=\"395\" y=\"969\" font-size=\"12\">Sabine Rubin<\/text><text text-anchor=\"start\" x=\"46\" y=\"569\" font-size=\"12\">Stéphanie Rist<\/text><text text-anchor=\"start\" x=\"72\" y=\"533\" font-size=\"12\">Olivier Gaillard<\/text><text text-anchor=\"start\" x=\"80\" y=\"517\" font-size=\"12\">Jean-Luc Lagleize<\/text><text text-anchor=\"start\" x=\"59\" y=\"550\" font-size=\"12\">Grégory Galbadon|||Stéphane Travert<\/text><text text-anchor=\"start\" x=\"297\" y=\"233\" font-size=\"12\">Isabelle Muller-Quoy|||Antoine Savignat<\/text><text text-anchor=\"start\" x=\"36\" y=\"567\" font-size=\"12\">Sophie Beaudouin-Hubiere<\/text><text text-anchor=\"start\" x=\"319\" y=\"139\" font-size=\"12\">Christian Jacob<\/text><text text-anchor=\"start\" x=\"33\" y=\"562\" font-size=\"12\">Célia de Lavergne<\/text><text text-anchor=\"start\" x=\"41\" y=\"553\" font-size=\"12\">Hugues Renson<\/text><text text-anchor=\"start\" x=\"52\" y=\"540\" font-size=\"12\">Pascale Boyer<\/text><text text-anchor=\"start\" x=\"89\" y=\"527\" font-size=\"12\">Marguerite Deprez-Audebert<\/text><text text-anchor=\"start\" x=\"42\" y=\"540\" font-size=\"12\">Christophe Di Pompeo<\/text><text text-anchor=\"start\" x=\"39\" y=\"559\" font-size=\"12\">Christine Hennion<\/text><text text-anchor=\"start\" x=\"33\" y=\"564\" font-size=\"12\">Anne Brugnera<\/text><text text-anchor=\"start\" x=\"332\" y=\"246\" font-size=\"12\">Pierre Vatin<\/text><text text-anchor=\"start\" x=\"292\" y=\"283\" font-size=\"12\">Martial Saddier<\/text><text text-anchor=\"start\" x=\"37\" y=\"562\" font-size=\"12\">Patrice Anato<\/text><text text-anchor=\"start\" x=\"46\" y=\"561\" font-size=\"12\">Natalia Pouzyreff<\/text><text text-anchor=\"start\" x=\"51\" y=\"544\" font-size=\"12\">Jean-Noël Barrot<\/text><text text-anchor=\"start\" x=\"346\" y=\"599\" font-size=\"12\">Michel Castellani<\/text><text text-anchor=\"start\" x=\"31\" y=\"573\" font-size=\"12\">Richard Ferrand<\/text><text text-anchor=\"start\" x=\"41\" y=\"564\" font-size=\"12\">Patrice Perrot<\/text><text text-anchor=\"start\" x=\"421\" y=\"901\" font-size=\"12\">Ugo Bernalicis<\/text><text text-anchor=\"start\" x=\"76\" y=\"535\" font-size=\"12\">Marc Fesneau|||Stéphane Baudu<\/text><text text-anchor=\"start\" x=\"281\" y=\"487\" font-size=\"12\">Yannick Favennec Becot<\/text><text text-anchor=\"start\" x=\"336\" y=\"319\" font-size=\"12\">Aurélien Pradié<\/text><text text-anchor=\"start\" x=\"49\" y=\"536\" font-size=\"12\">Blandine Brocard<\/text><text text-anchor=\"start\" x=\"40\" y=\"550\" font-size=\"12\">Yannick Haury<\/text><text text-anchor=\"start\" x=\"50\" y=\"534\" font-size=\"12\">Pierre Cabaré<\/text><text text-anchor=\"start\" x=\"35\" y=\"569\" font-size=\"12\">Stéphane Buchou<\/text><text text-anchor=\"start\" x=\"418\" y=\"968\" font-size=\"12\">Clémentine Autain<\/text><text text-anchor=\"start\" x=\"310\" y=\"89\" font-size=\"12\">Éric Ciotti<\/text><text text-anchor=\"start\" x=\"32\" y=\"545\" font-size=\"12\">Philippe Folliot<\/text><text text-anchor=\"start\" x=\"112\" y=\"538\" font-size=\"12\">Justine Benin<\/text><text text-anchor=\"start\" x=\"100\" y=\"522\" font-size=\"12\">Bruno Millienne<\/text><text text-anchor=\"start\" x=\"367\" y=\"719\" font-size=\"12\">Marie-George Buffet<\/text><text text-anchor=\"start\" x=\"43\" y=\"551\" font-size=\"12\">Bérangère Couillard<\/text><text text-anchor=\"start\" x=\"39\" y=\"547\" font-size=\"12\">Perrine Goulet<\/text><text text-anchor=\"start\" x=\"202\" y=\"409\" font-size=\"12\">André Villiers<\/text><text text-anchor=\"start\" x=\"37\" y=\"558\" font-size=\"12\">Fabrice Le Vigoureux<\/text><text text-anchor=\"start\" x=\"285\" y=\"276\" font-size=\"12\">Éric Woerth<\/text><text text-anchor=\"start\" x=\"34\" y=\"550\" font-size=\"12\">Ludovic Mendes<\/text><text text-anchor=\"start\" x=\"38\" y=\"585\" font-size=\"12\">Brigitte Bourguignon<\/text><text text-anchor=\"start\" x=\"45\" y=\"548\" font-size=\"12\">Patricia Mirallès<\/text><text text-anchor=\"start\" x=\"42\" y=\"577\" font-size=\"12\">Fadila Khattabi<\/text><text text-anchor=\"start\" x=\"78\" y=\"584\" font-size=\"12\">Lionel Causse<\/text><text text-anchor=\"start\" x=\"100\" y=\"658\" font-size=\"12\">Delphine Bagarry<\/text><text text-anchor=\"start\" x=\"318\" y=\"233\" font-size=\"12\">Valérie Beauvais<\/text><text text-anchor=\"start\" x=\"40\" y=\"571\" font-size=\"12\">Annaïg Le Meur<\/text><text text-anchor=\"start\" x=\"44\" y=\"558\" font-size=\"12\">Rodrigue Kokouendo<\/text><text text-anchor=\"start\" x=\"51\" y=\"551\" font-size=\"12\">Marielle de Sarnez<\/text><text text-anchor=\"start\" x=\"372\" y=\"851\" font-size=\"12\">Jérôme Lambert<\/text><text text-anchor=\"start\" x=\"55\" y=\"545\" font-size=\"12\">Marion Lenne<\/text><text text-anchor=\"start\" x=\"86\" y=\"552\" font-size=\"12\">Michèle de Vaucouleurs<\/text><text text-anchor=\"start\" x=\"128\" y=\"599\" font-size=\"12\">Brahim Hammouche<\/text><text text-anchor=\"start\" x=\"39\" y=\"557\" font-size=\"12\">Olivia Gregoire<\/text><text text-anchor=\"start\" x=\"327\" y=\"323\" font-size=\"12\">Stéphane Viry<\/text><text text-anchor=\"start\" x=\"40\" y=\"571\" font-size=\"12\">Fiona Lazaar<\/text><text text-anchor=\"start\" x=\"50\" y=\"544\" font-size=\"12\">Christophe Jerretie<\/text><text text-anchor=\"start\" x=\"264\" y=\"183\" font-size=\"12\">Claude Goasguen|||Sandra Boëlle<\/text><text text-anchor=\"start\" x=\"45\" y=\"564\" font-size=\"12\">Mireille Robert<\/text><text text-anchor=\"start\" x=\"203\" y=\"550\" font-size=\"12\">François-Michel Lambert<\/text><text text-anchor=\"start\" x=\"357\" y=\"788\" font-size=\"12\">Moetai Brotherson<\/text><text text-anchor=\"start\" x=\"44\" y=\"569\" font-size=\"12\">Hubert Julien-Laferrière<\/text><text text-anchor=\"start\" x=\"58\" y=\"585\" font-size=\"12\">Claire Pitollat<\/text><text text-anchor=\"start\" x=\"193\" y=\"447\" font-size=\"12\">Jean-Luc Reitzer<\/text><text text-anchor=\"start\" x=\"392\" y=\"887\" font-size=\"12\">Jean-Paul Lecoq<\/text><text text-anchor=\"start\" x=\"306\" y=\"222\" font-size=\"12\">Laurence Trastour-Isnart<\/text><text text-anchor=\"start\" x=\"46\" y=\"543\" font-size=\"12\">Stéphane Trompille<\/text><text text-anchor=\"start\" x=\"61\" y=\"533\" font-size=\"12\">Cyrille Isaac-Sibille<\/text><text text-anchor=\"start\" x=\"335\" y=\"154\" font-size=\"12\">Pierre Cordier<\/text><text text-anchor=\"start\" x=\"81\" y=\"533\" font-size=\"12\">Élodie Jacquier-Laforge<\/text><text text-anchor=\"start\" x=\"120\" y=\"487\" font-size=\"12\">Stéphane Demilly<\/text><text text-anchor=\"start\" x=\"215\" y=\"140\" font-size=\"12\">Michel Herbillon<\/text><text text-anchor=\"start\" x=\"304\" y=\"229\" font-size=\"12\">Annie Genevard<\/text><text text-anchor=\"start\" x=\"42\" y=\"569\" font-size=\"12\">Didier Baichère<\/text><text text-anchor=\"start\" x=\"329\" y=\"164\" font-size=\"12\">Jean-Louis Masson<\/text><text text-anchor=\"start\" x=\"232\" y=\"364\" font-size=\"12\">Lise Magnier<\/text><text text-anchor=\"start\" x=\"34\" y=\"558\" font-size=\"12\">Marie Lebec<\/text><text text-anchor=\"start\" x=\"39\" y=\"562\" font-size=\"12\">Véronique Riotton<\/text><text text-anchor=\"start\" x=\"41\" y=\"565\" font-size=\"12\">Marie-Pierre Rixain<\/text><text text-anchor=\"start\" x=\"33\" y=\"563\" font-size=\"12\">Cendra Motin<\/text><text text-anchor=\"start\" x=\"43\" y=\"556\" font-size=\"12\">Nicole Le Peih<\/text><text text-anchor=\"start\" x=\"46\" y=\"568\" font-size=\"12\">Jean-Luc Fugit<\/text><text text-anchor=\"start\" x=\"37\" y=\"559\" font-size=\"12\">Carole Grandjean<\/text><text text-anchor=\"start\" x=\"317\" y=\"201\" font-size=\"12\">Véronique Louwagie<\/text><text text-anchor=\"start\" x=\"34\" y=\"555\" font-size=\"12\">Yves Blein<\/text><text text-anchor=\"start\" x=\"45\" y=\"542\" font-size=\"12\">Jacques Krabal<\/text><text text-anchor=\"start\" x=\"53\" y=\"524\" font-size=\"12\">Benoit Simian<\/text><text text-anchor=\"start\" x=\"42\" y=\"558\" font-size=\"12\">Bertrand Bouyx<\/text><text text-anchor=\"start\" x=\"35\" y=\"577\" font-size=\"12\">Catherine Fabre<\/text><text text-anchor=\"start\" x=\"38\" y=\"566\" font-size=\"12\">Anne Genetet<\/text><text text-anchor=\"start\" x=\"43\" y=\"556\" font-size=\"12\">Huguette Tiegna<\/text><text text-anchor=\"start\" x=\"51\" y=\"569\" font-size=\"12\">Denis Sommer<\/text><text text-anchor=\"start\" x=\"64\" y=\"603\" font-size=\"12\">Cécile Rilhac<\/text><text text-anchor=\"start\" x=\"80\" y=\"534\" font-size=\"12\">Vincent Bru<\/text><text text-anchor=\"start\" x=\"190\" y=\"415\" font-size=\"12\">Michel Zumkeller<\/text><text text-anchor=\"start\" x=\"34\" y=\"566\" font-size=\"12\">Pierre Person<\/text><text text-anchor=\"start\" x=\"45\" y=\"572\" font-size=\"12\">Michèle Peyron<\/text><text text-anchor=\"start\" x=\"50\" y=\"552\" font-size=\"12\">Frédéric Petit<\/text><text text-anchor=\"start\" x=\"390\" y=\"947\" font-size=\"12\">Danièle Obono<\/text><text text-anchor=\"start\" x=\"56\" y=\"549\" font-size=\"12\">Philippe Bolo<\/text><text text-anchor=\"start\" x=\"320\" y=\"242\" font-size=\"12\">Frédéric Reiss<\/text><text text-anchor=\"start\" x=\"91\" y=\"535\" font-size=\"12\">Sophie Mette<\/text><text text-anchor=\"start\" x=\"69\" y=\"524\" font-size=\"12\">Frédérique Tuffnell<\/text><text text-anchor=\"start\" x=\"402\" y=\"867\" font-size=\"12\">Sébastien Jumel<\/text><text text-anchor=\"start\" x=\"326\" y=\"821\" font-size=\"12\">Marietta Karamanli<\/text><text text-anchor=\"start\" x=\"30\" y=\"565\" font-size=\"12\">Thomas Rudigoz<\/text><text text-anchor=\"start\" x=\"336\" y=\"740\" font-size=\"12\">Dominique Potier<\/text><text text-anchor=\"start\" x=\"106\" y=\"591\" font-size=\"12\">Bruno Fuchs<\/text><text text-anchor=\"start\" x=\"304\" y=\"20\" font-size=\"12\">Valérie Boyer<\/text><text text-anchor=\"start\" x=\"36\" y=\"563\" font-size=\"12\">Cédric Villani<\/text><text text-anchor=\"start\" x=\"309\" y=\"216\" font-size=\"12\">Arnaud Viala<\/text><text text-anchor=\"start\" x=\"345\" y=\"430\" font-size=\"12\">Sébastien Chenu<\/text><text text-anchor=\"start\" x=\"99\" y=\"556\" font-size=\"12\">Nadia Essayan<\/text><text text-anchor=\"start\" x=\"314\" y=\"192\" font-size=\"12\">Sébastien Leclerc<\/text><text text-anchor=\"start\" x=\"135\" y=\"435\" font-size=\"12\">Michèle Tabarot<\/text><text text-anchor=\"start\" x=\"312\" y=\"597\" font-size=\"12\">George Pau-Langevin<\/text><text text-anchor=\"start\" x=\"265\" y=\"714\" font-size=\"12\">Bruno Nestor Azerot|||Manuéla Kéclard-Mondésir<\/text><text text-anchor=\"start\" x=\"352\" y=\"680\" font-size=\"12\">Christine Pires Beaune<\/text><text text-anchor=\"start\" x=\"32\" y=\"557\" font-size=\"12\">Valérie Oppelt<\/text><text text-anchor=\"start\" x=\"44\" y=\"548\" font-size=\"12\">Philippe Chalumeau<\/text><text text-anchor=\"start\" x=\"407\" y=\"1020\" font-size=\"12\">Jean-Luc Mélenchon<\/text><text text-anchor=\"start\" x=\"55\" y=\"548\" font-size=\"12\">Sereine Mauborgne<\/text><text text-anchor=\"start\" x=\"45\" y=\"561\" font-size=\"12\">Hélène Zannier<\/text><text text-anchor=\"start\" x=\"43\" y=\"568\" font-size=\"12\">Christine Cloarec-Le Nabour<\/text><text text-anchor=\"start\" x=\"29\" y=\"568\" font-size=\"12\">Didier Paris<\/text><text text-anchor=\"start\" x=\"151\" y=\"549\" font-size=\"12\">Richard Ramos<\/text><text text-anchor=\"start\" x=\"33\" y=\"555\" font-size=\"12\">Jean-Michel Jacques<\/text><text text-anchor=\"start\" x=\"362\" y=\"607\" font-size=\"12\">Jean-Louis Bricout<\/text><text text-anchor=\"start\" x=\"207\" y=\"551\" font-size=\"12\">Pierre-Yves Bournazel<\/text><text text-anchor=\"start\" x=\"298\" y=\"230\" font-size=\"12\">Jean-Jacques Gaultier<\/text><text text-anchor=\"start\" x=\"328\" y=\"272\" font-size=\"12\">Thibault Bazin<\/text><text text-anchor=\"start\" x=\"67\" y=\"549\" font-size=\"12\">Frédéric Barbier<\/text><text text-anchor=\"start\" x=\"84\" y=\"521\" font-size=\"12\">Philippe Latombe<\/text><text text-anchor=\"start\" x=\"37\" y=\"556\" font-size=\"12\">Damien Adam<\/text><text text-anchor=\"start\" x=\"41\" y=\"538\" font-size=\"12\">Danièle Cazarian<\/text><text text-anchor=\"start\" x=\"374\" y=\"408\" font-size=\"12\">Gilbert Collard|||Nicolas Meizonnet<\/text><text text-anchor=\"start\" x=\"249\" y=\"313\" font-size=\"12\">Christophe Naegelen<\/text><text text-anchor=\"start\" x=\"59\" y=\"551\" font-size=\"12\">Typhanie Degois<\/text><text text-anchor=\"start\" x=\"317\" y=\"225\" font-size=\"12\">Vincent Descoeur<\/text><text text-anchor=\"start\" x=\"39\" y=\"551\" font-size=\"12\">Bénédicte Peyrol<\/text><text text-anchor=\"start\" x=\"294\" y=\"338\" font-size=\"12\">Jean-Pierre Door<\/text><text text-anchor=\"start\" x=\"330\" y=\"600\" font-size=\"12\">Sylvia Pinel<\/text><text text-anchor=\"start\" x=\"40\" y=\"554\" font-size=\"12\">Isabelle Rauch<\/text><text text-anchor=\"start\" x=\"36\" y=\"569\" font-size=\"12\">Mustapha Laabid<\/text><text text-anchor=\"start\" x=\"30\" y=\"556\" font-size=\"12\">Dimitri Houbron<\/text><text text-anchor=\"start\" x=\"82\" y=\"534\" font-size=\"12\">Philippe Berta<\/text><text text-anchor=\"start\" x=\"43\" y=\"552\" font-size=\"12\">Jean-Charles Colas-Roy<\/text><text text-anchor=\"start\" x=\"79\" y=\"598\" font-size=\"12\">Florence Granjus<\/text><text text-anchor=\"start\" x=\"47\" y=\"585\" font-size=\"12\">Nicolas Démoulin<\/text><text text-anchor=\"start\" x=\"395\" y=\"758\" font-size=\"12\">Hubert Wulfranc<\/text><text text-anchor=\"start\" x=\"282\" y=\"285\" font-size=\"12\">Robin Reda<\/text><text text-anchor=\"start\" x=\"28\" y=\"561\" font-size=\"12\">Émilie Chalas<\/text><text text-anchor=\"start\" x=\"58\" y=\"533\" font-size=\"12\">Bruno Joncour<\/text><text text-anchor=\"start\" x=\"336\" y=\"665\" font-size=\"12\">Olivier Dussopt|||Michèle Victory<\/text><text text-anchor=\"start\" x=\"46\" y=\"530\" font-size=\"12\">Anne Blanc<\/text><text text-anchor=\"start\" x=\"40\" y=\"567\" font-size=\"12\">Naïma Moutchou<\/text><text text-anchor=\"start\" x=\"40\" y=\"559\" font-size=\"12\">Daniel Labaronne<\/text><text text-anchor=\"start\" x=\"72\" y=\"524\" font-size=\"12\">Aude Luquet<\/text><text text-anchor=\"start\" x=\"294\" y=\"248\" font-size=\"12\">Damien Abad<\/text><text text-anchor=\"start\" x=\"226\" y=\"559\" font-size=\"12\">Olivier Falorni<\/text><text text-anchor=\"start\" x=\"329\" y=\"205\" font-size=\"12\">Fabrice Brun<\/text><text text-anchor=\"start\" x=\"312\" y=\"216\" font-size=\"12\">Maxime Minot<\/text><text text-anchor=\"start\" x=\"405\" y=\"950\" font-size=\"12\">Alexis Corbière<\/text><text text-anchor=\"start\" x=\"375\" y=\"808\" font-size=\"12\">Gabriel Serville<\/text><text text-anchor=\"start\" x=\"329\" y=\"712\" font-size=\"12\">Luc Carvounas|||Sarah Taillebois<\/text><text text-anchor=\"start\" x=\"40\" y=\"547\" font-size=\"12\">Loïc Kervran<\/text><text text-anchor=\"start\" x=\"203\" y=\"404\" font-size=\"12\">Béatrice Descamps<\/text><text text-anchor=\"start\" x=\"400\" y=\"861\" font-size=\"12\">Pierre Dharréville<\/text><text text-anchor=\"start\" x=\"87\" y=\"493\" font-size=\"12\">Jean-Louis Bourlanges<\/text><text text-anchor=\"start\" x=\"43\" y=\"531\" font-size=\"12\">Alexandra Valetta Ardisson<\/text><text text-anchor=\"start\" x=\"305\" y=\"286\" font-size=\"12\">Bernard Perrut<\/text><text text-anchor=\"start\" x=\"128\" y=\"668\" font-size=\"12\">Sébastien Nadot<\/text><text text-anchor=\"start\" x=\"38\" y=\"563\" font-size=\"12\">Thierry Michels<\/text><text text-anchor=\"start\" x=\"340\" y=\"172\" font-size=\"12\">Fabien Di Filippo<\/text><text text-anchor=\"start\" x=\"59\" y=\"600\" font-size=\"12\">Albane Gaillot<\/text><text text-anchor=\"start\" x=\"402\" y=\"902\" font-size=\"12\">Jean-Hugues Ratenon<\/text><text text-anchor=\"start\" x=\"50\" y=\"558\" font-size=\"12\">Loïc Dombreval<\/text><text text-anchor=\"start\" x=\"47\" y=\"552\" font-size=\"12\">Cécile Muschotti<\/text><text text-anchor=\"start\" x=\"192\" y=\"298\" font-size=\"12\">Guy Teissier<\/text><text text-anchor=\"start\" x=\"57\" y=\"563\" font-size=\"12\">Manuel Valls|||Francis Chouat<\/text><text text-anchor=\"start\" x=\"224\" y=\"415\" font-size=\"12\">Paul Christophe<\/text><text text-anchor=\"start\" x=\"159\" y=\"459\" font-size=\"12\">Olivier Becht<\/text><text text-anchor=\"start\" x=\"301\" y=\"236\" font-size=\"12\">Rémi Delatte<\/text><text text-anchor=\"start\" x=\"47\" y=\"533\" font-size=\"12\">François Cormier-Bouligeon<\/text><text text-anchor=\"start\" x=\"41\" y=\"560\" font-size=\"12\">Guillaume Kasbarian<\/text><text text-anchor=\"start\" x=\"35\" y=\"556\" font-size=\"12\">Bruno Questel<\/text><text text-anchor=\"start\" x=\"40\" y=\"546\" font-size=\"12\">Jean-François Eliaou<\/text><text text-anchor=\"start\" x=\"306\" y=\"277\" font-size=\"12\">Patrick Hetzel<\/text><text text-anchor=\"start\" x=\"38\" y=\"560\" font-size=\"12\">Béatrice Piron<\/text><text text-anchor=\"start\" x=\"45\" y=\"551\" font-size=\"12\">Jacques Maire<\/text><text text-anchor=\"start\" x=\"38\" y=\"537\" font-size=\"12\">Thomas Gassilloud<\/text><text text-anchor=\"start\" x=\"34\" y=\"557\" font-size=\"12\">Olga Givernet<\/text><text text-anchor=\"start\" x=\"46\" y=\"547\" font-size=\"12\">Jean-Philippe Ardouin<\/text><text text-anchor=\"start\" x=\"309\" y=\"541\" font-size=\"12\">Paul-André Colombani<\/text><text text-anchor=\"start\" x=\"50\" y=\"573\" font-size=\"12\">Émilie Cariou<\/text><text text-anchor=\"start\" x=\"40\" y=\"566\" font-size=\"12\">Zivka Park<\/text><text text-anchor=\"start\" x=\"42\" y=\"557\" font-size=\"12\">Richard Lioger<\/text><text text-anchor=\"start\" x=\"84\" y=\"523\" font-size=\"12\">Florence Lasserre<\/text><text text-anchor=\"start\" x=\"149\" y=\"448\" font-size=\"12\">Laure de La Raudière<\/text><text text-anchor=\"start\" x=\"272\" y=\"216\" font-size=\"12\">Jacques Cattin<\/text><text text-anchor=\"start\" x=\"42\" y=\"550\" font-size=\"12\">Françoise Dumas<\/text><text text-anchor=\"start\" x=\"311\" y=\"778\" font-size=\"12\">Delphine Batho<\/text><text text-anchor=\"start\" x=\"305\" y=\"255\" font-size=\"12\">Emmanuel Maquet<\/text><text text-anchor=\"start\" x=\"53\" y=\"573\" font-size=\"12\">Raphaël Gérard<\/text><text text-anchor=\"start\" x=\"35\" y=\"553\" font-size=\"12\">Buon Tan<\/text><text text-anchor=\"start\" x=\"226\" y=\"464\" font-size=\"12\">Francis Vercamer|||Valérie Six<\/text><text text-anchor=\"start\" x=\"221\" y=\"419\" font-size=\"12\">Philippe Dunoyer<\/text><text text-anchor=\"start\" x=\"60\" y=\"565\" font-size=\"12\">Éric Bothorel<\/text><text text-anchor=\"start\" x=\"51\" y=\"584\" font-size=\"12\">Laëtitia Romeiro Dias<\/text><text text-anchor=\"start\" x=\"34\" y=\"560\" font-size=\"12\">Gilles Le Gendre<\/text><text text-anchor=\"start\" x=\"43\" y=\"556\" font-size=\"12\">Séverine Gipson<\/text><text text-anchor=\"start\" x=\"319\" y=\"268\" font-size=\"12\">Brigitte Kuster<\/text><text text-anchor=\"start\" x=\"41\" y=\"557\" font-size=\"12\">Anissa Khedher<\/text><text text-anchor=\"start\" x=\"43\" y=\"556\" font-size=\"12\">Jean-Bernard Sempastous<\/text><text text-anchor=\"start\" x=\"109\" y=\"441\" font-size=\"12\">Olivier Dassault<\/text><text text-anchor=\"start\" x=\"44\" y=\"570\" font-size=\"12\">Pierre-Alain Raphan<\/text><text text-anchor=\"start\" x=\"35\" y=\"548\" font-size=\"12\">Pieyre-Alexandre Anglade<\/text><text text-anchor=\"start\" x=\"49\" y=\"541\" font-size=\"12\">Christophe Arend<\/text><text text-anchor=\"start\" x=\"47\" y=\"545\" font-size=\"12\">Danielle Brulebois<\/text><text text-anchor=\"start\" x=\"308\" y=\"270\" font-size=\"12\">Philippe Gosselin<\/text><text text-anchor=\"start\" x=\"90\" y=\"508\" font-size=\"12\">Jean-Pierre Cubertafon<\/text><text text-anchor=\"start\" x=\"34\" y=\"569\" font-size=\"12\">Marc Delatte<\/text><text text-anchor=\"start\" x=\"41\" y=\"558\" font-size=\"12\">Graziella Melchior<\/text><text text-anchor=\"start\" x=\"42\" y=\"553\" font-size=\"12\">Laurence Maillart-Méhaignerie<\/text><text text-anchor=\"start\" x=\"384\" y=\"832\" font-size=\"12\">Stéphane Peu<\/text><text text-anchor=\"start\" x=\"38\" y=\"564\" font-size=\"12\">Valérie Thomas<\/text><text text-anchor=\"start\" x=\"34\" y=\"565\" font-size=\"12\">Jean-Michel Mis<\/text><text text-anchor=\"start\" x=\"370\" y=\"886\" font-size=\"12\">Laurence Dumont<\/text><text text-anchor=\"start\" x=\"42\" y=\"560\" font-size=\"12\">Jacqueline Maquet<\/text><text text-anchor=\"start\" x=\"335\" y=\"249\" font-size=\"12\">Julien Dive<\/text><text text-anchor=\"start\" x=\"60\" y=\"528\" font-size=\"12\">Alain Tourret<\/text><text text-anchor=\"start\" x=\"47\" y=\"555\" font-size=\"12\">Xavier Paluszkiewicz<\/text><text text-anchor=\"start\" x=\"66\" y=\"567\" font-size=\"12\">Aude Amadou<\/text><text text-anchor=\"start\" x=\"323\" y=\"646\" font-size=\"12\">Guillaume Garot<\/text><text text-anchor=\"start\" x=\"320\" y=\"430\" font-size=\"12\">Claire Guion-Firmin<\/text><text text-anchor=\"start\" x=\"56\" y=\"543\" font-size=\"12\">Olivier Serva<\/text><text text-anchor=\"start\" x=\"72\" y=\"593\" font-size=\"12\">Stella Dupont<\/text><text text-anchor=\"start\" x=\"31\" y=\"560\" font-size=\"12\">Émilie Guerel<\/text><text text-anchor=\"start\" x=\"53\" y=\"585\" font-size=\"12\">Guillaume Chiche<\/text><text text-anchor=\"start\" x=\"47\" y=\"570\" font-size=\"12\">Annie Vidal<\/text><text text-anchor=\"start\" x=\"330\" y=\"221\" font-size=\"12\">Émilie Bonnivard<\/text><text text-anchor=\"start\" x=\"42\" y=\"541\" font-size=\"12\">Michel Lauzzana<\/text><text text-anchor=\"start\" x=\"286\" y=\"243\" font-size=\"12\">Éric Straumann<\/text><text text-anchor=\"start\" x=\"63\" y=\"543\" font-size=\"12\">Xavier Batut<\/text><text text-anchor=\"start\" x=\"38\" y=\"560\" font-size=\"12\">Catherine Kamowski<\/text><text text-anchor=\"start\" x=\"57\" y=\"611\" font-size=\"12\">Paula Forteza<\/text><text text-anchor=\"start\" x=\"245\" y=\"534\" font-size=\"12\">Maina Sage<\/text><text text-anchor=\"start\" x=\"33\" y=\"574\" font-size=\"12\">Nadia Hai<\/text><text text-anchor=\"start\" x=\"267\" y=\"218\" font-size=\"12\">Jean-François Parigi<\/text><text text-anchor=\"start\" x=\"175\" y=\"477\" font-size=\"12\">Nadia Ramassamy<\/text><text text-anchor=\"start\" x=\"39\" y=\"544\" font-size=\"12\">Bruno Studer<\/text><text text-anchor=\"start\" x=\"334\" y=\"280\" font-size=\"12\">Marie-Christine Dalloz<\/text><text text-anchor=\"start\" x=\"54\" y=\"548\" font-size=\"12\">Aurore Bergé<\/text><text text-anchor=\"start\" x=\"354\" y=\"443\" font-size=\"12\">Bruno Bilde<\/text><text text-anchor=\"start\" x=\"363\" y=\"757\" font-size=\"12\">Huguette Bello|||Olivier Hoarau<\/text><text text-anchor=\"start\" x=\"298\" y=\"286\" font-size=\"12\">Laurent Furst|||Philippe Meyer<\/text><text text-anchor=\"start\" x=\"44\" y=\"545\" font-size=\"12\">Laetitia Saint-Paul<\/text><text text-anchor=\"start\" x=\"59\" y=\"560\" font-size=\"12\">Alexandre Freschi<\/text><text text-anchor=\"start\" x=\"201\" y=\"472\" font-size=\"12\">Nicole Sanquer<\/text><text text-anchor=\"start\" x=\"31\" y=\"556\" font-size=\"12\">Caroline Abadie<\/text><text text-anchor=\"start\" x=\"46\" y=\"570\" font-size=\"12\">Anne-Christine Lang<\/text><text text-anchor=\"start\" x=\"314\" y=\"558\" font-size=\"12\">François Pupponi<\/text><text text-anchor=\"start\" x=\"36\" y=\"566\" font-size=\"12\">Roland Lescure<\/text><text text-anchor=\"start\" x=\"41\" y=\"555\" font-size=\"12\">Jean-Marc Zulesi<\/text><text text-anchor=\"start\" x=\"343\" y=\"355\" font-size=\"12\">Olivier Marleix<\/text><text text-anchor=\"start\" x=\"316\" y=\"252\" font-size=\"12\">Jean-Yves Bony<\/text><text text-anchor=\"start\" x=\"61\" y=\"544\" font-size=\"12\">Fabien Lainé<\/text><text text-anchor=\"start\" x=\"37\" y=\"567\" font-size=\"12\">Bérangère Abba<\/text><text text-anchor=\"start\" x=\"33\" y=\"558\" font-size=\"12\">Laurent Saint-Martin<\/text><text text-anchor=\"start\" x=\"39\" y=\"554\" font-size=\"12\">Xavier Roseren<\/text><text text-anchor=\"start\" x=\"54\" y=\"570\" font-size=\"12\">Emmanuelle Fontaine-Domeizel<\/text><text text-anchor=\"start\" x=\"387\" y=\"998\" font-size=\"12\">Bastien Lachaud<\/text><text text-anchor=\"start\" x=\"222\" y=\"334\" font-size=\"12\">Guillaume Peltier<\/text><text text-anchor=\"start\" x=\"324\" y=\"341\" font-size=\"12\">Julien Aubert<\/text><text text-anchor=\"start\" x=\"41\" y=\"557\" font-size=\"12\">Anne-Laure Cattelot<\/text><text text-anchor=\"start\" x=\"38\" y=\"562\" font-size=\"12\">Monique Iborra<\/text><text text-anchor=\"start\" x=\"356\" y=\"737\" font-size=\"12\">Gisèle Biémouret<\/text><text text-anchor=\"start\" x=\"105\" y=\"619\" font-size=\"12\">François André|||Claudia Rouaux<\/text><text text-anchor=\"start\" x=\"308\" y=\"428\" font-size=\"12\">Nathalie Bassire<\/text><text text-anchor=\"start\" x=\"97\" y=\"526\" font-size=\"12\">Isabelle Florennes<\/text><text text-anchor=\"start\" x=\"53\" y=\"545\" font-size=\"12\">Michel Fanget<\/text><text text-anchor=\"start\" x=\"39\" y=\"561\" font-size=\"12\">Jean-Jacques Bridey<\/text><text text-anchor=\"start\" x=\"42\" y=\"567\" font-size=\"12\">Véronique Hammerer<\/text><text text-anchor=\"start\" x=\"116\" y=\"558\" font-size=\"12\">Napole Polutele|||Sylvain Brial<\/text><text text-anchor=\"start\" x=\"319\" y=\"208\" font-size=\"12\">Constance Le Grip<\/text><text text-anchor=\"start\" x=\"31\" y=\"559\" font-size=\"12\">Amélia Lakrafi<\/text><text text-anchor=\"start\" x=\"50\" y=\"555\" font-size=\"12\">Brigitte Liso<\/text><text text-anchor=\"start\" x=\"31\" y=\"577\" font-size=\"12\">Laetitia Avia<\/text><text text-anchor=\"start\" x=\"252\" y=\"258\" font-size=\"12\">Nicolas Forissier<\/text><text text-anchor=\"start\" x=\"154\" y=\"377\" font-size=\"12\">Antoine Herth<\/text><text text-anchor=\"start\" x=\"61\" y=\"535\" font-size=\"12\">Aude Bono-Vandorme<\/text><text text-anchor=\"start\" x=\"38\" y=\"561\" font-size=\"12\">Céline Calvez<\/text><text text-anchor=\"start\" x=\"52\" y=\"523\" font-size=\"12\">Frédéric Descrozaille<\/text><text text-anchor=\"start\" x=\"385\" y=\"909\" font-size=\"12\">François Ruffin<\/text><text text-anchor=\"start\" x=\"394\" y=\"768\" font-size=\"12\">Michel Larive<\/text><\/svg>"
      ]
     },
     "metadata":{
      
     },
     "output_type":"display_data"
    }
   ],
   "metadata":{
    "datalore":{
     "type":"CODE",
     "hide_input_from_viewers":false,
     "hide_output_from_viewers":false,
     "node_id":"P0GAnCUu4g3E0O6rwro6ad"
    }
   }
  },
  {
   "cell_type":"markdown",
   "source":[
    "# Sports"
   ],
   "attachments":{
    
   },
   "metadata":{
    "datalore":{
     "type":"MD",
     "hide_input_from_viewers":false,
     "hide_output_from_viewers":false,
     "sheet_delimiter":true
    }
   }
  },
  {
   "cell_type":"markdown",
   "source":[
    "# EXERCÍCIO AULA - Sports\n",
    "Reproduza os Casos de Uso apresentados em https:\/\/scikit-network.readthedocs.io\/en\/latest\/use_cases\/sport.html"
   ],
   "attachments":{
    
   },
   "metadata":{
    "datalore":{
     "type":"MD",
     "hide_input_from_viewers":false,
     "hide_output_from_viewers":false,
     "node_id":"KArsw7acVvzdancvjrSe0U"
    }
   }
  },
  {
   "cell_type":"code",
   "source":[
    "from IPython.display import SVG"
   ],
   "execution_count":215,
   "outputs":[
    
   ],
   "metadata":{
    "datalore":{
     "type":"CODE",
     "hide_input_from_viewers":false,
     "hide_output_from_viewers":false,
     "node_id":"LP7xajO4kpfURLkCCyiC1K"
    }
   }
  },
  {
   "cell_type":"code",
   "source":[
    "import numpy as np\n",
    "import pandas as pd\n",
    "from scipy import sparse"
   ],
   "execution_count":216,
   "outputs":[
    
   ],
   "metadata":{
    "datalore":{
     "type":"CODE",
     "hide_input_from_viewers":false,
     "hide_output_from_viewers":false,
     "node_id":"h4ooOtj0qgY3bPvDpVTY0a"
    }
   }
  },
  {
   "cell_type":"code",
   "source":[
    "from sknetwork.data import convert_edge_list\n",
    "from sknetwork.ranking import PageRank, top_k\n",
    "from sknetwork.topology import CoreDecomposition\n",
    "from sknetwork.utils import directed2undirected\n",
    "from sknetwork.embedding import Spectral\n",
    "from sknetwork.visualization import svg_digraph, svg_graph"
   ],
   "execution_count":217,
   "outputs":[
    
   ],
   "metadata":{
    "datalore":{
     "type":"CODE",
     "hide_input_from_viewers":false,
     "hide_output_from_viewers":false,
     "node_id":"re4NCqVeJRVaP0fEXGr92D"
    }
   }
  },
  {
   "cell_type":"markdown",
   "source":[
    "## Load Data"
   ],
   "attachments":{
    
   },
   "metadata":{
    "datalore":{
     "type":"MD",
     "hide_input_from_viewers":false,
     "hide_output_from_viewers":false,
     "node_id":"0HUYBtsB2UYFq6tqeuSn0I"
    }
   }
  },
  {
   "cell_type":"code",
   "source":[
    "filename = 'atp.csv'"
   ],
   "execution_count":218,
   "outputs":[
    
   ],
   "metadata":{
    "datalore":{
     "type":"CODE",
     "hide_input_from_viewers":false,
     "hide_output_from_viewers":false,
     "node_id":"kLZ41hlBgRnzOKz8YuIjW6"
    }
   }
  },
  {
   "cell_type":"code",
   "source":[
    "df = pd.read_csv(filename, sep=';')"
   ],
   "execution_count":219,
   "outputs":[
    
   ],
   "metadata":{
    "datalore":{
     "type":"CODE",
     "hide_input_from_viewers":false,
     "hide_output_from_viewers":false,
     "node_id":"8smoiUFOz3j5lL5ZAQeuEY"
    }
   }
  },
  {
   "cell_type":"code",
   "source":[
    "df.head"
   ],
   "execution_count":220,
   "outputs":[
    {
     "data":{
      "text\/plain":[
       "<bound method NDFrame.head of        ATP     Location                           Tournament        Date  \\\n",
       "0       25      Houston  U.S. Men's Clay Court Championships  2005-04-21   \n",
       "1       26      Estoril                         Estoril Open  2005-04-27   \n",
       "2       28         Rome          Telecom Italia Masters Roma  2005-05-03   \n",
       "3       28         Rome          Telecom Italia Masters Roma  2005-05-04   \n",
       "4       29      Hamburg                          Hamburg TMS  2005-05-11   \n",
       "...    ...          ...                                  ...         ...   \n",
       "44060   43    Kitzbuhel                        Generali Open  2002-07-22   \n",
       "44061   44  Los Angeles                    Mercedes-Benz Cup  2002-07-22   \n",
       "44062   45        Sopot                     Idea Prokom Open  2002-07-22   \n",
       "44063   46      Toronto                          Toronto TMS  2002-07-29   \n",
       "44064   46      Toronto                          Toronto TMS  2002-07-29   \n",
       "\n",
       "                     Series    Court Surface      Round  Best of  \\\n",
       "0             International  Outdoor    Clay  2nd Round        3   \n",
       "1      International Series  Outdoor    Clay  2nd Round        3   \n",
       "2                   Masters  Outdoor    Clay  1st Round        3   \n",
       "3                   Masters  Outdoor    Clay  2nd Round        3   \n",
       "4                   Masters  Outdoor    Clay  2nd Round        3   \n",
       "...                     ...      ...     ...        ...      ...   \n",
       "44060    International Gold  Outdoor    Clay  3rd Round        3   \n",
       "44061         International  Outdoor    Hard  1st Round        3   \n",
       "44062         International  Outdoor    Clay  2nd Round        3   \n",
       "44063               Masters  Outdoor    Hard  1st Round        3   \n",
       "44064               Masters  Outdoor    Hard  2nd Round        3   \n",
       "\n",
       "               Winner  ...  L4  W5  L5  Wsets  Lsets    Comment  MaxW  MaxL  \\\n",
       "0             Haas T.  ... NaN NaN NaN    2.0    0.0  Completed   NaN   NaN   \n",
       "1           Gaudio G.  ... NaN NaN NaN    2.0    0.0  Completed   NaN   NaN   \n",
       "2      Sanguinetti D.  ... NaN NaN NaN    2.0    1.0  Completed   NaN   NaN   \n",
       "3          Almagro N.  ... NaN NaN NaN    2.0    0.0  Completed   NaN   NaN   \n",
       "4           Hrbaty D.  ... NaN NaN NaN    2.0    0.0  Completed   NaN   NaN   \n",
       "...               ...  ...  ..  ..  ..    ...    ...        ...   ...   ...   \n",
       "44060        Massu N.  ... NaN NaN NaN    2.0    0.0  Completed   NaN   NaN   \n",
       "44061          Lee M.  ... NaN NaN NaN    2.0    0.0  Completed   NaN   NaN   \n",
       "44062       Rochus C.  ... NaN NaN NaN    2.0    1.0  Completed   NaN   NaN   \n",
       "44063   Srichaphan P.  ... NaN NaN NaN    2.0    1.0  Completed   NaN   NaN   \n",
       "44064     Stepanek R.  ... NaN NaN NaN    2.0    0.0  Completed   NaN   NaN   \n",
       "\n",
       "       AvgW  AvgL  \n",
       "0       NaN   NaN  \n",
       "1       NaN   NaN  \n",
       "2       NaN   NaN  \n",
       "3       NaN   NaN  \n",
       "4       NaN   NaN  \n",
       "...     ...   ...  \n",
       "44060   NaN   NaN  \n",
       "44061   NaN   NaN  \n",
       "44062   NaN   NaN  \n",
       "44063   NaN   NaN  \n",
       "44064   NaN   NaN  \n",
       "\n",
       "[44065 rows x 32 columns]>"
      ]
     },
     "metadata":{
      
     },
     "output_type":"display_data"
    }
   ],
   "metadata":{
    "datalore":{
     "type":"CODE",
     "hide_input_from_viewers":false,
     "hide_output_from_viewers":false,
     "node_id":"Umd1WKAmJjBM2ZbVZtSpfc"
    }
   }
  },
  {
   "cell_type":"code",
   "source":[
    "df = df[df['Comment']=='Completed']"
   ],
   "execution_count":221,
   "outputs":[
    
   ],
   "metadata":{
    "datalore":{
     "type":"CODE",
     "hide_input_from_viewers":false,
     "hide_output_from_viewers":false,
     "node_id":"c5Gf599l6RopGiwpl4Xddz"
    }
   }
  },
  {
   "cell_type":"code",
   "source":[
    "len(df)"
   ],
   "execution_count":222,
   "outputs":[
    {
     "data":{
      "text\/plain":[
       "42261"
      ]
     },
     "metadata":{
      
     },
     "output_type":"display_data"
    }
   ],
   "metadata":{
    "datalore":{
     "type":"CODE",
     "hide_input_from_viewers":false,
     "hide_output_from_viewers":false,
     "node_id":"CFqySUGKAlzwwINNshMjcL"
    }
   }
  },
  {
   "cell_type":"markdown",
   "source":[
    "## Build graph"
   ],
   "attachments":{
    
   },
   "metadata":{
    "datalore":{
     "type":"MD",
     "hide_input_from_viewers":false,
     "hide_output_from_viewers":false,
     "node_id":"ZYQSyWl2QCvMaibRz4Jn1j"
    }
   }
  },
  {
   "cell_type":"code",
   "source":[
    "edge_list = list(df[['Winner', 'Loser']].itertuples(index=False, name=None))"
   ],
   "execution_count":223,
   "outputs":[
    
   ],
   "metadata":{
    "datalore":{
     "type":"CODE",
     "hide_input_from_viewers":false,
     "hide_output_from_viewers":false,
     "node_id":"TSIg6vfJk4jANkbc6ZM9Dg"
    }
   }
  },
  {
   "cell_type":"code",
   "source":[
    "len(edge_list)"
   ],
   "execution_count":224,
   "outputs":[
    {
     "data":{
      "text\/plain":[
       "42261"
      ]
     },
     "metadata":{
      
     },
     "output_type":"display_data"
    }
   ],
   "metadata":{
    "datalore":{
     "type":"CODE",
     "hide_input_from_viewers":false,
     "hide_output_from_viewers":false,
     "node_id":"VPVsXTHsd1iKshLTMFHQnE"
    }
   }
  },
  {
   "cell_type":"code",
   "source":[
    "graph = convert_edge_list(edge_list, directed=True)"
   ],
   "execution_count":225,
   "outputs":[
    
   ],
   "metadata":{
    "datalore":{
     "type":"CODE",
     "hide_input_from_viewers":false,
     "hide_output_from_viewers":false,
     "node_id":"W7UM3aYGFY27LHvjNIyagS"
    }
   }
  },
  {
   "cell_type":"code",
   "source":[
    "adjacency = graph.adjacency\n",
    "names = graph.names"
   ],
   "execution_count":226,
   "outputs":[
    
   ],
   "metadata":{
    "datalore":{
     "type":"CODE",
     "hide_input_from_viewers":false,
     "hide_output_from_viewers":false,
     "node_id":"1DZWv98SPaS5jHKDdenmdO"
    }
   }
  },
  {
   "cell_type":"code",
   "source":[
    "adjacency"
   ],
   "execution_count":227,
   "outputs":[
    {
     "data":{
      "text\/plain":[
       "<1255x1255 sparse matrix of type '<class 'numpy.int64'>'\n",
       "\twith 28212 stored elements in Compressed Sparse Row format>"
      ]
     },
     "metadata":{
      
     },
     "output_type":"display_data"
    }
   ],
   "metadata":{
    "datalore":{
     "type":"CODE",
     "hide_input_from_viewers":false,
     "hide_output_from_viewers":false,
     "node_id":"Yu5JOlMnjtm64NGV7Fm1qX"
    }
   }
  },
  {
   "cell_type":"code",
   "source":[
    "len(names)"
   ],
   "execution_count":228,
   "outputs":[
    {
     "data":{
      "text\/plain":[
       "1255"
      ]
     },
     "metadata":{
      
     },
     "output_type":"display_data"
    }
   ],
   "metadata":{
    "datalore":{
     "type":"CODE",
     "hide_input_from_viewers":false,
     "hide_output_from_viewers":false,
     "node_id":"ygjpniLfgm6eTu2XDoSFus"
    }
   }
  },
  {
   "cell_type":"markdown",
   "source":[
    "## Ranking"
   ],
   "attachments":{
    
   },
   "metadata":{
    "datalore":{
     "type":"MD",
     "hide_input_from_viewers":false,
     "hide_output_from_viewers":false,
     "node_id":"Qdcq2hwqcydYt7DC5c8SQi"
    }
   }
  },
  {
   "cell_type":"code",
   "source":[
    "# top-10 players in number of wins\n",
    "out_weights = adjacency.dot(np.ones(len(names)))\n",
    "print(names[top_k(out_weights, 10)])"
   ],
   "execution_count":229,
   "outputs":[
    {
     "name":"stdout",
     "text":[
      "['Federer R.' 'Nadal R.' 'Djokovic N.' 'Ferrer D.' 'Murray A.'\n",
      " 'Roddick A.' 'Berdych T.' 'Robredo T.' 'Davydenko N.' 'Hewitt L.']\n"
     ],
     "output_type":"stream"
    }
   ],
   "metadata":{
    "datalore":{
     "type":"CODE",
     "hide_input_from_viewers":false,
     "hide_output_from_viewers":false,
     "node_id":"M0kf9fbGlS0ZPGv6wmaSMo"
    }
   }
  },
  {
   "cell_type":"code",
   "source":[
    "# top-10 players in terms of PageRank\n",
    "pagerank = PageRank()\n",
    "adjacency_transpose = sparse.csr_matrix(adjacency.T)\n",
    "scores = pagerank.fit_transform(adjacency_transpose)\n",
    "print(names[top_k(scores, 10)])"
   ],
   "execution_count":230,
   "outputs":[
    {
     "name":"stdout",
     "text":[
      "['Federer R.' 'Nadal R.' 'Djokovic N.' 'Murray A.' 'Ferrer D.'\n",
      " 'Roddick A.' 'Berdych T.' 'Hewitt L.' 'Davydenko N.' 'Wawrinka S.']\n"
     ],
     "output_type":"stream"
    }
   ],
   "metadata":{
    "datalore":{
     "type":"CODE",
     "hide_input_from_viewers":false,
     "hide_output_from_viewers":false,
     "node_id":"uikTkTi1GEefXLq3e0dPil"
    }
   }
  },
  {
   "cell_type":"code",
   "source":[
    "index = top_k(scores, 10)\n",
    "sub_adjacency = adjacency[index][:, index]"
   ],
   "execution_count":231,
   "outputs":[
    
   ],
   "metadata":{
    "datalore":{
     "type":"CODE",
     "hide_input_from_viewers":false,
     "hide_output_from_viewers":false,
     "node_id":"9AYy6bdSXo9wHLqZP2eZ4K"
    }
   }
  },
  {
   "cell_type":"code",
   "source":[
    "SVG(svg_digraph(sub_adjacency, names=names[index], scores=scores[index]))"
   ],
   "execution_count":232,
   "outputs":[
    {
     "data":{
      "image\/svg+xml":[
       "<svg xmlns=\"http:\/\/www.w3.org\/2000\/svg\" width=\"548.0\" height=\"340\">\n",
       "<defs><marker id=\"arrow-gray\" markerWidth=\"10\" markerHeight=\"10\" refX=\"9\" refY=\"3\" orient=\"auto\">\n",
       "<path d=\"M0,0 L0,6 L9,3 z\" fill=\"gray\"\/><\/marker><\/defs>\n",
       "<path stroke-width=\"2.84\" stroke=\"gray\" d=\"M 255 146 154 25\" marker-end=\"url(#arrow-gray)\"\/>\n",
       "<path stroke-width=\"0.86\" stroke=\"gray\" d=\"M 150 20 26 68\" marker-end=\"url(#arrow-gray)\"\/>\n",
       "<path stroke-width=\"1.04\" stroke=\"gray\" d=\"M 150 20 328 48\" marker-end=\"url(#arrow-gray)\"\/>\n",
       "<path stroke-width=\"1.04\" stroke=\"gray\" d=\"M 150 20 169 90\" marker-end=\"url(#arrow-gray)\"\/>\n",
       "<path stroke-width=\"1.4\" stroke=\"gray\" d=\"M 150 20 48 190\" marker-end=\"url(#arrow-gray)\"\/>\n",
       "<path stroke-width=\"0.86\" stroke=\"gray\" d=\"M 150 20 414 169\" marker-end=\"url(#arrow-gray)\"\/>\n",
       "<path stroke-width=\"1.58\" stroke=\"gray\" d=\"M 150 20 193 230\" marker-end=\"url(#arrow-gray)\"\/>\n",
       "<path stroke-width=\"1.22\" stroke=\"gray\" d=\"M 150 20 251 141\" marker-end=\"url(#arrow-gray)\"\/>\n",
       "<path stroke-width=\"0.6799999999999999\" stroke=\"gray\" d=\"M 150 20 119 158\" marker-end=\"url(#arrow-gray)\"\/>\n",
       "<path stroke-width=\"0.86\" stroke=\"gray\" d=\"M 150 20 226 314\" marker-end=\"url(#arrow-gray)\"\/>\n",
       "<path stroke-width=\"0.86\" stroke=\"gray\" d=\"M 334 49 176 95\" marker-end=\"url(#arrow-gray)\"\/>\n",
       "<path stroke-width=\"0.86\" stroke=\"gray\" d=\"M 334 49 51 193\" marker-end=\"url(#arrow-gray)\"\/>\n",
       "<path stroke-width=\"1.58\" stroke=\"gray\" d=\"M 334 49 417 167\" marker-end=\"url(#arrow-gray)\"\/>\n",
       "<path stroke-width=\"1.04\" stroke=\"gray\" d=\"M 334 49 198 231\" marker-end=\"url(#arrow-gray)\"\/>\n",
       "<path stroke-width=\"0.86\" stroke=\"gray\" d=\"M 334 49 259 141\" marker-end=\"url(#arrow-gray)\"\/>\n",
       "<path stroke-width=\"0.86\" stroke=\"gray\" d=\"M 334 49 124 161\" marker-end=\"url(#arrow-gray)\"\/>\n",
       "<path stroke-width=\"1.04\" stroke=\"gray\" d=\"M 334 49 229 314\" marker-end=\"url(#arrow-gray)\"\/>\n",
       "<path stroke-width=\"1.04\" stroke=\"gray\" d=\"M 334 49 156 21\" marker-end=\"url(#arrow-gray)\"\/>\n",
       "<path stroke-width=\"1.04\" stroke=\"gray\" d=\"M 420 172 232 316\" marker-end=\"url(#arrow-gray)\"\/>\n",
       "<path stroke-width=\"1.4\" stroke=\"gray\" d=\"M 194 236 25 74\" marker-end=\"url(#arrow-gray)\"\/>\n",
       "<path stroke-width=\"0.5\" stroke=\"gray\" d=\"M 420 172 124 164\" marker-end=\"url(#arrow-gray)\"\/>\n",
       "<path stroke-width=\"0.5\" stroke=\"gray\" d=\"M 420 172 200 235\" marker-end=\"url(#arrow-gray)\"\/>\n",
       "<path stroke-width=\"1.4\" stroke=\"gray\" d=\"M 20 70 44 190\" marker-end=\"url(#arrow-gray)\"\/>\n",
       "<path stroke-width=\"0.5\" stroke=\"gray\" d=\"M 20 70 414 171\" marker-end=\"url(#arrow-gray)\"\/>\n",
       "<path stroke-width=\"1.58\" stroke=\"gray\" d=\"M 20 70 189 232\" marker-end=\"url(#arrow-gray)\"\/>\n",
       "<path stroke-width=\"0.86\" stroke=\"gray\" d=\"M 20 70 249 144\" marker-end=\"url(#arrow-gray)\"\/>\n",
       "<path stroke-width=\"1.04\" stroke=\"gray\" d=\"M 20 70 113 160\" marker-end=\"url(#arrow-gray)\"\/>\n",
       "<path stroke-width=\"0.5\" stroke=\"gray\" d=\"M 20 70 223 315\" marker-end=\"url(#arrow-gray)\"\/>\n",
       "<path stroke-width=\"2.3\" stroke=\"gray\" d=\"M 20 70 144 22\" marker-end=\"url(#arrow-gray)\"\/>\n",
       "<path stroke-width=\"0.6799999999999999\" stroke=\"gray\" d=\"M 227 320 24 75\" marker-end=\"url(#arrow-gray)\"\/>\n",
       "<path stroke-width=\"0.5\" stroke=\"gray\" d=\"M 227 320 332 55\" marker-end=\"url(#arrow-gray)\"\/>\n",
       "<path stroke-width=\"1.04\" stroke=\"gray\" d=\"M 227 320 171 102\" marker-end=\"url(#arrow-gray)\"\/>\n",
       "<path stroke-width=\"1.04\" stroke=\"gray\" d=\"M 227 320 50 199\" marker-end=\"url(#arrow-gray)\"\/>\n",
       "<path stroke-width=\"1.22\" stroke=\"gray\" d=\"M 227 320 196 242\" marker-end=\"url(#arrow-gray)\"\/>\n",
       "<path stroke-width=\"0.6799999999999999\" stroke=\"gray\" d=\"M 227 320 254 152\" marker-end=\"url(#arrow-gray)\"\/>\n",
       "<path stroke-width=\"1.76\" stroke=\"gray\" d=\"M 227 320 151 26\" marker-end=\"url(#arrow-gray)\"\/>\n",
       "<path stroke-width=\"0.6799999999999999\" stroke=\"gray\" d=\"M 420 172 26 71\" marker-end=\"url(#arrow-gray)\"\/>\n",
       "<path stroke-width=\"1.22\" stroke=\"gray\" d=\"M 420 172 337 54\" marker-end=\"url(#arrow-gray)\"\/>\n",
       "<path stroke-width=\"0.86\" stroke=\"gray\" d=\"M 420 172 176 98\" marker-end=\"url(#arrow-gray)\"\/>\n",
       "<path stroke-width=\"1.22\" stroke=\"gray\" d=\"M 420 172 261 147\" marker-end=\"url(#arrow-gray)\"\/>\n",
       "<path stroke-width=\"1.22\" stroke=\"gray\" d=\"M 194 236 330 54\" marker-end=\"url(#arrow-gray)\"\/>\n",
       "<path stroke-width=\"1.4\" stroke=\"gray\" d=\"M 194 236 171 102\" marker-end=\"url(#arrow-gray)\"\/>\n",
       "<path stroke-width=\"1.4\" stroke=\"gray\" d=\"M 194 236 51 197\" marker-end=\"url(#arrow-gray)\"\/>\n",
       "<path stroke-width=\"3.02\" stroke=\"gray\" d=\"M 170 96 26 71\" marker-end=\"url(#arrow-gray)\"\/>\n",
       "<path stroke-width=\"1.22\" stroke=\"gray\" d=\"M 170 96 328 50\" marker-end=\"url(#arrow-gray)\"\/>\n",
       "<path stroke-width=\"3.38\" stroke=\"gray\" d=\"M 170 96 50 192\" marker-end=\"url(#arrow-gray)\"\/>\n",
       "<path stroke-width=\"1.4\" stroke=\"gray\" d=\"M 170 96 414 170\" marker-end=\"url(#arrow-gray)\"\/>\n",
       "<path stroke-width=\"4.46\" stroke=\"gray\" d=\"M 170 96 193 230\" marker-end=\"url(#arrow-gray)\"\/>\n",
       "<path stroke-width=\"4.46\" stroke=\"gray\" d=\"M 170 96 249 143\" marker-end=\"url(#arrow-gray)\"\/>\n",
       "<path stroke-width=\"3.74\" stroke=\"gray\" d=\"M 170 96 122 159\" marker-end=\"url(#arrow-gray)\"\/>\n",
       "<path stroke-width=\"1.22\" stroke=\"gray\" d=\"M 170 96 226 314\" marker-end=\"url(#arrow-gray)\"\/>\n",
       "<path stroke-width=\"3.38\" stroke=\"gray\" d=\"M 170 96 151 26\" marker-end=\"url(#arrow-gray)\"\/>\n",
       "<path stroke-width=\"3.56\" stroke=\"gray\" d=\"M 255 146 26 72\" marker-end=\"url(#arrow-gray)\"\/>\n",
       "<path stroke-width=\"4.1\" stroke=\"gray\" d=\"M 255 146 330 54\" marker-end=\"url(#arrow-gray)\"\/>\n",
       "<path stroke-width=\"2.3\" stroke=\"gray\" d=\"M 255 146 176 99\" marker-end=\"url(#arrow-gray)\"\/>\n",
       "<path stroke-width=\"2.84\" stroke=\"gray\" d=\"M 255 146 51 195\" marker-end=\"url(#arrow-gray)\"\/>\n",
       "<path stroke-width=\"3.2\" stroke=\"gray\" d=\"M 255 146 414 171\" marker-end=\"url(#arrow-gray)\"\/>\n",
       "<path stroke-width=\"3.2\" stroke=\"gray\" d=\"M 255 146 197 231\" marker-end=\"url(#arrow-gray)\"\/>\n",
       "<path stroke-width=\"3.92\" stroke=\"gray\" d=\"M 255 146 124 164\" marker-end=\"url(#arrow-gray)\"\/>\n",
       "<path stroke-width=\"3.38\" stroke=\"gray\" d=\"M 255 146 228 314\" marker-end=\"url(#arrow-gray)\"\/>\n",
       "<path stroke-width=\"4.1\" stroke=\"gray\" d=\"M 118 164 149 26\" marker-end=\"url(#arrow-gray)\"\/>\n",
       "<path stroke-width=\"1.22\" stroke=\"gray\" d=\"M 118 164 223 315\" marker-end=\"url(#arrow-gray)\"\/>\n",
       "<path stroke-width=\"4.279999999999999\" stroke=\"gray\" d=\"M 118 164 249 146\" marker-end=\"url(#arrow-gray)\"\/>\n",
       "<path stroke-width=\"3.2\" stroke=\"gray\" d=\"M 118 164 189 232\" marker-end=\"url(#arrow-gray)\"\/>\n",
       "<path stroke-width=\"0.86\" stroke=\"gray\" d=\"M 194 236 414 173\" marker-end=\"url(#arrow-gray)\"\/>\n",
       "<path stroke-width=\"1.04\" stroke=\"gray\" d=\"M 194 236 123 168\" marker-end=\"url(#arrow-gray)\"\/>\n",
       "<path stroke-width=\"0.5\" stroke=\"gray\" d=\"M 194 236 225 314\" marker-end=\"url(#arrow-gray)\"\/>\n",
       "<path stroke-width=\"1.4\" stroke=\"gray\" d=\"M 194 236 151 26\" marker-end=\"url(#arrow-gray)\"\/>\n",
       "<path stroke-width=\"1.94\" stroke=\"gray\" d=\"M 45 196 21 76\" marker-end=\"url(#arrow-gray)\"\/>\n",
       "<path stroke-width=\"1.58\" stroke=\"gray\" d=\"M 45 196 328 52\" marker-end=\"url(#arrow-gray)\"\/>\n",
       "<path stroke-width=\"1.4\" stroke=\"gray\" d=\"M 45 196 165 100\" marker-end=\"url(#arrow-gray)\"\/>\n",
       "<path stroke-width=\"0.5\" stroke=\"gray\" d=\"M 45 196 414 172\" marker-end=\"url(#arrow-gray)\"\/>\n",
       "<path stroke-width=\"0.86\" stroke=\"gray\" d=\"M 20 70 164 95\" marker-end=\"url(#arrow-gray)\"\/>\n",
       "<path stroke-width=\"2.84\" stroke=\"gray\" d=\"M 45 196 188 235\" marker-end=\"url(#arrow-gray)\"\/>\n",
       "<path stroke-width=\"1.94\" stroke=\"gray\" d=\"M 45 196 112 166\" marker-end=\"url(#arrow-gray)\"\/>\n",
       "<path stroke-width=\"1.4\" stroke=\"gray\" d=\"M 45 196 222 317\" marker-end=\"url(#arrow-gray)\"\/>\n",
       "<path stroke-width=\"2.12\" stroke=\"gray\" d=\"M 45 196 147 26\" marker-end=\"url(#arrow-gray)\"\/>\n",
       "<path stroke-width=\"3.38\" stroke=\"gray\" d=\"M 118 164 25 74\" marker-end=\"url(#arrow-gray)\"\/>\n",
       "<path stroke-width=\"1.04\" stroke=\"gray\" d=\"M 118 164 328 52\" marker-end=\"url(#arrow-gray)\"\/>\n",
       "<path stroke-width=\"5.0\" stroke=\"gray\" d=\"M 118 164 166 101\" marker-end=\"url(#arrow-gray)\"\/>\n",
       "<path stroke-width=\"4.64\" stroke=\"gray\" d=\"M 118 164 51 194\" marker-end=\"url(#arrow-gray)\"\/>\n",
       "<path stroke-width=\"1.22\" stroke=\"gray\" d=\"M 118 164 414 172\" marker-end=\"url(#arrow-gray)\"\/>\n",
       "<path stroke-width=\"2.12\" stroke=\"gray\" d=\"M 45 196 249 147\" marker-end=\"url(#arrow-gray)\"\/>\n",
       "<path stroke-width=\"0.5\" stroke=\"gray\" d=\"M 20 70 328 49\" marker-end=\"url(#arrow-gray)\"\/>\n",
       "<circle cx=\"255\" cy=\"146\" r=\"7.0\" style=\"fill:rgb(179, 3, 38);stroke:black;stroke-width:1.0\"\/>\n",
       "<circle cx=\"170\" cy=\"96\" r=\"7.0\" style=\"fill:rgb(246, 166, 135);stroke:black;stroke-width:1.0\"\/>\n",
       "<circle cx=\"118\" cy=\"164\" r=\"7.0\" style=\"fill:rgb(247, 173, 143);stroke:black;stroke-width:1.0\"\/>\n",
       "<circle cx=\"45\" cy=\"196\" r=\"7.0\" style=\"fill:rgb(170, 198, 253);stroke:black;stroke-width:1.0\"\/>\n",
       "<circle cx=\"194\" cy=\"236\" r=\"7.0\" style=\"fill:rgb(138, 173, 253);stroke:black;stroke-width:1.0\"\/>\n",
       "<circle cx=\"334\" cy=\"49\" r=\"7.0\" style=\"fill:rgb(109, 144, 241);stroke:black;stroke-width:1.0\"\/>\n",
       "<circle cx=\"150\" cy=\"20\" r=\"7.0\" style=\"fill:rgb(92, 123, 229);stroke:black;stroke-width:1.0\"\/>\n",
       "<circle cx=\"420\" cy=\"172\" r=\"7.0\" style=\"fill:rgb(64, 84, 199);stroke:black;stroke-width:1.0\"\/>\n",
       "<circle cx=\"227\" cy=\"320\" r=\"7.0\" style=\"fill:rgb(60, 79, 195);stroke:black;stroke-width:1.0\"\/>\n",
       "<circle cx=\"20\" cy=\"70\" r=\"7.0\" style=\"fill:rgb(58, 76, 192);stroke:black;stroke-width:1.0\"\/>\n",
       "<text text-anchor=\"start\" x=\"272\" y=\"146\" font-size=\"12\">Federer R.<\/text><text text-anchor=\"start\" x=\"187\" y=\"96\" font-size=\"12\">Nadal R.<\/text><text text-anchor=\"start\" x=\"135\" y=\"164\" font-size=\"12\">Djokovic N.<\/text><text text-anchor=\"start\" x=\"62\" y=\"196\" font-size=\"12\">Murray A.<\/text><text text-anchor=\"start\" x=\"211\" y=\"236\" font-size=\"12\">Ferrer D.<\/text><text text-anchor=\"start\" x=\"351\" y=\"49\" font-size=\"12\">Roddick A.<\/text><text text-anchor=\"start\" x=\"167\" y=\"20\" font-size=\"12\">Berdych T.<\/text><text text-anchor=\"start\" x=\"437\" y=\"172\" font-size=\"12\">Hewitt L.<\/text><text text-anchor=\"start\" x=\"244\" y=\"320\" font-size=\"12\">Davydenko N.<\/text><text text-anchor=\"start\" x=\"37\" y=\"70\" font-size=\"12\">Wawrinka S.<\/text><\/svg>"
      ]
     },
     "metadata":{
      
     },
     "output_type":"display_data"
    }
   ],
   "metadata":{
    "datalore":{
     "type":"CODE",
     "hide_input_from_viewers":false,
     "hide_output_from_viewers":false,
     "node_id":"iFMqtHDS1pTKtDvKe4zh4W"
    }
   }
  },
  {
   "cell_type":"markdown",
   "source":[
    "## Core decomposition"
   ],
   "attachments":{
    
   },
   "metadata":{
    "datalore":{
     "type":"MD",
     "hide_input_from_viewers":false,
     "hide_output_from_viewers":false,
     "node_id":"dBryO4lirjERUp01hh3va7"
    }
   }
  },
  {
   "cell_type":"code",
   "source":[
    "algo = CoreDecomposition()"
   ],
   "execution_count":233,
   "outputs":[
    
   ],
   "metadata":{
    "datalore":{
     "type":"CODE",
     "hide_input_from_viewers":false,
     "hide_output_from_viewers":false,
     "node_id":"82UMsvzGAMRFz3mRKz4YZD"
    }
   }
  },
  {
   "cell_type":"code",
   "source":[
    "adjacency_sym = directed2undirected(adjacency)"
   ],
   "execution_count":234,
   "outputs":[
    
   ],
   "metadata":{
    "datalore":{
     "type":"CODE",
     "hide_input_from_viewers":false,
     "hide_output_from_viewers":false,
     "node_id":"nmAscI3nT5pZLJA9w3BdVw"
    }
   }
  },
  {
   "cell_type":"code",
   "source":[
    "labels = algo.fit_transform(adjacency_sym)"
   ],
   "execution_count":235,
   "outputs":[
    
   ],
   "metadata":{
    "datalore":{
     "type":"CODE",
     "hide_input_from_viewers":false,
     "hide_output_from_viewers":false,
     "node_id":"AsfHox0eLWBsuMRwLkgJJd"
    }
   }
  },
  {
   "cell_type":"code",
   "source":[
    "print(names[labels == algo.core_value_])"
   ],
   "execution_count":236,
   "outputs":[
    {
     "name":"stdout",
     "text":[
      "['Acasuso J.' 'Almagro N.' 'Ancic M.' 'Anderson K.' 'Andreev I.'\n",
      " 'Andujar P.' 'Baghdatis M.' 'Beck K.' 'Becker B.' 'Bellucci T.'\n",
      " 'Benneteau J.' 'Berdych T.' 'Berlocq C.' 'Berrer M.' 'Bjorkman J.'\n",
      " 'Blake J.' 'Bolelli S.' 'Calleri A.' 'Canas G.' 'Chardy J.' 'Chela J.I.'\n",
      " 'Cilic M.' 'Clement A.' 'Coria G.' 'Cuevas P.' 'Darcis S.' 'Davydenko N.'\n",
      " 'Del Potro J.M.' 'Dent T.' 'Dimitrov G.' 'Djokovic N.' 'Dodig I.'\n",
      " 'Dolgopolov O.' 'Falla A.' 'Federer R.' 'Ferrer D.' 'Ferrero J.C.'\n",
      " 'Fish M.' 'Fognini F.' 'Gabashvili T.' 'Garcia-Lopez G.' 'Gasquet R.'\n",
      " 'Gaudio G.' 'Gicquel M.' 'Gimeno-Traver D.' 'Ginepri R.' 'Giraldo S.'\n",
      " 'Golubev A.' 'Gonzalez F.' 'Granollers M.' 'Grosjean S.' 'Gulbis E.'\n",
      " 'Haas T.' 'Haase R.' 'Hanescu V.' 'Harrison R.' 'Henman T.' 'Hernych J.'\n",
      " 'Hewitt L.' 'Horna L.' 'Hrbaty D.' 'Isner J.' 'Istomin D.' 'Johansson T.'\n",
      " 'Karlovic I.' 'Kiefer N.' 'Kohlschreiber P.' 'Korolev E.' 'Koubek S.'\n",
      " 'Kubot L.' 'Kunitsyn I.' 'Lapentti N.' 'Lee H.T.' 'Ljubicic I.'\n",
      " 'Llodra M.' 'Lopez F.' 'Lu Y.H.' 'Mahut N.' 'Malisse X.' 'Mannarino A.'\n",
      " 'Martin A.' 'Massu N.' 'Mathieu P.H.' 'Mayer F.' 'Mayer L.' 'Melzer J.'\n",
      " 'Mirnyi M.' 'Monaco J.' 'Monfils G.' 'Montanes A.' 'Moya C.' 'Muller G.'\n",
      " 'Murray A.' 'Nadal R.' 'Nalbandian D.' 'Nieminen J.' 'Nishikori K.'\n",
      " 'Novak J.' 'Paire B.' 'Pavel A.' 'Petzschner P.' 'Phau B.' 'Querrey S.'\n",
      " 'Ramirez-Hidalgo R.' 'Raonic M.' 'Robredo T.' 'Rochus C.' 'Rochus O.'\n",
      " 'Roddick A.' 'Roger-Vasselin E.' 'Rosol L.' 'Russell M.' 'Safin M.'\n",
      " 'Santoro F.' 'Schuettler R.' 'Sela D.' 'Seppi A.' 'Serra F.' 'Simon G.'\n",
      " 'Soderling R.' 'Spadea V.' 'Srichaphan P.' 'Stakhovsky S.' 'Starace P.'\n",
      " 'Stepanek R.' 'Tipsarevic J.' 'Tomic B.' 'Troicki V.' 'Tsonga J.W.'\n",
      " 'Tursunov D.' 'Verdasco F.' 'Vliegen K.' 'Volandri F.' 'Wawrinka S.'\n",
      " 'Young D.' 'Youzhny M.' 'Zverev M.']\n"
     ],
     "output_type":"stream"
    }
   ],
   "metadata":{
    "datalore":{
     "type":"CODE",
     "hide_input_from_viewers":false,
     "hide_output_from_viewers":false,
     "node_id":"aTOE9wH3ctSmUGJxMdgCTC"
    }
   }
  },
  {
   "cell_type":"markdown",
   "source":[
    "## Embedding"
   ],
   "attachments":{
    
   },
   "metadata":{
    "datalore":{
     "type":"MD",
     "hide_input_from_viewers":false,
     "hide_output_from_viewers":false,
     "node_id":"HACNrcoV5y3a76ORRVsHzL"
    }
   }
  },
  {
   "cell_type":"code",
   "source":[
    "spectral = Spectral(2, normalized=False)"
   ],
   "execution_count":237,
   "outputs":[
    
   ],
   "metadata":{
    "datalore":{
     "type":"CODE",
     "hide_input_from_viewers":false,
     "hide_output_from_viewers":false,
     "node_id":"4rPCI0MFd6Bw6PUQp9u4Nb"
    }
   }
  },
  {
   "cell_type":"code",
   "source":[
    "embedding = spectral.fit_transform(adjacency)"
   ],
   "execution_count":238,
   "outputs":[
    
   ],
   "metadata":{
    "datalore":{
     "type":"CODE",
     "hide_input_from_viewers":false,
     "hide_output_from_viewers":false,
     "node_id":"CIq6xJ7RctaNzYui3EWN7n"
    }
   }
  },
  {
   "cell_type":"code",
   "source":[
    "index = np.argwhere(labels == algo.core_value_).ravel()"
   ],
   "execution_count":239,
   "outputs":[
    
   ],
   "metadata":{
    "datalore":{
     "type":"CODE",
     "hide_input_from_viewers":false,
     "hide_output_from_viewers":false,
     "node_id":"WSAbUUCWApYL45vjdw2LTc"
    }
   }
  },
  {
   "cell_type":"code",
   "source":[
    "SVG(svg_graph(position=embedding[index], names=names[index], scores=scores[index], node_size=5, width=400, height=1000))"
   ],
   "execution_count":240,
   "outputs":[
    {
     "data":{
      "image\/svg+xml":[
       "<svg xmlns=\"http:\/\/www.w3.org\/2000\/svg\" width=\"581.637838376397\" height=\"1040\">\n",
       "<circle cx=\"291\" cy=\"245\" r=\"5.0\" style=\"fill:rgb(82, 110, 220);stroke:black;stroke-width:1.0\"\/>\n",
       "<circle cx=\"146\" cy=\"336\" r=\"5.0\" style=\"fill:rgb(123, 158, 248);stroke:black;stroke-width:1.0\"\/>\n",
       "<circle cx=\"296\" cy=\"140\" r=\"5.0\" style=\"fill:rgb(92, 123, 229);stroke:black;stroke-width:1.0\"\/>\n",
       "<circle cx=\"50\" cy=\"475\" r=\"5.0\" style=\"fill:rgb(92, 123, 229);stroke:black;stroke-width:1.0\"\/>\n",
       "<circle cx=\"217\" cy=\"225\" r=\"5.0\" style=\"fill:rgb(92, 123, 229);stroke:black;stroke-width:1.0\"\/>\n",
       "<circle cx=\"71\" cy=\"593\" r=\"5.0\" style=\"fill:rgb(66, 88, 202);stroke:black;stroke-width:1.0\"\/>\n",
       "<circle cx=\"149\" cy=\"278\" r=\"5.0\" style=\"fill:rgb(112, 147, 243);stroke:black;stroke-width:1.0\"\/>\n",
       "<circle cx=\"314\" cy=\"217\" r=\"5.0\" style=\"fill:rgb(58, 76, 192);stroke:black;stroke-width:1.0\"\/>\n",
       "<circle cx=\"134\" cy=\"397\" r=\"5.0\" style=\"fill:rgb(72, 96, 209);stroke:black;stroke-width:1.0\"\/>\n",
       "<circle cx=\"85\" cy=\"513\" r=\"5.0\" style=\"fill:rgb(72, 96, 209);stroke:black;stroke-width:1.0\"\/>\n",
       "<circle cx=\"149\" cy=\"234\" r=\"5.0\" style=\"fill:rgb(99, 131, 234);stroke:black;stroke-width:1.0\"\/>\n",
       "<circle cx=\"131\" cy=\"229\" r=\"5.0\" style=\"fill:rgb(189, 210, 246);stroke:black;stroke-width:1.0\"\/>\n",
       "<circle cx=\"80\" cy=\"655\" r=\"5.0\" style=\"fill:rgb(66, 88, 202);stroke:black;stroke-width:1.0\"\/>\n",
       "<circle cx=\"142\" cy=\"625\" r=\"5.0\" style=\"fill:rgb(64, 84, 199);stroke:black;stroke-width:1.0\"\/>\n",
       "<circle cx=\"406\" cy=\"162\" r=\"5.0\" style=\"fill:rgb(72, 96, 209);stroke:black;stroke-width:1.0\"\/>\n",
       "<circle cx=\"276\" cy=\"185\" r=\"5.0\" style=\"fill:rgb(127, 162, 250);stroke:black;stroke-width:1.0\"\/>\n",
       "<circle cx=\"102\" cy=\"466\" r=\"5.0\" style=\"fill:rgb(66, 88, 202);stroke:black;stroke-width:1.0\"\/>\n",
       "<circle cx=\"357\" cy=\"145\" r=\"5.0\" style=\"fill:rgb(88, 118, 226);stroke:black;stroke-width:1.0\"\/>\n",
       "<circle cx=\"366\" cy=\"170\" r=\"5.0\" style=\"fill:rgb(96, 128, 232);stroke:black;stroke-width:1.0\"\/>\n",
       "<circle cx=\"78\" cy=\"554\" r=\"5.0\" style=\"fill:rgb(88, 118, 226);stroke:black;stroke-width:1.0\"\/>\n",
       "<circle cx=\"296\" cy=\"253\" r=\"5.0\" style=\"fill:rgb(112, 147, 243);stroke:black;stroke-width:1.0\"\/>\n",
       "<circle cx=\"84\" cy=\"327\" r=\"5.0\" style=\"fill:rgb(130, 165, 251);stroke:black;stroke-width:1.0\"\/>\n",
       "<circle cx=\"321\" cy=\"120\" r=\"5.0\" style=\"fill:rgb(96, 128, 232);stroke:black;stroke-width:1.0\"\/>\n",
       "<circle cx=\"384\" cy=\"84\" r=\"5.0\" style=\"fill:rgb(99, 131, 234);stroke:black;stroke-width:1.0\"\/>\n",
       "<circle cx=\"73\" cy=\"640\" r=\"5.0\" style=\"fill:rgb(72, 96, 209);stroke:black;stroke-width:1.0\"\/>\n",
       "<circle cx=\"150\" cy=\"288\" r=\"5.0\" style=\"fill:rgb(58, 76, 192);stroke:black;stroke-width:1.0\"\/>\n",
       "<circle cx=\"240\" cy=\"151\" r=\"5.0\" style=\"fill:rgb(166, 195, 253);stroke:black;stroke-width:1.0\"\/>\n",
       "<circle cx=\"134\" cy=\"149\" r=\"5.0\" style=\"fill:rgb(138, 173, 253);stroke:black;stroke-width:1.0\"\/>\n",
       "<circle cx=\"374\" cy=\"208\" r=\"5.0\" style=\"fill:rgb(76, 102, 214);stroke:black;stroke-width:1.0\"\/>\n",
       "<circle cx=\"42\" cy=\"435\" r=\"5.0\" style=\"fill:rgb(88, 118, 226);stroke:black;stroke-width:1.0\"\/>\n",
       "<circle cx=\"125\" cy=\"84\" r=\"5.0\" style=\"fill:rgb(239, 137, 108);stroke:black;stroke-width:1.0\"\/>\n",
       "<circle cx=\"62\" cy=\"587\" r=\"5.0\" style=\"fill:rgb(70, 93, 207);stroke:black;stroke-width:1.0\"\/>\n",
       "<circle cx=\"66\" cy=\"439\" r=\"5.0\" style=\"fill:rgb(82, 110, 220);stroke:black;stroke-width:1.0\"\/>\n",
       "<circle cx=\"139\" cy=\"430\" r=\"5.0\" style=\"fill:rgb(60, 79, 195);stroke:black;stroke-width:1.0\"\/>\n",
       "<circle cx=\"226\" cy=\"20\" r=\"5.0\" style=\"fill:rgb(179, 3, 38);stroke:black;stroke-width:1.0\"\/>\n",
       "<circle cx=\"159\" cy=\"218\" r=\"5.0\" style=\"fill:rgb(217, 220, 224);stroke:black;stroke-width:1.0\"\/>\n",
       "<circle cx=\"336\" cy=\"111\" r=\"5.0\" style=\"fill:rgb(145, 179, 254);stroke:black;stroke-width:1.0\"\/>\n",
       "<circle cx=\"229\" cy=\"193\" r=\"5.0\" style=\"fill:rgb(112, 147, 243);stroke:black;stroke-width:1.0\"\/>\n",
       "<circle cx=\"67\" cy=\"603\" r=\"5.0\" style=\"fill:rgb(96, 128, 232);stroke:black;stroke-width:1.0\"\/>\n",
       "<circle cx=\"137\" cy=\"609\" r=\"5.0\" style=\"fill:rgb(66, 88, 202);stroke:black;stroke-width:1.0\"\/>\n",
       "<circle cx=\"126\" cy=\"552\" r=\"5.0\" style=\"fill:rgb(99, 131, 234);stroke:black;stroke-width:1.0\"\/>\n",
       "<circle cx=\"137\" cy=\"286\" r=\"5.0\" style=\"fill:rgb(152, 185, 254);stroke:black;stroke-width:1.0\"\/>\n",
       "<circle cx=\"376\" cy=\"94\" r=\"5.0\" style=\"fill:rgb(99, 131, 234);stroke:black;stroke-width:1.0\"\/>\n",
       "<circle cx=\"206\" cy=\"387\" r=\"5.0\" style=\"fill:rgb(64, 84, 199);stroke:black;stroke-width:1.0\"\/>\n",
       "<circle cx=\"73\" cy=\"630\" r=\"5.0\" style=\"fill:rgb(60, 79, 195);stroke:black;stroke-width:1.0\"\/>\n",
       "<circle cx=\"309\" cy=\"267\" r=\"5.0\" style=\"fill:rgb(86, 115, 224);stroke:black;stroke-width:1.0\"\/>\n",
       "<circle cx=\"72\" cy=\"630\" r=\"5.0\" style=\"fill:rgb(70, 93, 207);stroke:black;stroke-width:1.0\"\/>\n",
       "<circle cx=\"129\" cy=\"1020\" r=\"5.0\" style=\"fill:rgb(58, 76, 192);stroke:black;stroke-width:1.0\"\/>\n",
       "<circle cx=\"283\" cy=\"92\" r=\"5.0\" style=\"fill:rgb(130, 165, 251);stroke:black;stroke-width:1.0\"\/>\n",
       "<circle cx=\"82\" cy=\"519\" r=\"5.0\" style=\"fill:rgb(80, 107, 218);stroke:black;stroke-width:1.0\"\/>\n",
       "<circle cx=\"389\" cy=\"75\" r=\"5.0\" style=\"fill:rgb(99, 131, 234);stroke:black;stroke-width:1.0\"\/>\n",
       "<circle cx=\"119\" cy=\"306\" r=\"5.0\" style=\"fill:rgb(88, 118, 226);stroke:black;stroke-width:1.0\"\/>\n",
       "<circle cx=\"272\" cy=\"119\" r=\"5.0\" style=\"fill:rgb(148, 181, 254);stroke:black;stroke-width:1.0\"\/>\n",
       "<circle cx=\"81\" cy=\"694\" r=\"5.0\" style=\"fill:rgb(76, 102, 214);stroke:black;stroke-width:1.0\"\/>\n",
       "<circle cx=\"199\" cy=\"440\" r=\"5.0\" style=\"fill:rgb(82, 110, 220);stroke:black;stroke-width:1.0\"\/>\n",
       "<circle cx=\"66\" cy=\"529\" r=\"5.0\" style=\"fill:rgb(60, 79, 195);stroke:black;stroke-width:1.0\"\/>\n",
       "<circle cx=\"420\" cy=\"86\" r=\"5.0\" style=\"fill:rgb(105, 139, 239);stroke:black;stroke-width:1.0\"\/>\n",
       "<circle cx=\"256\" cy=\"281\" r=\"5.0\" style=\"fill:rgb(60, 79, 195);stroke:black;stroke-width:1.0\"\/>\n",
       "<circle cx=\"304\" cy=\"116\" r=\"5.0\" style=\"fill:rgb(170, 198, 253);stroke:black;stroke-width:1.0\"\/>\n",
       "<circle cx=\"331\" cy=\"341\" r=\"5.0\" style=\"fill:rgb(72, 96, 209);stroke:black;stroke-width:1.0\"\/>\n",
       "<circle cx=\"390\" cy=\"380\" r=\"5.0\" style=\"fill:rgb(92, 123, 229);stroke:black;stroke-width:1.0\"\/>\n",
       "<circle cx=\"76\" cy=\"410\" r=\"5.0\" style=\"fill:rgb(116, 151, 245);stroke:black;stroke-width:1.0\"\/>\n",
       "<circle cx=\"86\" cy=\"472\" r=\"5.0\" style=\"fill:rgb(76, 102, 214);stroke:black;stroke-width:1.0\"\/>\n",
       "<circle cx=\"391\" cy=\"122\" r=\"5.0\" style=\"fill:rgb(82, 110, 220);stroke:black;stroke-width:1.0\"\/>\n",
       "<circle cx=\"149\" cy=\"307\" r=\"5.0\" style=\"fill:rgb(120, 155, 247);stroke:black;stroke-width:1.0\"\/>\n",
       "<circle cx=\"342\" cy=\"89\" r=\"5.0\" style=\"fill:rgb(92, 123, 229);stroke:black;stroke-width:1.0\"\/>\n",
       "<circle cx=\"121\" cy=\"370\" r=\"5.0\" style=\"fill:rgb(123, 158, 248);stroke:black;stroke-width:1.0\"\/>\n",
       "<circle cx=\"197\" cy=\"225\" r=\"5.0\" style=\"fill:rgb(58, 76, 192);stroke:black;stroke-width:1.0\"\/>\n",
       "<circle cx=\"356\" cy=\"272\" r=\"5.0\" style=\"fill:rgb(76, 102, 214);stroke:black;stroke-width:1.0\"\/>\n",
       "<circle cx=\"104\" cy=\"733\" r=\"5.0\" style=\"fill:rgb(60, 79, 195);stroke:black;stroke-width:1.0\"\/>\n",
       "<circle cx=\"198\" cy=\"694\" r=\"5.0\" style=\"fill:rgb(60, 79, 195);stroke:black;stroke-width:1.0\"\/>\n",
       "<circle cx=\"369\" cy=\"323\" r=\"5.0\" style=\"fill:rgb(80, 107, 218);stroke:black;stroke-width:1.0\"\/>\n",
       "<circle cx=\"369\" cy=\"195\" r=\"5.0\" style=\"fill:rgb(66, 88, 202);stroke:black;stroke-width:1.0\"\/>\n",
       "<circle cx=\"287\" cy=\"114\" r=\"5.0\" style=\"fill:rgb(152, 185, 254);stroke:black;stroke-width:1.0\"\/>\n",
       "<circle cx=\"211\" cy=\"255\" r=\"5.0\" style=\"fill:rgb(82, 110, 220);stroke:black;stroke-width:1.0\"\/>\n",
       "<circle cx=\"177\" cy=\"327\" r=\"5.0\" style=\"fill:rgb(145, 179, 254);stroke:black;stroke-width:1.0\"\/>\n",
       "<circle cx=\"105\" cy=\"757\" r=\"5.0\" style=\"fill:rgb(72, 96, 209);stroke:black;stroke-width:1.0\"\/>\n",
       "<circle cx=\"127\" cy=\"516\" r=\"5.0\" style=\"fill:rgb(80, 107, 218);stroke:black;stroke-width:1.0\"\/>\n",
       "<circle cx=\"279\" cy=\"182\" r=\"5.0\" style=\"fill:rgb(99, 131, 234);stroke:black;stroke-width:1.0\"\/>\n",
       "<circle cx=\"20\" cy=\"812\" r=\"5.0\" style=\"fill:rgb(64, 84, 199);stroke:black;stroke-width:1.0\"\/>\n",
       "<circle cx=\"363\" cy=\"247\" r=\"5.0\" style=\"fill:rgb(80, 107, 218);stroke:black;stroke-width:1.0\"\/>\n",
       "<circle cx=\"372\" cy=\"228\" r=\"5.0\" style=\"fill:rgb(86, 115, 224);stroke:black;stroke-width:1.0\"\/>\n",
       "<circle cx=\"216\" cy=\"282\" r=\"5.0\" style=\"fill:rgb(103, 136, 237);stroke:black;stroke-width:1.0\"\/>\n",
       "<circle cx=\"168\" cy=\"303\" r=\"5.0\" style=\"fill:rgb(88, 118, 226);stroke:black;stroke-width:1.0\"\/>\n",
       "<circle cx=\"58\" cy=\"568\" r=\"5.0\" style=\"fill:rgb(66, 88, 202);stroke:black;stroke-width:1.0\"\/>\n",
       "<circle cx=\"192\" cy=\"284\" r=\"5.0\" style=\"fill:rgb(116, 151, 245);stroke:black;stroke-width:1.0\"\/>\n",
       "<circle cx=\"393\" cy=\"122\" r=\"5.0\" style=\"fill:rgb(88, 118, 226);stroke:black;stroke-width:1.0\"\/>\n",
       "<circle cx=\"148\" cy=\"303\" r=\"5.0\" style=\"fill:rgb(109, 144, 241);stroke:black;stroke-width:1.0\"\/>\n",
       "<circle cx=\"124\" cy=\"261\" r=\"5.0\" style=\"fill:rgb(134, 169, 252);stroke:black;stroke-width:1.0\"\/>\n",
       "<circle cx=\"218\" cy=\"524\" r=\"5.0\" style=\"fill:rgb(96, 128, 232);stroke:black;stroke-width:1.0\"\/>\n",
       "<circle cx=\"355\" cy=\"111\" r=\"5.0\" style=\"fill:rgb(130, 165, 251);stroke:black;stroke-width:1.0\"\/>\n",
       "<circle cx=\"123\" cy=\"444\" r=\"5.0\" style=\"fill:rgb(76, 102, 214);stroke:black;stroke-width:1.0\"\/>\n",
       "<circle cx=\"127\" cy=\"139\" r=\"5.0\" style=\"fill:rgb(231, 214, 204);stroke:black;stroke-width:1.0\"\/>\n",
       "<circle cx=\"165\" cy=\"81\" r=\"5.0\" style=\"fill:rgb(236, 128, 100);stroke:black;stroke-width:1.0\"\/>\n",
       "<circle cx=\"270\" cy=\"116\" r=\"5.0\" style=\"fill:rgb(152, 185, 254);stroke:black;stroke-width:1.0\"\/>\n",
       "<circle cx=\"232\" cy=\"277\" r=\"5.0\" style=\"fill:rgb(120, 155, 247);stroke:black;stroke-width:1.0\"\/>\n",
       "<circle cx=\"61\" cy=\"321\" r=\"5.0\" style=\"fill:rgb(112, 147, 243);stroke:black;stroke-width:1.0\"\/>\n",
       "<circle cx=\"401\" cy=\"97\" r=\"5.0\" style=\"fill:rgb(88, 118, 226);stroke:black;stroke-width:1.0\"\/>\n",
       "<circle cx=\"47\" cy=\"564\" r=\"5.0\" style=\"fill:rgb(70, 93, 207);stroke:black;stroke-width:1.0\"\/>\n",
       "<circle cx=\"390\" cy=\"190\" r=\"5.0\" style=\"fill:rgb(76, 102, 214);stroke:black;stroke-width:1.0\"\/>\n",
       "<circle cx=\"123\" cy=\"497\" r=\"5.0\" style=\"fill:rgb(64, 84, 199);stroke:black;stroke-width:1.0\"\/>\n",
       "<circle cx=\"280\" cy=\"909\" r=\"5.0\" style=\"fill:rgb(64, 84, 199);stroke:black;stroke-width:1.0\"\/>\n",
       "<circle cx=\"111\" cy=\"347\" r=\"5.0\" style=\"fill:rgb(103, 136, 237);stroke:black;stroke-width:1.0\"\/>\n",
       "<circle cx=\"278\" cy=\"402\" r=\"5.0\" style=\"fill:rgb(58, 76, 192);stroke:black;stroke-width:1.0\"\/>\n",
       "<circle cx=\"66\" cy=\"288\" r=\"5.0\" style=\"fill:rgb(105, 139, 239);stroke:black;stroke-width:1.0\"\/>\n",
       "<circle cx=\"234\" cy=\"234\" r=\"5.0\" style=\"fill:rgb(163, 193, 254);stroke:black;stroke-width:1.0\"\/>\n",
       "<circle cx=\"391\" cy=\"299\" r=\"5.0\" style=\"fill:rgb(64, 84, 199);stroke:black;stroke-width:1.0\"\/>\n",
       "<circle cx=\"291\" cy=\"229\" r=\"5.0\" style=\"fill:rgb(92, 123, 229);stroke:black;stroke-width:1.0\"\/>\n",
       "<circle cx=\"294\" cy=\"63\" r=\"5.0\" style=\"fill:rgb(202, 216, 238);stroke:black;stroke-width:1.0\"\/>\n",
       "<circle cx=\"70\" cy=\"559\" r=\"5.0\" style=\"fill:rgb(58, 76, 192);stroke:black;stroke-width:1.0\"\/>\n",
       "<circle cx=\"32\" cy=\"658\" r=\"5.0\" style=\"fill:rgb(66, 88, 202);stroke:black;stroke-width:1.0\"\/>\n",
       "<circle cx=\"158\" cy=\"544\" r=\"5.0\" style=\"fill:rgb(60, 79, 195);stroke:black;stroke-width:1.0\"\/>\n",
       "<circle cx=\"345\" cy=\"102\" r=\"5.0\" style=\"fill:rgb(116, 151, 245);stroke:black;stroke-width:1.0\"\/>\n",
       "<circle cx=\"353\" cy=\"130\" r=\"5.0\" style=\"fill:rgb(88, 118, 226);stroke:black;stroke-width:1.0\"\/>\n",
       "<circle cx=\"357\" cy=\"156\" r=\"5.0\" style=\"fill:rgb(103, 136, 237);stroke:black;stroke-width:1.0\"\/>\n",
       "<circle cx=\"123\" cy=\"421\" r=\"5.0\" style=\"fill:rgb(60, 79, 195);stroke:black;stroke-width:1.0\"\/>\n",
       "<circle cx=\"132\" cy=\"316\" r=\"5.0\" style=\"fill:rgb(103, 136, 237);stroke:black;stroke-width:1.0\"\/>\n",
       "<circle cx=\"199\" cy=\"275\" r=\"5.0\" style=\"fill:rgb(66, 88, 202);stroke:black;stroke-width:1.0\"\/>\n",
       "<circle cx=\"121\" cy=\"314\" r=\"5.0\" style=\"fill:rgb(138, 173, 253);stroke:black;stroke-width:1.0\"\/>\n",
       "<circle cx=\"225\" cy=\"65\" r=\"5.0\" style=\"fill:rgb(120, 155, 247);stroke:black;stroke-width:1.0\"\/>\n",
       "<circle cx=\"344\" cy=\"265\" r=\"5.0\" style=\"fill:rgb(80, 107, 218);stroke:black;stroke-width:1.0\"\/>\n",
       "<circle cx=\"405\" cy=\"219\" r=\"5.0\" style=\"fill:rgb(88, 118, 226);stroke:black;stroke-width:1.0\"\/>\n",
       "<circle cx=\"86\" cy=\"818\" r=\"5.0\" style=\"fill:rgb(72, 96, 209);stroke:black;stroke-width:1.0\"\/>\n",
       "<circle cx=\"193\" cy=\"316\" r=\"5.0\" style=\"fill:rgb(70, 93, 207);stroke:black;stroke-width:1.0\"\/>\n",
       "<circle cx=\"226\" cy=\"224\" r=\"5.0\" style=\"fill:rgb(134, 169, 252);stroke:black;stroke-width:1.0\"\/>\n",
       "<circle cx=\"136\" cy=\"269\" r=\"5.0\" style=\"fill:rgb(96, 128, 232);stroke:black;stroke-width:1.0\"\/>\n",
       "<circle cx=\"40\" cy=\"577\" r=\"5.0\" style=\"fill:rgb(72, 96, 209);stroke:black;stroke-width:1.0\"\/>\n",
       "<circle cx=\"85\" cy=\"453\" r=\"5.0\" style=\"fill:rgb(92, 123, 229);stroke:black;stroke-width:1.0\"\/>\n",
       "<circle cx=\"105\" cy=\"257\" r=\"5.0\" style=\"fill:rgb(155, 187, 254);stroke:black;stroke-width:1.0\"\/>\n",
       "<circle cx=\"196\" cy=\"262\" r=\"5.0\" style=\"fill:rgb(88, 118, 226);stroke:black;stroke-width:1.0\"\/>\n",
       "<circle cx=\"161\" cy=\"293\" r=\"5.0\" style=\"fill:rgb(159, 190, 254);stroke:black;stroke-width:1.0\"\/>\n",
       "<circle cx=\"289\" cy=\"173\" r=\"5.0\" style=\"fill:rgb(60, 79, 195);stroke:black;stroke-width:1.0\"\/>\n",
       "<circle cx=\"273\" cy=\"326\" r=\"5.0\" style=\"fill:rgb(80, 107, 218);stroke:black;stroke-width:1.0\"\/>\n",
       "<circle cx=\"115\" cy=\"257\" r=\"5.0\" style=\"fill:rgb(166, 195, 253);stroke:black;stroke-width:1.0\"\/>\n",
       "<circle cx=\"53\" cy=\"757\" r=\"5.0\" style=\"fill:rgb(64, 84, 199);stroke:black;stroke-width:1.0\"\/>\n",
       "<circle cx=\"207\" cy=\"242\" r=\"5.0\" style=\"fill:rgb(155, 187, 254);stroke:black;stroke-width:1.0\"\/>\n",
       "<circle cx=\"107\" cy=\"504\" r=\"5.0\" style=\"fill:rgb(60, 79, 195);stroke:black;stroke-width:1.0\"\/>\n",
       "<text text-anchor=\"start\" x=\"299\" y=\"245\" font-size=\"12\">Acasuso J.<\/text><text text-anchor=\"start\" x=\"154\" y=\"336\" font-size=\"12\">Almagro N.<\/text><text text-anchor=\"start\" x=\"304\" y=\"140\" font-size=\"12\">Ancic M.<\/text><text text-anchor=\"start\" x=\"58\" y=\"475\" font-size=\"12\">Anderson K.<\/text><text text-anchor=\"start\" x=\"225\" y=\"225\" font-size=\"12\">Andreev I.<\/text><text text-anchor=\"start\" x=\"79\" y=\"593\" font-size=\"12\">Andujar P.<\/text><text text-anchor=\"start\" x=\"157\" y=\"278\" font-size=\"12\">Baghdatis M.<\/text><text text-anchor=\"start\" x=\"322\" y=\"217\" font-size=\"12\">Beck K.<\/text><text text-anchor=\"start\" x=\"142\" y=\"397\" font-size=\"12\">Becker B.<\/text><text text-anchor=\"start\" x=\"93\" y=\"513\" font-size=\"12\">Bellucci T.<\/text><text text-anchor=\"start\" x=\"157\" y=\"234\" font-size=\"12\">Benneteau J.<\/text><text text-anchor=\"start\" x=\"139\" y=\"229\" font-size=\"12\">Berdych T.<\/text><text text-anchor=\"start\" x=\"88\" y=\"655\" font-size=\"12\">Berlocq C.<\/text><text text-anchor=\"start\" x=\"150\" y=\"625\" font-size=\"12\">Berrer M.<\/text><text text-anchor=\"start\" x=\"414\" y=\"162\" font-size=\"12\">Bjorkman J.<\/text><text text-anchor=\"start\" x=\"284\" y=\"185\" font-size=\"12\">Blake J.<\/text><text text-anchor=\"start\" x=\"110\" y=\"466\" font-size=\"12\">Bolelli S.<\/text><text text-anchor=\"start\" x=\"365\" y=\"145\" font-size=\"12\">Calleri A.<\/text><text text-anchor=\"start\" x=\"374\" y=\"170\" font-size=\"12\">Canas G.<\/text><text text-anchor=\"start\" x=\"86\" y=\"554\" font-size=\"12\">Chardy J.<\/text><text text-anchor=\"start\" x=\"304\" y=\"253\" font-size=\"12\">Chela J.I.<\/text><text text-anchor=\"start\" x=\"92\" y=\"327\" font-size=\"12\">Cilic M.<\/text><text text-anchor=\"start\" x=\"329\" y=\"120\" font-size=\"12\">Clement A.<\/text><text text-anchor=\"start\" x=\"392\" y=\"84\" font-size=\"12\">Coria G.<\/text><text text-anchor=\"start\" x=\"81\" y=\"640\" font-size=\"12\">Cuevas P.<\/text><text text-anchor=\"start\" x=\"158\" y=\"288\" font-size=\"12\">Darcis S.<\/text><text text-anchor=\"start\" x=\"248\" y=\"151\" font-size=\"12\">Davydenko N.<\/text><text text-anchor=\"start\" x=\"142\" y=\"149\" font-size=\"12\">Del Potro J.M.<\/text><text text-anchor=\"start\" x=\"382\" y=\"208\" font-size=\"12\">Dent T.<\/text><text text-anchor=\"start\" x=\"50\" y=\"435\" font-size=\"12\">Dimitrov G.<\/text><text text-anchor=\"start\" x=\"133\" y=\"84\" font-size=\"12\">Djokovic N.<\/text><text text-anchor=\"start\" x=\"70\" y=\"587\" font-size=\"12\">Dodig I.<\/text><text text-anchor=\"start\" x=\"74\" y=\"439\" font-size=\"12\">Dolgopolov O.<\/text><text text-anchor=\"start\" x=\"147\" y=\"430\" font-size=\"12\">Falla A.<\/text><text text-anchor=\"start\" x=\"234\" y=\"20\" font-size=\"12\">Federer R.<\/text><text text-anchor=\"start\" x=\"167\" y=\"218\" font-size=\"12\">Ferrer D.<\/text><text text-anchor=\"start\" x=\"344\" y=\"111\" font-size=\"12\">Ferrero J.C.<\/text><text text-anchor=\"start\" x=\"237\" y=\"193\" font-size=\"12\">Fish M.<\/text><text text-anchor=\"start\" x=\"75\" y=\"603\" font-size=\"12\">Fognini F.<\/text><text text-anchor=\"start\" x=\"145\" y=\"609\" font-size=\"12\">Gabashvili T.<\/text><text text-anchor=\"start\" x=\"134\" y=\"552\" font-size=\"12\">Garcia-Lopez G.<\/text><text text-anchor=\"start\" x=\"145\" y=\"286\" font-size=\"12\">Gasquet R.<\/text><text text-anchor=\"start\" x=\"384\" y=\"94\" font-size=\"12\">Gaudio G.<\/text><text text-anchor=\"start\" x=\"214\" y=\"387\" font-size=\"12\">Gicquel M.<\/text><text text-anchor=\"start\" x=\"81\" y=\"630\" font-size=\"12\">Gimeno-Traver D.<\/text><text text-anchor=\"start\" x=\"317\" y=\"267\" font-size=\"12\">Ginepri R.<\/text><text text-anchor=\"start\" x=\"80\" y=\"630\" font-size=\"12\">Giraldo S.<\/text><text text-anchor=\"start\" x=\"137\" y=\"1020\" font-size=\"12\">Golubev A.<\/text><text text-anchor=\"start\" x=\"291\" y=\"92\" font-size=\"12\">Gonzalez F.<\/text><text text-anchor=\"start\" x=\"90\" y=\"519\" font-size=\"12\">Granollers M.<\/text><text text-anchor=\"start\" x=\"397\" y=\"75\" font-size=\"12\">Grosjean S.<\/text><text text-anchor=\"start\" x=\"127\" y=\"306\" font-size=\"12\">Gulbis E.<\/text><text text-anchor=\"start\" x=\"280\" y=\"119\" font-size=\"12\">Haas T.<\/text><text text-anchor=\"start\" x=\"89\" y=\"694\" font-size=\"12\">Haase R.<\/text><text text-anchor=\"start\" x=\"207\" y=\"440\" font-size=\"12\">Hanescu V.<\/text><text text-anchor=\"start\" x=\"74\" y=\"529\" font-size=\"12\">Harrison R.<\/text><text text-anchor=\"start\" x=\"428\" y=\"86\" font-size=\"12\">Henman T.<\/text><text text-anchor=\"start\" x=\"264\" y=\"281\" font-size=\"12\">Hernych J.<\/text><text text-anchor=\"start\" x=\"312\" y=\"116\" font-size=\"12\">Hewitt L.<\/text><text text-anchor=\"start\" x=\"339\" y=\"341\" font-size=\"12\">Horna L.<\/text><text text-anchor=\"start\" x=\"398\" y=\"380\" font-size=\"12\">Hrbaty D.<\/text><text text-anchor=\"start\" x=\"84\" y=\"410\" font-size=\"12\">Isner J.<\/text><text text-anchor=\"start\" x=\"94\" y=\"472\" font-size=\"12\">Istomin D.<\/text><text text-anchor=\"start\" x=\"399\" y=\"122\" font-size=\"12\">Johansson T.<\/text><text text-anchor=\"start\" x=\"157\" y=\"307\" font-size=\"12\">Karlovic I.<\/text><text text-anchor=\"start\" x=\"350\" y=\"89\" font-size=\"12\">Kiefer N.<\/text><text text-anchor=\"start\" x=\"129\" y=\"370\" font-size=\"12\">Kohlschreiber P.<\/text><text text-anchor=\"start\" x=\"205\" y=\"225\" font-size=\"12\">Korolev E.<\/text><text text-anchor=\"start\" x=\"364\" y=\"272\" font-size=\"12\">Koubek S.<\/text><text text-anchor=\"start\" x=\"112\" y=\"733\" font-size=\"12\">Kubot L.<\/text><text text-anchor=\"start\" x=\"206\" y=\"694\" font-size=\"12\">Kunitsyn I.<\/text><text text-anchor=\"start\" x=\"377\" y=\"323\" font-size=\"12\">Lapentti N.<\/text><text text-anchor=\"start\" x=\"377\" y=\"195\" font-size=\"12\">Lee H.T.<\/text><text text-anchor=\"start\" x=\"295\" y=\"114\" font-size=\"12\">Ljubicic I.<\/text><text text-anchor=\"start\" x=\"219\" y=\"255\" font-size=\"12\">Llodra M.<\/text><text text-anchor=\"start\" x=\"185\" y=\"327\" font-size=\"12\">Lopez F.<\/text><text text-anchor=\"start\" x=\"113\" y=\"757\" font-size=\"12\">Lu Y.H.<\/text><text text-anchor=\"start\" x=\"135\" y=\"516\" font-size=\"12\">Mahut N.<\/text><text text-anchor=\"start\" x=\"287\" y=\"182\" font-size=\"12\">Malisse X.<\/text><text text-anchor=\"start\" x=\"28\" y=\"812\" font-size=\"12\">Mannarino A.<\/text><text text-anchor=\"start\" x=\"371\" y=\"247\" font-size=\"12\">Martin A.<\/text><text text-anchor=\"start\" x=\"380\" y=\"228\" font-size=\"12\">Massu N.<\/text><text text-anchor=\"start\" x=\"224\" y=\"282\" font-size=\"12\">Mathieu P.H.<\/text><text text-anchor=\"start\" x=\"176\" y=\"303\" font-size=\"12\">Mayer F.<\/text><text text-anchor=\"start\" x=\"66\" y=\"568\" font-size=\"12\">Mayer L.<\/text><text text-anchor=\"start\" x=\"200\" y=\"284\" font-size=\"12\">Melzer J.<\/text><text text-anchor=\"start\" x=\"401\" y=\"122\" font-size=\"12\">Mirnyi M.<\/text><text text-anchor=\"start\" x=\"156\" y=\"303\" font-size=\"12\">Monaco J.<\/text><text text-anchor=\"start\" x=\"132\" y=\"261\" font-size=\"12\">Monfils G.<\/text><text text-anchor=\"start\" x=\"226\" y=\"524\" font-size=\"12\">Montanes A.<\/text><text text-anchor=\"start\" x=\"363\" y=\"111\" font-size=\"12\">Moya C.<\/text><text text-anchor=\"start\" x=\"131\" y=\"444\" font-size=\"12\">Muller G.<\/text><text text-anchor=\"start\" x=\"135\" y=\"139\" font-size=\"12\">Murray A.<\/text><text text-anchor=\"start\" x=\"173\" y=\"81\" font-size=\"12\">Nadal R.<\/text><text text-anchor=\"start\" x=\"278\" y=\"116\" font-size=\"12\">Nalbandian D.<\/text><text text-anchor=\"start\" x=\"240\" y=\"277\" font-size=\"12\">Nieminen J.<\/text><text text-anchor=\"start\" x=\"69\" y=\"321\" font-size=\"12\">Nishikori K.<\/text><text text-anchor=\"start\" x=\"409\" y=\"97\" font-size=\"12\">Novak J.<\/text><text text-anchor=\"start\" x=\"55\" y=\"564\" font-size=\"12\">Paire B.<\/text><text text-anchor=\"start\" x=\"398\" y=\"190\" font-size=\"12\">Pavel A.<\/text><text text-anchor=\"start\" x=\"131\" y=\"497\" font-size=\"12\">Petzschner P.<\/text><text text-anchor=\"start\" x=\"288\" y=\"909\" font-size=\"12\">Phau B.<\/text><text text-anchor=\"start\" x=\"119\" y=\"347\" font-size=\"12\">Querrey S.<\/text><text text-anchor=\"start\" x=\"286\" y=\"402\" font-size=\"12\">Ramirez-Hidalgo R.<\/text><text text-anchor=\"start\" x=\"74\" y=\"288\" font-size=\"12\">Raonic M.<\/text><text text-anchor=\"start\" x=\"242\" y=\"234\" font-size=\"12\">Robredo T.<\/text><text text-anchor=\"start\" x=\"399\" y=\"299\" font-size=\"12\">Rochus C.<\/text><text text-anchor=\"start\" x=\"299\" y=\"229\" font-size=\"12\">Rochus O.<\/text><text text-anchor=\"start\" x=\"302\" y=\"63\" font-size=\"12\">Roddick A.<\/text><text text-anchor=\"start\" x=\"78\" y=\"559\" font-size=\"12\">Roger-Vasselin E.<\/text><text text-anchor=\"start\" x=\"40\" y=\"658\" font-size=\"12\">Rosol L.<\/text><text text-anchor=\"start\" x=\"166\" y=\"544\" font-size=\"12\">Russell M.<\/text><text text-anchor=\"start\" x=\"353\" y=\"102\" font-size=\"12\">Safin M.<\/text><text text-anchor=\"start\" x=\"361\" y=\"130\" font-size=\"12\">Santoro F.<\/text><text text-anchor=\"start\" x=\"365\" y=\"156\" font-size=\"12\">Schuettler R.<\/text><text text-anchor=\"start\" x=\"131\" y=\"421\" font-size=\"12\">Sela D.<\/text><text text-anchor=\"start\" x=\"140\" y=\"316\" font-size=\"12\">Seppi A.<\/text><text text-anchor=\"start\" x=\"207\" y=\"275\" font-size=\"12\">Serra F.<\/text><text text-anchor=\"start\" x=\"129\" y=\"314\" font-size=\"12\">Simon G.<\/text><text text-anchor=\"start\" x=\"233\" y=\"65\" font-size=\"12\">Soderling R.<\/text><text text-anchor=\"start\" x=\"352\" y=\"265\" font-size=\"12\">Spadea V.<\/text><text text-anchor=\"start\" x=\"413\" y=\"219\" font-size=\"12\">Srichaphan P.<\/text><text text-anchor=\"start\" x=\"94\" y=\"818\" font-size=\"12\">Stakhovsky S.<\/text><text text-anchor=\"start\" x=\"201\" y=\"316\" font-size=\"12\">Starace P.<\/text><text text-anchor=\"start\" x=\"234\" y=\"224\" font-size=\"12\">Stepanek R.<\/text><text text-anchor=\"start\" x=\"144\" y=\"269\" font-size=\"12\">Tipsarevic J.<\/text><text text-anchor=\"start\" x=\"48\" y=\"577\" font-size=\"12\">Tomic B.<\/text><text text-anchor=\"start\" x=\"93\" y=\"453\" font-size=\"12\">Troicki V.<\/text><text text-anchor=\"start\" x=\"113\" y=\"257\" font-size=\"12\">Tsonga J.W.<\/text><text text-anchor=\"start\" x=\"204\" y=\"262\" font-size=\"12\">Tursunov D.<\/text><text text-anchor=\"start\" x=\"169\" y=\"293\" font-size=\"12\">Verdasco F.<\/text><text text-anchor=\"start\" x=\"297\" y=\"173\" font-size=\"12\">Vliegen K.<\/text><text text-anchor=\"start\" x=\"281\" y=\"326\" font-size=\"12\">Volandri F.<\/text><text text-anchor=\"start\" x=\"123\" y=\"257\" font-size=\"12\">Wawrinka S.<\/text><text text-anchor=\"start\" x=\"61\" y=\"757\" font-size=\"12\">Young D.<\/text><text text-anchor=\"start\" x=\"215\" y=\"242\" font-size=\"12\">Youzhny M.<\/text><text text-anchor=\"start\" x=\"115\" y=\"504\" font-size=\"12\">Zverev M.<\/text><\/svg>"
      ]
     },
     "metadata":{
      
     },
     "output_type":"display_data"
    }
   ],
   "metadata":{
    "datalore":{
     "type":"CODE",
     "hide_input_from_viewers":false,
     "hide_output_from_viewers":false,
     "node_id":"odEaxUTZeD6ks05brcg7cb"
    }
   }
  }
 ],
 "metadata":{
  "kernelspec":{
   "display_name":"Python",
   "language":"python",
   "name":"python"
  },
  "datalore":{
   "version":1,
   "computation_mode":"JUPYTER",
   "package_manager":"pip",
   "base_environment":"default",
   "packages":[
    {
     "name":"scikit-network",
     "version":"0.25.0",
     "source":"PIP"
    },
    {
     "name":"numpy",
     "version":"1.22.3",
     "source":"PIP"
    }
   ]
  }
 },
 "nbformat":4,
 "nbformat_minor":4
}