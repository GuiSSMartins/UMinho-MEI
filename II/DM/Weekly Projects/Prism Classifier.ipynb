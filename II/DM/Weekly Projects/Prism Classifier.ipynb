{
 "cells":[
  {
   "cell_type":"markdown",
   "source":[
    "# Prism Classifier\n",
    "1. Construa um classificador PRISM em Python\n",
    "2. Aplicar o algoritmo a um dataset teste\n",
    "\n",
    "## Resolução do exercício\n",
    "### Imports\n",
    "\n"
   ],
   "attachments":{
    
   },
   "metadata":{
    "datalore":{
     "type":"MD",
     "hide_input_from_viewers":false,
     "hide_output_from_viewers":false,
     "node_id":"moV4BKpWti04Uy8Ueir6j8"
    }
   }
  },
  {
   "cell_type":"code",
   "source":[
    "import numpy as np\n",
    "import pandas as pd\n",
    "from dfply import *"
   ],
   "execution_count":null,
   "outputs":[
    
   ],
   "metadata":{
    "datalore":{
     "type":"CODE",
     "hide_input_from_viewers":false,
     "hide_output_from_viewers":false,
     "node_id":"CtCiN8ciFS6LaOjF7aKhIs"
    }
   }
  },
  {
   "cell_type":"markdown",
   "source":[
    "### Algoritmo Prism"
   ],
   "attachments":{
    
   },
   "metadata":{
    "datalore":{
     "type":"MD",
     "hide_input_from_viewers":false,
     "hide_output_from_viewers":false,
     "node_id":"vM9jJKWZKdokWsIafo35sr"
    }
   }
  },
  {
   "cell_type":"code",
   "source":[
    "def compute_probabilities(df, target):\n",
    "    prob_table = pd.DataFrame()\n",
    "    feature_matrix = df.drop(target, axis=1)\n",
    "    feature_variables = feature_matrix.columns.values\n",
    "    target_variable = target\n",
    "\n",
    "    for feature_variable in feature_variables:\n",
    "        for unique_value in feature_matrix[feature_variable].unique():\n",
    "            prob_table = prob_table.append((df >> mask(X[feature_variable] == unique_value)\n",
    "                                               >> group_by(X[target_variable])\n",
    "                                               >> summarize(count = n(X[feature_variable]))\n",
    "                                               >> ungroup()\n",
    "                                               >> rename(target = X[target_variable])\n",
    "                                               >> mutate(probability = X['count']\/X['count'].sum())\n",
    "                                               >> mutate(variable = feature_variable)\n",
    "                                               >> mutate(value = unique_value)\n",
    "                                               >> select(['target', 'variable', 'value', 'probability'])), ignore_index=True)\n",
    "    return prob_table\n",
    "\n",
    "def return_best_rule(prob_table):\n",
    "    best_rule = prob_table >> mask(X['probability'] == X['probability'].max())\n",
    "    return best_rule.iloc[0, :]\n",
    "\n",
    "def update_table(prob_table, rule):\n",
    "    for idx in prob_table.index:\n",
    "        if prob_table.iloc[idx,:].equals(rule):\n",
    "            new_table = prob_table.drop(idx).reset_index(drop=True)\n",
    "    return new_table\n",
    "\n",
    "def PRISM(df, target):\n",
    "    rules = []\n",
    "    prob_table = compute_probabilities(df, target)\n",
    "    while prob_table.empty == False:\n",
    "        best_rule = return_best_rule(prob_table)\n",
    "        rules.append(best_rule['variable']+' == '+best_rule['value'])\n",
    "        prob_table = update_table(prob_table, best_rule)\n",
    "    return rules"
   ],
   "execution_count":18,
   "outputs":[
    
   ],
   "metadata":{
    "datalore":{
     "type":"CODE",
     "hide_input_from_viewers":false,
     "hide_output_from_viewers":false,
     "node_id":"D40Ht8qPRrKL5DMuTD04dX"
    }
   }
  },
  {
   "cell_type":"code",
   "source":[
    "#Criando dados fictícios - Exemplo das aulas\n",
    "data = {'height': ['short', 'short', 'tall', 'tall', 'tall', 'tall', 'tall', 'short'],\n",
    "        'hair': ['blond', 'blond', 'red', 'dark', 'dark', 'blond', 'dark', 'blond'],\n",
    "        'teste': ['C1', 'C2', 'C1', 'C2', 'C2', 'C1', 'C2', 'C2']}\n",
    "\n",
    "data2 = {'Outlook': ['Overcast', 'Overcast', 'Sunny', 'Rain', 'Sunny', 'Overcast', 'Rain', 'Rain','Overcast','Rain','Sunny','Sunny','Rain','Sunny'],\n",
    "        'Temperature': ['Hot', 'Mild', 'Mild', 'Mild', 'Cool', 'Cool', 'Cool', 'Mild', 'Hot', 'Cool', 'Hot', 'Hot', 'Mild', 'Mild'],\n",
    "        'Humidity': ['Normal', 'High', 'Normal', 'Normal', 'Normal', 'Normal', 'Normal', 'High','High','Normal','High','High','High','High'],\n",
    "        'Wind':['Weak', 'Strong', 'Strong', 'Weak', 'Weak', 'Strong', 'Weak', 'Weak','Weak', 'Strong', 'Strong', 'Weak', 'Strong', 'Weak' ],\n",
    "        'Play' :['Yes','Yes','Yes','Yes','Yes','Yes','Yes','Yes','Yes','No','No','No','No','No']}\n",
    "\n",
    "#Transformando em DataFrame\n",
    "df = pd.DataFrame(data2)\n",
    "\n",
    "#Chamando a função do algoritmo PRISM no DataFrame e indicando o nome da coluna da variável alvo (classes).\n",
    "rules = PRISM(df, 'Play')\n",
    "\n",
    "#Imprimindo a lista de regras associativas, que por padrão já estão em ordem crescente de importância.\n",
    "print(rules)"
   ],
   "execution_count":19,
   "outputs":[
    {
     "name":"stdout",
     "text":[
      "['Outlook == Overcast', 'Humidity == Normal', 'Temperature == Cool', 'Wind == Weak', 'Temperature == Mild', 'Outlook == Sunny', 'Outlook == Rain', 'Humidity == High', 'Temperature == Hot', 'Temperature == Hot', 'Wind == Strong', 'Wind == Strong', 'Humidity == High', 'Outlook == Sunny', 'Outlook == Rain', 'Temperature == Mild', 'Temperature == Cool', 'Wind == Weak', 'Humidity == Normal']\n"
     ],
     "output_type":"stream"
    }
   ],
   "metadata":{
    "datalore":{
     "type":"CODE",
     "hide_input_from_viewers":false,
     "hide_output_from_viewers":false,
     "node_id":"Imsvqlgk3jmapgBpS0wdEg"
    }
   }
  }
 ],
 "metadata":{
  "kernelspec":{
   "display_name":"Python",
   "language":"python",
   "name":"python"
  },
  "datalore":{
   "version":1,
   "computation_mode":"JUPYTER",
   "package_manager":"pip",
   "base_environment":"default",
   "packages":[
    {
     "name":"dfply",
     "source":"PIP"
    }
   ]
  }
 },
 "nbformat":4,
 "nbformat_minor":4
}