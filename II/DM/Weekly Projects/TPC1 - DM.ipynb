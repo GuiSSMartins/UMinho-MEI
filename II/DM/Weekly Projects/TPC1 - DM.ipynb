{
 "cells":[
  {
   "cell_type":"markdown",
   "source":[
    "# EXERCÍCIO AULA\n",
    "Inspire-se na secção “Selecting Best Models When Preprocessing” da teórica\n",
    "e, utilizando o dataset red wine:\n",
    "1. Descubra a melhor forma de pré-processamento, entre o PCA (com o\n",
    "parâmetro n_components) e o KernelPCA com o kernel rbf (com os\n",
    "parâmetros gamma e n_components)\n",
    "2. Descubra qual é o melhor algoritmo (entre logistic regression e knn) e\n",
    "sua respetiva parametrização\n",
    "3. Implemente o algoritmo knn em Python\n",
    "4. Submeta no blackboard o link do notebook Google-Colab com a\n",
    "solução do seu grupo"
   ],
   "attachments":{
    
   },
   "metadata":{
    "datalore":{
     "type":"MD",
     "hide_input_from_viewers":false,
     "hide_output_from_viewers":false,
     "node_id":"EVPPGEVufpjefDFXhzqbe1"
    }
   }
  },
  {
   "cell_type":"markdown",
   "source":[
    "## Imports"
   ],
   "attachments":{
    
   },
   "metadata":{
    "datalore":{
     "type":"MD",
     "hide_input_from_viewers":false,
     "hide_output_from_viewers":false,
     "node_id":"YrebpoVaC9S9dVvx1KgrJt"
    }
   }
  },
  {
   "cell_type":"code",
   "source":[
    "import numpy as np\n",
    "import pandas as pd\n",
    "from sklearn import datasets\n",
    "from sklearn.linear_model import LogisticRegression\n",
    "from sklearn.model_selection import GridSearchCV\n",
    "from sklearn.pipeline import Pipeline, FeatureUnion\n",
    "from sklearn.decomposition import PCA,KernelPCA\n",
    "from sklearn.preprocessing import StandardScaler\n",
    "from sklearn.neighbors import KNeighborsClassifier\n",
    "from sklearn.model_selection import train_test_split\n",
    "from sklearn.metrics import confusion_matrix"
   ],
   "execution_count":1,
   "outputs":[
    
   ],
   "metadata":{
    "datalore":{
     "type":"CODE",
     "hide_input_from_viewers":false,
     "hide_output_from_viewers":false,
     "node_id":"hmIiuEtU6ua6VINrW8G5Rp"
    }
   }
  },
  {
   "cell_type":"markdown",
   "source":[
    "## Download Dataset"
   ],
   "attachments":{
    
   },
   "metadata":{
    "datalore":{
     "type":"MD",
     "hide_input_from_viewers":false,
     "hide_output_from_viewers":false,
     "node_id":"NVkgjV0M9DdycuFDgXBwEX"
    }
   }
  },
  {
   "cell_type":"code",
   "source":[
    "# Set random seed\n",
    "np.random.seed(0)\n",
    "\n",
    "# Load data\n",
    "red_wine = pd.read_csv('winequality-red.csv',sep=';')\n",
    "\n",
    "red_wine"
   ],
   "execution_count":2,
   "outputs":[
    {
     "data":{
      "text\/html":[
       "<div>\n",
       "<style scoped>\n",
       "    .dataframe tbody tr th:only-of-type {\n",
       "        vertical-align: middle;\n",
       "    }\n",
       "\n",
       "    .dataframe tbody tr th {\n",
       "        vertical-align: top;\n",
       "    }\n",
       "\n",
       "    .dataframe thead th {\n",
       "        text-align: right;\n",
       "    }\n",
       "<\/style>\n",
       "<table border=\"1\" class=\"dataframe\">\n",
       "  <thead>\n",
       "    <tr style=\"text-align: right;\">\n",
       "      <th><\/th>\n",
       "      <th>fixed acidity<\/th>\n",
       "      <th>volatile acidity<\/th>\n",
       "      <th>citric acid<\/th>\n",
       "      <th>residual sugar<\/th>\n",
       "      <th>chlorides<\/th>\n",
       "      <th>free sulfur dioxide<\/th>\n",
       "      <th>total sulfur dioxide<\/th>\n",
       "      <th>density<\/th>\n",
       "      <th>pH<\/th>\n",
       "      <th>sulphates<\/th>\n",
       "      <th>alcohol<\/th>\n",
       "      <th>quality<\/th>\n",
       "    <\/tr>\n",
       "  <\/thead>\n",
       "  <tbody>\n",
       "    <tr>\n",
       "      <th>0<\/th>\n",
       "      <td>7.4<\/td>\n",
       "      <td>0.700<\/td>\n",
       "      <td>0.00<\/td>\n",
       "      <td>1.9<\/td>\n",
       "      <td>0.076<\/td>\n",
       "      <td>11.0<\/td>\n",
       "      <td>34.0<\/td>\n",
       "      <td>0.99780<\/td>\n",
       "      <td>3.51<\/td>\n",
       "      <td>0.56<\/td>\n",
       "      <td>9.4<\/td>\n",
       "      <td>5<\/td>\n",
       "    <\/tr>\n",
       "    <tr>\n",
       "      <th>1<\/th>\n",
       "      <td>7.8<\/td>\n",
       "      <td>0.880<\/td>\n",
       "      <td>0.00<\/td>\n",
       "      <td>2.6<\/td>\n",
       "      <td>0.098<\/td>\n",
       "      <td>25.0<\/td>\n",
       "      <td>67.0<\/td>\n",
       "      <td>0.99680<\/td>\n",
       "      <td>3.20<\/td>\n",
       "      <td>0.68<\/td>\n",
       "      <td>9.8<\/td>\n",
       "      <td>5<\/td>\n",
       "    <\/tr>\n",
       "    <tr>\n",
       "      <th>2<\/th>\n",
       "      <td>7.8<\/td>\n",
       "      <td>0.760<\/td>\n",
       "      <td>0.04<\/td>\n",
       "      <td>2.3<\/td>\n",
       "      <td>0.092<\/td>\n",
       "      <td>15.0<\/td>\n",
       "      <td>54.0<\/td>\n",
       "      <td>0.99700<\/td>\n",
       "      <td>3.26<\/td>\n",
       "      <td>0.65<\/td>\n",
       "      <td>9.8<\/td>\n",
       "      <td>5<\/td>\n",
       "    <\/tr>\n",
       "    <tr>\n",
       "      <th>3<\/th>\n",
       "      <td>11.2<\/td>\n",
       "      <td>0.280<\/td>\n",
       "      <td>0.56<\/td>\n",
       "      <td>1.9<\/td>\n",
       "      <td>0.075<\/td>\n",
       "      <td>17.0<\/td>\n",
       "      <td>60.0<\/td>\n",
       "      <td>0.99800<\/td>\n",
       "      <td>3.16<\/td>\n",
       "      <td>0.58<\/td>\n",
       "      <td>9.8<\/td>\n",
       "      <td>6<\/td>\n",
       "    <\/tr>\n",
       "    <tr>\n",
       "      <th>4<\/th>\n",
       "      <td>7.4<\/td>\n",
       "      <td>0.700<\/td>\n",
       "      <td>0.00<\/td>\n",
       "      <td>1.9<\/td>\n",
       "      <td>0.076<\/td>\n",
       "      <td>11.0<\/td>\n",
       "      <td>34.0<\/td>\n",
       "      <td>0.99780<\/td>\n",
       "      <td>3.51<\/td>\n",
       "      <td>0.56<\/td>\n",
       "      <td>9.4<\/td>\n",
       "      <td>5<\/td>\n",
       "    <\/tr>\n",
       "    <tr>\n",
       "      <th>...<\/th>\n",
       "      <td>...<\/td>\n",
       "      <td>...<\/td>\n",
       "      <td>...<\/td>\n",
       "      <td>...<\/td>\n",
       "      <td>...<\/td>\n",
       "      <td>...<\/td>\n",
       "      <td>...<\/td>\n",
       "      <td>...<\/td>\n",
       "      <td>...<\/td>\n",
       "      <td>...<\/td>\n",
       "      <td>...<\/td>\n",
       "      <td>...<\/td>\n",
       "    <\/tr>\n",
       "    <tr>\n",
       "      <th>1594<\/th>\n",
       "      <td>6.2<\/td>\n",
       "      <td>0.600<\/td>\n",
       "      <td>0.08<\/td>\n",
       "      <td>2.0<\/td>\n",
       "      <td>0.090<\/td>\n",
       "      <td>32.0<\/td>\n",
       "      <td>44.0<\/td>\n",
       "      <td>0.99490<\/td>\n",
       "      <td>3.45<\/td>\n",
       "      <td>0.58<\/td>\n",
       "      <td>10.5<\/td>\n",
       "      <td>5<\/td>\n",
       "    <\/tr>\n",
       "    <tr>\n",
       "      <th>1595<\/th>\n",
       "      <td>5.9<\/td>\n",
       "      <td>0.550<\/td>\n",
       "      <td>0.10<\/td>\n",
       "      <td>2.2<\/td>\n",
       "      <td>0.062<\/td>\n",
       "      <td>39.0<\/td>\n",
       "      <td>51.0<\/td>\n",
       "      <td>0.99512<\/td>\n",
       "      <td>3.52<\/td>\n",
       "      <td>0.76<\/td>\n",
       "      <td>11.2<\/td>\n",
       "      <td>6<\/td>\n",
       "    <\/tr>\n",
       "    <tr>\n",
       "      <th>1596<\/th>\n",
       "      <td>6.3<\/td>\n",
       "      <td>0.510<\/td>\n",
       "      <td>0.13<\/td>\n",
       "      <td>2.3<\/td>\n",
       "      <td>0.076<\/td>\n",
       "      <td>29.0<\/td>\n",
       "      <td>40.0<\/td>\n",
       "      <td>0.99574<\/td>\n",
       "      <td>3.42<\/td>\n",
       "      <td>0.75<\/td>\n",
       "      <td>11.0<\/td>\n",
       "      <td>6<\/td>\n",
       "    <\/tr>\n",
       "    <tr>\n",
       "      <th>1597<\/th>\n",
       "      <td>5.9<\/td>\n",
       "      <td>0.645<\/td>\n",
       "      <td>0.12<\/td>\n",
       "      <td>2.0<\/td>\n",
       "      <td>0.075<\/td>\n",
       "      <td>32.0<\/td>\n",
       "      <td>44.0<\/td>\n",
       "      <td>0.99547<\/td>\n",
       "      <td>3.57<\/td>\n",
       "      <td>0.71<\/td>\n",
       "      <td>10.2<\/td>\n",
       "      <td>5<\/td>\n",
       "    <\/tr>\n",
       "    <tr>\n",
       "      <th>1598<\/th>\n",
       "      <td>6.0<\/td>\n",
       "      <td>0.310<\/td>\n",
       "      <td>0.47<\/td>\n",
       "      <td>3.6<\/td>\n",
       "      <td>0.067<\/td>\n",
       "      <td>18.0<\/td>\n",
       "      <td>42.0<\/td>\n",
       "      <td>0.99549<\/td>\n",
       "      <td>3.39<\/td>\n",
       "      <td>0.66<\/td>\n",
       "      <td>11.0<\/td>\n",
       "      <td>6<\/td>\n",
       "    <\/tr>\n",
       "  <\/tbody>\n",
       "<\/table>\n",
       "<p>1599 rows × 12 columns<\/p>\n",
       "<\/div>"
      ]
     },
     "metadata":{
      
     },
     "output_type":"display_data"
    }
   ],
   "metadata":{
    "datalore":{
     "type":"CODE",
     "hide_input_from_viewers":false,
     "hide_output_from_viewers":false,
     "node_id":"iSctJgQQS5q6jniW0CP5TX"
    }
   }
  },
  {
   "cell_type":"code",
   "source":[
    "features = red_wine.drop(['quality'], axis=1)\n",
    "target = red_wine['quality']"
   ],
   "execution_count":3,
   "outputs":[
    
   ],
   "metadata":{
    "datalore":{
     "type":"CODE",
     "hide_input_from_viewers":false,
     "hide_output_from_viewers":false,
     "node_id":"rGIvG38KV9Z1kSt3wvbmt8"
    }
   }
  },
  {
   "cell_type":"code",
   "source":[
    "x_train, x_test, y_train, y_test = train_test_split(features,target,test_size=0.2)"
   ],
   "execution_count":4,
   "outputs":[
    
   ],
   "metadata":{
    "datalore":{
     "type":"CODE",
     "hide_input_from_viewers":false,
     "hide_output_from_viewers":false,
     "node_id":"BojygPjBFAKwHmPznEPk4D"
    }
   }
  },
  {
   "cell_type":"markdown",
   "source":[
    "## Problema 1\n",
    "### PCA - Logistic Regression"
   ],
   "attachments":{
    
   },
   "metadata":{
    "datalore":{
     "type":"MD",
     "hide_input_from_viewers":false,
     "hide_output_from_viewers":false,
     "node_id":"zqFfyPZuBxbQk3Qg87vV2b"
    }
   }
  },
  {
   "cell_type":"code",
   "source":[
    "# Create a preprocessing object that includes StandardScaler features and PCA\n",
    "preprocess = FeatureUnion([(\"std\", StandardScaler()), (\"pca\", PCA())])\n",
    "\n",
    "# Create a pipeline\n",
    "pipe = Pipeline([(\"preprocess\", preprocess),\n",
    "(\"classifier\", LogisticRegression(solver = \"liblinear\", max_iter=500))])\n",
    "\n",
    "# Create space of candidate values\n",
    "search_space = [{\"preprocess__pca__n_components\": [1, 2, 3],               \n",
    "  \"classifier__penalty\": [\"l1\", \"l2\"],\n",
    "  \"classifier__C\": np.logspace(0, 4, 10)}]\n",
    "\n",
    "# Create grid search\n",
    "clf = GridSearchCV(pipe, search_space, cv=5, verbose=0, n_jobs=-1)\n",
    "\n",
    "# Fit grid search\n",
    "best_modelPCA = clf.fit(x_train, y_train)\n",
    "best_modelPCA.best_estimator_.get_params()"
   ],
   "execution_count":5,
   "outputs":[
    {
     "data":{
      "text\/plain":[
       "{'memory': None,\n",
       " 'steps': [('preprocess',\n",
       "   FeatureUnion(transformer_list=[('std', StandardScaler()),\n",
       "                                  ('pca', PCA(n_components=3))])),\n",
       "  ('classifier', LogisticRegression(max_iter=500, solver='liblinear'))],\n",
       " 'verbose': False,\n",
       " 'preprocess': FeatureUnion(transformer_list=[('std', StandardScaler()),\n",
       "                                ('pca', PCA(n_components=3))]),\n",
       " 'classifier': LogisticRegression(max_iter=500, solver='liblinear'),\n",
       " 'preprocess__n_jobs': None,\n",
       " 'preprocess__transformer_list': [('std', StandardScaler()),\n",
       "  ('pca', PCA(n_components=3))],\n",
       " 'preprocess__transformer_weights': None,\n",
       " 'preprocess__verbose': False,\n",
       " 'preprocess__std': StandardScaler(),\n",
       " 'preprocess__pca': PCA(n_components=3),\n",
       " 'preprocess__std__copy': True,\n",
       " 'preprocess__std__with_mean': True,\n",
       " 'preprocess__std__with_std': True,\n",
       " 'preprocess__pca__copy': True,\n",
       " 'preprocess__pca__iterated_power': 'auto',\n",
       " 'preprocess__pca__n_components': 3,\n",
       " 'preprocess__pca__random_state': None,\n",
       " 'preprocess__pca__svd_solver': 'auto',\n",
       " 'preprocess__pca__tol': 0.0,\n",
       " 'preprocess__pca__whiten': False,\n",
       " 'classifier__C': 1.0,\n",
       " 'classifier__class_weight': None,\n",
       " 'classifier__dual': False,\n",
       " 'classifier__fit_intercept': True,\n",
       " 'classifier__intercept_scaling': 1,\n",
       " 'classifier__l1_ratio': None,\n",
       " 'classifier__max_iter': 500,\n",
       " 'classifier__multi_class': 'auto',\n",
       " 'classifier__n_jobs': None,\n",
       " 'classifier__penalty': 'l2',\n",
       " 'classifier__random_state': None,\n",
       " 'classifier__solver': 'liblinear',\n",
       " 'classifier__tol': 0.0001,\n",
       " 'classifier__verbose': 0,\n",
       " 'classifier__warm_start': False}"
      ]
     },
     "metadata":{
      
     },
     "output_type":"display_data"
    }
   ],
   "metadata":{
    "datalore":{
     "type":"CODE",
     "hide_input_from_viewers":false,
     "hide_output_from_viewers":false,
     "node_id":"1kY6Y7Z5ABleE6Ioss9FIc"
    }
   }
  },
  {
   "cell_type":"code",
   "source":[
    "# View best hyperparameters\n",
    "print('Best Number Of Princpal Components:', best_modelPCA.best_estimator_.get_params()['preprocess__pca__n_components'])\n",
    "print('Best Penalty:', best_modelPCA.best_estimator_.get_params()['classifier__penalty'])\n",
    "print('Best C:', best_modelPCA.best_estimator_.get_params()['classifier__C'])"
   ],
   "execution_count":6,
   "outputs":[
    {
     "name":"stdout",
     "text":[
      "Best Number Of Princpal Components: 3\n",
      "Best Penalty: l2\n",
      "Best C: 1.0\n"
     ],
     "output_type":"stream"
    }
   ],
   "metadata":{
    "datalore":{
     "type":"CODE",
     "hide_input_from_viewers":false,
     "hide_output_from_viewers":false,
     "node_id":"EJ59Ayr4fMtyKjgOpirhhJ"
    }
   }
  },
  {
   "cell_type":"code",
   "source":[
    "predictionsPCA = best_modelPCA.predict(x_test)\n",
    "confusion_matrix(y_test, predictionsPCA)"
   ],
   "execution_count":7,
   "outputs":[
    {
     "data":{
      "text\/html":[
       
      ]
     },
     "metadata":{
      
     },
     "output_type":"display_data"
    }
   ],
   "metadata":{
    "datalore":{
     "type":"CODE",
     "hide_input_from_viewers":false,
     "hide_output_from_viewers":false,
     "node_id":"KNgStwBH4kfsVJDDBaSsRY"
    }
   }
  },
  {
   "cell_type":"markdown",
   "source":[
    "### KernelPCA - Logistic Regression"
   ],
   "attachments":{
    
   },
   "metadata":{
    "datalore":{
     "type":"MD",
     "hide_input_from_viewers":false,
     "hide_output_from_viewers":false,
     "node_id":"HyR2AyyRkULcsJK3u2CFMQ"
    }
   }
  },
  {
   "cell_type":"code",
   "source":[
    "# Create a preprocessing object that includes StandardScaler features and KernelPCA\n",
    "preprocess = FeatureUnion([(\"std\", StandardScaler()), (\"kernel_pca\", KernelPCA(kernel=\"rbf\"))])\n",
    "\n",
    "pipe = Pipeline([\n",
    "    (\"preprocess\", preprocess),\n",
    "    (\"classifier\", LogisticRegression(solver = \"liblinear\", max_iter=500))\n",
    "    ])\n",
    "\n",
    "# Create space of candidate values\n",
    "search_space = [{\"preprocess__kernel_pca__n_components\": [1, 2, 3],\n",
    "  \"preprocess__kernel_pca__gamma\": np.linspace(0.03, 0.05, 10),\n",
    "  \"classifier__penalty\": [\"l1\", \"l2\"],\n",
    "  \"classifier__C\": np.logspace(0, 4, 10)}]\n",
    "\n",
    "# Create grid search\n",
    "clf = GridSearchCV(pipe, search_space, cv=5, verbose=0, n_jobs=-1)\n",
    "\n",
    "# Fit grid search\n",
    "best_modelKPCA = clf.fit(x_train, y_train)\n",
    "best_modelKPCA.best_estimator_.get_params()"
   ],
   "execution_count":8,
   "outputs":[
    {
     "data":{
      "text\/plain":[
       "{'memory': None,\n",
       " 'steps': [('preprocess',\n",
       "   FeatureUnion(transformer_list=[('std', StandardScaler()),\n",
       "                                  ('kernel_pca',\n",
       "                                   KernelPCA(gamma=0.05, kernel='rbf',\n",
       "                                             n_components=1))])),\n",
       "  ('classifier',\n",
       "   LogisticRegression(C=59.94842503189409, max_iter=500, penalty='l1',\n",
       "                      solver='liblinear'))],\n",
       " 'verbose': False,\n",
       " 'preprocess': FeatureUnion(transformer_list=[('std', StandardScaler()),\n",
       "                                ('kernel_pca',\n",
       "                                 KernelPCA(gamma=0.05, kernel='rbf',\n",
       "                                           n_components=1))]),\n",
       " 'classifier': LogisticRegression(C=59.94842503189409, max_iter=500, penalty='l1',\n",
       "                    solver='liblinear'),\n",
       " 'preprocess__n_jobs': None,\n",
       " 'preprocess__transformer_list': [('std', StandardScaler()),\n",
       "  ('kernel_pca', KernelPCA(gamma=0.05, kernel='rbf', n_components=1))],\n",
       " 'preprocess__transformer_weights': None,\n",
       " 'preprocess__verbose': False,\n",
       " 'preprocess__std': StandardScaler(),\n",
       " 'preprocess__kernel_pca': KernelPCA(gamma=0.05, kernel='rbf', n_components=1),\n",
       " 'preprocess__std__copy': True,\n",
       " 'preprocess__std__with_mean': True,\n",
       " 'preprocess__std__with_std': True,\n",
       " 'preprocess__kernel_pca__alpha': 1.0,\n",
       " 'preprocess__kernel_pca__coef0': 1,\n",
       " 'preprocess__kernel_pca__copy_X': True,\n",
       " 'preprocess__kernel_pca__degree': 3,\n",
       " 'preprocess__kernel_pca__eigen_solver': 'auto',\n",
       " 'preprocess__kernel_pca__fit_inverse_transform': False,\n",
       " 'preprocess__kernel_pca__gamma': 0.05,\n",
       " 'preprocess__kernel_pca__iterated_power': 'auto',\n",
       " 'preprocess__kernel_pca__kernel': 'rbf',\n",
       " 'preprocess__kernel_pca__kernel_params': None,\n",
       " 'preprocess__kernel_pca__max_iter': None,\n",
       " 'preprocess__kernel_pca__n_components': 1,\n",
       " 'preprocess__kernel_pca__n_jobs': None,\n",
       " 'preprocess__kernel_pca__random_state': None,\n",
       " 'preprocess__kernel_pca__remove_zero_eig': False,\n",
       " 'preprocess__kernel_pca__tol': 0,\n",
       " 'classifier__C': 59.94842503189409,\n",
       " 'classifier__class_weight': None,\n",
       " 'classifier__dual': False,\n",
       " 'classifier__fit_intercept': True,\n",
       " 'classifier__intercept_scaling': 1,\n",
       " 'classifier__l1_ratio': None,\n",
       " 'classifier__max_iter': 500,\n",
       " 'classifier__multi_class': 'auto',\n",
       " 'classifier__n_jobs': None,\n",
       " 'classifier__penalty': 'l1',\n",
       " 'classifier__random_state': None,\n",
       " 'classifier__solver': 'liblinear',\n",
       " 'classifier__tol': 0.0001,\n",
       " 'classifier__verbose': 0,\n",
       " 'classifier__warm_start': False}"
      ]
     },
     "metadata":{
      
     },
     "output_type":"display_data"
    }
   ],
   "metadata":{
    "datalore":{
     "type":"CODE",
     "hide_input_from_viewers":false,
     "hide_output_from_viewers":false,
     "node_id":"1rOKSBlXusPyU5ETDbEJB1"
    }
   }
  },
  {
   "cell_type":"code",
   "source":[
    "print('Best Number Of Princpal Components:', best_modelKPCA.best_estimator_.get_params()['preprocess__kernel_pca__n_components'])\n",
    "print('Best Value of gamma:', best_modelKPCA.best_estimator_.get_params()['preprocess__kernel_pca__gamma'])\n",
    "print('Best Penalty:', best_modelKPCA.best_estimator_.get_params()['classifier__penalty'])\n",
    "print('Best C:', best_modelKPCA.best_estimator_.get_params()['classifier__C'])"
   ],
   "execution_count":9,
   "outputs":[
    {
     "name":"stdout",
     "text":[
      "Best Number Of Princpal Components: 1\n",
      "Best Value of gamma: 0.05\n",
      "Best Penalty: l1\n",
      "Best C: 59.94842503189409\n"
     ],
     "output_type":"stream"
    }
   ],
   "metadata":{
    "datalore":{
     "type":"CODE",
     "hide_input_from_viewers":false,
     "hide_output_from_viewers":false,
     "node_id":"hS96uL7DhP5MT9OFpB9LMj"
    }
   }
  },
  {
   "cell_type":"code",
   "source":[
    "predictionsKPCA = best_modelKPCA.predict(x_test)\n",
    "confusion_matrix(y_test, predictionsKPCA)"
   ],
   "execution_count":10,
   "outputs":[
    {
     "data":{
      "text\/html":[
       
      ]
     },
     "metadata":{
      
     },
     "output_type":"display_data"
    }
   ],
   "metadata":{
    "datalore":{
     "type":"CODE",
     "hide_input_from_viewers":false,
     "hide_output_from_viewers":false,
     "node_id":"kPrdCyleyEmKvVlngbFGYK"
    }
   }
  },
  {
   "cell_type":"markdown",
   "source":[
    "## Problema 2\n",
    "### PCA - K Nearest Neighbors"
   ],
   "attachments":{
    
   },
   "metadata":{
    "datalore":{
     "type":"MD",
     "hide_input_from_viewers":false,
     "hide_output_from_viewers":false,
     "node_id":"GoaKDcQPsQebRaQK38JSWh"
    }
   }
  },
  {
   "cell_type":"code",
   "source":[
    "\n",
    "# Create a preprocessing object that includes StandardScaler features and PCA\n",
    "preprocess = FeatureUnion([(\"std\", StandardScaler()), (\"pca\", PCA())])\n",
    "\n",
    "# Create a pipeline\n",
    "pipe = Pipeline([(\"preprocess\", preprocess),\n",
    "(\"classifier\", KNeighborsClassifier(algorithm = \"auto\", leaf_size=50))])\n",
    "\n",
    "# Create space of candidate values\n",
    "search_space = [{\"preprocess__pca__n_components\": [1, 2, 3],               \n",
    "  \"classifier__n_neighbors\": [2,4,8], #np.logspace(0, 4, 10),\n",
    "  \"classifier__weights\": ['uniform', 'distance']}]\n",
    "\n",
    "# Create grid search\n",
    "clf = GridSearchCV(pipe, search_space, cv=5, verbose=0, n_jobs=-1)\n",
    "\n",
    "# Fit grid search\n",
    "best_modelPCA = clf.fit(x_train, y_train)\n",
    "best_modelPCA.best_estimator_.get_params()"
   ],
   "execution_count":11,
   "outputs":[
    {
     "data":{
      "text\/plain":[
       "{'memory': None,\n",
       " 'steps': [('preprocess',\n",
       "   FeatureUnion(transformer_list=[('std', StandardScaler()),\n",
       "                                  ('pca', PCA(n_components=1))])),\n",
       "  ('classifier',\n",
       "   KNeighborsClassifier(leaf_size=50, n_neighbors=8, weights='distance'))],\n",
       " 'verbose': False,\n",
       " 'preprocess': FeatureUnion(transformer_list=[('std', StandardScaler()),\n",
       "                                ('pca', PCA(n_components=1))]),\n",
       " 'classifier': KNeighborsClassifier(leaf_size=50, n_neighbors=8, weights='distance'),\n",
       " 'preprocess__n_jobs': None,\n",
       " 'preprocess__transformer_list': [('std', StandardScaler()),\n",
       "  ('pca', PCA(n_components=1))],\n",
       " 'preprocess__transformer_weights': None,\n",
       " 'preprocess__verbose': False,\n",
       " 'preprocess__std': StandardScaler(),\n",
       " 'preprocess__pca': PCA(n_components=1),\n",
       " 'preprocess__std__copy': True,\n",
       " 'preprocess__std__with_mean': True,\n",
       " 'preprocess__std__with_std': True,\n",
       " 'preprocess__pca__copy': True,\n",
       " 'preprocess__pca__iterated_power': 'auto',\n",
       " 'preprocess__pca__n_components': 1,\n",
       " 'preprocess__pca__random_state': None,\n",
       " 'preprocess__pca__svd_solver': 'auto',\n",
       " 'preprocess__pca__tol': 0.0,\n",
       " 'preprocess__pca__whiten': False,\n",
       " 'classifier__algorithm': 'auto',\n",
       " 'classifier__leaf_size': 50,\n",
       " 'classifier__metric': 'minkowski',\n",
       " 'classifier__metric_params': None,\n",
       " 'classifier__n_jobs': None,\n",
       " 'classifier__n_neighbors': 8,\n",
       " 'classifier__p': 2,\n",
       " 'classifier__weights': 'distance'}"
      ]
     },
     "metadata":{
      
     },
     "output_type":"display_data"
    }
   ],
   "metadata":{
    "datalore":{
     "type":"CODE",
     "hide_input_from_viewers":false,
     "hide_output_from_viewers":false,
     "node_id":"k9cvhNMoyD1MkxWV5nQ01p"
    }
   }
  },
  {
   "cell_type":"code",
   "source":[
    "# View best hyperparameters\n",
    "print('Best Number Of Princpal Components:', best_modelPCA.best_estimator_.get_params()['preprocess__pca__n_components'])\n",
    "print('Best Penalty:', best_modelPCA.best_estimator_.get_params()['classifier__n_neighbors'])\n",
    "print('Best C:', best_modelPCA.best_estimator_.get_params()['classifier__weights'])"
   ],
   "execution_count":12,
   "outputs":[
    {
     "name":"stdout",
     "text":[
      "Best Number Of Princpal Components: 1\n",
      "Best Penalty: 8\n",
      "Best C: distance\n"
     ],
     "output_type":"stream"
    }
   ],
   "metadata":{
    "datalore":{
     "type":"CODE",
     "hide_input_from_viewers":false,
     "hide_output_from_viewers":false,
     "node_id":"8YMmaKTILSMYp4Qii8Ax6d"
    }
   }
  },
  {
   "cell_type":"code",
   "source":[
    "predictionsPCA = best_modelPCA.predict(x_test)\n",
    "confusion_matrix(y_test, predictionsPCA)"
   ],
   "execution_count":null,
   "outputs":[
    
   ],
   "metadata":{
    "datalore":{
     "type":"CODE",
     "hide_input_from_viewers":false,
     "hide_output_from_viewers":false,
     "node_id":"CS4c6WCeQRslHG9mS3vOJ0"
    }
   }
  },
  {
   "cell_type":"markdown",
   "source":[
    "### Kernel PCA - K Nearest Neighbors"
   ],
   "attachments":{
    
   },
   "metadata":{
    "datalore":{
     "type":"MD",
     "hide_input_from_viewers":false,
     "hide_output_from_viewers":false,
     "node_id":"8LbroQNxYxMjRQoc4d40ZX"
    }
   }
  },
  {
   "cell_type":"code",
   "source":[
    "# Create a preprocessing object that includes StandardScaler features and KernelPCA\n",
    "preprocess = FeatureUnion([(\"std\", StandardScaler()), (\"kernel_pca\", KernelPCA(kernel=\"rbf\"))])\n",
    "\n",
    "pipe = Pipeline([\n",
    "    (\"preprocess\", preprocess),\n",
    "    (\"classifier\", KNeighborsClassifier(algorithm = \"auto\", leaf_size=50))\n",
    "    ])\n",
    "\n",
    "# Create space of candidate values\n",
    "search_space = [{\"preprocess__kernel_pca__n_components\": [1, 2, 3],\n",
    "  \"preprocess__kernel_pca__gamma\": np.linspace(0.03, 0.05, 10),\n",
    "  \"classifier__n_neighbors\": [2,4,8], #np.logspace(0, 4, 10),\n",
    "  \"classifier__weights\": ['uniform', 'distance']}]\n",
    "\n",
    "# Create grid search\n",
    "clf = GridSearchCV(pipe, search_space, cv=5, verbose=0, n_jobs=-1)\n",
    "\n",
    "# Fit grid search\n",
    "best_modelKPCA = clf.fit(x_train, y_train)\n",
    "best_modelKPCA.best_estimator_.get_params()"
   ],
   "execution_count":13,
   "outputs":[
    {
     "data":{
      "text\/plain":[
       "{'memory': None,\n",
       " 'steps': [('preprocess',\n",
       "   FeatureUnion(transformer_list=[('std', StandardScaler()),\n",
       "                                  ('kernel_pca',\n",
       "                                   KernelPCA(gamma=0.05, kernel='rbf',\n",
       "                                             n_components=1))])),\n",
       "  ('classifier',\n",
       "   KNeighborsClassifier(leaf_size=50, n_neighbors=8, weights='distance'))],\n",
       " 'verbose': False,\n",
       " 'preprocess': FeatureUnion(transformer_list=[('std', StandardScaler()),\n",
       "                                ('kernel_pca',\n",
       "                                 KernelPCA(gamma=0.05, kernel='rbf',\n",
       "                                           n_components=1))]),\n",
       " 'classifier': KNeighborsClassifier(leaf_size=50, n_neighbors=8, weights='distance'),\n",
       " 'preprocess__n_jobs': None,\n",
       " 'preprocess__transformer_list': [('std', StandardScaler()),\n",
       "  ('kernel_pca', KernelPCA(gamma=0.05, kernel='rbf', n_components=1))],\n",
       " 'preprocess__transformer_weights': None,\n",
       " 'preprocess__verbose': False,\n",
       " 'preprocess__std': StandardScaler(),\n",
       " 'preprocess__kernel_pca': KernelPCA(gamma=0.05, kernel='rbf', n_components=1),\n",
       " 'preprocess__std__copy': True,\n",
       " 'preprocess__std__with_mean': True,\n",
       " 'preprocess__std__with_std': True,\n",
       " 'preprocess__kernel_pca__alpha': 1.0,\n",
       " 'preprocess__kernel_pca__coef0': 1,\n",
       " 'preprocess__kernel_pca__copy_X': True,\n",
       " 'preprocess__kernel_pca__degree': 3,\n",
       " 'preprocess__kernel_pca__eigen_solver': 'auto',\n",
       " 'preprocess__kernel_pca__fit_inverse_transform': False,\n",
       " 'preprocess__kernel_pca__gamma': 0.05,\n",
       " 'preprocess__kernel_pca__iterated_power': 'auto',\n",
       " 'preprocess__kernel_pca__kernel': 'rbf',\n",
       " 'preprocess__kernel_pca__kernel_params': None,\n",
       " 'preprocess__kernel_pca__max_iter': None,\n",
       " 'preprocess__kernel_pca__n_components': 1,\n",
       " 'preprocess__kernel_pca__n_jobs': None,\n",
       " 'preprocess__kernel_pca__random_state': None,\n",
       " 'preprocess__kernel_pca__remove_zero_eig': False,\n",
       " 'preprocess__kernel_pca__tol': 0,\n",
       " 'classifier__algorithm': 'auto',\n",
       " 'classifier__leaf_size': 50,\n",
       " 'classifier__metric': 'minkowski',\n",
       " 'classifier__metric_params': None,\n",
       " 'classifier__n_jobs': None,\n",
       " 'classifier__n_neighbors': 8,\n",
       " 'classifier__p': 2,\n",
       " 'classifier__weights': 'distance'}"
      ]
     },
     "metadata":{
      
     },
     "output_type":"display_data"
    }
   ],
   "metadata":{
    "datalore":{
     "type":"CODE",
     "hide_input_from_viewers":false,
     "hide_output_from_viewers":false,
     "node_id":"E659WqibuXQkFar6f5Z2Fk"
    }
   }
  },
  {
   "cell_type":"code",
   "source":[
    "print('Best Number Of Princpal Components:', best_modelKPCA.best_estimator_.get_params()['preprocess__kernel_pca__n_components'])\n",
    "print('Best Value of gamma:', best_modelKPCA.best_estimator_.get_params()['preprocess__kernel_pca__gamma'])\n",
    "print('Best Penalty:', best_modelKPCA.best_estimator_.get_params()['classifier__n_neighbors'])\n",
    "print('Best C:', best_modelKPCA.best_estimator_.get_params()['classifier__weights'])"
   ],
   "execution_count":14,
   "outputs":[
    {
     "name":"stdout",
     "text":[
      "Best Number Of Princpal Components: 1\n",
      "Best Value of gamma: 0.05\n",
      "Best Penalty: 8\n",
      "Best C: distance\n"
     ],
     "output_type":"stream"
    }
   ],
   "metadata":{
    "datalore":{
     "type":"CODE",
     "hide_input_from_viewers":false,
     "hide_output_from_viewers":false,
     "node_id":"52WFTdRhNFCagZdismJKfs"
    }
   }
  },
  {
   "cell_type":"code",
   "source":[
    "predictionsKPCA = best_modelKPCA.predict(x_test)\n",
    "confusion_matrix(y_test, predictionsKPCA)"
   ],
   "execution_count":null,
   "outputs":[
    
   ],
   "metadata":{
    "datalore":{
     "type":"CODE",
     "hide_input_from_viewers":false,
     "hide_output_from_viewers":false,
     "node_id":"cl8QMWZp7wPX1w9574u4GW"
    }
   }
  },
  {
   "cell_type":"markdown",
   "source":[
    "## Problema 3 \n",
    "### Implementação do algoritmo KNN"
   ],
   "attachments":{
    
   },
   "metadata":{
    "datalore":{
     "type":"MD",
     "hide_input_from_viewers":false,
     "hide_output_from_viewers":false,
     "node_id":"DNbaGzBgcJVE2lqQFVQdXQ"
    }
   }
  },
  {
   "cell_type":"code",
   "source":[
    "# Example of getting neighbors for an instance\n",
    "from math import sqrt\n",
    "\n",
    "# calculate the Euclidean distance between two vectors\n",
    "def euclidean_distance(row1, row2):\n",
    "\tdistance = 0.0\n",
    "\tfor i in range(len(row1)-1):\n",
    "\t\tdistance += (row1[i] - row2[i])**2\n",
    "\treturn sqrt(distance)\n",
    "\n",
    "\n",
    "# Locate the most similar neighbors\n",
    "def get_neighbors(train, test_row, num_neighbors):\n",
    "\tdistances = list()\n",
    "\tfor train_row in train:\n",
    "\t\tdist = euclidean_distance(test_row, train_row)\n",
    "\t\tdistances.append((train_row, dist))\n",
    "\tdistances.sort(key=lambda tup: tup[1])\n",
    "\tneighbors = list()\n",
    "\tfor i in range(num_neighbors):\n",
    "\t\tneighbors.append(distances[i][0])\n",
    "\treturn neighbors\n",
    "\n",
    "\n",
    "# Make a classification prediction with neighbors\n",
    "def predict_classification(train, test_row, num_neighbors):\n",
    "\tneighbors = get_neighbors(train, test_row, num_neighbors)\n",
    "\toutput_values = [row[-1] for row in neighbors]\n",
    "\tprediction = max(set(output_values), key=output_values.count)\n",
    "\treturn prediction\n",
    "\n",
    "\n",
    "neighbors = get_neighbors(red_wine.to_numpy(), red_wine.to_numpy()[151], 5)\n",
    "for neighbor in neighbors:\n",
    "\tprint(neighbor)\n",
    "\n",
    "prediction = predict_classification(red_wine.to_numpy(), red_wine.to_numpy()[151], 5)\n",
    "prediction\n",
    "\n",
    "# Tentou prever a qualidade do vinho do registo zero\n",
    "print('\\n Expected %d, Got %d.' % (red_wine.to_numpy()[151][-1], prediction)) "
   ],
   "execution_count":15,
   "outputs":[
    {
     "name":"stdout",
     "text":[
      "[ 9.2     0.52    1.      3.4     0.61   32.     69.      0.9996  2.74\n",
      "  2.      9.4     4.    ]\n",
      "[9.90000e+00 5.90000e-01 7.00000e-02 3.40000e+00 1.02000e-01 3.20000e+01\n",
      " 7.10000e+01 1.00015e+00 3.31000e+00 7.10000e-01 9.80000e+00 5.00000e+00]\n",
      "[9.90000e+00 5.90000e-01 7.00000e-02 3.40000e+00 1.02000e-01 3.20000e+01\n",
      " 7.10000e+01 1.00015e+00 3.31000e+00 7.10000e-01 9.80000e+00 5.00000e+00]\n",
      "[ 8.8      0.61     0.19     4.       0.094   30.      69.       0.99787\n",
      "  3.22     0.5     10.       6.     ]\n",
      "[ 8.8      0.61     0.19     4.       0.094   30.      69.       0.99787\n",
      "  3.22     0.5     10.       6.     ]\n",
      "\n",
      " Expected 4, Got 5.\n"
     ],
     "output_type":"stream"
    }
   ],
   "metadata":{
    "datalore":{
     "type":"CODE",
     "hide_input_from_viewers":false,
     "hide_output_from_viewers":false,
     "node_id":"fGjFtR4DshfKfwbPT3szJW"
    }
   }
  },
  {
   "cell_type":"code",
   "source":[
    "red_wine"
   ],
   "execution_count":16,
   "outputs":[
    {
     "data":{
      "text\/html":[
       "<div>\n",
       "<style scoped>\n",
       "    .dataframe tbody tr th:only-of-type {\n",
       "        vertical-align: middle;\n",
       "    }\n",
       "\n",
       "    .dataframe tbody tr th {\n",
       "        vertical-align: top;\n",
       "    }\n",
       "\n",
       "    .dataframe thead th {\n",
       "        text-align: right;\n",
       "    }\n",
       "<\/style>\n",
       "<table border=\"1\" class=\"dataframe\">\n",
       "  <thead>\n",
       "    <tr style=\"text-align: right;\">\n",
       "      <th><\/th>\n",
       "      <th>fixed acidity<\/th>\n",
       "      <th>volatile acidity<\/th>\n",
       "      <th>citric acid<\/th>\n",
       "      <th>residual sugar<\/th>\n",
       "      <th>chlorides<\/th>\n",
       "      <th>free sulfur dioxide<\/th>\n",
       "      <th>total sulfur dioxide<\/th>\n",
       "      <th>density<\/th>\n",
       "      <th>pH<\/th>\n",
       "      <th>sulphates<\/th>\n",
       "      <th>alcohol<\/th>\n",
       "      <th>quality<\/th>\n",
       "    <\/tr>\n",
       "  <\/thead>\n",
       "  <tbody>\n",
       "    <tr>\n",
       "      <th>0<\/th>\n",
       "      <td>7.4<\/td>\n",
       "      <td>0.700<\/td>\n",
       "      <td>0.00<\/td>\n",
       "      <td>1.9<\/td>\n",
       "      <td>0.076<\/td>\n",
       "      <td>11.0<\/td>\n",
       "      <td>34.0<\/td>\n",
       "      <td>0.99780<\/td>\n",
       "      <td>3.51<\/td>\n",
       "      <td>0.56<\/td>\n",
       "      <td>9.4<\/td>\n",
       "      <td>5<\/td>\n",
       "    <\/tr>\n",
       "    <tr>\n",
       "      <th>1<\/th>\n",
       "      <td>7.8<\/td>\n",
       "      <td>0.880<\/td>\n",
       "      <td>0.00<\/td>\n",
       "      <td>2.6<\/td>\n",
       "      <td>0.098<\/td>\n",
       "      <td>25.0<\/td>\n",
       "      <td>67.0<\/td>\n",
       "      <td>0.99680<\/td>\n",
       "      <td>3.20<\/td>\n",
       "      <td>0.68<\/td>\n",
       "      <td>9.8<\/td>\n",
       "      <td>5<\/td>\n",
       "    <\/tr>\n",
       "    <tr>\n",
       "      <th>2<\/th>\n",
       "      <td>7.8<\/td>\n",
       "      <td>0.760<\/td>\n",
       "      <td>0.04<\/td>\n",
       "      <td>2.3<\/td>\n",
       "      <td>0.092<\/td>\n",
       "      <td>15.0<\/td>\n",
       "      <td>54.0<\/td>\n",
       "      <td>0.99700<\/td>\n",
       "      <td>3.26<\/td>\n",
       "      <td>0.65<\/td>\n",
       "      <td>9.8<\/td>\n",
       "      <td>5<\/td>\n",
       "    <\/tr>\n",
       "    <tr>\n",
       "      <th>3<\/th>\n",
       "      <td>11.2<\/td>\n",
       "      <td>0.280<\/td>\n",
       "      <td>0.56<\/td>\n",
       "      <td>1.9<\/td>\n",
       "      <td>0.075<\/td>\n",
       "      <td>17.0<\/td>\n",
       "      <td>60.0<\/td>\n",
       "      <td>0.99800<\/td>\n",
       "      <td>3.16<\/td>\n",
       "      <td>0.58<\/td>\n",
       "      <td>9.8<\/td>\n",
       "      <td>6<\/td>\n",
       "    <\/tr>\n",
       "    <tr>\n",
       "      <th>4<\/th>\n",
       "      <td>7.4<\/td>\n",
       "      <td>0.700<\/td>\n",
       "      <td>0.00<\/td>\n",
       "      <td>1.9<\/td>\n",
       "      <td>0.076<\/td>\n",
       "      <td>11.0<\/td>\n",
       "      <td>34.0<\/td>\n",
       "      <td>0.99780<\/td>\n",
       "      <td>3.51<\/td>\n",
       "      <td>0.56<\/td>\n",
       "      <td>9.4<\/td>\n",
       "      <td>5<\/td>\n",
       "    <\/tr>\n",
       "    <tr>\n",
       "      <th>...<\/th>\n",
       "      <td>...<\/td>\n",
       "      <td>...<\/td>\n",
       "      <td>...<\/td>\n",
       "      <td>...<\/td>\n",
       "      <td>...<\/td>\n",
       "      <td>...<\/td>\n",
       "      <td>...<\/td>\n",
       "      <td>...<\/td>\n",
       "      <td>...<\/td>\n",
       "      <td>...<\/td>\n",
       "      <td>...<\/td>\n",
       "      <td>...<\/td>\n",
       "    <\/tr>\n",
       "    <tr>\n",
       "      <th>1594<\/th>\n",
       "      <td>6.2<\/td>\n",
       "      <td>0.600<\/td>\n",
       "      <td>0.08<\/td>\n",
       "      <td>2.0<\/td>\n",
       "      <td>0.090<\/td>\n",
       "      <td>32.0<\/td>\n",
       "      <td>44.0<\/td>\n",
       "      <td>0.99490<\/td>\n",
       "      <td>3.45<\/td>\n",
       "      <td>0.58<\/td>\n",
       "      <td>10.5<\/td>\n",
       "      <td>5<\/td>\n",
       "    <\/tr>\n",
       "    <tr>\n",
       "      <th>1595<\/th>\n",
       "      <td>5.9<\/td>\n",
       "      <td>0.550<\/td>\n",
       "      <td>0.10<\/td>\n",
       "      <td>2.2<\/td>\n",
       "      <td>0.062<\/td>\n",
       "      <td>39.0<\/td>\n",
       "      <td>51.0<\/td>\n",
       "      <td>0.99512<\/td>\n",
       "      <td>3.52<\/td>\n",
       "      <td>0.76<\/td>\n",
       "      <td>11.2<\/td>\n",
       "      <td>6<\/td>\n",
       "    <\/tr>\n",
       "    <tr>\n",
       "      <th>1596<\/th>\n",
       "      <td>6.3<\/td>\n",
       "      <td>0.510<\/td>\n",
       "      <td>0.13<\/td>\n",
       "      <td>2.3<\/td>\n",
       "      <td>0.076<\/td>\n",
       "      <td>29.0<\/td>\n",
       "      <td>40.0<\/td>\n",
       "      <td>0.99574<\/td>\n",
       "      <td>3.42<\/td>\n",
       "      <td>0.75<\/td>\n",
       "      <td>11.0<\/td>\n",
       "      <td>6<\/td>\n",
       "    <\/tr>\n",
       "    <tr>\n",
       "      <th>1597<\/th>\n",
       "      <td>5.9<\/td>\n",
       "      <td>0.645<\/td>\n",
       "      <td>0.12<\/td>\n",
       "      <td>2.0<\/td>\n",
       "      <td>0.075<\/td>\n",
       "      <td>32.0<\/td>\n",
       "      <td>44.0<\/td>\n",
       "      <td>0.99547<\/td>\n",
       "      <td>3.57<\/td>\n",
       "      <td>0.71<\/td>\n",
       "      <td>10.2<\/td>\n",
       "      <td>5<\/td>\n",
       "    <\/tr>\n",
       "    <tr>\n",
       "      <th>1598<\/th>\n",
       "      <td>6.0<\/td>\n",
       "      <td>0.310<\/td>\n",
       "      <td>0.47<\/td>\n",
       "      <td>3.6<\/td>\n",
       "      <td>0.067<\/td>\n",
       "      <td>18.0<\/td>\n",
       "      <td>42.0<\/td>\n",
       "      <td>0.99549<\/td>\n",
       "      <td>3.39<\/td>\n",
       "      <td>0.66<\/td>\n",
       "      <td>11.0<\/td>\n",
       "      <td>6<\/td>\n",
       "    <\/tr>\n",
       "  <\/tbody>\n",
       "<\/table>\n",
       "<p>1599 rows × 12 columns<\/p>\n",
       "<\/div>"
      ]
     },
     "metadata":{
      
     },
     "output_type":"display_data"
    }
   ],
   "metadata":{
    "datalore":{
     "type":"CODE",
     "hide_input_from_viewers":false,
     "hide_output_from_viewers":false,
     "node_id":"EFxgg94paHeEwVY5V7xRNi"
    }
   }
  },
  {
   "cell_type":"code",
   "source":[
    
   ],
   "execution_count":null,
   "outputs":[
    
   ],
   "metadata":{
    "datalore":{
     "type":"CODE",
     "hide_input_from_viewers":false,
     "hide_output_from_viewers":false,
     "node_id":"UsOY3C0VnEVxWQneb0foYJ"
    }
   }
  }
 ],
 "metadata":{
  "kernelspec":{
   "display_name":"Python",
   "language":"python",
   "name":"python"
  },
  "datalore":{
   "version":1,
   "computation_mode":"JUPYTER",
   "package_manager":"pip",
   "base_environment":"default",
   "packages":[
    
   ]
  }
 },
 "nbformat":4,
 "nbformat_minor":4
}